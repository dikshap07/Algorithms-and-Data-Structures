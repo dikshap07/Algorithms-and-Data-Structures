{
  "nbformat": 4,
  "nbformat_minor": 0,
  "metadata": {
    "colab": {
      "name": "SmallestPositiveInteger_Unsorted_Array",
      "provenance": [],
      "authorship_tag": "ABX9TyNBEwQdhgJGlxlnOCBM0IMq",
      "include_colab_link": true
    },
    "kernelspec": {
      "name": "python3",
      "display_name": "Python 3"
    },
    "language_info": {
      "name": "python"
    }
  },
  "cells": [
    {
      "cell_type": "markdown",
      "metadata": {
        "id": "view-in-github",
        "colab_type": "text"
      },
      "source": [
        "<a href=\"https://colab.research.google.com/github/dikshap07/Algorithms-and-Data-Structures/blob/master/SmallestPositiveInteger_Unsorted_Array.ipynb\" target=\"_parent\"><img src=\"https://colab.research.google.com/assets/colab-badge.svg\" alt=\"Open In Colab\"/></a>"
      ]
    },
    {
      "cell_type": "code",
      "metadata": {
        "id": "BGvUgORAwNwP"
      },
      "source": [
        "def solution(A):  # Our original array\n",
        " \n",
        "    maximum_number = max(A)  # Storing maximum value\n",
        "\n",
        "    if len(A) == 1:\n",
        " \n",
        "        return 2 if A[0] == 1 else 1\n",
        "\n",
        "    if maximum_number < 1:\n",
        " \n",
        "        return 1\n",
        "\n",
        "\n",
        "    l = [0] * maximum_number\n",
        "    for j in range(len(A)):\n",
        "        if A[j] > 0:\n",
        "            if l[A[j] - 1] != 1:\n",
        "\n",
        "                   l[A[j] - 1] = 1\n",
        "\n",
        "    for k in range(len(l)):\n",
        " \n",
        "        # Encountering first 0, i.e, the element with least value\n",
        "        if l[k] == 0:\n",
        "            return k + 1\n",
        "            \n",
        "    return k + 2"
      ],
      "execution_count": 1,
      "outputs": []
    },
    {
      "cell_type": "code",
      "metadata": {
        "colab": {
          "base_uri": "https://localhost:8080/"
        },
        "id": "H8KUAQBYxnzV",
        "outputId": "5650923a-df97-40b5-9bcc-54ea2742968c"
      },
      "source": [
        "print(solution([-1,2]))"
      ],
      "execution_count": 2,
      "outputs": [
        {
          "output_type": "stream",
          "text": [
            "1\n"
          ],
          "name": "stdout"
        }
      ]
    },
    {
      "cell_type": "code",
      "metadata": {
        "id": "NwmZi_msxqvR"
      },
      "source": [
        ""
      ],
      "execution_count": null,
      "outputs": []
    }
  ]
}