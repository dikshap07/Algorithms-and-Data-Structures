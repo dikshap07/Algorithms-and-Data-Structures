{
  "nbformat": 4,
  "nbformat_minor": 0,
  "metadata": {
    "colab": {
      "name": "SmallestPositiveInteger_Unsorted_Array",
      "provenance": [],
      "authorship_tag": "ABX9TyM8w6OfUFH2UZ7cjHJ+4RyY",
      "include_colab_link": true
    },
    "kernelspec": {
      "name": "python3",
      "display_name": "Python 3"
    },
    "language_info": {
      "name": "python"
    }
  },
  "cells": [
    {
      "cell_type": "markdown",
      "metadata": {
        "id": "view-in-github",
        "colab_type": "text"
      },
      "source": [
        "<a href=\"https://colab.research.google.com/github/dikshap07/Algorithms-and-Data-Structures/blob/master/SmallestPositiveInteger_Unsorted_Array.ipynb\" target=\"_parent\"><img src=\"https://colab.research.google.com/assets/colab-badge.svg\" alt=\"Open In Colab\"/></a>"
      ]
    },
    {
      "cell_type": "code",
      "metadata": {
        "id": "BGvUgORAwNwP"
      },
      "source": [
        " def solution(A):  # Our original array\n",
        " \n",
        "    maximum_number = max(A)  # Storing maximum value\n",
        "    print('max_num',maximum_number)\n",
        "\n",
        "    if len(A) == 1:\n",
        " \n",
        "        return 2 if A[0] == 1 else 1\n",
        "\n",
        "    if maximum_number < 1:\n",
        " \n",
        "        return 1\n",
        "\n",
        "\n",
        "    l = [0] * maximum_number\n",
        "    print(l)\n",
        "    for j in range(len(A)):\n",
        "        if A[j] > 0:\n",
        "          print('A[j',A[j])\n",
        "          if l[A[j] - 1] != 1:\n",
        "\n",
        "            print('l[A[j]-1]',l[A[j]-1])\n",
        "\n",
        "            l[A[j] - 1] = 1\n",
        "\n",
        "    for k in range(len(l)):\n",
        " \n",
        "        # Encountering first 0, i.e, the element with least value\n",
        "        if l[k] == 0:\n",
        "            return k + 1\n",
        "            \n",
        "    return k + 2"
      ],
      "execution_count": null,
      "outputs": []
    },
    {
      "cell_type": "code",
      "metadata": {
        "colab": {
          "base_uri": "https://localhost:8080/"
        },
        "id": "H8KUAQBYxnzV",
        "outputId": "05678ab9-8e55-4713-eaa7-8a18a66be3d1"
      },
      "source": [
        "print(solution([2, 3, 7, 6, 8, -1, -10, 15]))"
      ],
      "execution_count": null,
      "outputs": [
        {
          "output_type": "stream",
          "text": [
            "max_num 15\n",
            "A[j 2\n",
            "l[A[j]-1] 0\n",
            "A[j 3\n",
            "l[A[j]-1] 0\n",
            "A[j 7\n",
            "l[A[j]-1] 0\n",
            "A[j 6\n",
            "l[A[j]-1] 0\n",
            "A[j 8\n",
            "l[A[j]-1] 0\n",
            "A[j 15\n",
            "l[A[j]-1] 0\n",
            "1\n"
          ],
          "name": "stdout"
        }
      ]
    },
    {
      "cell_type": "code",
      "metadata": {
        "id": "NwmZi_msxqvR"
      },
      "source": [
        "def smallestposinteger(A):\n",
        "\n",
        "  max_value = max(A)\n",
        "\n",
        "  if max_value <0:\n",
        "    return 1\n",
        "\n",
        "  elif len(A)== 1:\n",
        "\n",
        "    return max_value +1\n",
        "\n",
        "\n",
        "  l = [0]*max_value\n",
        "\n",
        "  for i in range(len(A)):\n",
        "\n",
        "    if A[i]>0:\n",
        "\n",
        "      if l[A[i]-1] !=1:\n",
        "\n",
        "        l[A[i]-1] = 1\n",
        "\n",
        "  print(l)\n",
        "\n",
        "  for i in range(len(l)):\n",
        "\n",
        "    if l[i] == 0:\n",
        "\n",
        "      return i+1\n",
        "\n",
        "    return i+2\n",
        "\n",
        "    \n"
      ],
      "execution_count": null,
      "outputs": []
    },
    {
      "cell_type": "code",
      "metadata": {
        "colab": {
          "base_uri": "https://localhost:8080/"
        },
        "id": "rtv8Gnl7bUBJ",
        "outputId": "5a935e3e-3ef1-46c2-ea69-5ea0d3542247"
      },
      "source": [
        "print(smallestposinteger([0, 10, 2, -10, -20]))"
      ],
      "execution_count": null,
      "outputs": [
        {
          "output_type": "stream",
          "text": [
            "3\n"
          ],
          "name": "stdout"
        }
      ]
    },
    {
      "cell_type": "code",
      "metadata": {
        "id": "3RRPk1fEbZZZ"
      },
      "source": [
        ""
      ],
      "execution_count": null,
      "outputs": []
    }
  ]
}