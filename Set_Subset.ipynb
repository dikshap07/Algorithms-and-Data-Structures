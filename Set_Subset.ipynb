{
  "nbformat": 4,
  "nbformat_minor": 0,
  "metadata": {
    "colab": {
      "name": "Set_Subset.ipynb",
      "provenance": [],
      "authorship_tag": "ABX9TyPiGgj/lwk2k7nBpMudRQjC",
      "include_colab_link": true
    },
    "kernelspec": {
      "name": "python3",
      "display_name": "Python 3"
    },
    "language_info": {
      "name": "python"
    }
  },
  "cells": [
    {
      "cell_type": "markdown",
      "metadata": {
        "id": "view-in-github",
        "colab_type": "text"
      },
      "source": [
        "<a href=\"https://colab.research.google.com/github/dikshap07/Algorithms-and-Data-Structures/blob/master/Set_Subset.ipynb\" target=\"_parent\"><img src=\"https://colab.research.google.com/assets/colab-badge.svg\" alt=\"Open In Colab\"/></a>"
      ]
    },
    {
      "cell_type": "code",
      "metadata": {
        "id": "51mb_9s4v-wo"
      },
      "source": [
        " \n",
        "def possible_subsets(A,n): #A is the set n : no of elements in the set\n",
        " \n",
        "  for i in range(0,2**n):  #every set has 2**n subsets\n",
        "    print('i',i)\n",
        "    for j in range(0,n):\n",
        "      print('j',j)\n",
        "      print('1<<j',1<<j)\n",
        "      if i & (1<<j) == True:\n",
        "        print(A[j])\n",
        "    print('0')"
      ],
      "execution_count": null,
      "outputs": []
    },
    {
      "cell_type": "code",
      "metadata": {
        "colab": {
          "base_uri": "https://localhost:8080/"
        },
        "id": "c8e5XkO-xGaW",
        "outputId": "da5b6e1d-2349-4cbb-d23e-d19127ee7fac"
      },
      "source": [
        "A = ['a','b','c']\n",
        "n = len(A)\n",
        "possible_subsets(A,n)"
      ],
      "execution_count": null,
      "outputs": [
        {
          "output_type": "stream",
          "text": [
            "i 0\n",
            "j 0\n",
            "1<<j 1\n",
            "j 1\n",
            "1<<j 2\n",
            "j 2\n",
            "1<<j 4\n",
            "0\n",
            "i 1\n",
            "j 0\n",
            "1<<j 1\n",
            "a\n",
            "j 1\n",
            "1<<j 2\n",
            "j 2\n",
            "1<<j 4\n",
            "0\n",
            "i 2\n",
            "j 0\n",
            "1<<j 1\n",
            "j 1\n",
            "1<<j 2\n",
            "j 2\n",
            "1<<j 4\n",
            "0\n",
            "i 3\n",
            "j 0\n",
            "1<<j 1\n",
            "a\n",
            "j 1\n",
            "1<<j 2\n",
            "j 2\n",
            "1<<j 4\n",
            "0\n",
            "i 4\n",
            "j 0\n",
            "1<<j 1\n",
            "j 1\n",
            "1<<j 2\n",
            "j 2\n",
            "1<<j 4\n",
            "0\n",
            "i 5\n",
            "j 0\n",
            "1<<j 1\n",
            "a\n",
            "j 1\n",
            "1<<j 2\n",
            "j 2\n",
            "1<<j 4\n",
            "0\n",
            "i 6\n",
            "j 0\n",
            "1<<j 1\n",
            "j 1\n",
            "1<<j 2\n",
            "j 2\n",
            "1<<j 4\n",
            "0\n",
            "i 7\n",
            "j 0\n",
            "1<<j 1\n",
            "a\n",
            "j 1\n",
            "1<<j 2\n",
            "j 2\n",
            "1<<j 4\n",
            "0\n"
          ],
          "name": "stdout"
        }
      ]
    },
    {
      "cell_type": "code",
      "metadata": {
        "colab": {
          "base_uri": "https://localhost:8080/"
        },
        "id": "OQ6lmgxyxRlw",
        "outputId": "3fa20bc9-abb5-413f-e87c-f280a3bc89b5"
      },
      "source": [
        ""
      ],
      "execution_count": null,
      "outputs": [
        {
          "output_type": "execute_result",
          "data": {
            "text/plain": [
              "256"
            ]
          },
          "metadata": {
            "tags": []
          },
          "execution_count": 6
        }
      ]
    },
    {
      "cell_type": "code",
      "metadata": {
        "id": "JTPNfKO5xu0u"
      },
      "source": [
        ""
      ],
      "execution_count": null,
      "outputs": []
    }
  ]
}