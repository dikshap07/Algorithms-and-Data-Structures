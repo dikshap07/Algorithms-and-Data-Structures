{
  "nbformat": 4,
  "nbformat_minor": 0,
  "metadata": {
    "colab": {
      "name": "Branch Sum -BT.ipynb",
      "provenance": [],
      "authorship_tag": "ABX9TyO7lXmtbQH9NQDzayrnNYzh",
      "include_colab_link": true
    },
    "kernelspec": {
      "name": "python3",
      "display_name": "Python 3"
    },
    "language_info": {
      "name": "python"
    }
  },
  "cells": [
    {
      "cell_type": "markdown",
      "metadata": {
        "id": "view-in-github",
        "colab_type": "text"
      },
      "source": [
        "<a href=\"https://colab.research.google.com/github/dikshap07/Algorithms-and-Data-Structures/blob/master/Branch_Sum_BT.ipynb\" target=\"_parent\"><img src=\"https://colab.research.google.com/assets/colab-badge.svg\" alt=\"Open In Colab\"/></a>"
      ]
    },
    {
      "cell_type": "markdown",
      "metadata": {
        "id": "pCWBnAATyaVk"
      },
      "source": [
        "###Problem:  Given a binary tree, output the list of sum of all the branches in the binary tree. Starting from root node."
      ]
    },
    {
      "cell_type": "markdown",
      "metadata": {
        "id": "2Hq8PUGlMQTn"
      },
      "source": [
        "##Binary Search Tree class"
      ]
    },
    {
      "cell_type": "code",
      "metadata": {
        "id": "p38zBHEp8nW_"
      },
      "source": [
        "class BST:\n",
        "\n",
        "  def __init__(self,value):\n",
        "\n",
        "    self.value = value\n",
        "    self.left = None\n",
        "    self.right = None\n",
        "\n",
        "  \n",
        "  #using iterative method\n",
        "\n",
        "\n",
        "  #Average : O(log(n)) time | O(1) space\n",
        "  #worst : O(N) time | O(1)   space\n",
        "\n",
        "  def insert(self,value):  \n",
        "\n",
        "    #initialize a variable that keeps track of what node we are at\n",
        "    currentNode = self # because in the beginning the current node is the node where we start our insertion and that is self\n",
        "\n",
        "    while True:\n",
        "\n",
        "      if value < currentNode.value:\n",
        "\n",
        "        #check if left node from here is an actual BST or the end\n",
        "\n",
        "        if currentNode.left is None:#we create a left subtree\n",
        "\n",
        "          currentNode.left = BST(value)   #if none we are adding the value that we are trying to insert \n",
        "          break                                #at this left node\n",
        "\n",
        "        else:#make left node of current node so that we can now check for its child nodes\n",
        "\n",
        "          currentNode = currentNode.left   #assigning our currentNode to the left subtree\n",
        "\n",
        "\n",
        "      else:    #to check the right sub tree for insertion\n",
        "\n",
        "        if currentNode.right is None:\n",
        "\n",
        "          currentNode.right = BST(value)\n",
        "          break\n",
        "          \n",
        "        else:\n",
        "\n",
        "          currentNode = currentNode.right\n",
        "        \n",
        "\n",
        "\n",
        "    return self   #so that we can chain the output\n",
        "\n",
        " \n",
        " \n",
        "\n",
        "  #Average : O(log(n)) time | O(1) space\n",
        "  #worst : O(N) time | O(1)   space\n",
        " \n",
        "  def contains(self,value):\n",
        "\n",
        "    currentNode = self\n",
        "\n",
        "    while currentNode is not None:\n",
        "\n",
        "      if value < currentNode.value:\n",
        "\n",
        "\n",
        "        currentNode = currentNode.left\n",
        "\n",
        "\n",
        "      elif value > currentNode.value: \n",
        "\n",
        "        currentNode = currentNode.right\n",
        "\n",
        "      else:\n",
        "\n",
        "        return True\n",
        "\n",
        "    return False\n",
        "\n",
        "  def getMinValue(self):\n",
        "\n",
        "    currentNode = self\n",
        "\n",
        "    \n",
        "\n",
        "        \n",
        "    while currentNode.left is not None:\n",
        "\n",
        "      currentNode = currentNode.left\n",
        "\n",
        "    return currentNode.value\n",
        "    \n",
        "\n",
        "\n",
        "#Average : O(log(n)) time | O(1) space\n",
        "  #worst : O(N) time | O(1)   space\n",
        "\n",
        "\n",
        "\n",
        "  def remove(self,value,parentNode = None):\n",
        "\n",
        "    currentNode = self\n",
        "\n",
        "    print(currentNode.value)\n",
        "    print(value)\n",
        "    \n",
        "    while currentNode is not None:\n",
        "\n",
        "\n",
        "      if value < currentNode.value:\n",
        "\n",
        "        parentNode = currentNode\n",
        "\n",
        "        currentNode = currentNode.left\n",
        "\n",
        "      elif value > currentNode.value:\n",
        "\n",
        "        parentNode = currentNode\n",
        "\n",
        "        currentNode = currentNode.right\n",
        "\n",
        "      else:  #when we have found the value that we need to delete\n",
        "\n",
        "\n",
        "      #case1 : if the node has both left and right child nodes\n",
        "\n",
        "        if currentNode.left is not None and currentNode.right is not None:\n",
        "\n",
        "          print('both child found for ', currentNode.value)\n",
        "\n",
        "          currentNode.value = currentNode.right.getMinValue()\n",
        "\n",
        "          #currentNode.value = smallest value of the right sub tree\n",
        "\n",
        "          #when we find the left most value in the right sub tree we remove it\n",
        "\n",
        "          currentNode.right.remove(currentNode.value,currentNode)   #because here our BST is the right \n",
        "                                                                    #tree as in currentNode.right thatys\n",
        "                                                                    #we are using currentNode.right.remove()\n",
        "\n",
        "      #case2 : when doesnt have 2 child nodes present\n",
        "\n",
        "      #case2.1 : when node is the root node or doesnt have a parent and only has one child (the above will only work when root node has both child nodes that is why we need it)\n",
        "      \n",
        "        elif parentNode is None:   \n",
        "          if currentNode.left is  not None:\n",
        "\n",
        "            print('Root node only has left child')\n",
        "\n",
        "            currentNode.value = currentNode.left.value\n",
        "            currentNode.right = currentNode.left.right\n",
        "            currentNode.left = currentNode.left.left\n",
        "\n",
        "          elif currentNode.right is not None:\n",
        "\n",
        "            print('Root node only has right child')\n",
        "\n",
        "\n",
        "            currentNode.value = currentNode.right.value            \n",
        "            currentNode.left = currentNode.right.left\n",
        "            currentNode.right = currentNode.right.right  #at last so that we dnt replace og without using it first\n",
        "\n",
        "          else:\n",
        "\n",
        "           currentNode.value = None #discuss with interviewer as this means we are deleting the BST'''\n",
        "\n",
        "      #case2.2 : when node had a parent\n",
        "        elif parentNode.left == currentNode:  #if current node is the left child of its parent node\n",
        "\n",
        "          print('if node is left')\n",
        "\n",
        "          parentNode.left = currentNode.left if currentNode.left is not None else currentNode.right   #doesnt just rpelace value efficiently rpelaces the whole sub tree\n",
        "          #above line means the left child of parent will be assigned currentNode.left is the current\n",
        "          #node has a left child otherwise it will be assigned the right child of the currentNode\n",
        "\n",
        "        elif parentNode.right == currentNode:\n",
        "\n",
        "          print('if node is right')\n",
        "\n",
        "          parentNode.right = currentNode.left if currentNode.left is not None else currentNode.right\n",
        "\n",
        "        break\n",
        "\n",
        "    \n",
        "    return self\n",
        "\n"
      ],
      "execution_count": 3,
      "outputs": []
    },
    {
      "cell_type": "markdown",
      "metadata": {
        "id": "nWUV-obDMNXA"
      },
      "source": [
        "##Binary tree Class"
      ]
    },
    {
      "cell_type": "code",
      "metadata": {
        "id": "nKsZ1_C-JUfO"
      },
      "source": [
        "class BinaryTree:\n",
        "\n",
        "  def __init__(self,value):\n",
        "\n",
        "    self.value = value\n",
        "    self.left = None\n",
        "    self.right = None"
      ],
      "execution_count": 4,
      "outputs": []
    },
    {
      "cell_type": "code",
      "metadata": {
        "id": "kq5v04DWK8r4"
      },
      "source": [
        "binary_tree = BinaryTree(1)"
      ],
      "execution_count": 5,
      "outputs": []
    },
    {
      "cell_type": "code",
      "metadata": {
        "id": "TmPsVbzrLHhS"
      },
      "source": [
        "binary_tree.left = BinaryTree(2)\n",
        "binary_tree.right = BinaryTree(3)\n",
        "binary_tree.left.left = BinaryTree(4)\n",
        "binary_tree.left.right = BinaryTree(5)\n",
        "k =binary_tree.left.left\n",
        "k.left = BinaryTree(8)\n",
        "k.right = BinaryTree(9)\n",
        "g = binary_tree.left.right\n",
        "g.right = BinaryTree(10)\n",
        "binary_tree.right.left = BinaryTree(6)\n",
        "binary_tree.right.right = BinaryTree(7)"
      ],
      "execution_count": 6,
      "outputs": []
    },
    {
      "cell_type": "code",
      "metadata": {
        "id": "6iqqhlX4Ls4D"
      },
      "source": [
        ""
      ],
      "execution_count": 31,
      "outputs": []
    },
    {
      "cell_type": "markdown",
      "metadata": {
        "id": "ZvCn8fJ9MUQt"
      },
      "source": [
        "#Branch Sum "
      ]
    },
    {
      "cell_type": "code",
      "metadata": {
        "id": "csBxqy0ByUna"
      },
      "source": [
        "#Time complexity : O(N) - N - no of nodes because we will go to each node to get the branch sum\n",
        "#Space complexity:  O(N) : because we are returning list which has length equal to number of leaf nodes and leaf nodes are N/2 at max and O(N/2) ~ O(N)\n",
        "\n",
        "\n",
        "def branch_sum(tree):\n",
        "  return sum_of_each_branch(tree,0,[])\n",
        "\n",
        "\n",
        "def sum_of_each_branch(tree,sum = 0,branch_sum_list = []):\n",
        "\n",
        "  if tree is None:   #edge case : if the node has only one child either left or right will be none so we need to handle that\n",
        "    return\n",
        "  \n",
        "  if (tree.left is None) and (tree.right is None):   #if the node is a leaf node, we reached end of the branch so we can add this sum to the list\n",
        "    sum2 = sum + tree.value\n",
        "    return branch_sum_list.append(sum2)\n",
        "\n",
        "  print('node',tree.value)\n",
        "  sum += tree.value\n",
        "\n",
        "  \n",
        "  print(sum)\n",
        "  sum_of_each_branch(tree.left,sum,branch_sum_list)    #going to left child\n",
        "  sum_of_each_branch(tree.right,sum,branch_sum_list)    #going to right child\n",
        "\n",
        "  return branch_sum_list"
      ],
      "execution_count": 20,
      "outputs": []
    },
    {
      "cell_type": "code",
      "metadata": {
        "id": "VMCM1u-p8v8W"
      },
      "source": [
        "#BINARY SEARCH TREE - TEST CASE\n",
        "root_node = 10\n",
        "my_tree = BST(root_node) \n",
        "tree_nodes = [5,15,2,5,1,13,22,14]\n",
        "\n",
        "for node in tree_nodes:\n",
        "  my_tree.insert(node)\n"
      ],
      "execution_count": 21,
      "outputs": []
    },
    {
      "cell_type": "code",
      "metadata": {
        "colab": {
          "base_uri": "https://localhost:8080/"
        },
        "id": "Hxl-UuHR869K",
        "outputId": "adb2e0cf-3210-49ac-a058-76fb07d8757d"
      },
      "source": [
        "BST_Sum = branch_sum(my_tree)\n",
        "print(BST_Sum)"
      ],
      "execution_count": 22,
      "outputs": [
        {
          "output_type": "stream",
          "text": [
            "node 10\n",
            "10\n",
            "node 5\n",
            "15\n",
            "node 2\n",
            "17\n",
            "node 15\n",
            "25\n",
            "node 13\n",
            "38\n",
            "[18, 20, 52, 47]\n"
          ],
          "name": "stdout"
        }
      ]
    },
    {
      "cell_type": "code",
      "metadata": {
        "colab": {
          "base_uri": "https://localhost:8080/"
        },
        "id": "i4h13v089AJ_",
        "outputId": "d8cdfc1e-b8ce-47ec-a23a-8986598c9df7"
      },
      "source": [
        "output = branch_sum(binary_tree)\n",
        "print(output)"
      ],
      "execution_count": 23,
      "outputs": [
        {
          "output_type": "stream",
          "text": [
            "node 1\n",
            "1\n",
            "node 2\n",
            "3\n",
            "node 4\n",
            "7\n",
            "node 5\n",
            "8\n",
            "node 3\n",
            "4\n",
            "[15, 16, 18, 10, 11]\n"
          ],
          "name": "stdout"
        }
      ]
    },
    {
      "cell_type": "code",
      "metadata": {
        "colab": {
          "base_uri": "https://localhost:8080/"
        },
        "id": "F0UVidKMMaCh",
        "outputId": "644bce85-d94c-4f27-9e88-efd03d9ed0ab"
      },
      "source": [
        "binary_tree.right.right.value\n"
      ],
      "execution_count": 24,
      "outputs": [
        {
          "output_type": "execute_result",
          "data": {
            "text/plain": [
              "7"
            ]
          },
          "metadata": {
            "tags": []
          },
          "execution_count": 24
        }
      ]
    },
    {
      "cell_type": "code",
      "metadata": {
        "id": "CQtAlBuLMfeI"
      },
      "source": [
        ""
      ],
      "execution_count": null,
      "outputs": []
    }
  ]
}