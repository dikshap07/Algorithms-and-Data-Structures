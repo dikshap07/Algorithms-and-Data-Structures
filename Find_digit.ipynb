{
  "nbformat": 4,
  "nbformat_minor": 0,
  "metadata": {
    "colab": {
      "name": "Find_digit.ipynb",
      "provenance": [],
      "authorship_tag": "ABX9TyMFx9Ez/J4rc9q3MZjJed1O",
      "include_colab_link": true
    },
    "kernelspec": {
      "name": "python3",
      "display_name": "Python 3"
    },
    "language_info": {
      "name": "python"
    }
  },
  "cells": [
    {
      "cell_type": "markdown",
      "metadata": {
        "id": "view-in-github",
        "colab_type": "text"
      },
      "source": [
        "<a href=\"https://colab.research.google.com/github/dikshap07/Algorithms-and-Data-Structures/blob/master/Find_digit.ipynb\" target=\"_parent\"><img src=\"https://colab.research.google.com/assets/colab-badge.svg\" alt=\"Open In Colab\"/></a>"
      ]
    },
    {
      "cell_type": "code",
      "execution_count": null,
      "metadata": {
        "id": "7l9ZXM8clH-c"
      },
      "outputs": [],
      "source": [
        "def finddigits(s):\n",
        "     \n",
        "    # Strings of digits 0-9\n",
        "    num = [ \"zero\", \"one\", \"two\", \"three\",\n",
        "            \"four\", \"five\", \"six\", \"seven\",\n",
        "            \"eight\", \"nine\"]\n",
        " \n",
        "    # Initialize vector\n",
        "    arr = [0] * (10)\n",
        " \n",
        "    # Initialize answer\n",
        "    ans = \"\"\n",
        " \n",
        "    # Size of the string\n",
        "    n = len(s)\n",
        " \n",
        "    # Traverse the string\n",
        "    for i in range(n):\n",
        "        if (s[i] == 'z'):\n",
        "            arr[0] += 1\n",
        "        if (s[i] == 'w'):\n",
        "            arr[2] += 1\n",
        "        if (s[i] == 'g'):\n",
        "          "
      ]
    },
    {
      "cell_type": "code",
      "source": [
        "# Python3 program for the above approach\n",
        "\n",
        "# Function to convert the jumbled\n",
        "# into digits\n",
        "def finddigits(s):\n",
        "\t\n",
        "\t# Strings of digits 0-9\n",
        "\tnum = [ \"zero\", \"one\", \"two\", \"three\",\n",
        "\t\t\t\"four\", \"five\", \"six\", \"seven\",\n",
        "\t\t\t\"eight\", \"nine\"]\n",
        "\n",
        "\t# Initialize vector\n",
        "\tarr = [0] * (10)\n",
        "\n",
        "\t# Initialize answer\n",
        "\tans = \"\"\n",
        "\n",
        "\t# Size of the string\n",
        "\tn = len(s)\n",
        "\n",
        "\t# Traverse the string\n",
        "\tfor i in range(n):\n",
        "\t\tif (s[i] == 'z'):\n",
        "\t\t\tarr[0] += 1\n",
        "\t\tif (s[i] == 'w'):\n",
        "\t\t\tarr[2] += 1\n",
        "\t\tif (s[i] == 'g'):\n",
        "\t\t\tarr[8] += 1\n",
        "\t\tif (s[i] == 'x'):\n",
        "\t\t\tarr[6] += 1\n",
        "\t\tif (s[i] == 'v'):\n",
        "\t\t\tarr[5] += 1\n",
        "\t\tif (s[i] == 'o'):\n",
        "\t\t\tarr[1] += 1\n",
        "\t\tif (s[i] == 's'):\n",
        "\t\t\tarr[7] += 1\n",
        "\t\tif (s[i] == 'f'):\n",
        "\t\t\tarr[4] += 1\n",
        "\t\tif (s[i] == 'h'):\n",
        "\t\t\tarr[3] += 1\n",
        "\t\tif (s[i] == 'i'):\n",
        "\t\t\tarr[9] += 1\n",
        "\t\t\t\n",
        "\t# Update the elements of the vector\n",
        "\tarr[7] -= arr[6]\n",
        "\tarr[5] -= arr[7]\n",
        "\tarr[4] -= arr[5]\n",
        "\tarr[1] -= (arr[2] + arr[4] + arr[0])\n",
        "\tarr[3] -= arr[8]\n",
        "\tarr[9] -= (arr[5] + arr[6] + arr[8])\n",
        "\n",
        "\t# Print the digits into their\n",
        "\t# original format\n",
        "\tfor i in range(10):\n",
        "\t\tfor j in range(arr[i]):\n",
        "\t\t\tans += chr((i) + ord('0'))\n",
        "\n",
        "\t# Return answer\n",
        "\treturn ans\n",
        "\n",
        "\n",
        "# This code is contributed by mohit kumar 29print\n",
        "line = 'reuonnoinfe'\n",
        "print(finddigits(line))"
      ],
      "metadata": {
        "colab": {
          "base_uri": "https://localhost:8080/"
        },
        "id": "I9OPZyStlQmY",
        "outputId": "44f84586-b2e9-4142-92a2-fdccf8b48506"
      },
      "execution_count": null,
      "outputs": [
        {
          "output_type": "stream",
          "name": "stdout",
          "text": [
            "149\n"
          ]
        }
      ]
    },
    {
      "cell_type": "code",
      "source": [
        ""
      ],
      "metadata": {
        "id": "pSDktm7nlbO7"
      },
      "execution_count": null,
      "outputs": []
    }
  ]
}