{
  "nbformat": 4,
  "nbformat_minor": 0,
  "metadata": {
    "colab": {
      "name": "Singly Linked List.ipynb",
      "provenance": [],
      "authorship_tag": "ABX9TyNjN9UIZ5hETr6jOGDIIftm",
      "include_colab_link": true
    },
    "kernelspec": {
      "name": "python3",
      "display_name": "Python 3"
    },
    "language_info": {
      "name": "python"
    }
  },
  "cells": [
    {
      "cell_type": "markdown",
      "metadata": {
        "id": "view-in-github",
        "colab_type": "text"
      },
      "source": [
        "<a href=\"https://colab.research.google.com/github/dikshap07/Algorithms-and-Data-Structures/blob/master/Singly_Linked_List.ipynb\" target=\"_parent\"><img src=\"https://colab.research.google.com/assets/colab-badge.svg\" alt=\"Open In Colab\"/></a>"
      ]
    },
    {
      "cell_type": "code",
      "metadata": {
        "id": "pFviiT4CL_oi"
      },
      "source": [
        "class Node:\n",
        "\n",
        "  def __init__(self,key = None, next_pointer = None):\n",
        "    self.key = key\n",
        "    self.next_pointer = next_pointer\n",
        "\n",
        "class SinglyLinkedList:\n",
        "\n",
        "  def __init__(self):\n",
        "    self.head = None   #pointer to first element in the linked list\n",
        "    self.tail = None   #pointer to the last element in the linked list\n",
        "\n",
        "\n",
        "  #inserting at the beginning\n",
        "  def PushFront(self,key):\n",
        "\n",
        "\n",
        "    if self.tail == None:  #if list is empty point tail to the new element \n",
        "      self.tail = Node(key,None)\n",
        "\n",
        "    node = Node(key,self.head)    #point next_pointer of new node to the previous head\n",
        "    self.head = node   #new head is the new node\n",
        "\n",
        "\n",
        "  #deleting first element from the linkedlist\n",
        "\n",
        "  def PopFront(self):\n",
        "\n",
        "    if self.tail == None:\n",
        "      print('Cannot delete the linked list is empty')\n",
        "\n",
        "    self.head = self.head.next_pointer  #head will point to the second element now\n",
        "\n",
        "    if self.head == None:\n",
        "      self.tail = None\n",
        "\n",
        "  #adding element to the end of the linked list\n",
        "\n",
        "  def PushBack(self,node):#using tail\n",
        "\n",
        "    new_end_node = Node(node,None)\n",
        "\n",
        "    #print('tail:' ,self.tail.key)\n",
        "\n",
        "\n",
        "    if self.tail is None:\n",
        "      self.head = new_end_node\n",
        "      self.tail = new_end_node\n",
        "\n",
        "\n",
        "    else:\n",
        "      self.tail.next_pointer = new_end_node   #self.tail is pointing to the last node so to insert at end the next_pointer of the last node will now point to this new_end_node\n",
        "      print(f'{self.tail.key} next pointer is {self.tail.next_pointer.key}')\n",
        "      self.tail = new_end_node   #and self.tail will now point to the new_end_node\n",
        "\n",
        "      #print('new_tail',self.tail.key)\n",
        "      #print('new_tail_pointer', self.tail.next_pointer)\n",
        "\n",
        "    return \n",
        "\n",
        "\n",
        "  #to print the linked list\n",
        "  def print_ll(self):\n",
        "\n",
        "    if self.head is None:\n",
        "      print(\"Singly Linked List is empty\")\n",
        "\n",
        "    ll_node = self.head\n",
        "\n",
        "    listr = ''\n",
        "\n",
        "    while ll_node:\n",
        "\n",
        "\n",
        "      listr += str(ll_node.key) + '-->'\n",
        "      print(listr)\n",
        "\n",
        "      ll_node = ll_node.next_pointer\n",
        "\n",
        "\n",
        "    print(listr)\n",
        "\n",
        "\n"
      ],
      "execution_count": 101,
      "outputs": []
    },
    {
      "cell_type": "code",
      "metadata": {
        "id": "iD3gFi6gKljM"
      },
      "source": [
        "sll = SinglyLinkedList()\n",
        "sll.PushFront(4)\n",
        "sll.PushFront(3)\n",
        "sll.PushFront(2)\n",
        "sll.PushFront(1)"
      ],
      "execution_count": 107,
      "outputs": []
    },
    {
      "cell_type": "code",
      "metadata": {
        "colab": {
          "base_uri": "https://localhost:8080/"
        },
        "id": "hGcoKz5rLpLD",
        "outputId": "525b57b8-e0d8-4763-b873-141ccbc0bfdc"
      },
      "source": [
        "sll.print_ll()"
      ],
      "execution_count": 108,
      "outputs": [
        {
          "output_type": "stream",
          "text": [
            "1-->\n",
            "1-->2-->\n",
            "1-->2-->3-->\n",
            "1-->2-->3-->4-->\n",
            "1-->2-->3-->4-->\n"
          ],
          "name": "stdout"
        }
      ]
    },
    {
      "cell_type": "code",
      "metadata": {
        "colab": {
          "base_uri": "https://localhost:8080/"
        },
        "id": "NwPJioPyV1v6",
        "outputId": "4bfca614-a798-426a-be23-1af492be7fb4"
      },
      "source": [
        "\n",
        "sll.PushBack(14)\n",
        "sll.print_ll()\n"
      ],
      "execution_count": 109,
      "outputs": [
        {
          "output_type": "stream",
          "text": [
            "4 next pointer is 14\n",
            "1-->\n",
            "1-->2-->\n",
            "1-->2-->3-->\n",
            "1-->2-->3-->4-->\n",
            "1-->2-->3-->4-->\n"
          ],
          "name": "stdout"
        }
      ]
    },
    {
      "cell_type": "code",
      "metadata": {
        "colab": {
          "base_uri": "https://localhost:8080/",
          "height": 202
        },
        "id": "Id9pLyBPMOYl",
        "outputId": "a24efee1-22c7-4a85-fd57-ff8d12afd8d8"
      },
      "source": [
        "k = sll.head.next_pointer\n",
        "y = k.next_pointer\n",
        "a = y.next_pointer\n",
        "a.next_pointer.key"
      ],
      "execution_count": 97,
      "outputs": [
        {
          "output_type": "error",
          "ename": "AttributeError",
          "evalue": "ignored",
          "traceback": [
            "\u001b[0;31m---------------------------------------------------------------------------\u001b[0m",
            "\u001b[0;31mAttributeError\u001b[0m                            Traceback (most recent call last)",
            "\u001b[0;32m<ipython-input-97-83457790d165>\u001b[0m in \u001b[0;36m<module>\u001b[0;34m()\u001b[0m\n\u001b[1;32m      2\u001b[0m \u001b[0my\u001b[0m \u001b[0;34m=\u001b[0m \u001b[0mk\u001b[0m\u001b[0;34m.\u001b[0m\u001b[0mnext_pointer\u001b[0m\u001b[0;34m\u001b[0m\u001b[0;34m\u001b[0m\u001b[0m\n\u001b[1;32m      3\u001b[0m \u001b[0ma\u001b[0m \u001b[0;34m=\u001b[0m \u001b[0my\u001b[0m\u001b[0;34m.\u001b[0m\u001b[0mnext_pointer\u001b[0m\u001b[0;34m\u001b[0m\u001b[0;34m\u001b[0m\u001b[0m\n\u001b[0;32m----> 4\u001b[0;31m \u001b[0ma\u001b[0m\u001b[0;34m.\u001b[0m\u001b[0mnext_pointer\u001b[0m\u001b[0;34m.\u001b[0m\u001b[0mkey\u001b[0m\u001b[0;34m\u001b[0m\u001b[0;34m\u001b[0m\u001b[0m\n\u001b[0m",
            "\u001b[0;31mAttributeError\u001b[0m: 'NoneType' object has no attribute 'key'"
          ]
        }
      ]
    },
    {
      "cell_type": "code",
      "metadata": {
        "colab": {
          "base_uri": "https://localhost:8080/"
        },
        "id": "SPx3OyoGSWGa",
        "outputId": "0673fb4b-fb70-462b-ce78-afebfb64ca94"
      },
      "source": [
        "ll_node = sll.head\n",
        "\n",
        "listr = ''\n",
        "\n",
        "while ll_node:\n",
        "\n",
        "  listr += str(ll_node.key) + '-->'\n",
        "\n",
        "  ll_node = ll_node.next_pointer\n",
        "\n",
        "print(listr)\n"
      ],
      "execution_count": 48,
      "outputs": [
        {
          "output_type": "stream",
          "text": [
            "7-->9-->10-->12-->\n"
          ],
          "name": "stdout"
        }
      ]
    },
    {
      "cell_type": "code",
      "metadata": {
        "id": "YYCSaVxkbCud"
      },
      "source": [
        "nine = Node(9)\n",
        "ten = Node(10)\n",
        "twelve = Node(12)\n",
        "nine.next_pointer = ten\n",
        "ten.next_pointer = twelve"
      ],
      "execution_count": null,
      "outputs": []
    },
    {
      "cell_type": "code",
      "metadata": {
        "id": "2tiv3vdDadrH"
      },
      "source": [
        "class SinglyLinkedList():\n",
        "\n",
        "  def __init__(self,key):\n",
        "\n",
        "    self.key = key     #key for a node\n",
        "    self.next_pointer = None    #next pointer for that node\n",
        "    self.head = None    #will act as pointer to first node of the linked list\n",
        "    self.tail = None    #will act as pointer to the last element of the linked list"
      ],
      "execution_count": null,
      "outputs": []
    },
    {
      "cell_type": "code",
      "metadata": {
        "id": "KokgTjYVTLL7"
      },
      "source": [
        "head = SinglyLinkedList(None)\n",
        "head.next_pointer = SinglyLinkedList(9)\n",
        "k = head.next_pointer\n",
        "k.next_pointer = SinglyLinkedList(10)\n",
        "y = k.next_pointer\n",
        "y.next_pointer = SinglyLinkedList(12)\n",
        "\n",
        "\n",
        "def PushFront(key):\n",
        "\n",
        "  if head.next_pointer == None:  #if empty singlylinkedlist\n",
        "    head.next_pointer = SinglyLinkedList(key)    #if empthy list the head will point to the new node\n",
        "\n",
        " \n",
        "  new_node = SinglyLinkedList(key)\n",
        "\n",
        "  new_node.next_pointer = head.next_pointer    \n",
        "  head.next_pointer = new_node\n",
        "\n",
        "  return head\n"
      ],
      "execution_count": null,
      "outputs": []
    },
    {
      "cell_type": "code",
      "metadata": {
        "id": "PzFZW1GrbUDe",
        "colab": {
          "base_uri": "https://localhost:8080/"
        },
        "outputId": "19c9b489-2080-49da-d8b2-dc1a836aa3f0"
      },
      "source": [
        "sll.PushFront(nine)"
      ],
      "execution_count": null,
      "outputs": [
        {
          "output_type": "execute_result",
          "data": {
            "text/plain": [
              "<__main__.SinglyLinkedList at 0x7ff413dd8d90>"
            ]
          },
          "metadata": {
            "tags": []
          },
          "execution_count": 9
        }
      ]
    },
    {
      "cell_type": "code",
      "metadata": {
        "id": "AyfOXZ_Qb1k-"
      },
      "source": [
        ""
      ],
      "execution_count": null,
      "outputs": []
    },
    {
      "cell_type": "code",
      "metadata": {
        "id": "vzwfe6EweSaZ"
      },
      "source": [
        "new_head = PushFront(7)"
      ],
      "execution_count": null,
      "outputs": []
    },
    {
      "cell_type": "code",
      "metadata": {
        "id": "GPglTZrPeaJz"
      },
      "source": [
        "seven = new_head.next_pointer"
      ],
      "execution_count": null,
      "outputs": []
    },
    {
      "cell_type": "code",
      "metadata": {
        "id": "MZRpmA4WegwX"
      },
      "source": [
        "nine = seven.next_pointer"
      ],
      "execution_count": null,
      "outputs": []
    },
    {
      "cell_type": "code",
      "metadata": {
        "colab": {
          "base_uri": "https://localhost:8080/"
        },
        "id": "ugSJ760zgWF9",
        "outputId": "bf781aa4-4598-4405-f7b4-1c8f0d1e2c07"
      },
      "source": [
        "nine.next_pointer.key"
      ],
      "execution_count": null,
      "outputs": [
        {
          "output_type": "execute_result",
          "data": {
            "text/plain": [
              "10"
            ]
          },
          "metadata": {
            "tags": []
          },
          "execution_count": 76
        }
      ]
    },
    {
      "cell_type": "code",
      "metadata": {
        "id": "ScP7y08YkiPL"
      },
      "source": [
        ""
      ],
      "execution_count": null,
      "outputs": []
    }
  ]
}