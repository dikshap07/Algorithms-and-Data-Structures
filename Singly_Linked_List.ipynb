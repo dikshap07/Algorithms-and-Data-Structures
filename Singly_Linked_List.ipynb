{
  "nbformat": 4,
  "nbformat_minor": 0,
  "metadata": {
    "colab": {
      "name": "Singly Linked List.ipynb",
      "provenance": [],
      "authorship_tag": "ABX9TyNLw46fw9Xfl0CHGisAigH5",
      "include_colab_link": true
    },
    "kernelspec": {
      "name": "python3",
      "display_name": "Python 3"
    },
    "language_info": {
      "name": "python"
    }
  },
  "cells": [
    {
      "cell_type": "markdown",
      "metadata": {
        "id": "view-in-github",
        "colab_type": "text"
      },
      "source": [
        "<a href=\"https://colab.research.google.com/github/dikshap07/Algorithms-and-Data-Structures/blob/master/Singly_Linked_List.ipynb\" target=\"_parent\"><img src=\"https://colab.research.google.com/assets/colab-badge.svg\" alt=\"Open In Colab\"/></a>"
      ]
    },
    {
      "cell_type": "code",
      "metadata": {
        "id": "2tiv3vdDadrH"
      },
      "source": [
        "class SinglyLinkedList():\n",
        "\n",
        "  def __init__(self,key):\n",
        "\n",
        "    self.key = key     #key for a node\n",
        "    self.next_pointer = None    #next pointer for that node\n",
        "    self.head = None    #will act as pointer to first node of the linked list\n",
        "    self.tail = None    #will act as pointer to the last element of the linked list"
      ],
      "execution_count": 6,
      "outputs": []
    },
    {
      "cell_type": "code",
      "metadata": {
        "id": "KokgTjYVTLL7"
      },
      "source": [
        "head = SinglyLinkedList(None)\n",
        "head.next_pointer = SinglyLinkedList(9)\n",
        "k = head.next_pointer\n",
        "k.next_pointer = SinglyLinkedList(10)\n",
        "y = k.next_pointer\n",
        "y.next_pointer = SinglyLinkedList(12)\n",
        "\n",
        "\n",
        "def PushFront(key):\n",
        "\n",
        "  if head.next_pointer == None:  #if empty singlylinkedlist\n",
        "    head.next_pointer = SinglyLinkedList(key)    #if empthy list the head will point to the new node\n",
        "\n",
        " \n",
        "  new_node = SinglyLinkedList(key)\n",
        "\n",
        "  new_node.next_pointer = head.next_pointer    \n",
        "  head.next_pointer = new_node\n",
        "\n",
        "  return head\n"
      ],
      "execution_count": null,
      "outputs": []
    },
    {
      "cell_type": "code",
      "metadata": {
        "id": "pFviiT4CL_oi"
      },
      "source": [
        "class Node:\n",
        "\n",
        "  def __init__(self,key = None):\n",
        "    self.key = key\n",
        "    self.next_pointer = None\n",
        "\n",
        "class SinglyLinkedList:\n",
        "\n",
        "  def __init__(self):\n",
        "    self.head = None\n",
        "    self.tail = None\n",
        "\n",
        "\n",
        "  #inserting at the beginning\n",
        "  def PushFront(self,node):\n",
        "\n",
        "    if self.tail == None:\n",
        "\n",
        "      self.head = node\n",
        "\n",
        "    node.next_pointer = self.head\n",
        "    self.head = node\n",
        "\n",
        "    return self\n",
        "\n"
      ],
      "execution_count": 6,
      "outputs": []
    },
    {
      "cell_type": "code",
      "metadata": {
        "id": "iD3gFi6gKljM"
      },
      "source": [
        "sll = SinglyLinkedList()"
      ],
      "execution_count": 7,
      "outputs": []
    },
    {
      "cell_type": "code",
      "metadata": {
        "id": "YYCSaVxkbCud"
      },
      "source": [
        "nine = Node(9)\n",
        "ten = Node(10)\n",
        "twelve = Node(12)\n",
        "nine.next_pointer = ten\n",
        "ten.next_pointer = twelve"
      ],
      "execution_count": 8,
      "outputs": []
    },
    {
      "cell_type": "code",
      "metadata": {
        "id": "PzFZW1GrbUDe",
        "colab": {
          "base_uri": "https://localhost:8080/"
        },
        "outputId": "19c9b489-2080-49da-d8b2-dc1a836aa3f0"
      },
      "source": [
        "sll.PushFront(nine)"
      ],
      "execution_count": 9,
      "outputs": [
        {
          "output_type": "execute_result",
          "data": {
            "text/plain": [
              "<__main__.SinglyLinkedList at 0x7ff413dd8d90>"
            ]
          },
          "metadata": {
            "tags": []
          },
          "execution_count": 9
        }
      ]
    },
    {
      "cell_type": "code",
      "metadata": {
        "id": "AyfOXZ_Qb1k-"
      },
      "source": [
        ""
      ],
      "execution_count": 3,
      "outputs": []
    },
    {
      "cell_type": "code",
      "metadata": {
        "id": "vzwfe6EweSaZ"
      },
      "source": [
        "new_head = PushFront(7)"
      ],
      "execution_count": 4,
      "outputs": []
    },
    {
      "cell_type": "code",
      "metadata": {
        "id": "GPglTZrPeaJz"
      },
      "source": [
        "seven = new_head.next_pointer"
      ],
      "execution_count": 73,
      "outputs": []
    },
    {
      "cell_type": "code",
      "metadata": {
        "id": "MZRpmA4WegwX"
      },
      "source": [
        "nine = seven.next_pointer"
      ],
      "execution_count": 75,
      "outputs": []
    },
    {
      "cell_type": "code",
      "metadata": {
        "colab": {
          "base_uri": "https://localhost:8080/"
        },
        "id": "ugSJ760zgWF9",
        "outputId": "bf781aa4-4598-4405-f7b4-1c8f0d1e2c07"
      },
      "source": [
        "nine.next_pointer.key"
      ],
      "execution_count": 76,
      "outputs": [
        {
          "output_type": "execute_result",
          "data": {
            "text/plain": [
              "10"
            ]
          },
          "metadata": {
            "tags": []
          },
          "execution_count": 76
        }
      ]
    },
    {
      "cell_type": "code",
      "metadata": {
        "id": "ScP7y08YkiPL"
      },
      "source": [
        ""
      ],
      "execution_count": null,
      "outputs": []
    }
  ]
}