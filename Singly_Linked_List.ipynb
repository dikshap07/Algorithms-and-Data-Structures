{
  "nbformat": 4,
  "nbformat_minor": 0,
  "metadata": {
    "colab": {
      "name": "Singly Linked List.ipynb",
      "provenance": [],
      "authorship_tag": "ABX9TyOZ9EPGYeuQ53s03KMvx6T/",
      "include_colab_link": true
    },
    "kernelspec": {
      "name": "python3",
      "display_name": "Python 3"
    },
    "language_info": {
      "name": "python"
    }
  },
  "cells": [
    {
      "cell_type": "markdown",
      "metadata": {
        "id": "view-in-github",
        "colab_type": "text"
      },
      "source": [
        "<a href=\"https://colab.research.google.com/github/dikshap07/Algorithms-and-Data-Structures/blob/master/Singly_Linked_List.ipynb\" target=\"_parent\"><img src=\"https://colab.research.google.com/assets/colab-badge.svg\" alt=\"Open In Colab\"/></a>"
      ]
    },
    {
      "cell_type": "code",
      "metadata": {
        "id": "2tiv3vdDadrH"
      },
      "source": [
        "class SinglyLinkedList():\n",
        "\n",
        "  def __init__(self,key):\n",
        "\n",
        "    self.key = key     #key for a node\n",
        "    self.next_pointer = None    #next pointer for that node\n",
        "\n"
      ],
      "execution_count": 14,
      "outputs": []
    },
    {
      "cell_type": "code",
      "metadata": {
        "id": "YYCSaVxkbCud"
      },
      "source": [
        "head = SinglyLinkedList(None)\n",
        "head.next_pointer = SinglyLinkedList(9)"
      ],
      "execution_count": 69,
      "outputs": []
    },
    {
      "cell_type": "code",
      "metadata": {
        "id": "PzFZW1GrbUDe"
      },
      "source": [
        "k = head.next_pointer\n",
        "k.next_pointer = SinglyLinkedList(10)\n",
        "y = k.next_pointer\n",
        "y.next_pointer = SinglyLinkedList(12)"
      ],
      "execution_count": 70,
      "outputs": []
    },
    {
      "cell_type": "code",
      "metadata": {
        "id": "AyfOXZ_Qb1k-"
      },
      "source": [
        "def PushFront(key):\n",
        "\n",
        "  if head.next_pointer == None:  #if empty singlylinkedlist\n",
        "    head.next_pointer = SinglyLinkedList(key)    #if empthy list the head will point to the new node\n",
        "\n",
        " \n",
        "  new_node = SinglyLinkedList(key)\n",
        "\n",
        "  new_node.next_pointer = head.next_pointer    \n",
        "  head.next_pointer = new_node\n",
        "\n",
        "  return head"
      ],
      "execution_count": 71,
      "outputs": []
    },
    {
      "cell_type": "code",
      "metadata": {
        "colab": {
          "base_uri": "https://localhost:8080/"
        },
        "id": "vzwfe6EweSaZ",
        "outputId": "b5ab4194-1526-497a-c7a4-ac67f8f5054e"
      },
      "source": [
        "new_head = PushFront(7)"
      ],
      "execution_count": 72,
      "outputs": [
        {
          "output_type": "stream",
          "text": [
            "head =  None\n",
            "head_pointer 9\n",
            "new_head pointer 7\n",
            "new_ pointer 9\n"
          ],
          "name": "stdout"
        }
      ]
    },
    {
      "cell_type": "code",
      "metadata": {
        "id": "GPglTZrPeaJz"
      },
      "source": [
        "seven = new_head.next_pointer"
      ],
      "execution_count": 73,
      "outputs": []
    },
    {
      "cell_type": "code",
      "metadata": {
        "id": "MZRpmA4WegwX"
      },
      "source": [
        "nine = seven.next_pointer"
      ],
      "execution_count": 75,
      "outputs": []
    },
    {
      "cell_type": "code",
      "metadata": {
        "colab": {
          "base_uri": "https://localhost:8080/"
        },
        "id": "ugSJ760zgWF9",
        "outputId": "bf781aa4-4598-4405-f7b4-1c8f0d1e2c07"
      },
      "source": [
        "nine.next_pointer.key"
      ],
      "execution_count": 76,
      "outputs": [
        {
          "output_type": "execute_result",
          "data": {
            "text/plain": [
              "10"
            ]
          },
          "metadata": {
            "tags": []
          },
          "execution_count": 76
        }
      ]
    },
    {
      "cell_type": "code",
      "metadata": {
        "id": "ScP7y08YkiPL"
      },
      "source": [
        ""
      ],
      "execution_count": null,
      "outputs": []
    }
  ]
}