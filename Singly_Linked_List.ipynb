{
  "nbformat": 4,
  "nbformat_minor": 0,
  "metadata": {
    "colab": {
      "name": "Singly Linked List.ipynb",
      "provenance": [],
      "collapsed_sections": [],
      "include_colab_link": true
    },
    "kernelspec": {
      "name": "python3",
      "display_name": "Python 3"
    },
    "language_info": {
      "name": "python"
    }
  },
  "cells": [
    {
      "cell_type": "markdown",
      "metadata": {
        "id": "view-in-github",
        "colab_type": "text"
      },
      "source": [
        "<a href=\"https://colab.research.google.com/github/dikshap07/Algorithms-and-Data-Structures/blob/master/Singly_Linked_List.ipynb\" target=\"_parent\"><img src=\"https://colab.research.google.com/assets/colab-badge.svg\" alt=\"Open In Colab\"/></a>"
      ]
    },
    {
      "cell_type": "code",
      "metadata": {
        "id": "pFviiT4CL_oi"
      },
      "source": [
        "class Node:\n",
        "\n",
        "  def __init__(self,key = None, next_pointer = None):\n",
        "    self.key = key\n",
        "    self.next_pointer = next_pointer\n",
        "\n",
        "class SinglyLinkedList:\n",
        "\n",
        "  def __init__(self):\n",
        "    self.head = None   #pointer to first element in the linked list\n",
        "    self.tail = None   #pointer to the last element in the linked list\n",
        "\n",
        "\n",
        "  #inserting at the beginning\n",
        "  def PushFront(self,data):   #O(1) operation\n",
        "\n",
        "\n",
        "    if self.tail == None:  #if list is empty point tail to the new element \n",
        "      self.tail = Node(data)\n",
        "      self.tail.next_pointer = None\n",
        "\n",
        "    \n",
        "    node = Node(data,self.head)    #point next_pointer of new node to the previous head\n",
        "    self.head = node   #new head is the new node\n",
        "\n",
        "\n",
        "  #deleting first element from the linkedlist\n",
        "\n",
        "  def PopFront(self):  #O(1) operation\n",
        "\n",
        "    if self.tail == None:\n",
        "      print('Cannot delete the linked list is empty')\n",
        "\n",
        "    self.head = self.head.next_pointer  #head will point to the second element now\n",
        "\n",
        "    if self.head == None:\n",
        "      self.tail = None\n",
        "\n",
        "  #adding element to the end of the linked list\n",
        "\n",
        "  def PushBackt(self,node):#using tail\n",
        "\n",
        "    \n",
        "    new_end_node = Node(node,None)\n",
        "\n",
        "    #print('tail:' ,self.tail.key)\n",
        "\n",
        "\n",
        "    if self.tail is None and self.head is None:\n",
        "      self.head = new_end_node\n",
        "      self.tail = new_end_node\n",
        "    else:\n",
        "      self.tail.next_pointer = new_end_node\n",
        "      self.tail = new_end_node\n",
        "\n",
        "  #to add to the end without using tail   #O(n) operation\n",
        "  def PushBack(self,key):  \n",
        "\n",
        "    if self.head == None:\n",
        "\n",
        "      self.head = Node(key)\n",
        "      return \n",
        "\n",
        "    ll_node = self.head\n",
        "    while ll_node.next_pointer:\n",
        "      ll_node = ll_node.next_pointer\n",
        "\n",
        "    ll_node.next_pointer = Node(key)\n",
        "    self.tail = Node(key)\n",
        "\n",
        "  #To delete element from end\n",
        "  #O(n) operation\n",
        "  \n",
        "  def PopBack(self):   \n",
        "    if self.head is None:\n",
        "      print('Cant delete linked list is empty')    \n",
        "\n",
        "    elif self.head.next_pointer is None:\n",
        "\n",
        "      self.head = None\n",
        "\n",
        "    else:\n",
        "      ll_node = self.head\n",
        "      while ll_node.next_pointer.next_pointer:\n",
        "        ll_node = ll_node.next_pointer   \n",
        "\n",
        "      ll_node.next_pointer = None\n",
        "\n",
        "  #Method to insert element at a particular index\n",
        "\n",
        "  def insert_at_index(self,value,index):\n",
        "\n",
        "    #case 1 if index is not in the linked list\n",
        "\n",
        "    if index<0 or index >= self.get_size():\n",
        "\n",
        "      raise Exception('invalid index')\n",
        "\n",
        "\n",
        "    #case 2 : if inserting at the head\n",
        "    if index == 0:\n",
        "\n",
        "      self.PushFront(value)\n",
        "\n",
        "    \n",
        "    else:\n",
        "\n",
        "      count = 0\n",
        "\n",
        "      node = self.head\n",
        "\n",
        "      while node:\n",
        "\n",
        "        if count == index - 1:\n",
        "\n",
        "          node.next_pointer = Node(value,node.next_pointer)\n",
        "\n",
        "        node = node.next_pointer\n",
        "        count +=1\n",
        "\n",
        "\n",
        "  #Method to delete at a particular index\n",
        "\n",
        "  def delete_at_index(self,index):\n",
        "\n",
        "    if index<0 or index >= self.get_size():\n",
        "\n",
        "      raise Exception('invalid index')\n",
        "\n",
        "    \n",
        "    if index == 0:\n",
        "\n",
        "      self.head = self.head.next_pointer\n",
        "\n",
        "    else:\n",
        "\n",
        "      count = 0\n",
        "\n",
        "      node = self.head\n",
        "\n",
        "      while node:\n",
        "        if count == index - 1:\n",
        "\n",
        "          node.next_pointer = node.next_pointer.next_pointer\n",
        "          break\n",
        "\n",
        "\n",
        "        node = node.next_pointer\n",
        "        count +=1\n",
        "\n",
        "  #Method to insert after a particular value\n",
        "  def insert_after_value(self,data_after,value_to_insert):\n",
        "\n",
        "    node = self.head\n",
        "    count = 0\n",
        "\n",
        "    while node:\n",
        "\n",
        "      if node.key == data_after:\n",
        "\n",
        "        node.next_pointer = Node(value_to_insert,node.next_pointer)\n",
        "        break\n",
        "\n",
        "      node = node.next_pointer\n",
        "      count +=1\n",
        "\n",
        "  #Method to delete first element that has that value\n",
        "  def remove_by_value(self,value):\n",
        "\n",
        "    node = self.head\n",
        "    count = 0\n",
        "\n",
        "    while node:\n",
        "      \n",
        "      if node.key == value:\n",
        "\n",
        "        self.delete_at_index(count)\n",
        "        break\n",
        "\n",
        "      node = node.next_pointer\n",
        "      count +=1\n",
        "\n",
        "\n",
        "\n",
        "  #to insert a list of values in the linked list \n",
        "  def insert_values(self,list_values):  \n",
        "\n",
        "    self.head = None\n",
        "\n",
        "    for value in list_values:\n",
        "\n",
        "      self.PushBack(value)\n",
        "\n",
        "\n",
        "  #method to get the size of the linked list\n",
        "\n",
        "  def get_size(self):\n",
        "\n",
        "    count = 0\n",
        "    if self.head == None:\n",
        "      print('tree is empty')\n",
        "\n",
        "    else:\n",
        "\n",
        "      node = self.head\n",
        "\n",
        "      while node:\n",
        "\n",
        "        node = node.next_pointer\n",
        "        count+=1\n",
        "\n",
        "      return count    \n",
        "\n",
        "\n",
        "  #to print the linked list\n",
        "  def print_ll(self):\n",
        "\n",
        "    if self.head is None:\n",
        "      print(\"Singly Linked List is empty\")\n",
        "\n",
        "    ll_node = self.head\n",
        "    #print('head is',ll_node.key)\n",
        "\n",
        "    listr = ''\n",
        "\n",
        "    while ll_node:\n",
        "\n",
        "\n",
        "      listr += str(ll_node.key) + '-->'\n",
        "      #print(listr)\n",
        "\n",
        "      ll_node = ll_node.next_pointer\n",
        "\n",
        "\n",
        "    print(listr)\n",
        "\n",
        "\n"
      ],
      "execution_count": 91,
      "outputs": []
    },
    {
      "cell_type": "code",
      "metadata": {
        "colab": {
          "base_uri": "https://localhost:8080/"
        },
        "id": "q3ZRN1JfqEhF",
        "outputId": "49c9c698-53c6-4178-8cab-fc3fc544b74f"
      },
      "source": [
        "    ll = SinglyLinkedList()\n",
        "    ll.insert_values([\"banana\",\"mango\",\"grapes\",\"orange\"])\n",
        "    ll.print_ll()\n",
        "    ll.insert_after_value(\"mango\",\"apple\") # insert apple after mango\n",
        "    ll.print_ll()\n",
        "    ll.remove_by_value(\"orange\") # remove orange from linked list\n",
        "    ll.print_ll()\n",
        "    ll.remove_by_value(\"figs\")\n",
        "    ll.print_ll()\n",
        "    ll.remove_by_value(\"banana\")\n",
        "    ll.remove_by_value(\"mango\")\n",
        "    ll.remove_by_value(\"apple\")\n",
        "    ll.remove_by_value(\"grapes\")\n",
        "    ll.print_ll()"
      ],
      "execution_count": 106,
      "outputs": [
        {
          "output_type": "stream",
          "text": [
            "banana-->mango-->grapes-->orange-->\n",
            "banana-->mango-->apple-->grapes-->orange-->\n",
            "banana-->mango-->apple-->grapes-->\n",
            "banana-->mango-->apple-->grapes-->\n",
            "Singly Linked List is empty\n",
            "\n"
          ],
          "name": "stdout"
        }
      ]
    },
    {
      "cell_type": "code",
      "metadata": {
        "colab": {
          "base_uri": "https://localhost:8080/"
        },
        "id": "uv7JwdW4fw_d",
        "outputId": "6f897c5c-aa23-4acc-d99e-e816ddffd76f"
      },
      "source": [
        "sll.print_ll()"
      ],
      "execution_count": 102,
      "outputs": [
        {
          "output_type": "stream",
          "text": [
            "dragonfruit-->grapefruit-->grapes-->\n"
          ],
          "name": "stdout"
        }
      ]
    },
    {
      "cell_type": "code",
      "metadata": {
        "id": "_v9mybHzkLcJ"
      },
      "source": [
        "sll.insert_at_index(2.5,2)"
      ],
      "execution_count": 71,
      "outputs": []
    },
    {
      "cell_type": "code",
      "metadata": {
        "id": "daVZEIbPmEtu"
      },
      "source": [
        "sll.delete_at_index(0)"
      ],
      "execution_count": 76,
      "outputs": []
    },
    {
      "cell_type": "code",
      "metadata": {
        "id": "BINK-lj7mZay"
      },
      "source": [
        ""
      ],
      "execution_count": null,
      "outputs": []
    },
    {
      "cell_type": "code",
      "metadata": {
        "id": "iD3gFi6gKljM"
      },
      "source": [
        "sll = SinglyLinkedList()\n",
        "#sll.PushBackt(6)\n",
        "sll.PushBackt(5)\n",
        "sll.PushBackt(4)\n",
        "sll.PushFront(3)\n",
        "\n",
        "\n",
        "sll.PushFront(2)\n",
        "\n",
        "sll.PushFront(1)"
      ],
      "execution_count": 36,
      "outputs": []
    },
    {
      "cell_type": "code",
      "metadata": {
        "colab": {
          "base_uri": "https://localhost:8080/",
          "height": 220
        },
        "id": "hGcoKz5rLpLD",
        "outputId": "75f25816-8782-4868-f343-0b7f48fe3c9c"
      },
      "source": [
        " two = sll.head.next_pointer\n",
        " three = two.next_pointer\n",
        " four = three.next_pointer\n",
        " five = four.next_pointer\n",
        " five.next_pointer.key\n",
        "\n"
      ],
      "execution_count": null,
      "outputs": [
        {
          "output_type": "error",
          "ename": "AttributeError",
          "evalue": "ignored",
          "traceback": [
            "\u001b[0;31m---------------------------------------------------------------------------\u001b[0m",
            "\u001b[0;31mAttributeError\u001b[0m                            Traceback (most recent call last)",
            "\u001b[0;32m<ipython-input-96-cd1827a06aad>\u001b[0m in \u001b[0;36m<module>\u001b[0;34m()\u001b[0m\n\u001b[1;32m      3\u001b[0m \u001b[0mfour\u001b[0m \u001b[0;34m=\u001b[0m \u001b[0mthree\u001b[0m\u001b[0;34m.\u001b[0m\u001b[0mnext_pointer\u001b[0m\u001b[0;34m\u001b[0m\u001b[0;34m\u001b[0m\u001b[0m\n\u001b[1;32m      4\u001b[0m \u001b[0mfive\u001b[0m \u001b[0;34m=\u001b[0m \u001b[0mfour\u001b[0m\u001b[0;34m.\u001b[0m\u001b[0mnext_pointer\u001b[0m\u001b[0;34m\u001b[0m\u001b[0;34m\u001b[0m\u001b[0m\n\u001b[0;32m----> 5\u001b[0;31m \u001b[0mfive\u001b[0m\u001b[0;34m.\u001b[0m\u001b[0mnext_pointer\u001b[0m\u001b[0;34m.\u001b[0m\u001b[0mkey\u001b[0m\u001b[0;34m\u001b[0m\u001b[0;34m\u001b[0m\u001b[0m\n\u001b[0m\u001b[1;32m      6\u001b[0m \u001b[0;34m\u001b[0m\u001b[0m\n",
            "\u001b[0;31mAttributeError\u001b[0m: 'NoneType' object has no attribute 'key'"
          ]
        }
      ]
    }
  ]
}