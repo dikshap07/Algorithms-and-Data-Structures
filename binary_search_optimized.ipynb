{
  "nbformat": 4,
  "nbformat_minor": 0,
  "metadata": {
    "colab": {
      "name": "binary_search_optimized.ipynb",
      "provenance": [],
      "authorship_tag": "ABX9TyP/CIOoo84/3dKj5F2XWnIn",
      "include_colab_link": true
    },
    "kernelspec": {
      "name": "python3",
      "display_name": "Python 3"
    },
    "language_info": {
      "name": "python"
    }
  },
  "cells": [
    {
      "cell_type": "markdown",
      "metadata": {
        "id": "view-in-github",
        "colab_type": "text"
      },
      "source": [
        "<a href=\"https://colab.research.google.com/github/dikshap07/Algorithms-and-Data-Structures/blob/master/binary_search_optimized.ipynb\" target=\"_parent\"><img src=\"https://colab.research.google.com/assets/colab-badge.svg\" alt=\"Open In Colab\"/></a>"
      ]
    },
    {
      "cell_type": "markdown",
      "source": [
        "###BINARY SEARCH WITHOUT RECURSION"
      ],
      "metadata": {
        "id": "UWmmDzWy-8Ik"
      }
    },
    {
      "cell_type": "code",
      "source": [
        "def binary_search(nums,target):\n",
        "\n",
        "  left = 0\n",
        "  right = len(nums) - 1\n",
        "\n",
        "  while left <= right:\n",
        "\n",
        "    pivot = left + (right - left)//2\n",
        "\n",
        "    if target == nums[pivot]:\n",
        "\n",
        "      return pivot\n",
        "\n",
        "    elif target < nums[pivot]:\n",
        "\n",
        "      right = pivot - 1\n",
        "\n",
        "    elif target > nums[pivot]:\n",
        "\n",
        "      left = pivot + 1\n",
        "\n",
        "  \n",
        "  return -1\n"
      ],
      "metadata": {
        "id": "SbyF_V36SKQY"
      },
      "execution_count": 2,
      "outputs": []
    },
    {
      "cell_type": "code",
      "source": [
        "binary_search([-1,0,3,5,9,12],0)"
      ],
      "metadata": {
        "colab": {
          "base_uri": "https://localhost:8080/"
        },
        "id": "AvuEhZ1N-g9J",
        "outputId": "3baf7fbe-3d9f-4a0b-ffb1-8c92ac183e37"
      },
      "execution_count": 7,
      "outputs": [
        {
          "output_type": "execute_result",
          "data": {
            "text/plain": [
              "1"
            ]
          },
          "metadata": {},
          "execution_count": 7
        }
      ]
    },
    {
      "cell_type": "code",
      "execution_count": 40,
      "metadata": {
        "id": "oS8VuZ7oR-b3"
      },
      "outputs": [],
      "source": [
        "def search(nums, target):\n",
        "        \n",
        "        first = nums.index(nums[0])\n",
        "        last = nums.index(nums[-1])\n",
        "\n",
        "        mid = (last - first) //2\n",
        "\n",
        "        \n",
        "        while first < last:\n",
        "\n",
        "          if target == nums[mid]:\n",
        "            print(\"equal to mid\")\n",
        "\n",
        "            \n",
        "            return mid\n",
        "          \n",
        "          elif target < nums[mid]:\n",
        "\n",
        "            print('entered first half' )\n",
        "            \n",
        "            return search(nums[:mid],target)\n",
        "        \n",
        "          elif target > nums[mid]:\n",
        "\n",
        "            print(\"entered second half\")\n",
        "            #print('scooby so')\n",
        "            return mid + search(nums[mid+1:],target)\n",
        "        \n",
        "          \n",
        "            \n",
        "        return (-1)\n",
        "        "
      ]
    },
    {
      "cell_type": "code",
      "source": [
        "search([-1,0,3,5,9,12],2)"
      ],
      "metadata": {
        "colab": {
          "base_uri": "https://localhost:8080/"
        },
        "id": "0W_7I0l5SAd-",
        "outputId": "750f3652-c34a-4b80-9e11-37d8f72b0a12"
      },
      "execution_count": 41,
      "outputs": [
        {
          "output_type": "stream",
          "name": "stdout",
          "text": [
            "first 0\n",
            "last 5\n",
            "mid 2\n",
            "mid num =  3\n",
            "target 2\n",
            "entered first half\n",
            "first 0\n",
            "last 1\n",
            "mid 0\n",
            "mid num =  -1\n",
            "target 2\n",
            "entered second half\n",
            "first 0\n",
            "last 0\n",
            "mid 0\n",
            "mid num =  0\n",
            "target 2\n"
          ]
        },
        {
          "output_type": "execute_result",
          "data": {
            "text/plain": [
              "-1"
            ]
          },
          "metadata": {},
          "execution_count": 41
        }
      ]
    },
    {
      "cell_type": "code",
      "source": [
        ""
      ],
      "metadata": {
        "id": "8IjI4jna-rLJ"
      },
      "execution_count": null,
      "outputs": []
    }
  ]
}