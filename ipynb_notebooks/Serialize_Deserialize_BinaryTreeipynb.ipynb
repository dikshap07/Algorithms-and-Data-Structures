{
  "nbformat": 4,
  "nbformat_minor": 0,
  "metadata": {
    "colab": {
      "name": "Serialize-Deserialize BinaryTreeipynb",
      "provenance": [],
      "authorship_tag": "ABX9TyOzgCUZR6Vj+8fpKsGEEa4e",
      "include_colab_link": true
    },
    "kernelspec": {
      "name": "python3",
      "display_name": "Python 3"
    },
    "language_info": {
      "name": "python"
    }
  },
  "cells": [
    {
      "cell_type": "markdown",
      "metadata": {
        "id": "view-in-github",
        "colab_type": "text"
      },
      "source": [
        "<a href=\"https://colab.research.google.com/github/dikshap07/Algorithms-and-Data-Structures/blob/master/Serialize_Deserialize_BinaryTreeipynb.ipynb\" target=\"_parent\"><img src=\"https://colab.research.google.com/assets/colab-badge.svg\" alt=\"Open In Colab\"/></a>"
      ]
    },
    {
      "cell_type": "code",
      "metadata": {
        "id": "NBJb4n85yWNE"
      },
      "source": [
        "class Node():\n",
        "\n",
        "  def __init__(self,value, left = None,right = None):\n",
        "\n",
        "    self.value = value\n",
        "    self.left = left\n",
        "    self.right = right\n",
        "\n",
        "\n",
        "\n",
        "def serialize(node,s= \"\"):\n",
        "\n",
        "  if node is None:\n",
        "\n",
        "    s += \"#\"\n",
        "    return s\n",
        "\n",
        "  \n",
        "  s += str(node.value) + \" \"\n",
        "\n",
        "  s = serialize(node.left,s = s)\n",
        "  s = serialize(node.right,s = s)\n",
        "\n",
        "  return s\n",
        "\n",
        "\n"
      ],
      "execution_count": null,
      "outputs": []
    }
  ]
}