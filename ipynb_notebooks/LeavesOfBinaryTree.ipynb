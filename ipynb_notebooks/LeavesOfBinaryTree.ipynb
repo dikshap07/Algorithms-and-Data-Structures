{
  "nbformat": 4,
  "nbformat_minor": 0,
  "metadata": {
    "colab": {
      "name": "LeavesOfBinaryTree.ipynb",
      "provenance": [],
      "authorship_tag": "ABX9TyPIoqh1sHo09phbffD2iG8t",
      "include_colab_link": true
    },
    "kernelspec": {
      "name": "python3",
      "display_name": "Python 3"
    },
    "language_info": {
      "name": "python"
    }
  },
  "cells": [
    {
      "cell_type": "markdown",
      "metadata": {
        "id": "view-in-github",
        "colab_type": "text"
      },
      "source": [
        "<a href=\"https://colab.research.google.com/github/dikshap07/Algorithms-and-Data-Structures/blob/master/LeavesOfBinaryTree.ipynb\" target=\"_parent\"><img src=\"https://colab.research.google.com/assets/colab-badge.svg\" alt=\"Open In Colab\"/></a>"
      ]
    },
    {
      "cell_type": "code",
      "execution_count": null,
      "metadata": {
        "id": "4qQoTtnI2PLj"
      },
      "outputs": [],
      "source": [
        "class BinaryTree:\n",
        "\n",
        "  def __init__(self,value):\n",
        "\n",
        "    self.value = value\n",
        "    self.left = None\n",
        "    self.right = None\n",
        "    self.parent = None"
      ]
    },
    {
      "cell_type": "code",
      "source": [
        "bt = BinaryTree(1)\n",
        "\n",
        "bt.left = BinaryTree(2)\n",
        "bt.right = BinaryTree(3)\n",
        "\n",
        "left_child_ofleft = bt.left.left = BinaryTree(4)\n",
        "right_child_ofright = bt.left.right = BinaryTree(5)\n",
        "\n",
        "\n"
      ],
      "metadata": {
        "id": "3dy3kOPqVDBj"
      },
      "execution_count": null,
      "outputs": []
    },
    {
      "cell_type": "code",
      "source": [
        "from collections import defaultdict\n"
      ],
      "metadata": {
        "id": "bBiVem953gk3"
      },
      "execution_count": null,
      "outputs": []
    },
    {
      "cell_type": "code",
      "source": [
        "def getleaves(root):\n",
        "\n",
        "\n",
        "  leaves = collections.defaultdict(list)\n",
        "\n",
        "\n",
        "  def dfs(node):   #to get height of nodes and add that node in the list of nods with that height\n",
        "\n",
        "    if not node:\n",
        "      return 0\n",
        "\n",
        "    left_height = dfs(node.left)\n",
        "    right_height = dfs(node.right)\n",
        "\n",
        "    node_height = max(left_height,right_height)\n",
        "\n",
        "    leaves[height].append(node.value)\n",
        "\n",
        "    return node_height + 1 #height of node is height of child+1\n",
        "\n",
        "  dfs(root)\n",
        "\n",
        "  return leaves.values()"
      ],
      "metadata": {
        "id": "EdNBAK6kYdNK"
      },
      "execution_count": null,
      "outputs": []
    },
    {
      "cell_type": "code",
      "source": [
        "getleaves(bt)"
      ],
      "metadata": {
        "colab": {
          "base_uri": "https://localhost:8080/",
          "height": 288
        },
        "id": "X_ptJ-C71zzt",
        "outputId": "734b6e19-6d43-401e-b7f8-551ccd4e9bc2"
      },
      "execution_count": null,
      "outputs": [
        {
          "output_type": "error",
          "ename": "NameError",
          "evalue": "ignored",
          "traceback": [
            "\u001b[0;31m---------------------------------------------------------------------------\u001b[0m",
            "\u001b[0;31mNameError\u001b[0m                                 Traceback (most recent call last)",
            "\u001b[0;32m<ipython-input-18-7ae002e8f555>\u001b[0m in \u001b[0;36m<module>\u001b[0;34m()\u001b[0m\n\u001b[0;32m----> 1\u001b[0;31m \u001b[0mgetleaves\u001b[0m\u001b[0;34m(\u001b[0m\u001b[0mbt\u001b[0m\u001b[0;34m)\u001b[0m\u001b[0;34m\u001b[0m\u001b[0;34m\u001b[0m\u001b[0m\n\u001b[0m",
            "\u001b[0;32m<ipython-input-17-858688da45be>\u001b[0m in \u001b[0;36mgetleaves\u001b[0;34m(root)\u001b[0m\n\u001b[1;32m      2\u001b[0m \u001b[0;34m\u001b[0m\u001b[0m\n\u001b[1;32m      3\u001b[0m \u001b[0;34m\u001b[0m\u001b[0m\n\u001b[0;32m----> 4\u001b[0;31m   \u001b[0mleaves\u001b[0m \u001b[0;34m=\u001b[0m \u001b[0mcollections\u001b[0m\u001b[0;34m.\u001b[0m\u001b[0mdefaultdict\u001b[0m\u001b[0;34m(\u001b[0m\u001b[0mlist\u001b[0m\u001b[0;34m)\u001b[0m\u001b[0;34m\u001b[0m\u001b[0;34m\u001b[0m\u001b[0m\n\u001b[0m\u001b[1;32m      5\u001b[0m \u001b[0;34m\u001b[0m\u001b[0m\n\u001b[1;32m      6\u001b[0m \u001b[0;34m\u001b[0m\u001b[0m\n",
            "\u001b[0;31mNameError\u001b[0m: name 'collections' is not defined"
          ]
        }
      ]
    },
    {
      "cell_type": "code",
      "source": [
        "def height(root):\n",
        " \n",
        "    # Check if the binary tree is empty\n",
        "    if root is None:\n",
        "        # If TRUE return 0\n",
        "        return 0 \n",
        "        \n",
        "    # Recursively call height of each node\n",
        "    leftAns = height(root.left)\n",
        "    rightAns = height(root.right)\n",
        " \n",
        "    # Return max(leftHeight, rightHeight) at each iteration\n",
        "    return max(leftAns, rightAns) + 1"
      ],
      "metadata": {
        "id": "xJUItaKZTcMD"
      },
      "execution_count": null,
      "outputs": []
    }
  ]
}