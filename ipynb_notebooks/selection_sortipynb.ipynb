{
  "nbformat": 4,
  "nbformat_minor": 0,
  "metadata": {
    "colab": {
      "name": "selection_sortipynb",
      "provenance": [],
      "authorship_tag": "ABX9TyMM1w+bcn02aUDWfV/BgDV7",
      "include_colab_link": true
    },
    "kernelspec": {
      "name": "python3",
      "display_name": "Python 3"
    },
    "language_info": {
      "name": "python"
    }
  },
  "cells": [
    {
      "cell_type": "markdown",
      "metadata": {
        "id": "view-in-github",
        "colab_type": "text"
      },
      "source": [
        "<a href=\"https://colab.research.google.com/github/dikshap07/Algorithms-and-Data-Structures/blob/master/selection_sortipynb.ipynb\" target=\"_parent\"><img src=\"https://colab.research.google.com/assets/colab-badge.svg\" alt=\"Open In Colab\"/></a>"
      ]
    },
    {
      "cell_type": "code",
      "metadata": {
        "id": "pBvEH0fzLWPE"
      },
      "source": [
        "def selection_sort(A):\n",
        "\n",
        "  for i in range(len(A)-1):\n",
        "\n",
        "    min_idx = i\n",
        "\n",
        "    for j in range(i+1,len(A)):\n",
        "\n",
        "      if A[j] < A[min_idx]:\n",
        "\n",
        "        min_idx = j\n",
        "\n",
        "\n",
        "    A[i], A[min_idx] = A[min_idx],A[i]\n",
        "\n",
        "\n",
        "  return A"
      ],
      "execution_count": 19,
      "outputs": []
    },
    {
      "cell_type": "code",
      "metadata": {
        "colab": {
          "base_uri": "https://localhost:8080/"
        },
        "id": "TMectxsIQZOZ",
        "outputId": "372eed05-44eb-44e0-9c4b-57cfe02f181a"
      },
      "source": [
        "A= [64,25,12,22,11]\n",
        "\n",
        "print(selection_sort(A))"
      ],
      "execution_count": 18,
      "outputs": [
        {
          "output_type": "stream",
          "name": "stdout",
          "text": [
            "i 0\n",
            "j 1\n",
            "j 2\n",
            "j 3\n",
            "j 4\n",
            "i 1\n",
            "j 2\n",
            "j 3\n",
            "j 4\n",
            "i 2\n",
            "j 3\n",
            "j 4\n",
            "i 3\n",
            "j 4\n",
            "i 4\n",
            "[11, 12, 22, 25, 64]\n"
          ]
        }
      ]
    },
    {
      "cell_type": "code",
      "metadata": {
        "id": "XOpVr7AUQfoa"
      },
      "source": [
        ""
      ],
      "execution_count": null,
      "outputs": []
    }
  ]
}