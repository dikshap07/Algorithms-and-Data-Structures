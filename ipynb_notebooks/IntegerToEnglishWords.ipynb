{
  "nbformat": 4,
  "nbformat_minor": 0,
  "metadata": {
    "colab": {
      "name": "IntegerToEnglishWords.ipynb",
      "provenance": [],
      "authorship_tag": "ABX9TyPGXwxn676N2b38Y65o1wEy",
      "include_colab_link": true
    },
    "kernelspec": {
      "name": "python3",
      "display_name": "Python 3"
    },
    "language_info": {
      "name": "python"
    }
  },
  "cells": [
    {
      "cell_type": "markdown",
      "metadata": {
        "id": "view-in-github",
        "colab_type": "text"
      },
      "source": [
        "<a href=\"https://colab.research.google.com/github/dikshap07/Algorithms-and-Data-Structures/blob/master/IntegerToEnglishWords.ipynb\" target=\"_parent\"><img src=\"https://colab.research.google.com/assets/colab-badge.svg\" alt=\"Open In Colab\"/></a>"
      ]
    },
    {
      "cell_type": "code",
      "source": [
        "def hund_s(k):\n",
        "\n",
        "        ones = {0: '', 1: 'One', 2: 'Two', 3: 'Three', 4: 'Four', \n",
        "           5: 'Five', 6: 'Six', 7: 'Seven', 8: 'Eight', 9: 'Nine'}\n",
        "\n",
        "        tens = {2: 'Twenty',3 : 'Thirty', 4: 'Forty', 5: 'Fifty', 6 : 'Sixty', 7 : 'Seventy', 8:'Eighty', 9 : 'Ninty' ,1 : 'Ten'}\n",
        "\n",
        "        teens = {10:'Ten',11 : 'Eleven',12 : 'Twelve', 13 : 'Thirteen', 14: 'Fourteen', 15 : 'Fifteen', 16 :'Sixteen', 17: 'Seventeen', 18:'Eighteen', 19:'Nineteen'}\n",
        "\n",
        "        output = []\n",
        "\n",
        "        for i in range(3):\n",
        "\n",
        "            print(\"i\",i)\n",
        "\n",
        "            if int(k[i]) == 0 and i != 2:\n",
        "\n",
        "                continue\n",
        "\n",
        "            else:\n",
        "\n",
        "                if i == 0:\n",
        "\n",
        "                    print(\"c1\")\n",
        "\n",
        "                    output.append(ones[int(k[0])])\n",
        "                    output.append('Hundred')\n",
        "\n",
        "                    continue\n",
        "      \n",
        "                elif i == 1 and (k[i] != '1' and k[2] != '0'):\n",
        "\n",
        "                    print(\"c2\")\n",
        "\n",
        "                    output.append(tens[int(k[1])])\n",
        "\n",
        "                    continue\n",
        "\n",
        "     \n",
        "\n",
        "                elif i == 1 and (k[i] != '1' and k[2] == '0'):\n",
        "                    print(\"c3\")\n",
        "                    output.append(tens[int(k[1])])\n",
        "\n",
        "                    return ' '.join(output)\n",
        "\n",
        "                elif i == 1 and k[i] == '1':\n",
        "                    print(\"c3\")\n",
        "                    te = k[1] + k[2]\n",
        "\n",
        "                    output.append(teens[int(te)])\n",
        "\n",
        "                    return ' '.join(output)\n",
        "\n",
        "                elif i == 2 and k[2] != '0':\n",
        "                    print(\"c4\")\n",
        "                    output.append(ones[int(k[2])])\n",
        "                    continue\n",
        "\n",
        "\n",
        "                elif i ==2 and k[2] == 0:\n",
        "                    print(\"c4\")\n",
        "                continue\n",
        "\n",
        "        print(\"hund\",output)\n",
        "        #print('hund',' '.join(output))\n",
        "        return ' '.join(output)\n",
        "    \n",
        "def thousan_d(n):\n",
        "\n",
        "        threes = []\n",
        "\n",
        "        for i in range(len(n)-1,-1,-3):\n",
        "            print(i)\n",
        "            print(\"i-2\",i-2)\n",
        "            #threes.append(n[i-2:i+1])\n",
        "\n",
        "            if i-2 < 0 :\n",
        "\n",
        "                print('len',len(n[:i+1]))\n",
        "\n",
        "                lent = len(n[:i+1])\n",
        "                z = (3-lent)*'0'\n",
        "\n",
        "                threes.append(z + n[:i+1])\n",
        "\n",
        "            else:\n",
        "\n",
        "                threes.append(n[i-2:i+1])\n",
        "\n",
        "    \n",
        "        print(threes)\n",
        "        return threes\n",
        "\n",
        "    \n",
        "    \n",
        "def numberToWords( n: int):\n",
        "        n = str(n)\n",
        "        num = thousan_d(n)\n",
        "\n",
        "        words = []\n",
        "\n",
        "\n",
        "        suffix = {3:'Billion', 2: 'Million', 1:'Thousand' ,0:''}\n",
        "\n",
        "        for i in range(len(num)-1,-1,-1):\n",
        "            print('index',i)\n",
        "\n",
        "            if num[i] != '000':\n",
        "\n",
        "                words.append(hund_s(num[i]))\n",
        "                print(\"words in\",words)\n",
        "                if i != 0:\n",
        "                    words.append(suffix[i])\n",
        "                    print(\"words suffic\",words)\n",
        "\n",
        "\n",
        "            elif num[i] == '000' and i == 0 and len(num)== 1:\n",
        "\n",
        "              return 'Zero'\n",
        "\n",
        "            else:\n",
        "                continue\n",
        "        print(\"words\",words)\n",
        "\n",
        "        return ' '.join(words)\n",
        "        "
      ],
      "metadata": {
        "id": "G7061eEOGqwv"
      },
      "execution_count": null,
      "outputs": []
    },
    {
      "cell_type": "code",
      "source": [
        "#hund_s('012')\n",
        "numberToWords('103230000')"
      ],
      "metadata": {
        "colab": {
          "base_uri": "https://localhost:8080/",
          "height": 469
        },
        "id": "WJUUjoSQqbxI",
        "outputId": "ecdee64e-b472-470d-bf72-443ffb2f3910"
      },
      "execution_count": null,
      "outputs": [
        {
          "output_type": "stream",
          "name": "stdout",
          "text": [
            "8\n",
            "i-2 6\n",
            "5\n",
            "i-2 3\n",
            "2\n",
            "i-2 0\n",
            "['000', '230', '103']\n",
            "index 2\n",
            "i 0\n",
            "c1\n",
            "i 1\n",
            "i 2\n",
            "c4\n",
            "hund ['One', 'Hundred', 'Three']\n",
            "words in ['One Hundred Three']\n",
            "words suffic ['One Hundred Three', 'Million']\n",
            "index 1\n",
            "i 0\n",
            "c1\n",
            "i 1\n",
            "c3\n",
            "words in ['One Hundred Three', 'Million', 'Two Hundred Thirty']\n",
            "words suffic ['One Hundred Three', 'Million', 'Two Hundred Thirty', 'Thousand']\n",
            "index 0\n",
            "words ['One Hundred Three', 'Million', 'Two Hundred Thirty', 'Thousand']\n"
          ]
        },
        {
          "output_type": "execute_result",
          "data": {
            "application/vnd.google.colaboratory.intrinsic+json": {
              "type": "string"
            },
            "text/plain": [
              "'One Hundred Three Million Two Hundred Thirty Thousand'"
            ]
          },
          "metadata": {},
          "execution_count": 294
        }
      ]
    },
    {
      "cell_type": "code",
      "execution_count": null,
      "metadata": {
        "id": "0uWYDjmlyj6J"
      },
      "outputs": [],
      "source": [
        "#funstion that separates by single digit \n",
        "def separate(n):\n",
        "  sum = 0\n",
        "\n",
        "  for i in range(len(n)):\n",
        "\n",
        "    sum += int(n[i])*(10**(len(n)-(i+1)))\n",
        "    print(sum)\n",
        "\n"
      ]
    },
    {
      "cell_type": "code",
      "source": [
        "separate('1234567')"
      ],
      "metadata": {
        "colab": {
          "base_uri": "https://localhost:8080/"
        },
        "id": "7UV-GweF1ZnB",
        "outputId": "4b62eb92-5397-4a78-f126-a4dfbd9bf455"
      },
      "execution_count": null,
      "outputs": [
        {
          "output_type": "stream",
          "name": "stdout",
          "text": [
            "1000000\n",
            "1200000\n",
            "1230000\n",
            "1234000\n",
            "1234500\n",
            "1234560\n",
            "1234567\n"
          ]
        }
      ]
    },
    {
      "cell_type": "code",
      "source": [
        "def thousand(n):\n",
        "\n",
        "  threes = []\n",
        "\n",
        "  for i in range(len(n)-1,-1,-3):\n",
        "    print(i)\n",
        "    print(\"i-2\",i-2)\n",
        "    #threes.append(n[i-2:i+1])\n",
        "\n",
        "    if i-2 < 0 :\n",
        "\n",
        "      print('len',len(n[:i+1]))\n",
        "\n",
        "      lent = len(n[:i+1])\n",
        "      z = (3-lent)*'0'\n",
        "\n",
        "      threes.append(z + n[:i+1])\n",
        "\n",
        "    else:\n",
        "\n",
        "      threes.append(n[i-2:i+1])\n",
        "\n",
        "    \n",
        "    print(threes)\n",
        "  return threes"
      ],
      "metadata": {
        "id": "UAHn33g_1de4"
      },
      "execution_count": null,
      "outputs": []
    },
    {
      "cell_type": "code",
      "source": [
        "num = thousand('1011')\n"
      ],
      "metadata": {
        "colab": {
          "base_uri": "https://localhost:8080/"
        },
        "id": "90R-h1z_4Rya",
        "outputId": "4fc28aef-895b-45b9-924c-fbbbc7266ea3"
      },
      "execution_count": null,
      "outputs": [
        {
          "output_type": "stream",
          "name": "stdout",
          "text": [
            "3\n",
            "i-2 1\n",
            "['011']\n",
            "0\n",
            "i-2 -2\n",
            "len 1\n",
            "['011', '001']\n"
          ]
        }
      ]
    },
    {
      "cell_type": "code",
      "source": [
        "print(num)"
      ],
      "metadata": {
        "colab": {
          "base_uri": "https://localhost:8080/"
        },
        "id": "-C-JCF69BgbF",
        "outputId": "cabd8389-8446-4a83-a035-27a16b58fde2"
      },
      "execution_count": null,
      "outputs": [
        {
          "output_type": "stream",
          "name": "stdout",
          "text": [
            "['011', '001']\n"
          ]
        }
      ]
    },
    {
      "cell_type": "code",
      "source": [
        "def hunds(k):\n",
        "\n",
        "  ones = {0: '', 1: 'one', 2: 'two', 3: 'three', 4: 'four', \n",
        "           5: 'five', 6: 'six', 7: 'seven', 8: 'eight', 9: 'nine'}\n",
        "\n",
        "  tens = {2: 'twenty ',3 : 'Thirty ', 4: 'forty ', 5: 'fifty ', 6 : 'sixty ', 7 : 'seventy ', 8:'eighty ', 9 : 'ninty ' ,1 : 'ten '}\n",
        "\n",
        "  teens = {10:'ten',11 : 'eleven',12 : 'twelve', 13 : 'thirteen', 14: 'fourteen', 15 : 'fifteen', 16 :'sixteen', 17: 'seventeen', 18:'eighteen', 19:'nineteen'}\n",
        "\n",
        "  output = ''\n",
        "\n",
        "  for i in range(3):\n",
        "\n",
        "    print(\"i\",i)\n",
        "\n",
        "    if int(k[i]) == 0 and i != 2:\n",
        "\n",
        "      continue\n",
        "\n",
        "    else:\n",
        "\n",
        "      if i == 0:\n",
        "\n",
        "        print(\"c1\")\n",
        "\n",
        "        output = ones[int(k[0])] + ' hundred '\n",
        "\n",
        "        continue\n",
        "      \n",
        "      elif i == 1 and (k[i] != '1' and k[2] != '0'):\n",
        "\n",
        "        print(\"c2\")\n",
        "\n",
        "        output += tens[int(k[1])]\n",
        "\n",
        "        continue\n",
        "\n",
        "     \n",
        "\n",
        "      elif i == 1 and (k[i] != '1' and k[2] == '0'):\n",
        "        print(\"c3\")\n",
        "        output += tens[int(k[1])]\n",
        "\n",
        "        return output\n",
        "\n",
        "      elif i == 1 and k[i] == '1':\n",
        "        print(\"c3\")\n",
        "        te = k[1] + k[2]\n",
        "\n",
        "        output += teens[int(te)]\n",
        "\n",
        "        return output\n",
        "\n",
        "      elif i == 2 and k[2] != '0':\n",
        "        print(\"c4\")\n",
        "        output += ones[int(k[2])]\n",
        "        continue\n",
        "\n",
        "\n",
        "      elif i ==2 and k[2] == 0:\n",
        "        print(\"c4\")\n",
        "        continue\n",
        "\n",
        "\n",
        "  return output\n",
        "\n",
        "      \n"
      ],
      "metadata": {
        "id": "xMTK_hrf4TrH"
      },
      "execution_count": null,
      "outputs": []
    },
    {
      "cell_type": "code",
      "source": [
        "hunds('1230')"
      ],
      "metadata": {
        "colab": {
          "base_uri": "https://localhost:8080/",
          "height": 140
        },
        "id": "EyeajNOA7AVB",
        "outputId": "70528604-e739-46ed-8b55-8172ac74a2d2"
      },
      "execution_count": null,
      "outputs": [
        {
          "output_type": "stream",
          "name": "stdout",
          "text": [
            "i 0\n",
            "c1\n",
            "i 1\n",
            "c2\n",
            "i 2\n",
            "c4\n"
          ]
        },
        {
          "output_type": "execute_result",
          "data": {
            "application/vnd.google.colaboratory.intrinsic+json": {
              "type": "string"
            },
            "text/plain": [
              "'one hundred twenty three'"
            ]
          },
          "metadata": {},
          "execution_count": 249
        }
      ]
    },
    {
      "cell_type": "code",
      "source": [
        "inwords = hunds(num[3]) + ' billion ' + hunds(num[2]) + ' million ' + hunds(num[1]) + ' thousand ' + hunds(num[0]) \n",
        "print(num)\n",
        "print(inwords)"
      ],
      "metadata": {
        "colab": {
          "base_uri": "https://localhost:8080/",
          "height": 201
        },
        "id": "WTSmV7YU7BfA",
        "outputId": "90b79a31-e3a5-4467-bed5-47d5a1553d86"
      },
      "execution_count": null,
      "outputs": [
        {
          "output_type": "error",
          "ename": "IndexError",
          "evalue": "ignored",
          "traceback": [
            "\u001b[0;31m---------------------------------------------------------------------------\u001b[0m",
            "\u001b[0;31mIndexError\u001b[0m                                Traceback (most recent call last)",
            "\u001b[0;32m<ipython-input-160-f1731c602fcc>\u001b[0m in \u001b[0;36m<module>\u001b[0;34m()\u001b[0m\n\u001b[0;32m----> 1\u001b[0;31m \u001b[0minwords\u001b[0m \u001b[0;34m=\u001b[0m \u001b[0mhunds\u001b[0m\u001b[0;34m(\u001b[0m\u001b[0mnum\u001b[0m\u001b[0;34m[\u001b[0m\u001b[0;36m3\u001b[0m\u001b[0;34m]\u001b[0m\u001b[0;34m)\u001b[0m \u001b[0;34m+\u001b[0m \u001b[0;34m' billion '\u001b[0m \u001b[0;34m+\u001b[0m \u001b[0mhunds\u001b[0m\u001b[0;34m(\u001b[0m\u001b[0mnum\u001b[0m\u001b[0;34m[\u001b[0m\u001b[0;36m2\u001b[0m\u001b[0;34m]\u001b[0m\u001b[0;34m)\u001b[0m \u001b[0;34m+\u001b[0m \u001b[0;34m' million '\u001b[0m \u001b[0;34m+\u001b[0m \u001b[0mhunds\u001b[0m\u001b[0;34m(\u001b[0m\u001b[0mnum\u001b[0m\u001b[0;34m[\u001b[0m\u001b[0;36m1\u001b[0m\u001b[0;34m]\u001b[0m\u001b[0;34m)\u001b[0m \u001b[0;34m+\u001b[0m \u001b[0;34m' thousand '\u001b[0m \u001b[0;34m+\u001b[0m \u001b[0mhunds\u001b[0m\u001b[0;34m(\u001b[0m\u001b[0mnum\u001b[0m\u001b[0;34m[\u001b[0m\u001b[0;36m0\u001b[0m\u001b[0;34m]\u001b[0m\u001b[0;34m)\u001b[0m\u001b[0;34m\u001b[0m\u001b[0;34m\u001b[0m\u001b[0m\n\u001b[0m\u001b[1;32m      2\u001b[0m \u001b[0mprint\u001b[0m\u001b[0;34m(\u001b[0m\u001b[0mnum\u001b[0m\u001b[0;34m)\u001b[0m\u001b[0;34m\u001b[0m\u001b[0;34m\u001b[0m\u001b[0m\n\u001b[1;32m      3\u001b[0m \u001b[0mprint\u001b[0m\u001b[0;34m(\u001b[0m\u001b[0minwords\u001b[0m\u001b[0;34m)\u001b[0m\u001b[0;34m\u001b[0m\u001b[0;34m\u001b[0m\u001b[0m\n",
            "\u001b[0;31mIndexError\u001b[0m: list index out of range"
          ]
        }
      ]
    },
    {
      "cell_type": "code",
      "source": [
        "#too hard coded doesnt work\n",
        "\n",
        "def inwords(n):\n",
        "\n",
        "  num = thousand(n)\n",
        "\n",
        "  size = len(num)\n",
        "\n",
        "  if size == 4:\n",
        "    worded = hunds(num[3]) + ' billion ' + hunds(num[2]) + ' million ' + hunds(num[1]) + ' thousand ' + hunds(num[0]) \n",
        "    \n",
        "\n",
        "  elif size == 3:\n",
        "\n",
        "    worded = hunds(num[2]) + ' million ' + hunds(num[1]) + ' thousand ' + hunds(num[0]) \n",
        "\n",
        "  elif size == 2:\n",
        "\n",
        "    worded = hunds(num[1]) + ' thousand ' + hunds(num[0]) \n",
        "\n",
        "  elif size == 1:\n",
        "\n",
        "    worded = hunds(num[0]) \n",
        "\n",
        "  else:\n",
        "\n",
        "    'no word'\n",
        "\n",
        "  return worded"
      ],
      "metadata": {
        "id": "Co3_RjXFB5Iw"
      },
      "execution_count": null,
      "outputs": []
    },
    {
      "cell_type": "code",
      "source": [
        "inwords('000000')"
      ],
      "metadata": {
        "colab": {
          "base_uri": "https://localhost:8080/",
          "height": 244
        },
        "id": "rxMowbzcDz7R",
        "outputId": "da70aec4-d151-4fd6-d59d-33299941b04e"
      },
      "execution_count": null,
      "outputs": [
        {
          "output_type": "stream",
          "name": "stdout",
          "text": [
            "5\n",
            "i-2 3\n",
            "['000']\n",
            "2\n",
            "i-2 0\n",
            "['000', '000']\n",
            "i 0\n",
            "i 1\n",
            "i 2\n",
            "i 0\n",
            "i 1\n",
            "i 2\n"
          ]
        },
        {
          "output_type": "execute_result",
          "data": {
            "application/vnd.google.colaboratory.intrinsic+json": {
              "type": "string"
            },
            "text/plain": [
              "' thousand '"
            ]
          },
          "metadata": {},
          "execution_count": 166
        }
      ]
    },
    {
      "cell_type": "code",
      "source": [
        "thousand('1212334')"
      ],
      "metadata": {
        "colab": {
          "base_uri": "https://localhost:8080/"
        },
        "id": "UwMUfIHNF52f",
        "outputId": "a434f4e6-a514-4369-910d-46cd7b7f80ff"
      },
      "execution_count": null,
      "outputs": [
        {
          "output_type": "stream",
          "name": "stdout",
          "text": [
            "6\n",
            "i-2 4\n",
            "['334']\n",
            "3\n",
            "i-2 1\n",
            "['334', '212']\n",
            "0\n",
            "i-2 -2\n",
            "len 1\n",
            "['334', '212', '001']\n"
          ]
        },
        {
          "output_type": "execute_result",
          "data": {
            "text/plain": [
              "['334', '212', '001']"
            ]
          },
          "metadata": {},
          "execution_count": 167
        }
      ]
    },
    {
      "cell_type": "code",
      "source": [
        "def inwords(n):\n",
        "  n = str(n)\n",
        "\n",
        "  num = thousand(n)\n",
        "\n",
        "  words = []\n",
        "\n",
        "  print(num)\n",
        "\n",
        "\n",
        "  suffix = {3:' billion ', 2: ' million ', 1:' thousand ',0: '' }\n",
        "\n",
        "  for i in range(len(num)-1,-1,-1):\n",
        "    print('index',i)\n",
        "\n",
        "    if num[i] != '000':\n",
        "      word = hunds(num[i])\n",
        "      print(word)\n",
        "      print(\"jhdf\",i)\n",
        "      words.append(word)\n",
        "      words.append(suffix[i])\n",
        "\n",
        "    else:\n",
        "      continue\n",
        "\n",
        "\n",
        "  return ' '.join(words)\n",
        "\n",
        "\n",
        "\n"
      ],
      "metadata": {
        "id": "eqBz1hWrD2FN"
      },
      "execution_count": null,
      "outputs": []
    },
    {
      "cell_type": "code",
      "source": [
        "s = 123\n",
        "# s = 12345\n",
        "# s = 1234567\n",
        "inwords('1000000')\n",
        "#hunds('123')"
      ],
      "metadata": {
        "colab": {
          "base_uri": "https://localhost:8080/",
          "height": 383
        },
        "id": "IvvUaE9uGoDz",
        "outputId": "630a3380-2fe7-4289-ca8e-70e1fbc12f77"
      },
      "execution_count": null,
      "outputs": [
        {
          "output_type": "stream",
          "name": "stdout",
          "text": [
            "6\n",
            "i-2 4\n",
            "['000']\n",
            "3\n",
            "i-2 1\n",
            "['000', '000']\n",
            "0\n",
            "i-2 -2\n",
            "len 1\n",
            "['000', '000', '001']\n",
            "['000', '000', '001']\n",
            "index 2\n",
            "i 0\n",
            "i 1\n",
            "i 2\n",
            "c4\n",
            "one\n",
            "jhdf 2\n",
            "index 1\n",
            "index 0\n"
          ]
        },
        {
          "output_type": "execute_result",
          "data": {
            "application/vnd.google.colaboratory.intrinsic+json": {
              "type": "string"
            },
            "text/plain": [
              "'one  million '"
            ]
          },
          "metadata": {},
          "execution_count": 254
        }
      ]
    },
    {
      "cell_type": "code",
      "source": [
        ""
      ],
      "metadata": {
        "id": "cuxGxEKvqz1X"
      },
      "execution_count": null,
      "outputs": []
    }
  ]
}