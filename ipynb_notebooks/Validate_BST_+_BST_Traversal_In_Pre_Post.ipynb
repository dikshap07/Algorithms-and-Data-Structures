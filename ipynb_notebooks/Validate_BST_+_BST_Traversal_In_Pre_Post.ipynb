{
  "nbformat": 4,
  "nbformat_minor": 0,
  "metadata": {
    "colab": {
      "name": "Validate BST + BST Traversal - In/Pre/Post.ipynb",
      "provenance": [],
      "authorship_tag": "ABX9TyNFah+0VDjdCjKncwgmYDMC",
      "include_colab_link": true
    },
    "kernelspec": {
      "name": "python3",
      "display_name": "Python 3"
    },
    "language_info": {
      "name": "python"
    }
  },
  "cells": [
    {
      "cell_type": "markdown",
      "metadata": {
        "id": "view-in-github",
        "colab_type": "text"
      },
      "source": [
        "<a href=\"https://colab.research.google.com/github/dikshap07/Algorithms-and-Data-Structures/blob/master/Validate_BST_%2B_BST_Traversal_In_Pre_Post.ipynb\" target=\"_parent\"><img src=\"https://colab.research.google.com/assets/colab-badge.svg\" alt=\"Open In Colab\"/></a>"
      ]
    },
    {
      "cell_type": "markdown",
      "metadata": {
        "id": "bK0caHQUSOg7"
      },
      "source": [
        "###Problem :  You are given a data structure that looks like a binary tree, the DS has nodes and each node has a value and optionally a left or right nodes can be null or not null.\n",
        "###You want to determine if the DS is a BST or not?\n",
        "\n",
        "(BST Definition: Every node should be strictly greater than all the values in the left node and should be less than or equal to all nodes in its right node and all its left and right nodes must be BSTs as well )\n",
        "\n"
      ]
    },
    {
      "cell_type": "code",
      "metadata": {
        "id": "5SIxSwLIFvcD"
      },
      "source": [
        "class BST:\n",
        "\n",
        "  def __init__(self,value):\n",
        "\n",
        "    self.value = value\n",
        "    self.left = None\n",
        "    self.right = None\n",
        "\n",
        "  \n",
        "  #using iterative method\n",
        "\n",
        "\n",
        "  #Average : O(log(n)) time | O(1) space\n",
        "  #worst : O(N) time | O(1)   space\n",
        "\n",
        "  def insert(self,value):  \n",
        "\n",
        "    #initialize a variable that keeps track of what node we are at\n",
        "    currentNode = self # because in the beginning the current node is the node where we start our insertion and that is self\n",
        "\n",
        "    while True:\n",
        "\n",
        "      if value < currentNode.value:\n",
        "\n",
        "        #check if left node from here is an actual BST or the end\n",
        "\n",
        "        if currentNode.left is None:#we create a left subtree\n",
        "\n",
        "          currentNode.left = BST(value)   #if none we are adding the value that we are trying to insert \n",
        "          break                                #at this left node\n",
        "\n",
        "        else:#make left node of current node so that we can now check for its child nodes\n",
        "\n",
        "          currentNode = currentNode.left   #assigning our currentNode to the left subtree\n",
        "\n",
        "\n",
        "      else:    #to check the right sub tree for insertion\n",
        "\n",
        "        if currentNode.right is None:\n",
        "\n",
        "          currentNode.right = BST(value)\n",
        "          break\n",
        "          \n",
        "        else:\n",
        "\n",
        "          currentNode = currentNode.right\n",
        "        \n",
        "\n",
        "\n",
        "    return self   #so that we can chain the output\n",
        "\n",
        " \n",
        " \n",
        "\n",
        "  #Average : O(log(n)) time | O(1) space\n",
        "  #worst : O(N) time | O(1)   space\n",
        " \n",
        "  def contains(self,value):\n",
        "\n",
        "    currentNode = self\n",
        "\n",
        "    while currentNode is not None:\n",
        "\n",
        "      if value < currentNode.value:\n",
        "\n",
        "\n",
        "        currentNode = currentNode.left\n",
        "\n",
        "\n",
        "      elif value > currentNode.value: \n",
        "\n",
        "        currentNode = currentNode.right\n",
        "\n",
        "      else:\n",
        "\n",
        "        return True\n",
        "\n",
        "    return False\n",
        "\n",
        "  def getMinValue(self):\n",
        "\n",
        "    currentNode = self\n",
        "\n",
        "    \n",
        "\n",
        "        \n",
        "    while currentNode.left is not None:\n",
        "\n",
        "      currentNode = currentNode.left\n",
        "\n",
        "    return currentNode.value\n",
        "    \n",
        "\n",
        "\n",
        "#Average : O(log(n)) time | O(1) space\n",
        "  #worst : O(N) time | O(1)   space\n",
        "\n",
        "\n",
        "\n",
        "  def remove(self,value,parentNode = None):\n",
        "\n",
        "    currentNode = self\n",
        "\n",
        "    print(currentNode.value)\n",
        "    print(value)\n",
        "    \n",
        "    while currentNode is not None:\n",
        "\n",
        "\n",
        "      if value < currentNode.value:\n",
        "\n",
        "        parentNode = currentNode\n",
        "\n",
        "        currentNode = currentNode.left\n",
        "\n",
        "      elif value > currentNode.value:\n",
        "\n",
        "        parentNode = currentNode\n",
        "\n",
        "        currentNode = currentNode.right\n",
        "\n",
        "      else:  #when we have found the value that we need to delete\n",
        "\n",
        "\n",
        "      #case1 : if the node has both left and right child nodes\n",
        "\n",
        "        if currentNode.left is not None and currentNode.right is not None:\n",
        "\n",
        "          print('both child found for ', currentNode.value)\n",
        "\n",
        "          currentNode.value = currentNode.right.getMinValue()\n",
        "\n",
        "          #currentNode.value = smallest value of the right sub tree\n",
        "\n",
        "          #when we find the left most value in the right sub tree we remove it\n",
        "\n",
        "          currentNode.right.remove(currentNode.value,currentNode)   #because here our BST is the right \n",
        "                                                                    #tree as in currentNode.right thatys\n",
        "                                                                    #we are using currentNode.right.remove()\n",
        "\n",
        "      #case2 : when doesnt have 2 child nodes present\n",
        "\n",
        "      #case2.1 : when node is the root node or doesnt have a parent and only has one child (the above will only work when root node has both child nodes that is why we need it)\n",
        "      \n",
        "        elif parentNode is None:   \n",
        "          if currentNode.left is  not None:\n",
        "\n",
        "            print('Root node only has left child')\n",
        "\n",
        "            currentNode.value = currentNode.left.value\n",
        "            currentNode.right = currentNode.left.right\n",
        "            currentNode.left = currentNode.left.left\n",
        "\n",
        "          elif currentNode.right is not None:\n",
        "\n",
        "            print('Root node only has right child')\n",
        "\n",
        "\n",
        "            currentNode.value = currentNode.right.value            \n",
        "            currentNode.left = currentNode.right.left\n",
        "            currentNode.right = currentNode.right.right  #at last so that we dnt replace og without using it first\n",
        "\n",
        "          else:\n",
        "\n",
        "           currentNode.value = None #discuss with interviewer as this means we are deleting the BST'''\n",
        "\n",
        "      #case2.2 : when node had a parent\n",
        "        elif parentNode.left == currentNode:  #if current node is the left child of its parent node\n",
        "\n",
        "          print('if node is left')\n",
        "\n",
        "          parentNode.left = currentNode.left if currentNode.left is not None else currentNode.right   #doesnt just rpelace value efficiently rpelaces the whole sub tree\n",
        "          #above line means the left child of parent will be assigned currentNode.left is the current\n",
        "          #node has a left child otherwise it will be assigned the right child of the currentNode\n",
        "\n",
        "        elif parentNode.right == currentNode:\n",
        "\n",
        "          print('if node is right')\n",
        "\n",
        "          parentNode.right = currentNode.left if currentNode.left is not None else currentNode.right\n",
        "\n",
        "        break\n",
        "\n",
        "    \n",
        "    return self\n",
        "\n"
      ],
      "execution_count": 1,
      "outputs": []
    },
    {
      "cell_type": "code",
      "metadata": {
        "id": "qBiFdRJZF606"
      },
      "source": [
        "root_node = 10\n",
        "my_tree2 = BST(root_node) \n",
        "tree_nodes = [5,15,2,5,1,13,22,14]\n",
        "\n",
        "for node in tree_nodes:\n",
        "  my_tree2.insert(node)\n"
      ],
      "execution_count": 2,
      "outputs": []
    },
    {
      "cell_type": "code",
      "metadata": {
        "colab": {
          "base_uri": "https://localhost:8080/"
        },
        "id": "sw6OPTVQGDBK",
        "outputId": "c6592ee1-ea7c-4354-da2f-f05a6a629ae6"
      },
      "source": [
        "my_tree2"
      ],
      "execution_count": 3,
      "outputs": [
        {
          "output_type": "execute_result",
          "data": {
            "text/plain": [
              "<__main__.BST at 0x7fbbecb135d0>"
            ]
          },
          "metadata": {
            "tags": []
          },
          "execution_count": 3
        }
      ]
    },
    {
      "cell_type": "markdown",
      "metadata": {
        "id": "OusdfbdIRKW5"
      },
      "source": [
        "###METHOD-1 - BST Validation\n",
        "\n",
        "\n"
      ]
    },
    {
      "cell_type": "code",
      "metadata": {
        "id": "0sL9iaQ4Pimc"
      },
      "source": [
        "#time complexity : O(N) N : no of nodes\n",
        "#Space complexity : O(d) d: depth of the BST/tree \n",
        "\n",
        "\n",
        "def validateBST(tree):\n",
        "\n",
        "  return validateBST_helper(tree,float('-inf'),float('+inf'))\n",
        "\n",
        "def validateBST_helper(tree,minValue,maxValue):\n",
        "\n",
        "  #to check if we reached leaf or if tree is empty\n",
        "  if tree is None:\n",
        "    return True\n",
        "\n",
        "  #if our nodevalue is less than min or more than max will return False as violates BST condition\n",
        "\n",
        "  elif tree.value < minValue and tree.value > maxValue:\n",
        "\n",
        "    return False\n",
        "\n",
        "  \n",
        "  leftisValid = validateBST_helper(tree.left,minValue,tree.value)\n",
        "  return leftisValid and validateBST_helper(tree.right,tree.value,maxValue)\n"
      ],
      "execution_count": null,
      "outputs": []
    },
    {
      "cell_type": "code",
      "metadata": {
        "colab": {
          "base_uri": "https://localhost:8080/"
        },
        "id": "OFajRI9jPiVi",
        "outputId": "6a05469f-5f61-4133-b52a-7ed7c69c793f"
      },
      "source": [
        "validateBST(my_tree2)"
      ],
      "execution_count": null,
      "outputs": [
        {
          "output_type": "execute_result",
          "data": {
            "text/plain": [
              "True"
            ]
          },
          "metadata": {
            "tags": []
          },
          "execution_count": 25
        }
      ]
    },
    {
      "cell_type": "markdown",
      "metadata": {
        "id": "5o7x09zbRQ10"
      },
      "source": [
        "##METHOD-2- BST Validation"
      ]
    },
    {
      "cell_type": "code",
      "metadata": {
        "id": "M5LPNHXsRNRT"
      },
      "source": [
        "def validate_BST(tree):\n",
        "\n",
        "  return solve(tree,float('-inf'),float('inf'))\n",
        "\n",
        "\n",
        "def solve(root_node,min,max):\n",
        "\n",
        "  if root_node is None:\n",
        "    return True\n",
        "\n",
        "  elif root_node.value < min and root_node.value > max:\n",
        "\n",
        "    return False\n",
        "\n",
        "  return solve(root_node.left,min,root_node.value) and solve(root_node.right,root_node.value,max)"
      ],
      "execution_count": null,
      "outputs": []
    },
    {
      "cell_type": "code",
      "metadata": {
        "colab": {
          "base_uri": "https://localhost:8080/"
        },
        "id": "70Pq2p7OR5l-",
        "outputId": "9e81b0c0-3750-46d5-8382-3b9088833589"
      },
      "source": [
        "validate_BST(my_tree2)"
      ],
      "execution_count": null,
      "outputs": [
        {
          "output_type": "execute_result",
          "data": {
            "text/plain": [
              "True"
            ]
          },
          "metadata": {
            "tags": []
          },
          "execution_count": 33
        }
      ]
    },
    {
      "cell_type": "code",
      "metadata": {
        "id": "KWQZvttoTsMI"
      },
      "source": [
        ""
      ],
      "execution_count": null,
      "outputs": []
    },
    {
      "cell_type": "code",
      "metadata": {
        "id": "_jfg3BZ0TsFw"
      },
      "source": [
        ""
      ],
      "execution_count": null,
      "outputs": []
    },
    {
      "cell_type": "code",
      "metadata": {
        "id": "Mfboc2GUTr97"
      },
      "source": [
        ""
      ],
      "execution_count": null,
      "outputs": []
    },
    {
      "cell_type": "markdown",
      "metadata": {
        "id": "YSGWRzWQTlqh"
      },
      "source": [
        "####FAILED ATTEMPT\n"
      ]
    },
    {
      "cell_type": "code",
      "metadata": {
        "id": "KUcEoXfASL5z"
      },
      "source": [
        "\n",
        "\n",
        "def validateBST(tree,parentNode = None):\n",
        "  currentNode = tree\n",
        "  #print('currentNode',currentNode.value)\n",
        "\n",
        "  min = -10000000\n",
        "  max =  10000000\n",
        "\n",
        "\n",
        "  if parentNode is None:\n",
        "    print('No chnge in min and max')\n",
        "\n",
        "  elif currentNode == None:\n",
        "\n",
        "    return None\n",
        "\n",
        "\n",
        "  elif parentNode.left == currentNode:\n",
        "    print('parentNode',parentNode.value)\n",
        "    print('currentNode',currentNode.value)\n",
        "    print('min', min)\n",
        "    max = parentNode.value\n",
        "    print('max',max)\n",
        "\n",
        "  elif parentNode.right == currentNode:\n",
        "\n",
        "    print('parentNode',parentNode.value)\n",
        "    print('currentNode',currentNode.value)\n",
        "    print('max',max)\n",
        "    min = parentNode.value\n",
        "    print('min', min)\n",
        "\n",
        "  elif parentNode.right is None and parentNode.left is None:\n",
        "\n",
        "    print('valid BST')\n",
        "    return None\n",
        "\n",
        "\n",
        "\n",
        "  \n",
        "  if min < currentNode.value and max > currentNode.value:\n",
        "\n",
        "    parentNode = currentNode\n",
        "\n",
        "    validateBST(currentNode.left,currentNode)\n",
        "    validateBST(currentNode.right,currentNode)\n"
      ],
      "execution_count": null,
      "outputs": []
    },
    {
      "cell_type": "code",
      "metadata": {
        "colab": {
          "base_uri": "https://localhost:8080/"
        },
        "id": "_SohvDTgFszg",
        "outputId": "30c42f20-73f3-4d98-b18a-80d321dd0a5c"
      },
      "source": [
        "validateBST(my_tree2)"
      ],
      "execution_count": null,
      "outputs": [
        {
          "output_type": "stream",
          "text": [
            "No chnge in min and max\n",
            "parentNode 10\n",
            "currentNode 5\n",
            "min -10000000\n",
            "max 10\n",
            "parentNode 5\n",
            "currentNode 2\n",
            "min -10000000\n",
            "max 5\n",
            "parentNode 2\n",
            "currentNode 1\n",
            "min -10000000\n",
            "max 2\n",
            "parentNode 5\n",
            "currentNode 5\n",
            "max 10000000\n",
            "min 5\n",
            "parentNode 10\n",
            "currentNode 15\n",
            "max 10000000\n",
            "min 10\n",
            "parentNode 15\n",
            "currentNode 13\n",
            "min -10000000\n",
            "max 15\n",
            "parentNode 13\n",
            "currentNode 14\n",
            "max 10000000\n",
            "min 13\n",
            "parentNode 15\n",
            "currentNode 22\n",
            "max 10000000\n",
            "min 15\n"
          ],
          "name": "stdout"
        }
      ]
    },
    {
      "cell_type": "markdown",
      "metadata": {
        "id": "ps1yMRq_cVsv"
      },
      "source": [
        "#BST TRAVERSAL"
      ]
    },
    {
      "cell_type": "markdown",
      "metadata": {
        "id": "o1LGdWxxmSxu"
      },
      "source": [
        "###INORDER"
      ]
    },
    {
      "cell_type": "code",
      "metadata": {
        "id": "wOY9OcZtIgaQ"
      },
      "source": [
        "#For inorder traversal\n",
        "\n",
        "def in_order_traversal(tree,tree_array = list()):\n",
        "  #print('tree_array_outer',tree_array)      \n",
        "  if tree is  not None:\n",
        "\n",
        "    #print('currentNode',currentNode.value)\n",
        "    #print('going in left sub tree')\n",
        "    in_order_traversal(tree.left,tree_array)\n",
        "\n",
        "    tree_array.append(tree.value)\n",
        "    #print('tree_array_inelse',tree_array)\n",
        "    #print('going in right sub tree')\n",
        "    \n",
        "    in_order_traversal(tree.right,tree_array)\n",
        "    #print('tree_array after right',tree_array)\n",
        "\n",
        "  return tree_array "
      ],
      "execution_count": 4,
      "outputs": []
    },
    {
      "cell_type": "code",
      "metadata": {
        "colab": {
          "base_uri": "https://localhost:8080/"
        },
        "id": "6K5ZTJs0erdZ",
        "outputId": "a35fe062-7814-4c93-f9b4-7d5c77d85e8d"
      },
      "source": [
        "print(in_order_traversal(my_tree2,[]))"
      ],
      "execution_count": 11,
      "outputs": [
        {
          "output_type": "stream",
          "text": [
            "[1, 2, 5, 5, 10, 13, 14, 15, 22]\n"
          ],
          "name": "stdout"
        }
      ]
    },
    {
      "cell_type": "markdown",
      "metadata": {
        "id": "P3EIMHFamU_k"
      },
      "source": [
        "###PRE ORDER"
      ]
    },
    {
      "cell_type": "code",
      "metadata": {
        "id": "iNOC8GMFlrSY"
      },
      "source": [
        "def pre_order_traversal(tree, tree_array = list()):\n",
        "\n",
        "  if tree is not None:\n",
        "\n",
        "    tree_array.append(tree.value)\n",
        "    pre_order_traversal(tree.left,tree_array)\n",
        "    pre_order_traversal(tree.right,tree_array)\n",
        "  \n",
        "  return tree_array"
      ],
      "execution_count": null,
      "outputs": []
    },
    {
      "cell_type": "code",
      "metadata": {
        "colab": {
          "base_uri": "https://localhost:8080/"
        },
        "id": "O5Rvh1zam88J",
        "outputId": "fe7e15a2-3a47-46c3-d356-8fc934b45511"
      },
      "source": [
        "print(pre_order_traversal(my_tree2))"
      ],
      "execution_count": null,
      "outputs": [
        {
          "output_type": "stream",
          "text": [
            "[10, 5, 2, 1, 5, 15, 13, 14, 22]\n"
          ],
          "name": "stdout"
        }
      ]
    },
    {
      "cell_type": "markdown",
      "metadata": {
        "id": "Dn-8Ls5FnLo0"
      },
      "source": [
        "###POST ORDER"
      ]
    },
    {
      "cell_type": "code",
      "metadata": {
        "id": "7Sk8n6WTnBz8"
      },
      "source": [
        "def post_order_traversal(tree, tree_array = list()):\n",
        "\n",
        "  if tree is not None:\n",
        "\n",
        "    \n",
        "    post_order_traversal(tree.left,tree_array)\n",
        "    post_order_traversal(tree.right,tree_array)\n",
        "    tree_array.append(tree.value)\n",
        "  \n",
        "  return tree_array"
      ],
      "execution_count": null,
      "outputs": []
    },
    {
      "cell_type": "code",
      "metadata": {
        "colab": {
          "base_uri": "https://localhost:8080/"
        },
        "id": "_2ZpEUlmnUJV",
        "outputId": "297befdf-ddfb-403f-8621-51c2521d27d6"
      },
      "source": [
        "print(post_order_traversal(my_tree2))"
      ],
      "execution_count": null,
      "outputs": [
        {
          "output_type": "stream",
          "text": [
            "[1, 2, 5, 5, 14, 13, 22, 15, 10]\n"
          ],
          "name": "stdout"
        }
      ]
    },
    {
      "cell_type": "code",
      "metadata": {
        "id": "b4XIWufGnW2x"
      },
      "source": [
        ""
      ],
      "execution_count": null,
      "outputs": []
    }
  ]
}