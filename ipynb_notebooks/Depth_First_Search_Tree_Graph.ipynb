{
  "cells": [
    {
      "cell_type": "markdown",
      "metadata": {
        "colab_type": "text",
        "id": "view-in-github"
      },
      "source": [
        "<a href=\"https://colab.research.google.com/github/dikshap07/Algorithms-and-Data-Structures/blob/master/Depth_First_Search_Tree_Graph.ipynb\" target=\"_parent\"><img src=\"https://colab.research.google.com/assets/colab-badge.svg\" alt=\"Open In Colab\"/></a>"
      ]
    },
    {
      "cell_type": "markdown",
      "metadata": {
        "id": "ITVJ7AUJ-syr"
      },
      "source": [
        "\n",
        "\n",
        "![image.png](data:image/png;base64,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)\n",
        "\n"
      ]
    },
    {
      "cell_type": "markdown",
      "metadata": {
        "id": "5UmCnR_W-0TD"
      },
      "source": [
        "###Creating the Tree "
      ]
    },
    {
      "cell_type": "code",
      "execution_count": 1,
      "metadata": {
        "id": "H2oAWahD2d2i"
      },
      "outputs": [],
      "source": [
        "class Node():\n",
        "\n",
        "  def __init__(self,name):\n",
        "    self.name = name\n",
        "    self.children = []\n",
        "\n",
        "\n",
        "  def add_child(self,name):\n",
        "    self.children.append(Node(name))\n",
        "\n",
        "\n",
        "  def depth_first_search(self, array = None):\n",
        "\n",
        "    if self is None:\n",
        "      return \n",
        "\n",
        "    array.append(self.name)\n",
        "    for child in self.children:\n",
        "      #array.append(Node.children.name)\n",
        "      self.depth_first_search(array)\n",
        "\n",
        "    return array\n",
        "\n",
        "  \n",
        "\n"
      ]
    },
    {
      "cell_type": "code",
      "execution_count": 2,
      "metadata": {
        "id": "npqNXaSZ4xoc"
      },
      "outputs": [],
      "source": [
        "tree = Node('A')   #root node for our tree/graph"
      ]
    },
    {
      "cell_type": "code",
      "execution_count": 3,
      "metadata": {
        "id": "5lWY8T_26pa6"
      },
      "outputs": [],
      "source": [
        "tree.add_child('B')  #adding children of A\n",
        "tree.add_child('C')\n",
        "tree.add_child('D')"
      ]
    },
    {
      "cell_type": "code",
      "execution_count": 4,
      "metadata": {
        "id": "pV0FF5Gj6_Fw"
      },
      "outputs": [],
      "source": [
        "tree.children[0].add_child('E')    #adding children of B\n",
        "tree.children[0].add_child('F')"
      ]
    },
    {
      "cell_type": "code",
      "execution_count": 5,
      "metadata": {
        "id": "bEedCNP77PGG"
      },
      "outputs": [],
      "source": [
        "tree.children[2].add_child('G')   #adding children of D\n",
        "tree.children[2].add_child('H')"
      ]
    },
    {
      "cell_type": "code",
      "execution_count": 6,
      "metadata": {
        "id": "wYh2NGzq7gIg"
      },
      "outputs": [],
      "source": [
        "#adding children in 'F'\n",
        "\n",
        "\n",
        "B = tree.children[0]\n",
        "B.children[1].add_child('I')\n",
        "B.children[1].add_child('J')\n",
        "\n",
        "\n",
        "#adding children of 'G'\n",
        "\n",
        "D = tree.children[2]\n",
        "D.children[0].add_child('K')\n",
        "\n",
        "\n"
      ]
    },
    {
      "cell_type": "markdown",
      "metadata": {
        "id": "n_ZEXYoq-wvW"
      },
      "source": [
        "###Running DFS on the tree"
      ]
    },
    {
      "cell_type": "code",
      "execution_count": 9,
      "metadata": {
        "colab": {
          "base_uri": "https://localhost:8080/"
        },
        "id": "wgyS3SZq88wh",
        "outputId": "ea3c6260-c456-4ec7-beae-4ab3d97b88c9"
      },
      "outputs": [
        {
          "name": "stdout",
          "output_type": "stream",
          "text": [
            "['A', 'B', 'E', 'F', 'I', 'J', 'C', 'D', 'G', 'K', 'H']\n"
          ]
        }
      ],
      "source": [
        "print(tree.depth_first_search([]))"
      ]
    },
    {
      "cell_type": "code",
      "execution_count": null,
      "metadata": {
        "id": "_JLiOVMt96Q0"
      },
      "outputs": [
        {
          "ename": "",
          "evalue": "",
          "output_type": "error",
          "traceback": [
            "\u001b[1;31mRunning cells with 'Python 3.10.10 64-bit' requires ipykernel package.\n",
            "\u001b[1;31mRun the following command to install 'ipykernel' into the Python environment. \n",
            "\u001b[1;31mCommand: '/opt/homebrew/bin/python3.10 -m pip install ipykernel -U --user --force-reinstall'"
          ]
        }
      ],
      "source": []
    },
    {
      "cell_type": "code",
      "execution_count": null,
      "metadata": {},
      "outputs": [],
      "source": []
    }
  ],
  "metadata": {
    "colab": {
      "authorship_tag": "ABX9TyOZldI6dInVRCm+8rsJnYQW",
      "include_colab_link": true,
      "name": "Depth First Search - Tree/Graph.ipynb",
      "provenance": []
    },
    "kernelspec": {
      "display_name": "Python 3.10.10 64-bit",
      "language": "python",
      "name": "python3"
    },
    "language_info": {
      "name": "python",
      "version": "3.10.10"
    },
    "vscode": {
      "interpreter": {
        "hash": "bd385fe162c5ca0c84973b7dd5c518456272446b2b64e67c2a69f949ca7a1754"
      }
    }
  },
  "nbformat": 4,
  "nbformat_minor": 0
}
