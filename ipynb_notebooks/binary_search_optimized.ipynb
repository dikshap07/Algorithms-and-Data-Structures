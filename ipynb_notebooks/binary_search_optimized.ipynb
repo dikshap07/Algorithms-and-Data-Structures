{
  "nbformat": 4,
  "nbformat_minor": 0,
  "metadata": {
    "colab": {
      "name": "binary_search_optimized.ipynb",
      "provenance": [],
      "authorship_tag": "ABX9TyNTuWFXU7P4ngUzkr0EtfQK",
      "include_colab_link": true
    },
    "kernelspec": {
      "name": "python3",
      "display_name": "Python 3"
    },
    "language_info": {
      "name": "python"
    }
  },
  "cells": [
    {
      "cell_type": "markdown",
      "metadata": {
        "id": "view-in-github",
        "colab_type": "text"
      },
      "source": [
        "<a href=\"https://colab.research.google.com/github/dikshap07/Algorithms-and-Data-Structures/blob/master/binary_search_optimized.ipynb\" target=\"_parent\"><img src=\"https://colab.research.google.com/assets/colab-badge.svg\" alt=\"Open In Colab\"/></a>"
      ]
    },
    {
      "cell_type": "markdown",
      "source": [
        "###BINARY SEARCH WITHOUT RECURSION"
      ],
      "metadata": {
        "id": "UWmmDzWy-8Ik"
      }
    },
    {
      "cell_type": "code",
      "source": [
        "def binary_search(nums,target):\n",
        "\n",
        "  left = 0\n",
        "  right = len(nums) - 1\n",
        "\n",
        "  while left <= right:\n",
        "\n",
        "    pivot = left + (right - left)//2\n",
        "\n",
        "    if target == nums[pivot]:\n",
        "\n",
        "      return pivot\n",
        "\n",
        "    elif target < nums[pivot]:\n",
        "\n",
        "      right = pivot - 1\n",
        "\n",
        "    elif target > nums[pivot]:\n",
        "\n",
        "      left = pivot + 1\n",
        "\n",
        "  \n",
        "  return -1\n"
      ],
      "metadata": {
        "id": "SbyF_V36SKQY"
      },
      "execution_count": null,
      "outputs": []
    },
    {
      "cell_type": "code",
      "source": [
        "binary_search([-1,0,3,5,9,12],2)"
      ],
      "metadata": {
        "colab": {
          "base_uri": "https://localhost:8080/"
        },
        "id": "AvuEhZ1N-g9J",
        "outputId": "188be98d-ca1e-4e74-db9e-9d48d9a724aa"
      },
      "execution_count": null,
      "outputs": [
        {
          "output_type": "execute_result",
          "data": {
            "text/plain": [
              "-1"
            ]
          },
          "metadata": {},
          "execution_count": 8
        }
      ]
    },
    {
      "cell_type": "code",
      "execution_count": null,
      "metadata": {
        "id": "oS8VuZ7oR-b3"
      },
      "outputs": [],
      "source": [
        "def search(nums, target):\n",
        "        \n",
        "        first = nums.index(nums[0])\n",
        "        last = nums.index(nums[-1])\n",
        "\n",
        "        # first = 0\n",
        "        # last = len(nums)\n",
        "\n",
        "        mid = (last - first) //2\n",
        "\n",
        "        \n",
        "        while first < last:\n",
        "\n",
        "          if target == nums[mid]:\n",
        "            print(\"equal to mid\")\n",
        "\n",
        "            \n",
        "            return mid\n",
        "          \n",
        "          elif target < nums[mid]:\n",
        "\n",
        "            print('entered first half' )\n",
        "            \n",
        "            return search(nums[:mid],target)\n",
        "        \n",
        "          elif target > nums[mid]:\n",
        "\n",
        "            print(\"entered second half\")\n",
        "            #print('scooby so')\n",
        "            return mid + search(nums[mid+1:],target)\n",
        "        \n",
        "          \n",
        "            \n",
        "        return (-1)\n",
        "        "
      ]
    },
    {
      "cell_type": "code",
      "source": [
        "search([-1,0,3,5,9,12],3)"
      ],
      "metadata": {
        "colab": {
          "base_uri": "https://localhost:8080/"
        },
        "id": "0W_7I0l5SAd-",
        "outputId": "4d5e8877-c8b7-4640-bed3-35e08ae10664"
      },
      "execution_count": null,
      "outputs": [
        {
          "output_type": "stream",
          "name": "stdout",
          "text": [
            "equal to mid\n"
          ]
        },
        {
          "output_type": "execute_result",
          "data": {
            "text/plain": [
              "2"
            ]
          },
          "metadata": {},
          "execution_count": 10
        }
      ]
    },
    {
      "cell_type": "code",
      "source": [
        ""
      ],
      "metadata": {
        "id": "8IjI4jna-rLJ"
      },
      "execution_count": null,
      "outputs": []
    }
  ]
}