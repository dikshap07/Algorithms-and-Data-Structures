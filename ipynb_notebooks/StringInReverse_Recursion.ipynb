{
  "nbformat": 4,
  "nbformat_minor": 0,
  "metadata": {
    "colab": {
      "name": "StringInReverse_Recursion.ipynb",
      "provenance": [],
      "authorship_tag": "ABX9TyNkc8Q9u6n2F+9ZEPADRpoC",
      "include_colab_link": true
    },
    "kernelspec": {
      "name": "python3",
      "display_name": "Python 3"
    },
    "language_info": {
      "name": "python"
    }
  },
  "cells": [
    {
      "cell_type": "markdown",
      "metadata": {
        "id": "view-in-github",
        "colab_type": "text"
      },
      "source": [
        "<a href=\"https://colab.research.google.com/github/dikshap07/Algorithms-and-Data-Structures/blob/master/StringInReverse_Recursion.ipynb\" target=\"_parent\"><img src=\"https://colab.research.google.com/assets/colab-badge.svg\" alt=\"Open In Colab\"/></a>"
      ]
    },
    {
      "cell_type": "code",
      "execution_count": 9,
      "metadata": {
        "id": "mp3GA4bM3JNG"
      },
      "outputs": [],
      "source": [
        "def string_reverse(s):\n",
        "\n",
        "  #base case:\n",
        "\n",
        "  if s == '':\n",
        "\n",
        "    return \n",
        "\n",
        "  temp = s[0]\n",
        "  print(\"temo\",temp)\n",
        "\n",
        "  reverse = string_reverse(s[1:])\n",
        "\n",
        "  print(temp,end ='')"
      ]
    },
    {
      "cell_type": "code",
      "source": [
        "string_reverse('abcde')"
      ],
      "metadata": {
        "colab": {
          "base_uri": "https://localhost:8080/"
        },
        "id": "Ig2DX-Ha4lwk",
        "outputId": "47ea4ca0-66c5-4c30-b4c9-f826c909c1bd"
      },
      "execution_count": 10,
      "outputs": [
        {
          "output_type": "stream",
          "name": "stdout",
          "text": [
            "temo a\n",
            "temo b\n",
            "temo c\n",
            "temo d\n",
            "temo e\n",
            "edcba"
          ]
        }
      ]
    },
    {
      "cell_type": "code",
      "source": [
        ""
      ],
      "metadata": {
        "id": "8BZEcDRu4wLD"
      },
      "execution_count": null,
      "outputs": []
    }
  ]
}