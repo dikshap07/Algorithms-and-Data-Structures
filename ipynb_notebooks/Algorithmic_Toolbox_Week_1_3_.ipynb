{
  "nbformat": 4,
  "nbformat_minor": 0,
  "metadata": {
    "colab": {
      "name": "Algorithmic Toolbox-Week-1-3 .ipynb",
      "provenance": [],
      "collapsed_sections": []
    },
    "kernelspec": {
      "name": "python3",
      "display_name": "Python 3"
    }
  },
  "cells": [
    {
      "cell_type": "code",
      "metadata": {
        "id": "GBFPdNqXepkO",
        "colab": {
          "base_uri": "https://localhost:8080/",
          "height": 52
        },
        "outputId": "c814eafa-3d91-4d35-ed02-7faf868cf6cc"
      },
      "source": [
        "import time\n",
        "\n",
        "seq = [1,2,4, 5000,10000,20000,10000,2003990,30912309817423]\n",
        "product = [0]\n",
        "for i in range(0,len(seq)):\n",
        "  for m in range(i+1,len(seq)):\n",
        "    c = seq[i]* seq[m]\n",
        "    product.append(c)\n",
        "\n",
        "print(max(product))\n",
        "time.clock()"
      ],
      "execution_count": null,
      "outputs": [
        {
          "output_type": "stream",
          "text": [
            "61947959751017517770\n"
          ],
          "name": "stdout"
        },
        {
          "output_type": "execute_result",
          "data": {
            "text/plain": [
              "3.383771"
            ]
          },
          "metadata": {
            "tags": []
          },
          "execution_count": 22
        }
      ]
    },
    {
      "cell_type": "code",
      "metadata": {
        "id": "rBLr1hene-Ff"
      },
      "source": [
        "def max_pairwise_product(numbers):\n",
        "  n = len(numbers)\n",
        "\n",
        "  k = max(numbers)\n",
        "  print(k)\n",
        "  j = numbers.index(k)\n",
        "  print(j)\n",
        "  numbers.pop(j)\n",
        "  print(numbers)\n",
        "  l = max(numbers)\n",
        "\n",
        "  return (k*l)"
      ],
      "execution_count": null,
      "outputs": []
    },
    {
      "cell_type": "code",
      "metadata": {
        "id": "g7ZSuTpyxWIS"
      },
      "source": [
        "seq = [1,2,4, 5000,10000,20000,10000,2003990,30912309817423]"
      ],
      "execution_count": null,
      "outputs": []
    },
    {
      "cell_type": "code",
      "metadata": {
        "id": "kytwWX8qxYmX",
        "colab": {
          "base_uri": "https://localhost:8080/",
          "height": 87
        },
        "outputId": "f1ca40ae-7bbf-466b-8d2f-958c9eb5cb86"
      },
      "source": [
        "\n",
        "max_pairwise_product(seq)\n",
        "time.clock()"
      ],
      "execution_count": null,
      "outputs": [
        {
          "output_type": "stream",
          "text": [
            "2003990\n",
            "7\n",
            "[1, 2, 4, 5000, 10000, 20000, 10000]\n"
          ],
          "name": "stdout"
        },
        {
          "output_type": "execute_result",
          "data": {
            "text/plain": [
              "4.201506"
            ]
          },
          "metadata": {
            "tags": []
          },
          "execution_count": 33
        }
      ]
    },
    {
      "cell_type": "code",
      "metadata": {
        "id": "oCwwtqnFxFvP"
      },
      "source": [
        "if __name__ == '__main__':\n",
        "    input_n = int(input())\n",
        "    input_numbers = [int(x) for x in input().split()]\n",
        "    print(max_pairwise_product(input_numbers))"
      ],
      "execution_count": null,
      "outputs": []
    },
    {
      "cell_type": "code",
      "metadata": {
        "id": "13RVgdkw6Iq7"
      },
      "source": [
        ""
      ],
      "execution_count": null,
      "outputs": []
    },
    {
      "cell_type": "markdown",
      "metadata": {
        "id": "AvopNjem6KL6"
      },
      "source": [
        "FIBONACCI NUMBERS - Naive Algorithm\n"
      ]
    },
    {
      "cell_type": "code",
      "metadata": {
        "id": "l3HmMhK86Iwi",
        "colab": {
          "base_uri": "https://localhost:8080/",
          "height": 70
        },
        "outputId": "babbb043-e7de-496a-e66b-3ae1bb1b021d"
      },
      "source": [
        "import time\n",
        "def get_fibonacci_number(n):\n",
        "  f_series = [0,1]\n",
        "\n",
        "  if n<=1:\n",
        "      return n\n",
        "  else:\n",
        "      for i in range(1,n):\n",
        "        \n",
        "        f_series.append(f_series[i-1]+ f_series[i])\n",
        "      #print(f_series)\n",
        "      return f_series[n]\n",
        "      \n",
        "n = int(input())\n",
        "print(get_fibonacci_number(n))\n",
        "time.clock()"
      ],
      "execution_count": null,
      "outputs": [
        {
          "output_type": "stream",
          "text": [
            "300\n",
            "222232244629420445529739893461909967206666939096499764990979600\n"
          ],
          "name": "stdout"
        },
        {
          "output_type": "execute_result",
          "data": {
            "text/plain": [
              "2.772658"
            ]
          },
          "metadata": {
            "tags": []
          },
          "execution_count": 13
        }
      ]
    },
    {
      "cell_type": "code",
      "metadata": {
        "id": "Guh0OXHQ6JDp",
        "colab": {
          "base_uri": "https://localhost:8080/",
          "height": 67
        },
        "outputId": "82e83bd9-e073-4dbf-eae2-5bc59fa66354"
      },
      "source": [
        "3#coursera instructor way\n",
        "def get_f(n):\n",
        "  if n<=1:\n",
        "    return n\n",
        "  \n",
        "  return get_f(n-1) + get_f(n-2)\n",
        "n = int(input())\n",
        "print(get_f(n))\n",
        "time.clock()"
      ],
      "execution_count": null,
      "outputs": [
        {
          "output_type": "stream",
          "text": [
            "4\n",
            "3\n"
          ],
          "name": "stdout"
        },
        {
          "output_type": "execute_result",
          "data": {
            "text/plain": [
              "250.371064"
            ]
          },
          "metadata": {
            "tags": []
          },
          "execution_count": 35
        }
      ]
    },
    {
      "cell_type": "code",
      "metadata": {
        "id": "8Z42iDUA1JWi"
      },
      "source": [
        "def get_fibonacci_num(n):\n",
        "\n",
        "  previous = 0\n",
        "  current = 1\n",
        "\n",
        "  for _ in range(2,n+1):\n",
        "\n",
        "    previous,current = current, previous + current\n",
        "  return current\n",
        "\n"
      ],
      "execution_count": null,
      "outputs": []
    },
    {
      "cell_type": "code",
      "metadata": {
        "id": "HZxCGnSh1h13",
        "colab": {
          "base_uri": "https://localhost:8080/",
          "height": 35
        },
        "outputId": "c1ca92c5-f9f7-4fa6-8a51-dc9982d0a6f9"
      },
      "source": [
        "get_fibonacci_num(300)"
      ],
      "execution_count": null,
      "outputs": [
        {
          "output_type": "execute_result",
          "data": {
            "text/plain": [
              "222232244629420445529739893461909967206666939096499764990979600"
            ]
          },
          "metadata": {
            "tags": []
          },
          "execution_count": 15
        }
      ]
    },
    {
      "cell_type": "markdown",
      "metadata": {
        "id": "2wKm-P1AHRek"
      },
      "source": [
        "FIBONACCI LAST DIGIT"
      ]
    },
    {
      "cell_type": "code",
      "metadata": {
        "id": "sr-cPXaN6I93",
        "colab": {
          "base_uri": "https://localhost:8080/",
          "height": 33
        },
        "outputId": "6beb1fc0-09f2-4816-f830-9a3e928ac570"
      },
      "source": [
        "#to get last digit of the fibonacci number ---> NOT WORKING FOR VERY LARGE NUMBERS\n",
        "\n",
        "\n",
        "def get_fibonacci_number_last_digit(n):\n",
        "  f_series = [0,1]\n",
        "\n",
        "  if n<=1:\n",
        "      return n\n",
        "  else:\n",
        "      for i in range(1,n):\n",
        "        \n",
        "        f_series.append(f_series[i-1]+ f_series[i])\n",
        "      \n",
        "      n_num = str(f_series[n])\n",
        "\n",
        "      k = len(n_num)\n",
        "\n",
        "      return(n_num[k-1])\n",
        "\n",
        "n = int(input())\n",
        "print(get_fibonacci_number_last_digit(n))\n"
      ],
      "execution_count": null,
      "outputs": [
        {
          "output_type": "stream",
          "text": [
            "613455\n"
          ],
          "name": "stdout"
        }
      ]
    },
    {
      "cell_type": "code",
      "metadata": {
        "id": "EFq7s6uc6I7L",
        "colab": {
          "base_uri": "https://localhost:8080/",
          "height": 52
        },
        "outputId": "92ed6dad-7a0c-4098-89a3-3608fd691512"
      },
      "source": [
        "def get_fibonacci_number_last_digit(n):\n",
        "  f_series = [0,1]\n",
        "\n",
        "  if n<=1:\n",
        "      return n\n",
        "  else:\n",
        "      for i in range(1,n):\n",
        "        \n",
        "        f_series.append(f_series[i-1]+ f_series[i])\n",
        "      \n",
        "      n_num = f_series[n]\n",
        "\n",
        "      \n",
        "\n",
        "      return(n_num % 10)\n",
        "\n",
        "n = int(input())\n",
        "print(get_fibonacci_number_last_digit(n))"
      ],
      "execution_count": null,
      "outputs": [
        {
          "output_type": "stream",
          "text": [
            "32\n",
            "9\n"
          ],
          "name": "stdout"
        }
      ]
    },
    {
      "cell_type": "markdown",
      "metadata": {
        "id": "Kz5V4oWgJqiU"
      },
      "source": [
        "FIBONACCI LAST DIGIT- OPTIMISED"
      ]
    },
    {
      "cell_type": "code",
      "metadata": {
        "id": "nwY5yu_X6I5R",
        "colab": {
          "base_uri": "https://localhost:8080/",
          "height": 52
        },
        "outputId": "1186af93-8760-4ab1-c2e0-165f97df8834"
      },
      "source": [
        "def get_fibonacci_number_last_digit(n):\n",
        "  f_series = [0,1]\n",
        "\n",
        "  if n<=1:\n",
        "      return n\n",
        "  else:\n",
        "      for i in range(1,n):\n",
        "        \n",
        "        f_series.append((f_series[i-1]+ f_series[i])%10)\n",
        "      \n",
        "      n_num = f_series[n]\n",
        "\n",
        "      \n",
        "\n",
        "      return(n_num % 10)\n",
        "      \n",
        "\n",
        "n = int(input())\n",
        "print(get_fibonacci_number_last_digit(n))"
      ],
      "execution_count": null,
      "outputs": [
        {
          "output_type": "stream",
          "text": [
            "51\n",
            "4\n"
          ],
          "name": "stdout"
        }
      ]
    },
    {
      "cell_type": "markdown",
      "metadata": {
        "id": "MCuh3yfbK5pc"
      },
      "source": [
        "GREATEST COMMON DIVISOR"
      ]
    },
    {
      "cell_type": "code",
      "metadata": {
        "id": "-9_P88PW6Iz-"
      },
      "source": [
        "def gcd(a,b):\n",
        "  if a>b:\n",
        "    c = a%b\n",
        "\n",
        "    if c>0:\n",
        "      return gcd(b,c)\n",
        "    else:\n",
        "      return b\n",
        "  else:\n",
        "    c = b%a\n",
        "    if c== 0:\n",
        "      return a\n",
        "    else:\n",
        "      return gcd(a,c)\n"
      ],
      "execution_count": null,
      "outputs": []
    },
    {
      "cell_type": "code",
      "metadata": {
        "id": "Oc8hYyRy6Iuu",
        "colab": {
          "base_uri": "https://localhost:8080/",
          "height": 33
        },
        "outputId": "2206f6e2-6f05-4809-a3ee-2e4f6d9bef6d"
      },
      "source": [
        "\n",
        "gcd(28851538, 1183019)"
      ],
      "execution_count": null,
      "outputs": [
        {
          "output_type": "execute_result",
          "data": {
            "text/plain": [
              "17657"
            ]
          },
          "metadata": {
            "tags": []
          },
          "execution_count": 25
        }
      ]
    },
    {
      "cell_type": "code",
      "metadata": {
        "id": "VrApGIUuMJCl",
        "colab": {
          "base_uri": "https://localhost:8080/",
          "height": 50
        },
        "outputId": "f4bef969-a1af-4c26-a97f-b55271f9bea2"
      },
      "source": [
        "def gcd(a,b):\n",
        "  if a>b:\n",
        "    c = a%b\n",
        "\n",
        "    if c>0:\n",
        "      return gcd(b,c)\n",
        "    else:\n",
        "      return b\n",
        "  else:\n",
        "    c = b%a\n",
        "    if c== 0:\n",
        "      return a\n",
        "    else:\n",
        "      return gcd(a,c)\n",
        "\n",
        "k = input()\n",
        "a,b = map(int, k.split(\" \"))\n",
        "\n",
        "print(gcd(a,b))"
      ],
      "execution_count": null,
      "outputs": [
        {
          "output_type": "stream",
          "text": [
            "28851538 1183019\n",
            "17657\n"
          ],
          "name": "stdout"
        }
      ]
    },
    {
      "cell_type": "code",
      "metadata": {
        "id": "ID-aU5CRQjLv"
      },
      "source": [
        ""
      ],
      "execution_count": null,
      "outputs": []
    },
    {
      "cell_type": "markdown",
      "metadata": {
        "id": "nvcPCDMnl6br"
      },
      "source": [
        "LEAST COMMON MULTIPLE"
      ]
    },
    {
      "cell_type": "code",
      "metadata": {
        "id": "hzsemN8zl7_3",
        "colab": {
          "base_uri": "https://localhost:8080/",
          "height": 50
        },
        "outputId": "e52882e5-482a-4f11-e64c-8534945c0f90"
      },
      "source": [
        "#APPROACH 1 ---> slow\n",
        "def lcm(a,b):\n",
        "  \n",
        "  if a>b:\n",
        "    c=0\n",
        "    for c in range(b, a*b+1):\n",
        "\n",
        "      if (c%a == 0) and (c%b == 0):\n",
        "        return c\n",
        "        break\n",
        "      \n",
        "      \n",
        "  else:\n",
        "\n",
        "    for c in range(a,a*b+1):\n",
        "      \n",
        "      if c%a == 0 and c%a == 0:\n",
        "        return c\n",
        "        break\n",
        "      \n",
        "    \n",
        "      \n",
        "nums = input()\n",
        "a,b = map(int,nums.split(' '))\n",
        "\n",
        "print(lcm(a,b))\n",
        "\n",
        "\n",
        "      \n",
        "\n",
        "\n",
        "\n"
      ],
      "execution_count": null,
      "outputs": [
        {
          "output_type": "stream",
          "text": [
            "7 5\n",
            "35\n"
          ],
          "name": "stdout"
        }
      ]
    },
    {
      "cell_type": "code",
      "metadata": {
        "id": "p3wCKGPwnCTe",
        "colab": {
          "base_uri": "https://localhost:8080/",
          "height": 67
        },
        "outputId": "daa80787-dd7a-4361-c4a6-d648545b68bd"
      },
      "source": [
        "#APPROACH 2   #range is from larger number in multiples of larger number bcz common multiple cant be smaller than the larger number.\n",
        "\n",
        "              #range till a*b because a*b will definately be a common multiple of both therefore if no number before a*b is the common multiple a*b will definately be\n",
        "              #so to get the least we dont need to calculate further.\n",
        "\n",
        "#--> works\n",
        "import time\n",
        "def lcm(a,b):\n",
        "  \n",
        "  if a>b:\n",
        "    c=0\n",
        "    for c in range(a, a*b+1,a):\n",
        "\n",
        "      if (c%a == 0) and (c%b == 0):\n",
        "        return c\n",
        "        break\n",
        "      \n",
        "      \n",
        "  else:\n",
        "\n",
        "    for c in range(b,a*b+1,b):\n",
        "      \n",
        "      if c%a == 0 and c%b == 0:\n",
        "        return c\n",
        "        break\n",
        "      \n",
        "    \n",
        "      \n",
        "nums = input()\n",
        "a,b = map(int,nums.split(' '))\n",
        "\n",
        "print(lcm(a,b))\n",
        "time.clock()"
      ],
      "execution_count": null,
      "outputs": [
        {
          "output_type": "stream",
          "text": [
            "714552 374513\n",
            "170777928\n"
          ],
          "name": "stdout"
        },
        {
          "output_type": "execute_result",
          "data": {
            "text/plain": [
              "176.897162"
            ]
          },
          "metadata": {
            "tags": []
          },
          "execution_count": 27
        }
      ]
    },
    {
      "cell_type": "code",
      "metadata": {
        "id": "tH1ANmPVq6Qf"
      },
      "source": [
        ""
      ],
      "execution_count": null,
      "outputs": []
    },
    {
      "cell_type": "markdown",
      "metadata": {
        "id": "4DT8qHC3wcul"
      },
      "source": [
        "FIBONACCI NUMBER MOD M, (for a very large Fn where n can be upto 10^14)"
      ]
    },
    {
      "cell_type": "code",
      "metadata": {
        "id": "NBTQu0VPwkUf"
      },
      "source": [
        "def get_fibonacci_number(n):\n",
        "  f_series = [0,1]\n",
        "\n",
        "  if n<=1:\n",
        "      return n\n",
        "  else:\n",
        "      for i in range(1,n):\n",
        "        \n",
        "        f_series.append((f_series[i-1]+ f_series[i]))\n",
        "      \n",
        "      return(f_series)\n",
        "   \n",
        "\n",
        "  \n",
        "\n",
        "\n"
      ],
      "execution_count": null,
      "outputs": []
    },
    {
      "cell_type": "code",
      "metadata": {
        "id": "h3411w-8GCF6"
      },
      "source": [
        "k =get_fibonacci_number(219)"
      ],
      "execution_count": null,
      "outputs": []
    },
    {
      "cell_type": "code",
      "metadata": {
        "id": "6Qi3wpvYH-YJ",
        "colab": {
          "base_uri": "https://localhost:8080/",
          "height": 33
        },
        "outputId": "2da84c83-aca2-41e9-d9ed-3c9ff98587d4"
      },
      "source": [
        "sum(k)"
      ],
      "execution_count": null,
      "outputs": [
        {
          "output_type": "execute_result",
          "data": {
            "text/plain": [
              "17710"
            ]
          },
          "metadata": {
            "tags": []
          },
          "execution_count": 110
        }
      ]
    },
    {
      "cell_type": "code",
      "metadata": {
        "id": "68oL5SPazSma"
      },
      "source": [
        "def get_remainder(n,m):\n",
        "\n",
        "  f_series = get_fibonacci_number(5*m)\n",
        "\n",
        "  #print(f_series)\n",
        "\n",
        "  remainder = []\n",
        "\n",
        "  for i in f_series:\n",
        "\n",
        "    remainder.append(i%m)\n",
        "  \n",
        "  #print(remainder)\n",
        "\n",
        "  for j in range(2,5*m):\n",
        "\n",
        "    if remainder[j]==0 and remainder[j+1] == 1:\n",
        "\n",
        "      print(\"j:\",j)\n",
        "      \n",
        "      n_new = n%j\n",
        "      print(n_new)\n",
        "\n",
        "      f = f_series[(n_new)]\n",
        "      print(\"f\",f)\n",
        "      \n",
        "      return f%m\n",
        "\n"
      ],
      "execution_count": null,
      "outputs": []
    },
    {
      "cell_type": "code",
      "metadata": {
        "id": "-9aXrxLVze4P",
        "colab": {
          "base_uri": "https://localhost:8080/",
          "height": 83
        },
        "outputId": "1e16a834-b858-4571-81bf-49781228dd2b"
      },
      "source": [
        "get_remainder(10 ,2)"
      ],
      "execution_count": null,
      "outputs": [
        {
          "output_type": "stream",
          "text": [
            "j: 3\n",
            "1\n",
            "f 1\n"
          ],
          "name": "stdout"
        },
        {
          "output_type": "execute_result",
          "data": {
            "text/plain": [
              "1"
            ]
          },
          "metadata": {
            "tags": []
          },
          "execution_count": 103
        }
      ]
    },
    {
      "cell_type": "code",
      "metadata": {
        "id": "oVIKYSz60bmA"
      },
      "source": [
        "\n"
      ],
      "execution_count": null,
      "outputs": []
    },
    {
      "cell_type": "markdown",
      "metadata": {
        "id": "GhygFpMuEePH"
      },
      "source": [
        "Last Digit of the Sum of Fibonacci Numbers"
      ]
    },
    {
      "cell_type": "code",
      "metadata": {
        "id": "DKMwdB0s4eRv",
        "colab": {
          "base_uri": "https://localhost:8080/",
          "height": 87
        },
        "outputId": "cb968b92-5ebb-46cc-91f5-34c9118c1bc7"
      },
      "source": [
        "#APPROACH -01\n",
        "\n",
        "def get_fibonacci_number_last_digit(n):\n",
        "  f_series = [0,1]\n",
        "\n",
        "  if n<=1:\n",
        "      return n\n",
        "  else:\n",
        "      for i in range(1,n):\n",
        "        \n",
        "        f_series.append((f_series[i-1]+ f_series[i]))\n",
        "      \n",
        "      print(f_series)\n",
        "      total = sum(f_series)\n",
        "\n",
        "      return(total % 10)\n",
        "\n",
        "n = int(input())\n",
        "print(get_fibonacci_number_last_digit(n))"
      ],
      "execution_count": null,
      "outputs": [
        {
          "output_type": "stream",
          "text": [
            "241\n",
            "[0, 1, 1, 2, 3, 5, 8, 13, 21, 34, 55, 89, 144, 233, 377, 610, 987, 1597, 2584, 4181, 6765, 10946, 17711, 28657, 46368, 75025, 121393, 196418, 317811, 514229, 832040, 1346269, 2178309, 3524578, 5702887, 9227465, 14930352, 24157817, 39088169, 63245986, 102334155, 165580141, 267914296, 433494437, 701408733, 1134903170, 1836311903, 2971215073, 4807526976, 7778742049, 12586269025, 20365011074, 32951280099, 53316291173, 86267571272, 139583862445, 225851433717, 365435296162, 591286729879, 956722026041, 1548008755920, 2504730781961, 4052739537881, 6557470319842, 10610209857723, 17167680177565, 27777890035288, 44945570212853, 72723460248141, 117669030460994, 190392490709135, 308061521170129, 498454011879264, 806515533049393, 1304969544928657, 2111485077978050, 3416454622906707, 5527939700884757, 8944394323791464, 14472334024676221, 23416728348467685, 37889062373143906, 61305790721611591, 99194853094755497, 160500643816367088, 259695496911122585, 420196140727489673, 679891637638612258, 1100087778366101931, 1779979416004714189, 2880067194370816120, 4660046610375530309, 7540113804746346429, 12200160415121876738, 19740274219868223167, 31940434634990099905, 51680708854858323072, 83621143489848422977, 135301852344706746049, 218922995834555169026, 354224848179261915075, 573147844013817084101, 927372692193078999176, 1500520536206896083277, 2427893228399975082453, 3928413764606871165730, 6356306993006846248183, 10284720757613717413913, 16641027750620563662096, 26925748508234281076009, 43566776258854844738105, 70492524767089125814114, 114059301025943970552219, 184551825793033096366333, 298611126818977066918552, 483162952612010163284885, 781774079430987230203437, 1264937032042997393488322, 2046711111473984623691759, 3311648143516982017180081, 5358359254990966640871840, 8670007398507948658051921, 14028366653498915298923761, 22698374052006863956975682, 36726740705505779255899443, 59425114757512643212875125, 96151855463018422468774568, 155576970220531065681649693, 251728825683549488150424261, 407305795904080553832073954, 659034621587630041982498215, 1066340417491710595814572169, 1725375039079340637797070384, 2791715456571051233611642553, 4517090495650391871408712937, 7308805952221443105020355490, 11825896447871834976429068427, 19134702400093278081449423917, 30960598847965113057878492344, 50095301248058391139327916261, 81055900096023504197206408605, 131151201344081895336534324866, 212207101440105399533740733471, 343358302784187294870275058337, 555565404224292694404015791808, 898923707008479989274290850145, 1454489111232772683678306641953, 2353412818241252672952597492098, 3807901929474025356630904134051, 6161314747715278029583501626149, 9969216677189303386214405760200, 16130531424904581415797907386349, 26099748102093884802012313146549, 42230279526998466217810220532898, 68330027629092351019822533679447, 110560307156090817237632754212345, 178890334785183168257455287891792, 289450641941273985495088042104137, 468340976726457153752543329995929, 757791618667731139247631372100066, 1226132595394188293000174702095995, 1983924214061919432247806074196061, 3210056809456107725247980776292056, 5193981023518027157495786850488117, 8404037832974134882743767626780173, 13598018856492162040239554477268290, 22002056689466296922983322104048463, 35600075545958458963222876581316753, 57602132235424755886206198685365216, 93202207781383214849429075266681969, 150804340016807970735635273952047185, 244006547798191185585064349218729154, 394810887814999156320699623170776339, 638817435613190341905763972389505493, 1033628323428189498226463595560281832, 1672445759041379840132227567949787325, 2706074082469569338358691163510069157, 4378519841510949178490918731459856482, 7084593923980518516849609894969925639, 11463113765491467695340528626429782121, 18547707689471986212190138521399707760, 30010821454963453907530667147829489881, 48558529144435440119720805669229197641, 78569350599398894027251472817058687522, 127127879743834334146972278486287885163, 205697230343233228174223751303346572685, 332825110087067562321196029789634457848, 538522340430300790495419781092981030533, 871347450517368352816615810882615488381, 1409869790947669143312035591975596518914, 2281217241465037496128651402858212007295, 3691087032412706639440686994833808526209, 5972304273877744135569338397692020533504, 9663391306290450775010025392525829059713, 15635695580168194910579363790217849593217, 25299086886458645685589389182743678652930, 40934782466626840596168752972961528246147, 66233869353085486281758142155705206899077, 107168651819712326877926895128666735145224, 173402521172797813159685037284371942044301, 280571172992510140037611932413038677189525, 453973694165307953197296969697410619233826, 734544867157818093234908902110449296423351, 1188518561323126046432205871807859915657177, 1923063428480944139667114773918309212080528, 3111581989804070186099320645726169127737705, 5034645418285014325766435419644478339818233, 8146227408089084511865756065370647467555938, 13180872826374098837632191485015125807374171, 21327100234463183349497947550385773274930109, 34507973060837282187130139035400899082304280, 55835073295300465536628086585786672357234389, 90343046356137747723758225621187571439538669, 146178119651438213260386312206974243796773058, 236521166007575960984144537828161815236311727, 382699285659014174244530850035136059033084785, 619220451666590135228675387863297874269396512, 1001919737325604309473206237898433933302481297, 1621140188992194444701881625761731807571877809, 2623059926317798754175087863660165740874359106, 4244200115309993198876969489421897548446236915, 6867260041627791953052057353082063289320596021, 11111460156937785151929026842503960837766832936, 17978720198565577104981084195586024127087428957, 29090180355503362256910111038089984964854261893, 47068900554068939361891195233676009091941690850, 76159080909572301618801306271765994056795952743, 123227981463641240980692501505442003148737643593, 199387062373213542599493807777207997205533596336, 322615043836854783580186309282650000354271239929, 522002106210068326179680117059857997559804836265, 844617150046923109759866426342507997914076076194, 1366619256256991435939546543402365995473880912459, 2211236406303914545699412969744873993387956988653, 3577855662560905981638959513147239988861837901112, 5789092068864820527338372482892113982249794889765, 9366947731425726508977331996039353971111632790877, 15156039800290547036315704478931467953361427680642, 24522987531716273545293036474970821924473060471519, 39679027332006820581608740953902289877834488152161, 64202014863723094126901777428873111802307548623680, 103881042195729914708510518382775401680142036775841]\n",
            "1\n"
          ],
          "name": "stdout"
        }
      ]
    },
    {
      "cell_type": "code",
      "metadata": {
        "id": "uemyTpSDFtYS",
        "colab": {
          "base_uri": "https://localhost:8080/",
          "height": 52
        },
        "outputId": "e94cc5ad-42f4-4f62-f9c4-f7faafd8e2b1"
      },
      "source": [
        "def get_fibonacci_number(n):\n",
        "  f_series = [0,1]\n",
        "\n",
        "  if n<=1:\n",
        "      return n\n",
        "  else:\n",
        "      for i in range(1,n):\n",
        "        \n",
        "        f_series.append((f_series[i-1]+ f_series[i])%10)\n",
        "      \n",
        "      return(f_series)\n",
        "\n",
        "n = int(input())\n",
        "print(get_fibonacci_number(n))\n",
        "   "
      ],
      "execution_count": null,
      "outputs": [
        {
          "output_type": "stream",
          "text": [
            "60\n",
            "[0, 1, 1, 2, 3, 5, 8, 3, 1, 4, 5, 9, 4, 3, 7, 0, 7, 7, 4, 1, 5, 6, 1, 7, 8, 5, 3, 8, 1, 9, 0, 9, 9, 8, 7, 5, 2, 7, 9, 6, 5, 1, 6, 7, 3, 0, 3, 3, 6, 9, 5, 4, 9, 3, 2, 5, 7, 2, 9, 1, 0]\n"
          ],
          "name": "stdout"
        }
      ]
    },
    {
      "cell_type": "code",
      "metadata": {
        "id": "ZsCrSUcY8hBa",
        "colab": {
          "base_uri": "https://localhost:8080/",
          "height": 72
        },
        "outputId": "995a2721-fc18-4bf0-e1ff-44cc891dbc70"
      },
      "source": [
        "n = int(input())\n",
        "print(get_fibonacci_number(n))"
      ],
      "execution_count": null,
      "outputs": [
        {
          "output_type": "stream",
          "text": [
            "120\n",
            "[0, 1, 1, 2, 3, 5, 8, 3, 1, 4, 5, 9, 4, 3, 7, 0, 7, 7, 4, 1, 5, 6, 1, 7, 8, 5, 3, 8, 1, 9, 0, 9, 9, 8, 7, 5, 2, 7, 9, 6, 5, 1, 6, 7, 3, 0, 3, 3, 6, 9, 5, 4, 9, 3, 2, 5, 7, 2, 9, 1, 0, 1, 1, 2, 3, 5, 8, 3, 1, 4, 5, 9, 4, 3, 7, 0, 7, 7, 4, 1, 5, 6, 1, 7, 8, 5, 3, 8, 1, 9, 0, 9, 9, 8, 7, 5, 2, 7, 9, 6, 5, 1, 6, 7, 3, 0, 3, 3, 6, 9, 5, 4, 9, 3, 2, 5, 7, 2, 9, 1, 0]\n"
          ],
          "name": "stdout"
        }
      ]
    },
    {
      "cell_type": "code",
      "metadata": {
        "id": "VuTjjxEBtP3H",
        "colab": {
          "base_uri": "https://localhost:8080/",
          "height": 70
        },
        "outputId": "d925e784-d18a-4972-ed2e-b2344f582327"
      },
      "source": [
        "12def get_sum_last_digit(n):   #DOESNOT WORK FOR LARGE CASES\n",
        "\n",
        "  f_series = get_fibonacci_number(n)\n",
        "  print(f_series)\n",
        "\n",
        "  total = sum(f_series)\n",
        "\n",
        "  return total \n",
        "\n",
        "n = int(input())\n",
        "print(get_sum_last_digit(n))"
      ],
      "execution_count": null,
      "outputs": [
        {
          "output_type": "stream",
          "text": [
            "10\n",
            "[0, 1, 1, 2, 3, 5, 8, 13, 21, 34, 55]\n",
            "143\n"
          ],
          "name": "stdout"
        }
      ]
    },
    {
      "cell_type": "code",
      "metadata": {
        "id": "n9-GPxNYtn4p",
        "colab": {
          "base_uri": "https://localhost:8080/",
          "height": 52
        },
        "outputId": "f9650eba-fba2-4238-8d14-5e4ae14cb20e"
      },
      "source": [
        "#OPTIMISED FIBONACCI SUM\n",
        "\n",
        "def get_fibonacci_number_last_digit(n):\n",
        "  f_series = [0,1]\n",
        "\n",
        "  if n<=1:\n",
        "      return n\n",
        "  else:\n",
        "      for i in range(1,n):\n",
        "        \n",
        "        f_series.append((f_series[i-1]+ f_series[i])%10)\n",
        "\n",
        "\n",
        "      #print(f_series)\n",
        "\n",
        "      n_num = f_series[n]\n",
        "      \n",
        "      return(n_num)\n",
        "   \n",
        "def get_sum_last_digit(n):\n",
        "\n",
        "  if n<=1:\n",
        "    return n\n",
        "\n",
        "  else:\n",
        "\n",
        "    #fn = get_fibonacci_number_last_digit(n)\n",
        "    fn1 = get_fibonacci_number_last_digit(n+2)\n",
        "\n",
        "    \n",
        "\n",
        "    return ((fn1) -1)%10 \n",
        "\n",
        "n = int(input())\n",
        "print(get_sum_last_digit(n))\n"
      ],
      "execution_count": null,
      "outputs": [
        {
          "output_type": "stream",
          "text": [
            "100\n",
            "5\n"
          ],
          "name": "stdout"
        }
      ]
    },
    {
      "cell_type": "code",
      "metadata": {
        "id": "_Unhx3ra2mnR"
      },
      "source": [
        "def get_fibonacci_sum(n):   #using temporary variable instead of list\n",
        "\n",
        "  previous = 0\n",
        "  current = 1\n",
        "\n",
        "  for _ in range(2,n+3):\n",
        "\n",
        "    previous,current = (current%10), (previous + current)%10\n",
        "\n",
        "  last = current\n",
        "\n",
        "  print(last)\n",
        "\n",
        "  return last-1\n",
        "  \n",
        "  \n"
      ],
      "execution_count": null,
      "outputs": []
    },
    {
      "cell_type": "code",
      "metadata": {
        "id": "8u0IvYmX16gy",
        "colab": {
          "base_uri": "https://localhost:8080/",
          "height": 52
        },
        "outputId": "6c70f7c6-909e-46e8-e1d4-c63a5d4a6b30"
      },
      "source": [
        "get_fibonacci_sum(60)"
      ],
      "execution_count": null,
      "outputs": [
        {
          "output_type": "stream",
          "text": [
            "1\n"
          ],
          "name": "stdout"
        },
        {
          "output_type": "execute_result",
          "data": {
            "text/plain": [
              "0"
            ]
          },
          "metadata": {
            "tags": []
          },
          "execution_count": 21
        }
      ]
    },
    {
      "cell_type": "code",
      "metadata": {
        "id": "vFsH9nvd352F"
      },
      "source": [
        "#we know that the last digit of the fibonacci series is a series of 60 lenghth and repeats after that, using that we are trying a new method: we also know sum = Fn+2 -1\n",
        "\n",
        "def get_sum_last_digit(n):\n",
        "\n",
        "\n",
        "  l= [0, 1, 1, 2, 3, 5, 8, 3, 1, 4, 5, 9, 4, 3, 7, 0, 7, 7, 4, 1, 5, 6, 1, 7, 8, 5, 3, 8, 1, 9, 0, 9, 9, 8, 7, 5, 2, 7, 9, 6, 5, 1, 6, 7, 3, 0, 3, 3, 6, 9, 5, 4, 9, 3, 2, 5, 7, 2, 9, 1]\n",
        "\n",
        "  k = n % 60\n",
        "\n",
        "  l_new = l[0:k+1]\n",
        "  \n",
        "\n",
        " \n",
        "  \n",
        "  print(l_new)\n",
        "     \n",
        "  total = sum(l_new)\n",
        "  print(total)\n",
        "\n",
        "  return total%10\n",
        "  \n",
        "\n",
        "\n",
        "\n",
        "n = int(input())\n",
        "print(get_sum_last_digit(n))"
      ],
      "execution_count": null,
      "outputs": []
    },
    {
      "cell_type": "code",
      "metadata": {
        "id": "Volma4qi36E1",
        "colab": {
          "base_uri": "https://localhost:8080/",
          "height": 35
        },
        "outputId": "143300dc-4ee8-4dae-dbbf-592293928e9e"
      },
      "source": [
        "2614162383528 % 60\n"
      ],
      "execution_count": null,
      "outputs": [
        {
          "output_type": "execute_result",
          "data": {
            "text/plain": [
              "28"
            ]
          },
          "metadata": {
            "tags": []
          },
          "execution_count": 24
        }
      ]
    },
    {
      "cell_type": "code",
      "metadata": {
        "id": "CuODg3ZvFrda",
        "colab": {
          "base_uri": "https://localhost:8080/",
          "height": 35
        },
        "outputId": "3657f254-5098-4bc5-e824-b063561e6c6e"
      },
      "source": [
        "100%60\n"
      ],
      "execution_count": null,
      "outputs": [
        {
          "output_type": "execute_result",
          "data": {
            "text/plain": [
              "40"
            ]
          },
          "metadata": {
            "tags": []
          },
          "execution_count": 37
        }
      ]
    },
    {
      "cell_type": "markdown",
      "metadata": {
        "id": "eoB_5k2u5EnB"
      },
      "source": [
        "Last Digit of the Sum of Fibonacci Numbers Again\n"
      ]
    },
    {
      "cell_type": "code",
      "metadata": {
        "id": "OAfz09Hw5I47",
        "colab": {
          "base_uri": "https://localhost:8080/",
          "height": 87
        },
        "outputId": "fcf1f942-b392-41d4-c025-8ce05873c3a0"
      },
      "source": [
        "#FIBONACCI SUM\n",
        "\n",
        "def get_fibonacci_number_last_digit(n):\n",
        "  \n",
        "  f_series = [0,1]\n",
        "\n",
        "  if n<=1:\n",
        "      return n\n",
        "  else:\n",
        "      for i in range(1,n):\n",
        "        \n",
        "        f_series.append((f_series[i-1]+ f_series[i]))\n",
        "\n",
        "\n",
        "      #print(f_series)\n",
        "\n",
        "      n_num = f_series[n]\n",
        "      \n",
        "      return(n_num)\n",
        "   \n",
        "def get_sum_last_digit(m,n):\n",
        "\n",
        "  if n<=1:\n",
        "    return n\n",
        "\n",
        "  else:\n",
        "\n",
        "    sm = get_fibonacci_number_last_digit(m+1)\n",
        "    print(sm)\n",
        "    fn1 = get_fibonacci_number_last_digit(n+2)\n",
        "    print(fn1)\n",
        "    \n",
        "\n",
        "    return (fn1 - sm)%10 \n",
        "\n",
        "nums = input()\n",
        "m,n = map(int,nums.split(' '))\n",
        "print(get_sum_last_digit(m,n))\n"
      ],
      "execution_count": null,
      "outputs": [
        {
          "output_type": "stream",
          "text": [
            "239 241\n",
            "64202014863723094126901777428873111802307548623680\n",
            "271964099255182923543922814194423915162591622175362\n",
            "2\n"
          ],
          "name": "stdout"
        }
      ]
    },
    {
      "cell_type": "code",
      "metadata": {
        "id": "fmcp_Q1END-n",
        "colab": {
          "base_uri": "https://localhost:8080/",
          "height": 69
        },
        "outputId": "a183fdb0-ade0-4eb9-c3bd-5dd5497d7692"
      },
      "source": [
        "#FIBONACCI PARTIAL SUM OPTIMISED\n",
        "\n",
        "\n",
        "def get_partial_sum(m,n):\n",
        "\n",
        "  l = [0, 1, 1, 2, 3, 5, 8, 3, 1, 4, 5, 9, 4, 3, 7, 0, 7, 7, 4, 1, 5, 6, 1, 7, 8, 5, 3, 8, 1, 9, 0, 9, 9, 8, 7, 5, 2, 7, 9, 6, 5, 1, 6, 7, 3, 0, 3, 3, 6, 9, 5, 4, 9, 3, 2, 5, 7, 2, 9, 1]\n",
        "  \n",
        "  m_new = m % 60\n",
        "  n_new = n % 60\n",
        "\n",
        "  if n_new >  58:\n",
        "    n_new = (n_new +2 )% 60\n",
        "\n",
        "    fm = l[m_new + 1]\n",
        "    print(\"fm fm \",fm)\n",
        "    fn = l[n_new]\n",
        "    print(\"fn\",fn)\n",
        "\n",
        "    total = fn - fm\n",
        "    print(total)\n",
        "    return total % 10\n",
        "\n",
        "  elif m_new > 58:\n",
        "    m_new = (m_new +1 )% 60\n",
        "\n",
        "    fm = l[m_new]\n",
        "    fn = l[n_new+2]\n",
        "\n",
        "    total = (fn - fm)\n",
        "    print(total)\n",
        "    return total % 10\n",
        "\n",
        "  elif m_new > 58 & n_new > 58:\n",
        "    m_new = (m_new +1 )% 60\n",
        "    n_new = (n_new +2)% 60\n",
        "\n",
        "    fm = l[m_new]\n",
        "    fn = l[n_new]\n",
        "\n",
        "    total = (fn - fm)\n",
        "    print(total)\n",
        "    return total % 10\n",
        "\n",
        "  else:\n",
        "    fm = l[m_new+1]\n",
        "    fn = l[n_new + 2]\n",
        "\n",
        "    total = fn - fm\n",
        "    print(total)\n",
        "    return total % 10\n",
        "\n",
        "\n",
        "nums = input()\n",
        "m,n = map(int,nums.split(' '))\n",
        "print(get_partial_sum(m,n))\n",
        "\n",
        "\n",
        "\n"
      ],
      "execution_count": null,
      "outputs": [
        {
          "output_type": "stream",
          "text": [
            "239 241\n",
            "2\n",
            "2\n"
          ],
          "name": "stdout"
        }
      ]
    },
    {
      "cell_type": "code",
      "metadata": {
        "id": "dw1UirUW-NXi",
        "colab": {
          "base_uri": "https://localhost:8080/",
          "height": 139
        },
        "outputId": "b31cd223-f99e-4d5b-fb7a-286afe6546be"
      },
      "source": [
        "def get_sum_last_digit_range(m,n):  #DOES NOT WORK IN THE LONGER RUN\n",
        "\n",
        "  l = [0, 1, 1, 2, 3, 5, 8, 3, 1, 4, 5, 9, 4, 3, 7, 0, 7, 7, 4, 1, 5, 6, 1, 7, 8, 5, 3, 8, 1, 9, 0, 9, 9, 8, 7, 5, 2, 7, 9, 6, 5, 1, 6, 7, 3, 0, 3, 3, 6, 9, 5, 4, 9, 3, 2, 5, 7, 2, 9, 1]\n",
        "\n",
        "  m_new = m% 60\n",
        "  #print(m_new)\n",
        "\n",
        "\n",
        "  n_new = n% 60\n",
        "  #print(n_new)\n",
        "  \n",
        "  lm_new = l[0: m_new+1]\n",
        "  #print(lm_new)\n",
        "\n",
        "  ln_new = l[0: n_new+1]\n",
        "\n",
        "  #print(ln_new)\n",
        "  sn = sum(ln_new)\n",
        "  sm = sum(lm_new)\n",
        "\n",
        "  if sn>sm:\n",
        "    total = sn - sm\n",
        "    #print(total)\n",
        "\n",
        "    return total % 10\n",
        "\n",
        "  else:\n",
        "    total = sm - sn\n",
        "    #print(total)\n",
        "\n",
        "    return total % 10\n",
        "\n",
        "nums = input()\n",
        "m,n = map(int,nums.split(' '))\n",
        "print(get_sum_last_digit_range(m,n))\n",
        "\n"
      ],
      "execution_count": null,
      "outputs": [
        {
          "output_type": "stream",
          "text": [
            "5618252 6583591534156\n",
            "32\n",
            "16\n",
            "[0, 1, 1, 2, 3, 5, 8, 3, 1, 4, 5, 9, 4, 3, 7, 0, 7, 7, 4, 1, 5, 6, 1, 7, 8, 5, 3, 8, 1, 9, 0, 9, 9]\n",
            "[0, 1, 1, 2, 3, 5, 8, 3, 1, 4, 5, 9, 4, 3, 7, 0, 7]\n",
            "83\n",
            "3\n"
          ],
          "name": "stdout"
        }
      ]
    },
    {
      "cell_type": "code",
      "metadata": {
        "id": "YE9zjovkMlY3"
      },
      "source": [
        "\n",
        "\n",
        "\n",
        "\n"
      ],
      "execution_count": null,
      "outputs": []
    },
    {
      "cell_type": "markdown",
      "metadata": {
        "id": "1P0yf-NOW8B3"
      },
      "source": [
        "Last Digit of the Sum of Squares of Fibonacci Numbers"
      ]
    },
    {
      "cell_type": "code",
      "metadata": {
        "id": "uN15c5OyXChK",
        "colab": {
          "base_uri": "https://localhost:8080/",
          "height": 52
        },
        "outputId": "cc34c14a-322d-4725-e75f-f57bc7f4ecaf"
      },
      "source": [
        "def last_digit_sq_sum(n):\n",
        "  l = [0, 1, 1, 2, 3, 5, 8, 3, 1, 4, 5, 9, 4, 3, 7, 0, 7, 7, 4, 1, 5, 6, 1, 7, 8, 5, 3, 8, 1, 9, 0, 9, 9, 8, 7, 5, 2, 7, 9, 6, 5, 1, 6, 7, 3, 0, 3, 3, 6, 9, 5, 4, 9, 3, 2, 5, 7, 2, 9, 1]\n",
        "  sum = 0 \n",
        "  for i in l:\n",
        "    sum= sum + (i**2)\n",
        "  \n",
        "  once = sum\n",
        "  \n",
        "  sq_sum = 0\n",
        "  if n< 60:\n",
        "    for m in l[0:n+1]:\n",
        "      \n",
        "      sq_sum = sq_sum + m**2\n",
        "    \n",
        "    return sq_sum % 10\n",
        "  \n",
        "  else:\n",
        "\n",
        "    q = n//60\n",
        "    r = n% 60\n",
        "    r_sum = 0\n",
        "    for m in l[0:r+1]:\n",
        "\n",
        "      r_sum = r_sum + m**2\n",
        "\n",
        "    sq_sum = q*once + r_sum\n",
        "\n",
        "    return sq_sum % 10   \n",
        "\n",
        "\n",
        "\n",
        "n = int(input())\n",
        "print(last_digit_sq_sum(n))"
      ],
      "execution_count": null,
      "outputs": [
        {
          "output_type": "stream",
          "text": [
            "1234567890\n",
            "0\n"
          ],
          "name": "stdout"
        }
      ]
    },
    {
      "cell_type": "code",
      "metadata": {
        "id": "glmyrBg8XC-P",
        "colab": {
          "base_uri": "https://localhost:8080/",
          "height": 35
        },
        "outputId": "1d94c71f-a887-4a4d-fb42-09969e7f56ed"
      },
      "source": [
        "7"
      ],
      "execution_count": null,
      "outputs": [
        {
          "output_type": "execute_result",
          "data": {
            "text/plain": [
              "6"
            ]
          },
          "metadata": {
            "tags": []
          },
          "execution_count": 36
        }
      ]
    },
    {
      "cell_type": "code",
      "metadata": {
        "id": "OEizYut4XC6Z"
      },
      "source": [
        ""
      ],
      "execution_count": null,
      "outputs": []
    },
    {
      "cell_type": "code",
      "metadata": {
        "id": "CC8PLPnyXC1w"
      },
      "source": [
        ""
      ],
      "execution_count": null,
      "outputs": []
    },
    {
      "cell_type": "markdown",
      "metadata": {
        "id": "338rXmC1sqCG"
      },
      "source": [
        "##Week 3\n"
      ]
    },
    {
      "cell_type": "markdown",
      "metadata": {
        "id": "TkZd4j8Ksv6m"
      },
      "source": [
        "#### Money Change Algorithm"
      ]
    },
    {
      "cell_type": "code",
      "metadata": {
        "id": "bZvyvlsAste4",
        "colab": {
          "base_uri": "https://localhost:8080/",
          "height": 102
        },
        "outputId": "da64bb5f-92c7-48a8-8bcf-3f87d9a4ddf3"
      },
      "source": [
        "def money_change(m):\n",
        "  if m>=10:\n",
        "    \n",
        "   c_ten = int(m/10)\n",
        "\n",
        "   tens = c_ten*10\n",
        "\n",
        "   if tens == m:\n",
        "\n",
        "     print(\"min number of coins: \", c_ten)\n",
        "\n",
        "   else:\n",
        "\n",
        "     c_five = int((m- tens)/5)\n",
        "\n",
        "     fives = c_five*5\n",
        "\n",
        "     if tens + fives == m :\n",
        "\n",
        "       print(\"min number of coins: \",c_ten + c_five)\n",
        "\n",
        "     else:\n",
        "\n",
        "       c_one = int(m- (tens+fives))\n",
        "\n",
        "       ones = c_one\n",
        "\n",
        "       print(\"min number of coins: \",c_ten + c_five + c_one)\n",
        "      \n",
        "    \n",
        "  elif (m<10) and (m>=5) :\n",
        "\n",
        "\n",
        "      c_five = int(m/5)\n",
        "      print(c_five)\n",
        "\n",
        "      fives = c_five*5\n",
        "      print(fives)\n",
        "\n",
        "      if fives == m :\n",
        "\n",
        "        print(\"min number of coins:\", c_five)\n",
        "\n",
        "      else:\n",
        "\n",
        "        c_one = int((m - fives))\n",
        "\n",
        "        print(\"min number of coins: \", c_five + c_one)\n",
        "\n",
        "  elif m<5:\n",
        "\n",
        "      c_one = m\n",
        "\n",
        "      print(\"min number of coins: \",c_one)\n",
        "\n",
        "m = int(input())\n",
        "coins = money_change(m)\n",
        "print(coins)\n",
        "\n",
        "\n",
        "    \n",
        "    \n"
      ],
      "execution_count": null,
      "outputs": [
        {
          "output_type": "stream",
          "text": [
            "8\n",
            "1\n",
            "5\n",
            "min number of coins:  4\n",
            "None\n"
          ],
          "name": "stdout"
        }
      ]
    },
    {
      "cell_type": "code",
      "metadata": {
        "id": "0d188utsv82c",
        "colab": {
          "base_uri": "https://localhost:8080/",
          "height": 34
        },
        "outputId": "883a0dcc-3364-4eed-a004-003599989a45"
      },
      "source": [
        "money_change(28)\n",
        "            "
      ],
      "execution_count": null,
      "outputs": [
        {
          "output_type": "stream",
          "text": [
            "min number of coins:  6\n"
          ],
          "name": "stdout"
        }
      ]
    },
    {
      "cell_type": "code",
      "metadata": {
        "id": "08GqINsCwX0R",
        "colab": {
          "base_uri": "https://localhost:8080/",
          "height": 51
        },
        "outputId": "007c10cb-c281-45be-d163-f494b0f053ce"
      },
      "source": [
        "def money_change(m):\n",
        "  if m>=10:\n",
        "    \n",
        "   c_ten = int(m/10)\n",
        "\n",
        "   tens = c_ten*10\n",
        "\n",
        "   if tens == m:\n",
        "\n",
        "     return c_ten\n",
        "\n",
        "   else:\n",
        "\n",
        "     c_five = int((m- tens)/5)\n",
        "\n",
        "     fives = c_five*5\n",
        "\n",
        "     if tens + fives == m :\n",
        "\n",
        "       return (c_ten + c_five)\n",
        "\n",
        "     else:\n",
        "\n",
        "       c_one = int(m- (tens+fives))\n",
        "\n",
        "       ones = c_one\n",
        "\n",
        "       return (c_ten + c_five + c_one)\n",
        "      \n",
        "    \n",
        "  elif (m<10) & (m>=5) :\n",
        "\n",
        "\n",
        "      c_five = int(m/5)\n",
        "\n",
        "      fives = c_five*5\n",
        "\n",
        "      if fives == m :\n",
        "\n",
        "        return c_five\n",
        "\n",
        "      else:\n",
        "\n",
        "        c_one = int((m - fives))\n",
        "\n",
        "        return ( c_five + c_one)\n",
        "\n",
        "\n",
        "  elif m<5:\n",
        "\n",
        "      c_one = m\n",
        "\n",
        "      return(c_one)\n",
        "\n",
        "m = int(input())\n",
        "coins = money_change(m)\n",
        "print(coins)\n",
        "   \n"
      ],
      "execution_count": null,
      "outputs": [
        {
          "output_type": "stream",
          "text": [
            "10\n",
            "1\n"
          ],
          "name": "stdout"
        }
      ]
    },
    {
      "cell_type": "markdown",
      "metadata": {
        "id": "ocBPaUcYNpvx"
      },
      "source": [
        "Knapsack Problem"
      ]
    },
    {
      "cell_type": "code",
      "metadata": {
        "id": "bYyZJJ3sPJuQ",
        "colab": {
          "base_uri": "https://localhost:8080/",
          "height": 34
        },
        "outputId": "b1e2e71d-7b13-4033-adf9-2bb3508383c4"
      },
      "source": [
        "data = input()\n",
        "data2 =list( map(int,data.split(' ')))"
      ],
      "execution_count": null,
      "outputs": [
        {
          "output_type": "stream",
          "text": [
            "3 50 60 20 100 50 120 30\n"
          ],
          "name": "stdout"
        }
      ]
    },
    {
      "cell_type": "code",
      "metadata": {
        "id": "MBS8c0fsiVXv",
        "colab": {
          "base_uri": "https://localhost:8080/",
          "height": 34
        },
        "outputId": "02c684f1-cfaf-420c-c03a-db2087917948"
      },
      "source": [
        "data2"
      ],
      "execution_count": null,
      "outputs": [
        {
          "output_type": "execute_result",
          "data": {
            "text/plain": [
              "[3, 50, 60, 20, 100, 50, 120, 30]"
            ]
          },
          "metadata": {
            "tags": []
          },
          "execution_count": 8
        }
      ]
    },
    {
      "cell_type": "markdown",
      "metadata": {
        "id": "OuI4161NRFRk"
      },
      "source": [
        "DOES NOT WORK"
      ]
    },
    {
      "cell_type": "code",
      "metadata": {
        "id": "Dk-6JxTcikux",
        "colab": {
          "base_uri": "https://localhost:8080/",
          "height": 34
        },
        "outputId": "482fdc0f-6e60-4c4b-b2e9-3a403d29988a"
      },
      "source": [
        "import numpy as np\n",
        "\n",
        "data = input()\n",
        "data2 =list( map(int,data.split(' ')))\n",
        "n, capacity = data2[0:2]\n",
        "weights = data2[3: (2*n + 2) : 2]\n",
        "values = data2[2: (2*n + 2):2]\n",
        "\n",
        "'''print(weights)\n",
        "print(values)'''\n",
        "\n",
        "def get_optimal_value(n,capacity,weights,values):\n",
        "\n",
        "  #to get value per unit weight\n",
        "\n",
        "  final_value = 0\n",
        "\n",
        "  A = np.zeros(n)\n",
        "  \n",
        "  unit_values = list()\n",
        "\n",
        "  for i in range(0,n):\n",
        "\n",
        "    vi = round(values[i]/weights[i],4)\n",
        "\n",
        "    unit_values.append(vi)\n",
        "\n",
        "  # sort the unit values in descending order\n",
        "\n",
        "  #unit_values.sort(reverse = True)\n",
        "  \n",
        "  #print(max(unit_values))\n",
        "  print(unit_values)\n",
        "  \n",
        "  for i in range(0,n):\n",
        "    if capacity == 0:\n",
        "\n",
        "      return 0\n",
        "\n",
        "    else:\n",
        "\n",
        "      \n",
        "      if (weights[i] > 0) and (unit_values[i] == max(unit_values)):\n",
        "\n",
        "        print(i)\n",
        "\n",
        "        a = min(weights[i],capacity)\n",
        "        print(weights[i])\n",
        "\n",
        "        print(a)\n",
        "\n",
        "        final_value = final_value + (a*(unit_values[i]))\n",
        "        print(final_value)\n",
        "\n",
        "        weights[i] = weights[i] - a\n",
        "        print(weights[i])\n",
        "        capacity = capacity - a\n",
        "\n",
        "        print(capacity)\n",
        "\n",
        "        A[i] = A[i] + a\n",
        "\n",
        "        continue\n",
        "\n",
        "        \n",
        "\n",
        "        \n",
        "  return final_value,A\n",
        "\n",
        "\n",
        "  \n",
        "\n",
        "\n",
        "\n",
        "\n",
        "\n",
        "     \n",
        "\n",
        "\n"
      ],
      "execution_count": null,
      "outputs": [
        {
          "output_type": "stream",
          "text": [
            "3 50 60 20 100 50 120 30\n"
          ],
          "name": "stdout"
        }
      ]
    },
    {
      "cell_type": "code",
      "metadata": {
        "id": "d_EqiI5RkIJd",
        "colab": {
          "base_uri": "https://localhost:8080/",
          "height": 119
        },
        "outputId": "4857e3db-c7d3-4add-892b-270a6b1f331d"
      },
      "source": [
        "final_value,A = get_optimal_value(n,capacity,weights,values)"
      ],
      "execution_count": null,
      "outputs": [
        {
          "output_type": "stream",
          "text": [
            "2\n",
            "30\n",
            "30\n",
            "120.0\n",
            "0\n",
            "20\n"
          ],
          "name": "stdout"
        }
      ]
    },
    {
      "cell_type": "code",
      "metadata": {
        "id": "fL9g-nEqmSjp",
        "colab": {
          "base_uri": "https://localhost:8080/",
          "height": 34
        },
        "outputId": "66baf81b-4ddb-46e0-f239-d7f5161470a1"
      },
      "source": [
        "print(final_value)\n"
      ],
      "execution_count": null,
      "outputs": [
        {
          "output_type": "stream",
          "text": [
            "120.0\n"
          ],
          "name": "stdout"
        }
      ]
    },
    {
      "cell_type": "code",
      "metadata": {
        "id": "ZWAU18CDm4uy",
        "colab": {
          "base_uri": "https://localhost:8080/",
          "height": 34
        },
        "outputId": "7c5e13a2-64ec-47df-d392-ed2662072ee7"
      },
      "source": [
        "print(A)"
      ],
      "execution_count": null,
      "outputs": [
        {
          "output_type": "stream",
          "text": [
            "[ 0.  0. 30.]\n"
          ],
          "name": "stdout"
        }
      ]
    },
    {
      "cell_type": "markdown",
      "metadata": {
        "id": "2l18qQJNIUbw"
      },
      "source": [
        "DO NOT TOUCH : THIS IS CORRECT ANSWER\n"
      ]
    },
    {
      "cell_type": "code",
      "metadata": {
        "id": "XSTghJeGm6Fr",
        "colab": {
          "base_uri": "https://localhost:8080/"
        },
        "outputId": "11adf9f4-2c23-4a89-ddc5-132e45e27f64"
      },
      "source": [
        "import numpy as np\n",
        "\n",
        "data = input()\n",
        "data2 =list( map(int,data.split(' ')))\n",
        "n, capacity = data2[0:2]\n",
        "weights = data2[3: (2*n + 2) : 2]\n",
        "values = data2[2: (2*n + 2):2]\n",
        "\n",
        "\n",
        "def max_loot(n,capacity,weights,values):\n",
        "\n",
        "  initial_amount = np.zeros(n)\n",
        "  #print(\"i\",initial_amount)\n",
        "\n",
        "  V = 0 #total Value\n",
        "\n",
        "  value_i = list()\n",
        "\n",
        "  #to get unit value for each item\n",
        "  for i in range(0,n):\n",
        "\n",
        "    vi = round(values[i]/weights[i],4)\n",
        "\n",
        "    value_i.append(vi)\n",
        "\n",
        "  \n",
        "\n",
        "    \n",
        "\n",
        "  print(\"vi\",value_i)\n",
        "\n",
        "\n",
        "  for q in range(0,n):\n",
        "\n",
        "    if capacity == 0:\n",
        "\n",
        "      break\n",
        "\n",
        "    else:\n",
        "      \n",
        "      k = value_i.index(max(value_i))   #index of item with max unit value\n",
        "      print(\"k\",k)\n",
        "\n",
        "      if weights[k]>0:\n",
        "\n",
        "        a = min(weights[k],capacity)\n",
        "        print(\"a\",a)\n",
        "\n",
        "        V= V + a*round((values[k]/weights[k],4))\n",
        "        V = round(V,4)\n",
        "        print(\"v\",V)\n",
        "        print(\"initial_amount\",initial_amount)\n",
        "        \n",
        "        np.put(initial_amount,k,initial_amount[k] + a)\n",
        "\n",
        "\n",
        "        \n",
        "\n",
        "        weights[k] = weights[k] - a\n",
        "        print(\"weights: \",weights)\n",
        "        print(\"ii\",initial_amount)\n",
        "\n",
        "        capacity = capacity - a\n",
        "        print(\"capacity\",capacity)\n",
        "        value_i[k] = 0\n",
        "        \n",
        "\n",
        "        print(\"values_i\",value_i)\n",
        "\n",
        "      \n",
        "\n",
        "\n",
        "  return V,initial_amount\n",
        "\n",
        "\n",
        "      \n",
        "\n",
        "   \n"
      ],
      "execution_count": null,
      "outputs": [
        {
          "output_type": "stream",
          "text": [
            "3 60 60 20 150 50 120 30\n"
          ],
          "name": "stdout"
        }
      ]
    },
    {
      "cell_type": "code",
      "metadata": {
        "id": "NoKiFB8qczd-",
        "colab": {
          "base_uri": "https://localhost:8080/"
        },
        "outputId": "478de7fd-4f3f-4add-9a09-cdba5e40df84"
      },
      "source": [
        "V, initial_amount = max_loot(n,capacity,weights,values)"
      ],
      "execution_count": null,
      "outputs": [
        {
          "output_type": "stream",
          "text": [
            "vi [3.0, 3.0, 4.0]\n",
            "k 2\n",
            "a 30\n",
            "v 120.0\n",
            "initial_amount [0. 0. 0.]\n",
            "weights:  [20, 50, 0]\n",
            "ii [ 0.  0. 30.]\n",
            "capacity 30\n",
            "values_i [3.0, 3.0, 0]\n",
            "k 0\n",
            "a 20\n",
            "v 180.0\n",
            "initial_amount [ 0.  0. 30.]\n",
            "weights:  [0, 50, 0]\n",
            "ii [20.  0. 30.]\n",
            "capacity 10\n",
            "values_i [0, 3.0, 0]\n",
            "k 1\n",
            "a 10\n",
            "v 210.0\n",
            "initial_amount [20.  0. 30.]\n",
            "weights:  [0, 40, 0]\n",
            "ii [20. 10. 30.]\n",
            "capacity 0\n",
            "values_i [0, 0, 0]\n"
          ],
          "name": "stdout"
        }
      ]
    },
    {
      "cell_type": "code",
      "metadata": {
        "id": "_St33dXoyj1t",
        "colab": {
          "base_uri": "https://localhost:8080/"
        },
        "outputId": "cfa16666-84d3-4d95-ea32-b3e5fd878349"
      },
      "source": [
        "\n",
        "V"
      ],
      "execution_count": null,
      "outputs": [
        {
          "output_type": "execute_result",
          "data": {
            "text/plain": [
              "210.0"
            ]
          },
          "metadata": {
            "tags": []
          },
          "execution_count": 172
        }
      ]
    },
    {
      "cell_type": "code",
      "metadata": {
        "id": "h1lgpGvm-iwP"
      },
      "source": [
        ""
      ],
      "execution_count": null,
      "outputs": []
    },
    {
      "cell_type": "markdown",
      "metadata": {
        "id": "eqTLBc1Y-kDq"
      },
      "source": [
        "CAR FUEL\n"
      ]
    },
    {
      "cell_type": "code",
      "metadata": {
        "id": "gyjCkVwn-lQg",
        "colab": {
          "base_uri": "https://localhost:8080/"
        },
        "outputId": "bf86f773-7071-4f0d-e881-d560f3d94c1a"
      },
      "source": [
        "import sys\n",
        "import numpy as np\n",
        "\n",
        "\n",
        "#input\n",
        "\n",
        "data = input()\n",
        "data2 = list( map(int,data.split(' ')))\n",
        "distance = data2[0]\n",
        "tank = data2[1]\n",
        "n = data2[2]\n",
        "stops = data2[3:]\n",
        "\n",
        "def compute_min_refills(distance, tank,n, stops):\n",
        "\n",
        "\n",
        "  distance_btw_c_stops = list()                           #to get distance btw consecutive stops\n",
        "  distance_btw_c_stops.append(stops[0])  #adding distance of stop1 from cityA\n",
        "\n",
        "  for i in range(0,n-1):\n",
        "\n",
        "    a = stops[i+1]-stops[i]\n",
        "\n",
        "    distance_btw_c_stops.append(a)\n",
        "\n",
        "  #print(distance_btw_c_stops)\n",
        "\n",
        "  distance_btw_c_stops.append(distance - stops[n-1]) #adding distance of last stop to cityB\n",
        "\n",
        "  #print(distance_btw_c_stops)\n",
        "\n",
        "  #checkpoint1\n",
        "\n",
        "  min_refill = 0\n",
        "\n",
        "  if distance < tank:\n",
        "\n",
        "    return 0\n",
        "\n",
        "  for diff in distance_btw_c_stops:\n",
        "\n",
        "    if diff > tank:\n",
        "\n",
        "      return -1\n",
        "\n",
        "\n",
        "  \n",
        "  \n",
        "\n",
        "  \n",
        "  \n",
        "\n",
        "\n"
      ],
      "execution_count": null,
      "outputs": [
        {
          "output_type": "stream",
          "text": [
            "500 200 4 100 200 300 400\n"
          ],
          "name": "stdout"
        }
      ]
    },
    {
      "cell_type": "code",
      "metadata": {
        "id": "79VNH1O1E_PV",
        "colab": {
          "base_uri": "https://localhost:8080/"
        },
        "outputId": "2951b8e5-084c-4047-9209-2120a64b6e05"
      },
      "source": [
        "min_stops = compute_min_refills(distance, tank,n, stops)"
      ],
      "execution_count": null,
      "outputs": [
        {
          "output_type": "stream",
          "text": [
            "[1, 1, 3, 4]\n",
            "[1, 1, 3, 4, 1]\n"
          ],
          "name": "stdout"
        }
      ]
    },
    {
      "cell_type": "code",
      "metadata": {
        "id": "cv6GZsrCH2xj",
        "colab": {
          "base_uri": "https://localhost:8080/"
        },
        "outputId": "a4794cca-2984-4d1a-f4ea-97ca3a21d3fb"
      },
      "source": [
        "min_stops"
      ],
      "execution_count": null,
      "outputs": [
        {
          "output_type": "execute_result",
          "data": {
            "text/plain": [
              "3"
            ]
          },
          "metadata": {
            "tags": []
          },
          "execution_count": 44
        }
      ]
    },
    {
      "cell_type": "code",
      "metadata": {
        "id": "6Tkq8w-0Iygy",
        "colab": {
          "base_uri": "https://localhost:8080/"
        },
        "outputId": "3bf0c77f-8bce-469d-ce72-b464dfaf24b7"
      },
      "source": [
        "for i in range(0,n):\n",
        "\n",
        "\n",
        "  if stops[i]>tank:\n",
        "\n",
        "    stop1 = i\n",
        "    print(stop1)\n",
        "    min_stops = min_stops+1\n",
        "    break\n",
        "\n",
        "for k in range(stop1-1, n+1):\n",
        "\n",
        "  if distance_btw_c_stops[k]>= tank and stops[k]<:\n",
        "\n",
        "    stop1 = k-1\n",
        "\n",
        "    min_stops = min_stops +1\n",
        "\n",
        "print( min_stops)\n",
        "\n",
        "\n",
        "\n",
        "\n",
        "\n",
        "\n",
        "\n",
        "\n"
      ],
      "execution_count": null,
      "outputs": [
        {
          "output_type": "stream",
          "text": [
            "2\n",
            "3\n"
          ],
          "name": "stdout"
        }
      ]
    },
    {
      "cell_type": "code",
      "metadata": {
        "id": "8cQTJB53LhYw",
        "colab": {
          "base_uri": "https://localhost:8080/"
        },
        "outputId": "653f52d1-e8cc-4982-ee6a-a8d8dff722ec"
      },
      "source": [
        "print(stops) - 500 200 4 100 200 300 400"
      ],
      "execution_count": null,
      "outputs": [
        {
          "output_type": "stream",
          "text": [
            "[200, 375, 550, 750]\n"
          ],
          "name": "stdout"
        }
      ]
    },
    {
      "cell_type": "markdown",
      "metadata": {
        "id": "IzjzvqP8LVV0"
      },
      "source": [
        "CAR  FUEL CORRECT SOL ACCORDING TO VIDEO"
      ]
    },
    {
      "cell_type": "code",
      "metadata": {
        "id": "JVowKf7CLreu",
        "colab": {
          "base_uri": "https://localhost:8080/"
        },
        "outputId": "ca72c4af-88a2-4ed0-f207-11d3295e365c"
      },
      "source": [
        "import sys\n",
        "import numpy as np\n",
        "\n",
        "\n",
        "#input\n",
        "\n",
        "data = input()\n",
        "data2 = list( map(int,data.split(' ')))\n",
        "distance = data2[0]\n",
        "tank = data2[1]\n",
        "n = data2[2]\n",
        "stops = data2[3:]\n",
        "\n",
        "def compute_min_refills(distance, tank,n, stops):\n",
        "\n",
        "  x = [0]\n",
        "  for i in stops:\n",
        "\n",
        "    x.append(i)\n",
        "\n",
        "  x.append(distance)\n",
        "\n",
        "  num_refills = 0\n",
        "  current_refill = 0\n",
        "\n",
        "  while current_refill <= n:\n",
        "\n",
        "    last_refill = current_refill\n",
        "    \n",
        "    while (current_refill <=n and x[current_refill + 1] - x[last_refill] <= tank):\n",
        "\n",
        "      current_refill = current_refill +1\n",
        "\n",
        "    if current_refill == last_refill:\n",
        "\n",
        "      return -1\n",
        "\n",
        "    if current_refill <=n:\n",
        "\n",
        "      num_refills = num_refills +1 \n",
        "\n",
        "  return num_refills"
      ],
      "execution_count": null,
      "outputs": [
        {
          "output_type": "stream",
          "text": [
            "950 400 4 200 375 550 750\n"
          ],
          "name": "stdout"
        }
      ]
    },
    {
      "cell_type": "code",
      "metadata": {
        "id": "gAr0iLOJD4Zc"
      },
      "source": [
        "min_refill = compute_min_refills(distance,tank,n,stops)"
      ],
      "execution_count": null,
      "outputs": []
    },
    {
      "cell_type": "code",
      "metadata": {
        "id": "rWIvqDWbKYMy",
        "colab": {
          "base_uri": "https://localhost:8080/"
        },
        "outputId": "18c61448-d90e-4187-e420-d02052758f19"
      },
      "source": [
        "min_refill"
      ],
      "execution_count": null,
      "outputs": [
        {
          "output_type": "execute_result",
          "data": {
            "text/plain": [
              "0"
            ]
          },
          "metadata": {
            "tags": []
          },
          "execution_count": 20
        }
      ]
    },
    {
      "cell_type": "code",
      "metadata": {
        "id": "_zmwDO80KlWp",
        "colab": {
          "base_uri": "https://localhost:8080/"
        },
        "outputId": "a909cdb8-922d-4804-810e-944b019cd0f3"
      },
      "source": [
        "initial_position = 0\n",
        "\n",
        "refill = 0\n",
        "\n",
        "refill_position = 0\n",
        "\n",
        "x = [0]\n",
        "for i in stops:\n",
        "  x.append(i)\n",
        "\n",
        "x.append(distance)\n",
        "\n",
        "while refill_position <= n:\n",
        "\n",
        "  refill_position = initial_position\n",
        "\n",
        "  for i in range(0,):\n",
        "\n",
        "       \n",
        "    if x[initial_position + i] - x[initial_position] > tank:\n",
        "      \n",
        "      refill_position = i-1\n",
        "\n",
        "      refill = refill+1\n",
        "\n",
        "  break\n",
        "\n",
        "print(refill)\n",
        "  \n",
        "\n"
      ],
      "execution_count": null,
      "outputs": [
        {
          "output_type": "stream",
          "text": [
            "2\n"
          ],
          "name": "stdout"
        }
      ]
    },
    {
      "cell_type": "markdown",
      "metadata": {
        "id": "Tc0SkQPWeC_z"
      },
      "source": [
        "MAX ADVERTISEMENT REVENUE\n",
        "\n"
      ]
    },
    {
      "cell_type": "code",
      "metadata": {
        "id": "H7wGiNb0NlmD",
        "colab": {
          "base_uri": "https://localhost:8080/"
        },
        "outputId": "b20b765d-df1c-4e8a-e248-f71b97a0b31e"
      },
      "source": [
        "data = input()\n",
        "data = list(map(int, data.split()))\n",
        "n = data[0]\n",
        "a = data[1:(n + 1)]\n",
        "b = data[(n + 1):]\n",
        "\n",
        "def max_dot_product(a,b,n):\n",
        "\n",
        "  a.sort()\n",
        "  b.sort()\n",
        "\n",
        "  sum = 0\n",
        "\n",
        "  for i in range(0,n):\n",
        "\n",
        "    sum = sum + (a[i]*b[i])\n",
        "  \n",
        "  print(sum)\n",
        "  return sum"
      ],
      "execution_count": null,
      "outputs": [
        {
          "output_type": "stream",
          "text": [
            "3 1 3 5 2 4 1\n"
          ],
          "name": "stdout"
        }
      ]
    },
    {
      "cell_type": "code",
      "metadata": {
        "colab": {
          "base_uri": "https://localhost:8080/"
        },
        "id": "5qLmAinuRQ81",
        "outputId": "c38bb025-7db8-471a-8fd7-903f482f046e"
      },
      "source": [
        "print(max_dot_product(a,b,n))"
      ],
      "execution_count": null,
      "outputs": [
        {
          "output_type": "stream",
          "text": [
            "27\n",
            "27\n"
          ],
          "name": "stdout"
        }
      ]
    },
    {
      "cell_type": "markdown",
      "metadata": {
        "id": "CxyxnTYWagiv"
      },
      "source": [
        "COLLECTING SIGNATURE / SELECTING SEGMENT PROB - correct"
      ]
    },
    {
      "cell_type": "code",
      "metadata": {
        "id": "FYzFJ0wAakic",
        "colab": {
          "base_uri": "https://localhost:8080/"
        },
        "outputId": "224355de-3531-479b-caa0-b0b254abb20c"
      },
      "source": [
        "#from collections import namedtuple\n",
        "\n",
        "\n",
        "data = input()\n",
        "n, *data = map(int, data.split())\n",
        "starts = list(map(int,data[::2]))\n",
        "ends =list(map(int,data[1::2]))\n",
        "\n",
        "\n",
        "def optimal_points(starts,ends):\n",
        "  \n",
        "  points = []\n",
        "  no_points = 0\n",
        "  \n",
        "  while len(starts)>0:   \n",
        "\n",
        "     \n",
        "    min_right = min(ends)\n",
        "    \n",
        "    points.append(min_right)\n",
        "    \n",
        "    \n",
        "    k = 0\n",
        "    while k< len(starts):\n",
        "      \n",
        "\n",
        "      if starts[k] <= min_right and min_right <= ends[k]:\n",
        "\n",
        "        starts.pop(k)\n",
        "        ends.pop(k)\n",
        "\n",
        "        \n",
        "      \n",
        "      else:\n",
        "        k = k+1\n",
        "\n",
        "          \n",
        "        \n",
        "  no_points = len(points)\n",
        "  return no_points, points\n",
        "\n",
        "\n",
        "  \n",
        "\n"
      ],
      "execution_count": null,
      "outputs": [
        {
          "output_type": "stream",
          "text": [
            "5 1 3 3 5 5 7 7 9 9 12\n"
          ],
          "name": "stdout"
        }
      ]
    },
    {
      "cell_type": "code",
      "metadata": {
        "id": "VuhGH5Oc_rSh"
      },
      "source": [
        "no_points,points = optimal_points(starts,ends)"
      ],
      "execution_count": null,
      "outputs": []
    },
    {
      "cell_type": "markdown",
      "metadata": {
        "id": "hCruzaNtKxgl"
      },
      "source": [
        "Understanding namedtuple"
      ]
    },
    {
      "cell_type": "code",
      "metadata": {
        "id": "NRU9t52FAdVV",
        "colab": {
          "base_uri": "https://localhost:8080/"
        },
        "outputId": "a9dedaa9-7c9b-4e99-a5d8-11758ab97c64"
      },
      "source": [
        "\n",
        "from collections import namedtuple\n",
        "\n",
        "data = input()\n",
        "data = list(map(int,data.split()))\n",
        "\n",
        "\n",
        "sample = namedtuple('sample',['start','end'])\n",
        "\n",
        "point = sample(data[0],data[1])"
      ],
      "execution_count": null,
      "outputs": [
        {
          "output_type": "stream",
          "text": [
            "1 0\n"
          ],
          "name": "stdout"
        }
      ]
    },
    {
      "cell_type": "code",
      "metadata": {
        "colab": {
          "base_uri": "https://localhost:8080/"
        },
        "id": "xQg6XcoSKbwN",
        "outputId": "deb1d556-c650-423c-96a7-92834a173b78"
      },
      "source": [
        "point.start"
      ],
      "execution_count": null,
      "outputs": [
        {
          "output_type": "execute_result",
          "data": {
            "text/plain": [
              "1"
            ]
          },
          "metadata": {
            "tags": []
          },
          "execution_count": 16
        }
      ]
    },
    {
      "cell_type": "code",
      "metadata": {
        "colab": {
          "base_uri": "https://localhost:8080/"
        },
        "id": "HsmSSEHeKtUL",
        "outputId": "077cb1ab-4f3d-44ca-9266-3144ba44ca85"
      },
      "source": [
        "point.end"
      ],
      "execution_count": null,
      "outputs": [
        {
          "output_type": "execute_result",
          "data": {
            "text/plain": [
              "0"
            ]
          },
          "metadata": {
            "tags": []
          },
          "execution_count": 17
        }
      ]
    },
    {
      "cell_type": "markdown",
      "metadata": {
        "id": "XouBlGbIRaqe"
      },
      "source": [
        "MAX PRIZES PROBLEM - NAIVE ALGO\n"
      ]
    },
    {
      "cell_type": "code",
      "metadata": {
        "colab": {
          "base_uri": "https://localhost:8080/"
        },
        "id": "ePLLhtEqRc_s",
        "outputId": "5b836a8a-f8a9-4b4f-ea3e-cf8d8902b44e"
      },
      "source": [
        "n = int(input())\n",
        "\n",
        "def max_prizes(n):\n",
        "  \n",
        "  i = 1\n",
        "  k = list()\n",
        "  c= n\n",
        "  if n>0:\n",
        "\n",
        "\n",
        "    if i == c - i or c-i == 0: #for cases like 1,2\n",
        "\n",
        "      k = [c]\n",
        "\n",
        "\n",
        "    else:\n",
        "      for i in range(1,n):  \n",
        "\n",
        "        n = n-i\n",
        "        \n",
        "\n",
        "        if n not in k and n>0: #to check if i is not repeating in k\n",
        "\n",
        "          k.append(i)\n",
        "          #print(\"k\",k)\n",
        "\n",
        "        else:\n",
        "\n",
        "          #print(\"n in k\")\n",
        "          s = sum(k)\n",
        "          end = c - s\n",
        "          if end not in k:  #\n",
        "            k.append(end)\n",
        "\n",
        "          else:\n",
        "            k.pop(-1)\n",
        "            s = sum(k)\n",
        "            k.append(c-s)\n",
        "          break\n",
        "  \n",
        "  return len(k),k \n",
        "\n",
        "\n"
      ],
      "execution_count": null,
      "outputs": [
        {
          "output_type": "stream",
          "text": [
            "5\n"
          ],
          "name": "stdout"
        }
      ]
    },
    {
      "cell_type": "code",
      "metadata": {
        "id": "cGMqo-3aRrew"
      },
      "source": [
        "\n",
        "i,k = max_prizes(n)\n",
        "print(i)\n",
        "print(k)"
      ],
      "execution_count": null,
      "outputs": []
    },
    {
      "cell_type": "markdown",
      "metadata": {
        "id": "XogjH_I52ra1"
      },
      "source": [
        "MAXIMUM PRIZES: "
      ]
    },
    {
      "cell_type": "code",
      "metadata": {
        "id": "GFXiNjArduqq",
        "colab": {
          "base_uri": "https://localhost:8080/"
        },
        "outputId": "40d42a34-0e87-4c30-f353-552e3463b1de"
      },
      "source": [
        "n = int(input())\n",
        "\n",
        "def max_prize(n):\n",
        "\n",
        "  summands = []\n",
        "  \n",
        "  i =1\n",
        "  while (i <= n+1):  \n",
        "    \n",
        "\n",
        "    if i*2 >= n : #n will be the last number if i*2 >= n\n",
        "      summands.append(n)\n",
        "\n",
        "      break\n",
        "    \n",
        "    summands.append(i)\n",
        "    n = n-i\n",
        "    i = i+1 \n",
        "\n",
        "\n",
        "  return summands"
      ],
      "execution_count": null,
      "outputs": [
        {
          "output_type": "stream",
          "text": [
            "5\n"
          ],
          "name": "stdout"
        }
      ]
    },
    {
      "cell_type": "code",
      "metadata": {
        "id": "Czgm2E6TAmuf"
      },
      "source": [
        "k = max_prize(n)\n",
        "print(len(k))\n",
        "print(k)\n"
      ],
      "execution_count": null,
      "outputs": []
    },
    {
      "cell_type": "markdown",
      "metadata": {
        "id": "_GRqu-C8RR-0"
      },
      "source": [
        "LARGEST SALARY"
      ]
    },
    {
      "cell_type": "code",
      "metadata": {
        "colab": {
          "base_uri": "https://localhost:8080/"
        },
        "id": "sRhJHKqkAyqF",
        "outputId": "645e719f-4a77-4813-fa02-867393cd7408"
      },
      "source": [
        "def largest_salary(digits):\n",
        "  "
      ],
      "execution_count": null,
      "outputs": [
        {
          "output_type": "stream",
          "text": [
            "2\n",
            "[1, 4]\n"
          ],
          "name": "stdout"
        }
      ]
    },
    {
      "cell_type": "code",
      "metadata": {
        "colab": {
          "base_uri": "https://localhost:8080/"
        },
        "id": "rMytbgFQHfCW",
        "outputId": "dcc11522-9267-44dc-a11c-275a2f1cf536"
      },
      "source": [
        "n = input()\n",
        "\n",
        "\n",
        "def largest_salary(n):\n",
        "\n",
        "  n_str = list(map(str, n.split()))\n",
        "  b =list(n)\n",
        "  a =[b[0]]\n",
        "  answer = ''\n",
        "\n",
        "\n",
        "  \n",
        "\n",
        "  while len(n_str)>1:\n",
        "\n",
        "    \n",
        "    index = [i for i, value in enumerate(b) if value == ' ']\n",
        "    for i in index:\n",
        "      a.append(b[i+1])\n",
        "\n",
        "    print(a)\n",
        "    max_digit = max(a)\n",
        "    \n",
        "    for i in n_str:\n",
        "\n",
        "      #print(i)\n",
        "\n",
        "      if i[0] == max_digit:\n",
        "        answer = answer + i\n",
        "        n_str.remove(i)\n",
        "\n",
        "    return answer\n",
        "\n",
        "\n"
      ],
      "execution_count": null,
      "outputs": [
        {
          "output_type": "stream",
          "text": [
            "123 45 56 57\n"
          ],
          "name": "stdout"
        }
      ]
    },
    {
      "cell_type": "code",
      "metadata": {
        "colab": {
          "base_uri": "https://localhost:8080/"
        },
        "id": "TCNchzLmWn7-",
        "outputId": "5269b47c-334a-4872-874a-8d896e6c7fa5"
      },
      "source": [
        "answer = largest_salary(n)\n",
        "print(answer)"
      ],
      "execution_count": null,
      "outputs": [
        {
          "output_type": "stream",
          "text": [
            "['1', '4', '5', '5']\n",
            "56\n"
          ],
          "name": "stdout"
        }
      ]
    },
    {
      "cell_type": "code",
      "metadata": {
        "colab": {
          "base_uri": "https://localhost:8080/"
        },
        "id": "nzvhsCpDR0xT",
        "outputId": "c22ecad2-c67b-49f5-a01e-5c0e225148ca"
      },
      "source": [
        "b =list(n)\n",
        "b"
      ],
      "execution_count": null,
      "outputs": [
        {
          "output_type": "execute_result",
          "data": {
            "text/plain": [
              "['1', '2', '3', ' ', '4', '5', ' ', '6', '7']"
            ]
          },
          "metadata": {
            "tags": []
          },
          "execution_count": 109
        }
      ]
    },
    {
      "cell_type": "code",
      "metadata": {
        "id": "AhnDWz4tS7MS"
      },
      "source": [
        "a =[b[0]]\n",
        "for i in range(0,len(b)):\n",
        "  \n",
        "  if b[i] == ' ':\n",
        "    a.append(b[i+1])\n"
      ],
      "execution_count": null,
      "outputs": []
    },
    {
      "cell_type": "code",
      "metadata": {
        "colab": {
          "base_uri": "https://localhost:8080/"
        },
        "id": "jxbLiPp0TuKs",
        "outputId": "a0b42050-71ce-4ece-d0e4-5a2c36e8ffaf"
      },
      "source": [
        "a\n"
      ],
      "execution_count": null,
      "outputs": [
        {
          "output_type": "execute_result",
          "data": {
            "text/plain": [
              "['1', '4', '6']"
            ]
          },
          "metadata": {
            "tags": []
          },
          "execution_count": 111
        }
      ]
    },
    {
      "cell_type": "code",
      "metadata": {
        "colab": {
          "base_uri": "https://localhost:8080/",
          "height": 35
        },
        "id": "7rpAaADfTvt7",
        "outputId": "b3fafe91-6c6d-4e6b-8103-5503d1c3d007"
      },
      "source": [
        "max_digit = max(a)\n",
        "max_digit"
      ],
      "execution_count": null,
      "outputs": [
        {
          "output_type": "execute_result",
          "data": {
            "application/vnd.google.colaboratory.intrinsic+json": {
              "type": "string"
            },
            "text/plain": [
              "'6'"
            ]
          },
          "metadata": {
            "tags": []
          },
          "execution_count": 112
        }
      ]
    },
    {
      "cell_type": "code",
      "metadata": {
        "colab": {
          "base_uri": "https://localhost:8080/"
        },
        "id": "RcP613qhUGzl",
        "outputId": "db92cef6-8122-424b-8ae1-05da4f5e8d69"
      },
      "source": [
        "answer = ''\n",
        "for i in k:\n",
        "  print(i)\n",
        "  if i[0] == max_digit:\n",
        "    answer = answer + i\n",
        "    k.remove(i)\n",
        "\n"
      ],
      "execution_count": null,
      "outputs": [
        {
          "output_type": "stream",
          "text": [
            "123\n",
            "45\n",
            "67\n"
          ],
          "name": "stdout"
        }
      ]
    },
    {
      "cell_type": "code",
      "metadata": {
        "colab": {
          "base_uri": "https://localhost:8080/",
          "height": 35
        },
        "id": "e-9Wbs_9VRZd",
        "outputId": "fd350884-b265-47ed-8b9d-44e1820a6111"
      },
      "source": [
        "answer"
      ],
      "execution_count": null,
      "outputs": [
        {
          "output_type": "execute_result",
          "data": {
            "application/vnd.google.colaboratory.intrinsic+json": {
              "type": "string"
            },
            "text/plain": [
              "'67'"
            ]
          },
          "metadata": {
            "tags": []
          },
          "execution_count": 116
        }
      ]
    },
    {
      "cell_type": "code",
      "metadata": {
        "colab": {
          "base_uri": "https://localhost:8080/"
        },
        "id": "VeiOAcIkVWu2",
        "outputId": "c7717aae-a47e-479e-88a0-26610ca68463"
      },
      "source": [
        "k"
      ],
      "execution_count": null,
      "outputs": [
        {
          "output_type": "execute_result",
          "data": {
            "text/plain": [
              "['123', '45']"
            ]
          },
          "metadata": {
            "tags": []
          },
          "execution_count": 118
        }
      ]
    },
    {
      "cell_type": "code",
      "metadata": {
        "id": "wCmoDtdWVXfj"
      },
      "source": [
        "res_list = [i for i, value in enumerate(test_list) if value == 3]"
      ],
      "execution_count": null,
      "outputs": []
    },
    {
      "cell_type": "code",
      "metadata": {
        "id": "mUvxTSHCR5gf"
      },
      "source": [
        "test_list = [1, 3, 4, 3, 6, 7]\n",
        "res_list = [i for i, value in enumerate(test_list) if value == 3] "
      ],
      "execution_count": null,
      "outputs": []
    },
    {
      "cell_type": "code",
      "metadata": {
        "colab": {
          "base_uri": "https://localhost:8080/"
        },
        "id": "_fIJEYG_R9II",
        "outputId": "a122e856-59cd-48a7-8746-b40632bcabe9"
      },
      "source": [
        "print(res_list)"
      ],
      "execution_count": null,
      "outputs": [
        {
          "output_type": "stream",
          "text": [
            "[1, 3]\n"
          ],
          "name": "stdout"
        }
      ]
    },
    {
      "cell_type": "code",
      "metadata": {
        "id": "6tWSmN4jR_a6"
      },
      "source": [
        "a = []\n",
        "for i in res_list:\n",
        "  a.append(test_list[i+1])\n"
      ],
      "execution_count": null,
      "outputs": []
    },
    {
      "cell_type": "code",
      "metadata": {
        "colab": {
          "base_uri": "https://localhost:8080/"
        },
        "id": "xzYanrNJSQfL",
        "outputId": "fb198457-1ee1-45d2-d4b0-33d057a56445"
      },
      "source": [
        "a"
      ],
      "execution_count": null,
      "outputs": [
        {
          "output_type": "execute_result",
          "data": {
            "text/plain": [
              "[4, 6]"
            ]
          },
          "metadata": {
            "tags": []
          },
          "execution_count": 8
        }
      ]
    },
    {
      "cell_type": "code",
      "metadata": {
        "id": "Bcw_WygHSRXy",
        "colab": {
          "base_uri": "https://localhost:8080/"
        },
        "outputId": "8108a3b0-3fc2-4b27-c1b7-d9356c075460"
      },
      "source": [
        "n = input()\n",
        "n_str = list(map(str, n.split()))\n"
      ],
      "execution_count": null,
      "outputs": [
        {
          "output_type": "stream",
          "text": [
            "425 123 472\n"
          ],
          "name": "stdout"
        }
      ]
    },
    {
      "cell_type": "code",
      "metadata": {
        "colab": {
          "base_uri": "https://localhost:8080/"
        },
        "id": "ubJ46rI0uYNf",
        "outputId": "ff9f71b3-f294-461e-98af-92b958bc3a63"
      },
      "source": [
        "n_str.sort()\n",
        "n_str"
      ],
      "execution_count": null,
      "outputs": [
        {
          "output_type": "execute_result",
          "data": {
            "text/plain": [
              "['123', '425', '472']"
            ]
          },
          "metadata": {
            "tags": []
          },
          "execution_count": 18
        }
      ]
    },
    {
      "cell_type": "code",
      "metadata": {
        "colab": {
          "base_uri": "https://localhost:8080/",
          "height": 35
        },
        "id": "PPFw63edxzUt",
        "outputId": "e59b1f5e-c113-4f6d-e491-ee0266572410"
      },
      "source": [
        "\n",
        "def get_max_first_digits(nums):\n",
        "  a = []\n",
        "  for i in nums:\n",
        "    a.append(i[0])\n",
        "\n",
        "  max_1 = max(a)\n",
        "\n",
        "  return max_1\n",
        "\n",
        "\n",
        "def get_sim_num(nums):\n",
        "\n",
        "  same_digit = []\n",
        "  for k in nums:\n",
        "    if k[0] == get_max_first_digits(nums):\n",
        "\n",
        "      same_digit.append(k)\n",
        "\n",
        "      k =[]\n",
        "      for i in same_digit:\n",
        "\n",
        "        k.append(i[1])\n",
        "\n",
        "        new = k.index(max(k))\n",
        "        \n",
        "\n",
        "        \n",
        "\n"
      ],
      "execution_count": null,
      "outputs": [
        {
          "output_type": "execute_result",
          "data": {
            "application/vnd.google.colaboratory.intrinsic+json": {
              "type": "string"
            },
            "text/plain": [
              "'134'"
            ]
          },
          "metadata": {
            "tags": []
          },
          "execution_count": 14
        }
      ]
    },
    {
      "cell_type": "code",
      "metadata": {
        "colab": {
          "base_uri": "https://localhost:8080/"
        },
        "id": "J0BMYc8YubDv",
        "outputId": "a08e613d-43b6-4774-f743-1ed5bb967708"
      },
      "source": [
        "def largest_number(a):\n",
        "    res = \"\"\n",
        "    i = 0\n",
        "    while len(a) > 0:\n",
        "        i = i+ 1\n",
        "        sMax = find_safe_max_number(a)\n",
        "        res += sMax\n",
        "        a.remove(sMax)\n",
        "\n",
        "    return res\n",
        "\n",
        "def find_safe_max_number(a):\n",
        "    max_ = a[0]\n",
        "    for x in a:\n",
        "        max_ = safe_max(max_, x)\n",
        "    return max_\n",
        "\n",
        "def safe_max(max_, x):\n",
        "    A = str(max_) + str(x)\n",
        "    B = str(x) + str(max_)\n",
        "    # Check A > B ? max_ : x\n",
        "    \n"
      ],
      "execution_count": null,
      "outputs": [
        {
          "output_type": "execute_result",
          "data": {
            "text/plain": [
              "0"
            ]
          },
          "metadata": {
            "tags": []
          },
          "execution_count": 13
        }
      ]
    },
    {
      "cell_type": "code",
      "metadata": {
        "id": "CSYT8bp88pQR"
      },
      "source": [
        ""
      ],
      "execution_count": null,
      "outputs": []
    },
    {
      "cell_type": "code",
      "metadata": {
        "colab": {
          "base_uri": "https://localhost:8080/"
        },
        "id": "TaLJE8gw9aC_",
        "outputId": "ebd25ae8-97a1-4b87-8bab-b39dd674191d"
      },
      "source": [
        "n = input()\n",
        "nums = list(map(int,n.split(\" \")))\n",
        "\n",
        "def IsGreaterOrEqual(digit,max_digit):\n",
        "\n",
        "  return int(str(digit)+ str(max_digit)) >= int(str(max_digit) + str(digit))\n",
        "\n",
        "\n",
        "\n",
        "def largest_salary(nums):\n",
        "\n",
        "  answer = []\n",
        "  \n",
        "  \n",
        "  while nums != []:\n",
        "    max_num = 0\n",
        "    for num in nums:\n",
        "\n",
        "      if IsGreaterOrEqual(num,max_num):\n",
        "\n",
        "        max_num = num\n",
        "        print(max_num)\n",
        "    \n",
        "    answer.append(max_num)\n",
        "    print(answer)\n",
        "    nums.remove(max_num)\n",
        "\n",
        "  \n",
        "  return answer\n",
        "print(''.join([str(i) for i in largestnumber(lst)]))"
      ],
      "execution_count": null,
      "outputs": [
        {
          "output_type": "stream",
          "text": [
            "1 35 6 7\n"
          ],
          "name": "stdout"
        }
      ]
    },
    {
      "cell_type": "code",
      "metadata": {
        "colab": {
          "base_uri": "https://localhost:8080/"
        },
        "id": "nsk688mGAg-7",
        "outputId": "f2049601-9459-4fdc-d595-8cbb33271003"
      },
      "source": [
        "answer  = largest_salary(nums)\n",
        "print(answer)"
      ],
      "execution_count": null,
      "outputs": [
        {
          "output_type": "stream",
          "text": [
            "1\n",
            "35\n",
            "6\n",
            "7\n",
            "\n",
            "1\n",
            "35\n",
            "6\n",
            "\n",
            "1\n",
            "35\n",
            "\n",
            "1\n",
            "\n",
            "\n"
          ],
          "name": "stdout"
        }
      ]
    },
    {
      "cell_type": "code",
      "metadata": {
        "id": "eQ3Aa4mMAn3-"
      },
      "source": [
        ""
      ],
      "execution_count": null,
      "outputs": []
    }
  ]
}