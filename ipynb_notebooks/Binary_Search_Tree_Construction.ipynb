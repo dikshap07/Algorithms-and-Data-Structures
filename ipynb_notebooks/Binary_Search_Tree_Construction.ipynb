{
  "nbformat": 4,
  "nbformat_minor": 0,
  "metadata": {
    "colab": {
      "name": "Binary Search Tree Construction.ipynb",
      "provenance": [],
      "collapsed_sections": [],
      "authorship_tag": "ABX9TyORm8vK4jYbvjP4fxhcOzhz",
      "include_colab_link": true
    },
    "kernelspec": {
      "name": "python3",
      "display_name": "Python 3"
    },
    "language_info": {
      "name": "python"
    }
  },
  "cells": [
    {
      "cell_type": "markdown",
      "metadata": {
        "id": "view-in-github",
        "colab_type": "text"
      },
      "source": [
        "<a href=\"https://colab.research.google.com/github/dikshap07/Algorithms-and-Data-Structures/blob/master/Binary_Search_Tree_Construction.ipynb\" target=\"_parent\"><img src=\"https://colab.research.google.com/assets/colab-badge.svg\" alt=\"Open In Colab\"/></a>"
      ]
    },
    {
      "cell_type": "markdown",
      "metadata": {
        "id": "aKvy1iXArgee"
      },
      "source": [
        "\n",
        "\n",
        "\n",
        "#CORRECT METHOD -01 (Faster)"
      ]
    },
    {
      "cell_type": "code",
      "metadata": {
        "id": "YQAZKZEYU8tn"
      },
      "source": [
        "class BST:\n",
        "\n",
        "  def __init__(self,value):\n",
        "\n",
        "    self.value = value\n",
        "    self.left = None\n",
        "    self.right = None\n",
        "\n",
        "  \n",
        "  #using iterative method\n",
        "\n",
        "\n",
        "  #Average : O(log(n)) time | O(1) space\n",
        "  #worst : O(N) time | O(1)   space\n",
        "\n",
        "  def insert(self,value):  \n",
        "\n",
        "    #initialize a variable that keeps track of what node we are at\n",
        "    currentNode = self # because in the beginning the current node is the node where we start our insertion and that is self\n",
        "\n",
        "    while True:\n",
        "\n",
        "      if value < currentNode.value:\n",
        "\n",
        "        #check if left node from here is an actual BST or the end\n",
        "\n",
        "        if currentNode.left is None:#we create a left subtree\n",
        "\n",
        "          currentNode.left = BST(value)   #if none we are adding the value that we are trying to insert \n",
        "          break                                #at this left node\n",
        "\n",
        "        else:#make left node of current node so that we can now check for its child nodes\n",
        "\n",
        "          currentNode = currentNode.left   #assigning our currentNode to the left subtree\n",
        "\n",
        "\n",
        "      else:    #to check the right sub tree for insertion\n",
        "\n",
        "        if currentNode.right is None:\n",
        "\n",
        "          currentNode.right = BST(value)\n",
        "          break\n",
        "          \n",
        "        else:\n",
        "\n",
        "          currentNode = currentNode.right\n",
        "        \n",
        "\n",
        "\n",
        "    return self   #so that we can chain the output\n",
        "\n",
        " \n",
        " \n",
        "\n",
        "  #Average : O(log(n)) time | O(1) space\n",
        "  #worst : O(N) time | O(1)   space\n",
        " \n",
        "  def contains(self,value):\n",
        "\n",
        "    currentNode = self\n",
        "\n",
        "    while currentNode is not None:\n",
        "\n",
        "      if value < currentNode.value:\n",
        "\n",
        "\n",
        "        currentNode = currentNode.left\n",
        "\n",
        "\n",
        "      elif value > currentNode.value: \n",
        "\n",
        "        currentNode = currentNode.right\n",
        "\n",
        "      else:\n",
        "\n",
        "        return True\n",
        "\n",
        "    return False\n",
        "\n",
        "  def getMinValue(self):\n",
        "\n",
        "    currentNode = self\n",
        "\n",
        "    \n",
        "\n",
        "        \n",
        "    while currentNode.left is not None:\n",
        "\n",
        "      currentNode = currentNode.left\n",
        "\n",
        "    return currentNode.value\n",
        "    \n",
        "\n",
        "\n",
        "#Average : O(log(n)) time | O(1) space\n",
        "  #worst : O(N) time | O(1)   space\n",
        "\n",
        "\n",
        "\n",
        "  def remove(self,value,parentNode = None):\n",
        "\n",
        "    currentNode = self\n",
        "\n",
        "    print(currentNode.value)\n",
        "    print(value)\n",
        "    \n",
        "    while currentNode is not None:\n",
        "\n",
        "\n",
        "      if value < currentNode.value:\n",
        "\n",
        "        parentNode = currentNode\n",
        "\n",
        "        currentNode = currentNode.left\n",
        "\n",
        "      elif value > currentNode.value:\n",
        "\n",
        "        parentNode = currentNode\n",
        "\n",
        "        currentNode = currentNode.right\n",
        "\n",
        "      else:  #when we have found the value that we need to delete\n",
        "\n",
        "\n",
        "      #case1 : if the node has both left and right child nodes\n",
        "\n",
        "        if currentNode.left is not None and currentNode.right is not None:\n",
        "\n",
        "          print('both child found for ', currentNode.value)\n",
        "\n",
        "          currentNode.value = currentNode.right.getMinValue()\n",
        "\n",
        "          #currentNode.value = smallest value of the right sub tree\n",
        "\n",
        "          #when we find the left most value in the right sub tree we remove it\n",
        "\n",
        "          currentNode.right.remove(currentNode.value,currentNode)   #because here our BST is the right \n",
        "                                                                    #tree as in currentNode.right thatys\n",
        "                                                                    #we are using currentNode.right.remove()\n",
        "\n",
        "      #case2 : when doesnt have 2 child nodes present\n",
        "\n",
        "      #case2.1 : when node is the root node or doesnt have a parent and only has one child (the above will only work when root node has both child nodes that is why we need it)\n",
        "      \n",
        "        elif parentNode is None:   \n",
        "          if currentNode.left is  not None:\n",
        "\n",
        "            print('Root node only has left child')\n",
        "\n",
        "            currentNode.value = currentNode.left.value\n",
        "            currentNode.right = currentNode.left.right\n",
        "            currentNode.left = currentNode.left.left\n",
        "\n",
        "          elif currentNode.right is not None:\n",
        "\n",
        "            print('Root node only has right child')\n",
        "\n",
        "\n",
        "            currentNode.value = currentNode.right.value            \n",
        "            currentNode.left = currentNode.right.left\n",
        "            currentNode.right = currentNode.right.right  #at last so that we dnt replace og without using it first\n",
        "\n",
        "          else:\n",
        "\n",
        "           currentNode.value = None #discuss with interviewer as this means we are deleting the BST'''\n",
        "\n",
        "      #case2.2 : when node had a parent\n",
        "        elif parentNode.left == currentNode:  #if current node is the left child of its parent node\n",
        "\n",
        "          print('if node is left')\n",
        "\n",
        "          parentNode.left = currentNode.left if currentNode.left is not None else currentNode.right   #doesnt just rpelace value efficiently rpelaces the whole sub tree\n",
        "          #above line means the left child of parent will be assigned currentNode.left is the current\n",
        "          #node has a left child otherwise it will be assigned the right child of the currentNode\n",
        "\n",
        "        elif parentNode.right == currentNode:\n",
        "\n",
        "          print('if node is right')\n",
        "\n",
        "          parentNode.right = currentNode.left if currentNode.left is not None else currentNode.right\n",
        "\n",
        "        break\n",
        "\n",
        "    \n",
        "    return self\n",
        "\n"
      ],
      "execution_count": null,
      "outputs": []
    },
    {
      "cell_type": "code",
      "metadata": {
        "id": "5io4W0SHC276"
      },
      "source": [
        "root_node = 8\n",
        "my_tree2 = BST(root_node) \n",
        "tree_nodes = [3,10,1,6,4,7,14,13]\n",
        "\n",
        "for node in tree_nodes:\n",
        "  my_tree2.insert(node)\n",
        "\n",
        "\n",
        "#checking if a particular value exists in our BST: my_tree\n",
        "\n"
      ],
      "execution_count": null,
      "outputs": []
    },
    {
      "cell_type": "code",
      "metadata": {
        "colab": {
          "base_uri": "https://localhost:8080/"
        },
        "id": "ADyhwWFhRine",
        "outputId": "0abab1c8-034b-469c-d076-2a6c6a01deb6"
      },
      "source": [
        "my_tree2 = my_tree2.remove(10)"
      ],
      "execution_count": null,
      "outputs": [
        {
          "output_type": "stream",
          "text": [
            "8\n",
            "10\n",
            "if node is right\n"
          ],
          "name": "stdout"
        }
      ]
    },
    {
      "cell_type": "markdown",
      "metadata": {
        "id": "A9vWJZ_Q9Lj4"
      },
      "source": [
        "####For Test Cases"
      ]
    },
    {
      "cell_type": "code",
      "metadata": {
        "colab": {
          "base_uri": "https://localhost:8080/"
        },
        "id": "q_7dGMTB6Na-",
        "outputId": "19453913-ffec-4479-819a-29b25abd05b6"
      },
      "source": [
        "root_node = 12\n",
        "test_tree_o = BST(root_node) \n",
        "tree_nodes = [19,7,9,5,10]\n",
        "\n",
        "for node in tree_nodes:\n",
        "  test_tree_o.insert(node)\n",
        "\n",
        "#checking if a particular value exists in our BST: my_tree\n",
        "\n",
        "test_tree_o.contains(22)"
      ],
      "execution_count": null,
      "outputs": [
        {
          "output_type": "execute_result",
          "data": {
            "text/plain": [
              "False"
            ]
          },
          "metadata": {
            "tags": []
          },
          "execution_count": 35
        }
      ]
    },
    {
      "cell_type": "code",
      "metadata": {
        "id": "jWg-cxnxEE6R",
        "colab": {
          "base_uri": "https://localhost:8080/"
        },
        "outputId": "8f39031b-00d0-4ac3-a461-7be3b81d57a9"
      },
      "source": [
        "#lets remove the parent \n",
        "\n",
        "test_tree_o = test_tree_o.remove(12)"
      ],
      "execution_count": null,
      "outputs": [
        {
          "output_type": "stream",
          "text": [
            "12\n",
            "12\n",
            "19\n",
            "19\n"
          ],
          "name": "stdout"
        }
      ]
    },
    {
      "cell_type": "code",
      "metadata": {
        "colab": {
          "base_uri": "https://localhost:8080/"
        },
        "id": "G2rZCDm2EQUh",
        "outputId": "5635c53d-633a-443a-ab23-59df561f444d"
      },
      "source": [
        "test_tree_o.value"
      ],
      "execution_count": null,
      "outputs": [
        {
          "output_type": "execute_result",
          "data": {
            "text/plain": [
              "19"
            ]
          },
          "metadata": {
            "tags": []
          },
          "execution_count": 37
        }
      ]
    },
    {
      "cell_type": "markdown",
      "metadata": {
        "id": "PvZpo95JklB7"
      },
      "source": [
        "[link text](https://)#METHOD- 02 : An_attempt"
      ]
    },
    {
      "cell_type": "markdown",
      "metadata": {
        "id": "rwqBqP9nJ88i"
      },
      "source": [
        "although works for some cases but actually only replaces values/ swaps values so fails to follow the binary search tree rules ."
      ]
    },
    {
      "cell_type": "code",
      "metadata": {
        "id": "CmfKCFeBOTwA"
      },
      "source": [
        "class BST_d:\n",
        "\n",
        "  def __init__(self,value):\n",
        "\n",
        "    self.value = value\n",
        "    self.left = None\n",
        "    self.right = None\n",
        "\n",
        "  \n",
        "  #using iterative method\n",
        "\n",
        "\n",
        "  #Average : O(log(n)) time | O(1) space\n",
        "  #worst : O(N) time | O(1)   space\n",
        "\n",
        "  def insert(self,value):  \n",
        "\n",
        "    #initialize a variable that keeps track of what node we are at\n",
        "    currentNode = self # because in the beginning the current node is the node where we start our insertion and that is self\n",
        "\n",
        "    while True:\n",
        "\n",
        "      if value < currentNode.value:\n",
        "\n",
        "        #check if left node from here is an actual BST or the end\n",
        "\n",
        "        if currentNode.left is None:#we create a left subtree\n",
        "\n",
        "          currentNode.left = BST_d(value)   #if none we are adding the value that we are trying to insert \n",
        "          break                                #at this left node\n",
        "\n",
        "        else:#make left node of current node so that we can now check for its child nodes\n",
        "\n",
        "          currentNode = currentNode.left   #assigning our currentNode to the left subtree\n",
        "\n",
        "\n",
        "      else:    #to check the right sub tree for insertion\n",
        "\n",
        "        if currentNode.right is None:\n",
        "\n",
        "          currentNode.right = BST_d(value)\n",
        "          break\n",
        "          \n",
        "        else:\n",
        "\n",
        "          currentNode = currentNode.right\n",
        "        \n",
        "\n",
        "\n",
        "    return self   #so that we can chain the output\n",
        "\n",
        " \n",
        " \n",
        "\n",
        "  #Average : O(log(n)) time | O(1) space\n",
        "  #worst : O(N) time | O(1)   space\n",
        " \n",
        "  def contains(self,value):\n",
        "\n",
        "    currentNode = self\n",
        "\n",
        "    while currentNode is not None:\n",
        "\n",
        "      if value < currentNode.value:\n",
        "\n",
        "\n",
        "        currentNode = currentNode.left\n",
        "\n",
        "\n",
        "      elif value > currentNode.value: \n",
        "\n",
        "        currentNode = currentNode.right\n",
        "\n",
        "      else:\n",
        "\n",
        "        return True\n",
        "\n",
        "    return False\n",
        "\n",
        "\n",
        "\n",
        "  def getminValue(self): #left most node value in the right subtree   #we are not taking directly node or directly the right subtree because if subtree is empty it will be a none object rather than a interger\n",
        "                                      #so it wont be able to compare\n",
        "    currentNode = self\n",
        "    \n",
        "    while currentNode.left is not None:\n",
        "\n",
        "      currentNode = currentNode.left\n",
        "\n",
        "    return currentNode.value\n",
        "\n",
        "\n",
        "\n",
        "\n",
        "  def remove(self,value,parentNode = None):\n",
        "\n",
        "    currentNode = self\n",
        "\n",
        "    print('rootNode',currentNode.value)\n",
        "    print('node to delete',value)\n",
        "\n",
        "\n",
        "    while_loop = 0\n",
        "\n",
        "\n",
        "    if currentNode.contains(value) == False:\n",
        "\n",
        "      print ('Node doesnt exist')\n",
        "\n",
        "      return\n",
        "      \n",
        "\n",
        "    while currentNode is not None:\n",
        "\n",
        "      while_loop+=1\n",
        "      print('While Loop Round', while_loop)\n",
        "\n",
        "      if value < currentNode.value:\n",
        "\n",
        "        parentNode = currentNode\n",
        "        currentNode = currentNode.left\n",
        "\n",
        "      elif value > currentNode.value:\n",
        "\n",
        "        parentNode = currentNode\n",
        "        currentNode  = currentNode.right\n",
        "\n",
        "      elif value == currentNode.value:\n",
        "\n",
        "        #print('left',currentNode.left.value)\n",
        "        #print('right',currentNode.right.value)\n",
        "\n",
        "\n",
        "\n",
        "        #case1: No child of currentNode\n",
        "\n",
        "        if currentNode.left is None and currentNode.right is None and parentNode is not None:\n",
        "\n",
        "\n",
        "          print('No child found for ',currentNode.value)\n",
        "\n",
        "          if parentNode.left == currentNode:\n",
        "\n",
        "            parentNode.left = None\n",
        "            break\n",
        "\n",
        "          elif parentNode.right == currentNode:\n",
        "\n",
        "\n",
        "            parentNode.right = None\n",
        "            break\n",
        "\n",
        "          \n",
        "          \n",
        "\n",
        "        #only left child\n",
        "\n",
        "        elif currentNode.left is not None and currentNode.right is None:\n",
        "\n",
        "\n",
        "          print('only left child found for ',currentNode.value)\n",
        "\n",
        "          #parentNode.left = currentNode.left if currentNode.left is not None else currentNode.right\n",
        "          parentNode = currentNode\n",
        "\n",
        "          currentNode.value = currentNode.left.value\n",
        "          currentNode = currentNode.left\n",
        "          currentNode.remove(currentNode.value,parentNode)\n",
        "\n",
        "\n",
        "        #only right child\n",
        "\n",
        "        elif currentNode.right is not None and currentNode.left is None :\n",
        "\n",
        "\n",
        "\n",
        "          print('only right child found for ',currentNode.value)\n",
        "          #parentNode.left = currentNode.left if currentNode.left is not None else currentNode.right\n",
        "\n",
        "          parentNode = currentNode\n",
        "\n",
        "          currentNode.value = currentNode.right.value\n",
        "          currentNode = currentNode.right\n",
        "          currentNode.remove(currentNode.value,parentNode)       \n",
        "\n",
        "    \n",
        "\n",
        "        #both child\n",
        "\n",
        "        else:\n",
        "\n",
        "          print('both child found for ',currentNode.value)\n",
        "          #print(currentNode.left.value)\n",
        "          #print(currentNode.right.value)\n",
        "\n",
        "          if value < currentNode.value:\n",
        "\n",
        "            currentNode = currentNode.left\n",
        "\n",
        "          elif value > currentNode.value:\n",
        "\n",
        "            currentNode = currentNode.right\n",
        "\n",
        "\n",
        "          else:\n",
        "            print('currentNode.value = ',currentNode.value)\n",
        "\n",
        "            currentNode.value = currentNode.right.getminValue()\n",
        "            #print('current Nde value', currentNode.value)\n",
        "            \n",
        "\n",
        "            currentNode.right.remove(currentNode.value,currentNode)\n",
        "            \n",
        "      else:\n",
        "\n",
        "        print('Node does not exist')        \n",
        "\n",
        "          \n",
        "    \n",
        "    return self"
      ],
      "execution_count": null,
      "outputs": []
    },
    {
      "cell_type": "code",
      "metadata": {
        "id": "fwep5wLAJ8yy"
      },
      "source": [
        "root_node = 8\n",
        "my_tree = BST_d(root_node) \n",
        "tree_nodes = [3,10,1,6,4,7,14,13]\n",
        "\n",
        "for node in tree_nodes:\n",
        "  my_tree.insert(node)\n",
        "\n",
        "#checking if a particular value exists in our BST: my_tree"
      ],
      "execution_count": null,
      "outputs": []
    },
    {
      "cell_type": "code",
      "metadata": {
        "colab": {
          "base_uri": "https://localhost:8080/"
        },
        "id": "4nZkhBSjJ-XF",
        "outputId": "b79f3d14-d2b6-41ec-cc4d-3f130701904d"
      },
      "source": [
        "my_tree = my_tree.remove(10)"
      ],
      "execution_count": null,
      "outputs": [
        {
          "output_type": "stream",
          "text": [
            "rootNode 8\n",
            "node to delete 10\n",
            "While Loop Round 1\n",
            "While Loop Round 2\n",
            "only right child found for  10\n",
            "rootNode 14\n",
            "node to delete 14\n",
            "While Loop Round 1\n",
            "only left child found for  14\n",
            "rootNode 13\n",
            "node to delete 13\n",
            "While Loop Round 1\n",
            "No child found for  13\n",
            "While Loop Round 2\n",
            "While Loop Round 3\n"
          ],
          "name": "stdout"
        }
      ]
    },
    {
      "cell_type": "code",
      "metadata": {
        "colab": {
          "base_uri": "https://localhost:8080/"
        },
        "id": "_p0-jHPM4RNj",
        "outputId": "28854fd3-a686-4375-963c-bec04552e4e4"
      },
      "source": [
        "k = my_tree.right\n",
        "k.right.value   #see instead of 13 being in the left node of 14 it is the right node of 14 which means it just took 14's position and isnr following BST\n"
      ],
      "execution_count": null,
      "outputs": [
        {
          "output_type": "execute_result",
          "data": {
            "text/plain": [
              "13"
            ]
          },
          "metadata": {
            "tags": []
          },
          "execution_count": 5
        }
      ]
    },
    {
      "cell_type": "markdown",
      "metadata": {
        "id": "HZz9zVVblHIF"
      },
      "source": [
        "####Test Cases"
      ]
    },
    {
      "cell_type": "code",
      "metadata": {
        "colab": {
          "base_uri": "https://localhost:8080/"
        },
        "id": "klrz1BjdKD5h",
        "outputId": "f24af78c-837e-4e9f-f44d-f30ae1a7b17b"
      },
      "source": [
        "root_node = 12\n",
        "test_tree = BST_d(root_node) \n",
        "tree_nodes = [19,7,9,5,10]\n",
        "\n",
        "for node in tree_nodes:\n",
        "  test_tree.insert(node)\n",
        "\n",
        "#checking if a particular value exists in our BST: my_tree\n",
        "\n",
        "test_tree.contains(22)"
      ],
      "execution_count": null,
      "outputs": [
        {
          "output_type": "execute_result",
          "data": {
            "text/plain": [
              "False"
            ]
          },
          "metadata": {
            "tags": []
          },
          "execution_count": 29
        }
      ]
    },
    {
      "cell_type": "code",
      "metadata": {
        "colab": {
          "base_uri": "https://localhost:8080/"
        },
        "id": "KHCjA6dV7XvZ",
        "outputId": "37a5cb59-ade6-4e9b-f3c7-f6e53cba2121"
      },
      "source": [
        "test_tree = test_tree.remove(12)"
      ],
      "execution_count": null,
      "outputs": [
        {
          "output_type": "stream",
          "text": [
            "rootNode 12\n",
            "node to delete 12\n",
            "While Loop Round 1\n",
            "both child found for  12\n",
            "7\n",
            "19\n",
            "currentNode.value =  12\n",
            "current Nde value 19\n",
            "rootNode 19\n",
            "node to delete 19\n",
            "While Loop Round 1\n",
            "No child found for  19\n",
            "While Loop Round 2\n",
            "While Loop Round 3\n",
            "While Loop Round 4\n",
            "While Loop Round 5\n"
          ],
          "name": "stdout"
        }
      ]
    },
    {
      "cell_type": "code",
      "metadata": {
        "colab": {
          "base_uri": "https://localhost:8080/"
        },
        "id": "V7eDVJTQiMI2",
        "outputId": "1c871660-c167-4c14-bc77-763666adeb45"
      },
      "source": [
        "test_tree.value"
      ],
      "execution_count": null,
      "outputs": [
        {
          "output_type": "execute_result",
          "data": {
            "text/plain": [
              "19"
            ]
          },
          "metadata": {
            "tags": []
          },
          "execution_count": 32
        }
      ]
    },
    {
      "cell_type": "code",
      "metadata": {
        "id": "g598H_7nMYQR"
      },
      "source": [
        ""
      ],
      "execution_count": null,
      "outputs": []
    }
  ]
}