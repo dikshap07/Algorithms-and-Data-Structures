{
  "nbformat": 4,
  "nbformat_minor": 0,
  "metadata": {
    "colab": {
      "name": "Find closest Value in BST.ipynb",
      "provenance": [],
      "authorship_tag": "ABX9TyMUQLlVXT9q7O26J1gnGDb8",
      "include_colab_link": true
    },
    "kernelspec": {
      "name": "python3",
      "display_name": "Python 3"
    },
    "language_info": {
      "name": "python"
    }
  },
  "cells": [
    {
      "cell_type": "markdown",
      "metadata": {
        "id": "view-in-github",
        "colab_type": "text"
      },
      "source": [
        "<a href=\"https://colab.research.google.com/github/dikshap07/Algorithms-and-Data-Structures/blob/master/Find_closest_Value_in_BST.ipynb\" target=\"_parent\"><img src=\"https://colab.research.google.com/assets/colab-badge.svg\" alt=\"Open In Colab\"/></a>"
      ]
    },
    {
      "cell_type": "markdown",
      "metadata": {
        "id": "bwuJzn84W5X9"
      },
      "source": [
        "##Problem: In a given BST, find the value closest to a given integer\n"
      ]
    },
    {
      "cell_type": "markdown",
      "metadata": {
        "id": "OAYMdiqkrESQ"
      },
      "source": [
        "###Setting up BST "
      ]
    },
    {
      "cell_type": "code",
      "metadata": {
        "id": "sxephJ9YOdzI"
      },
      "source": [
        "class BST:\n",
        "\n",
        "  def __init__(self,value):\n",
        "\n",
        "    self.value = value\n",
        "    self.left = None\n",
        "    self.right = None\n",
        "\n",
        "  \n",
        "  #using iterative method\n",
        "\n",
        "\n",
        "  #Average : O(log(n)) time | O(1) space\n",
        "  #worst : O(N) time | O(1)   space\n",
        "\n",
        "  def insert(self,value):  \n",
        "\n",
        "    #initialize a variable that keeps track of what node we are at\n",
        "    currentNode = self # because in the beginning the current node is the node where we start our insertion and that is self\n",
        "\n",
        "    while True:\n",
        "\n",
        "      if value < currentNode.value:\n",
        "\n",
        "        #check if left node from here is an actual BST or the end\n",
        "\n",
        "        if currentNode.left is None:#we create a left subtree\n",
        "\n",
        "          currentNode.left = BST(value)   #if none we are adding the value that we are trying to insert \n",
        "          break                                #at this left node\n",
        "\n",
        "        else:#make left node of current node so that we can now check for its child nodes\n",
        "\n",
        "          currentNode = currentNode.left   #assigning our currentNode to the left subtree\n",
        "\n",
        "\n",
        "      else:    #to check the right sub tree for insertion\n",
        "\n",
        "        if currentNode.right is None:\n",
        "\n",
        "          currentNode.right = BST(value)\n",
        "          break\n",
        "          \n",
        "        else:\n",
        "\n",
        "          currentNode = currentNode.right\n",
        "        \n",
        "\n",
        "\n",
        "    return self   #so that we can chain the output\n",
        "\n",
        " \n",
        " \n",
        "\n",
        "  #Average : O(log(n)) time | O(1) space\n",
        "  #worst : O(N) time | O(1)   space\n",
        " \n",
        "  def contains(self,value):\n",
        "\n",
        "    currentNode = self\n",
        "\n",
        "    while currentNode is not None:\n",
        "\n",
        "      if value < currentNode.value:\n",
        "\n",
        "\n",
        "        currentNode = currentNode.left\n",
        "\n",
        "\n",
        "      elif value > currentNode.value: \n",
        "\n",
        "        currentNode = currentNode.right\n",
        "\n",
        "      else:\n",
        "\n",
        "        return True\n",
        "\n",
        "    return False\n",
        "\n",
        "  def getMinValue(self):\n",
        "\n",
        "    currentNode = self\n",
        "\n",
        "    \n",
        "\n",
        "        \n",
        "    while currentNode.left is not None:\n",
        "\n",
        "      currentNode = currentNode.left\n",
        "\n",
        "    return currentNode.value\n",
        "    \n",
        "\n",
        "\n",
        "#Average : O(log(n)) time | O(1) space\n",
        "  #worst : O(N) time | O(1)   space\n",
        "\n",
        "\n",
        "\n",
        "  def remove(self,value,parentNode = None):\n",
        "\n",
        "    currentNode = self\n",
        "\n",
        "    print(currentNode.value)\n",
        "    print(value)\n",
        "    \n",
        "    while currentNode is not None:\n",
        "\n",
        "\n",
        "      if value < currentNode.value:\n",
        "\n",
        "        parentNode = currentNode\n",
        "\n",
        "        currentNode = currentNode.left\n",
        "\n",
        "      elif value > currentNode.value:\n",
        "\n",
        "        parentNode = currentNode\n",
        "\n",
        "        currentNode = currentNode.right\n",
        "\n",
        "      else:  #when we have found the value that we need to delete\n",
        "\n",
        "\n",
        "      #case1 : if the node has both left and right child nodes\n",
        "\n",
        "        if currentNode.left is not None and currentNode.right is not None:\n",
        "\n",
        "          print('both child found for ', currentNode.value)\n",
        "\n",
        "          currentNode.value = currentNode.right.getMinValue()\n",
        "\n",
        "          #currentNode.value = smallest value of the right sub tree\n",
        "\n",
        "          #when we find the left most value in the right sub tree we remove it\n",
        "\n",
        "          currentNode.right.remove(currentNode.value,currentNode)   #because here our BST is the right \n",
        "                                                                    #tree as in currentNode.right thatys\n",
        "                                                                    #we are using currentNode.right.remove()\n",
        "\n",
        "      #case2 : when doesnt have 2 child nodes present\n",
        "\n",
        "      #case2.1 : when node is the root node or doesnt have a parent and only has one child (the above will only work when root node has both child nodes that is why we need it)\n",
        "      \n",
        "        elif parentNode is None:   \n",
        "          if currentNode.left is  not None:\n",
        "\n",
        "            print('Root node only has left child')\n",
        "\n",
        "            currentNode.value = currentNode.left.value\n",
        "            currentNode.right = currentNode.left.right\n",
        "            currentNode.left = currentNode.left.left\n",
        "\n",
        "          elif currentNode.right is not None:\n",
        "\n",
        "            print('Root node only has right child')\n",
        "\n",
        "\n",
        "            currentNode.value = currentNode.right.value            \n",
        "            currentNode.left = currentNode.right.left\n",
        "            currentNode.right = currentNode.right.right  #at last so that we dnt replace og without using it first\n",
        "\n",
        "          else:\n",
        "\n",
        "           currentNode.value = None #discuss with interviewer as this means we are deleting the BST'''\n",
        "\n",
        "      #case2.2 : when node had a parent\n",
        "        elif parentNode.left == currentNode:  #if current node is the left child of its parent node\n",
        "\n",
        "          print('if node is left')\n",
        "\n",
        "          parentNode.left = currentNode.left if currentNode.left is not None else currentNode.right   #doesnt just rpelace value efficiently rpelaces the whole sub tree\n",
        "          #above line means the left child of parent will be assigned currentNode.left is the current\n",
        "          #node has a left child otherwise it will be assigned the right child of the currentNode\n",
        "\n",
        "        elif parentNode.right == currentNode:\n",
        "\n",
        "          print('if node is right')\n",
        "\n",
        "          parentNode.right = currentNode.left if currentNode.left is not None else currentNode.right\n",
        "\n",
        "        break\n",
        "\n",
        "    \n",
        "    return self\n",
        "\n"
      ],
      "execution_count": null,
      "outputs": []
    },
    {
      "cell_type": "code",
      "metadata": {
        "id": "Zd3q5p4cW3oQ"
      },
      "source": [
        "root_node = 10\n",
        "my_tree = BST(root_node) \n",
        "tree_nodes = [5,15,2,5,1,14,13,22]\n",
        "\n",
        "for node in tree_nodes:\n",
        "  my_tree.insert(node)\n"
      ],
      "execution_count": null,
      "outputs": []
    },
    {
      "cell_type": "code",
      "metadata": {
        "colab": {
          "base_uri": "https://localhost:8080/"
        },
        "id": "1pqP_LqdeGwn",
        "outputId": "1d297e12-3480-488b-a793-8f75780c34d0"
      },
      "source": [
        "my_tree.value"
      ],
      "execution_count": null,
      "outputs": [
        {
          "output_type": "execute_result",
          "data": {
            "text/plain": [
              "10"
            ]
          },
          "metadata": {
            "tags": []
          },
          "execution_count": 34
        }
      ]
    },
    {
      "cell_type": "markdown",
      "metadata": {
        "id": "YhTXlRDneHP5"
      },
      "source": [
        "##USING ITERATION\n",
        "\n"
      ]
    },
    {
      "cell_type": "code",
      "metadata": {
        "id": "m5sLZsweeIse"
      },
      "source": [
        "#Time complexity : O(log(N)) - because we will eliminate half the tree | worst case: O(N) : if we have only tree with one branch \n",
        "#space complexity : O(1)  - only storing currentNode and closest variable values\n",
        "\n",
        "\n",
        "def closest(tree,num):\n",
        "\n",
        "  closest = float('inf')\n",
        "  currentNode = tree\n",
        "\n",
        "  #while_count = 0\n",
        "\n",
        "  while currentNode is not None:\n",
        "\n",
        "    #while_count+=1\n",
        "    #print(f'loop count is {while_count}')\n",
        "\n",
        "\n",
        "    if abs(currentNode.value - num) < abs(closest - num):     #if diff btw currentNode and number is smaller we replace closest with currentNode value\n",
        "      closest = currentNode.value\n",
        "\n",
        "\n",
        "    if num < currentNode.value:     #to search left subtree anf eliminate right sub tree\n",
        "      currentNode = currentNode.left\n",
        "\n",
        "    elif num> currentNode.value:     #to search right subtree and eliminate left subtree\n",
        "\n",
        "      currentNode = currentNode.right\n",
        "\n",
        "    elif num == currentNode.value:\n",
        "\n",
        "      closest = currentNode.value\n",
        "      break\n",
        "\n",
        "\n",
        "  return closest"
      ],
      "execution_count": null,
      "outputs": []
    },
    {
      "cell_type": "code",
      "metadata": {
        "colab": {
          "base_uri": "https://localhost:8080/"
        },
        "id": "tyCPWGGBfhSi",
        "outputId": "ea9aba54-5e30-4c81-9172-9e31a94a5ef2"
      },
      "source": [
        "print(closest(my_tree, 12))"
      ],
      "execution_count": null,
      "outputs": [
        {
          "output_type": "stream",
          "text": [
            "13\n"
          ],
          "name": "stdout"
        }
      ]
    },
    {
      "cell_type": "code",
      "metadata": {
        "id": "X4w9O5jSf4VZ"
      },
      "source": [
        ""
      ],
      "execution_count": null,
      "outputs": []
    },
    {
      "cell_type": "markdown",
      "metadata": {
        "id": "eKt6ReGykt57"
      },
      "source": [
        "##Using Recursion"
      ]
    },
    {
      "cell_type": "code",
      "metadata": {
        "id": "mSWGsT-ekwLp"
      },
      "source": [
        "#AAverage Time Complexity : O(log(N))    Worst: O(N)\n",
        "#Average Space Complexity : O(log(N))    Worst: O(N)\n",
        "\n",
        "def find_closest(num,tree):\n",
        "\n",
        "  return find_closest_helper(num,tree)\n",
        "\n",
        "\n",
        "\n",
        "def find_closest_helper(num,tree,closest = float('inf')):\n",
        "\n",
        "  if tree is None:\n",
        "    return closest\n",
        "\n",
        "  else:\n",
        "\n",
        "    if abs(tree.value - num) < abs(closest - num):\n",
        "      closest = tree.value\n",
        "\n",
        "    if num < tree.value:\n",
        "\n",
        "      return find_closest_helper(num,tree.left,closest)\n",
        "\n",
        "    elif num > tree.value:\n",
        "\n",
        "      return find_closest_helper(num,tree.right,closest)\n",
        "\n",
        "    else:\n",
        "\n",
        "      closest = tree.value\n",
        "      return closest\n",
        "\n"
      ],
      "execution_count": null,
      "outputs": []
    },
    {
      "cell_type": "code",
      "metadata": {
        "colab": {
          "base_uri": "https://localhost:8080/"
        },
        "id": "olw94Atho6YG",
        "outputId": "6f143f5d-f4c6-41ea-d60f-0465945549f4"
      },
      "source": [
        "print(find_closest(12,my_tree))"
      ],
      "execution_count": null,
      "outputs": [
        {
          "output_type": "stream",
          "text": [
            "13\n"
          ],
          "name": "stdout"
        }
      ]
    },
    {
      "cell_type": "code",
      "metadata": {
        "id": "ox1Npkw1o_j7"
      },
      "source": [
        ""
      ],
      "execution_count": null,
      "outputs": []
    }
  ]
}