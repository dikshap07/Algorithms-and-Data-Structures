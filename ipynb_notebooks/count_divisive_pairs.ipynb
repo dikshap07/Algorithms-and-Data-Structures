{
  "nbformat": 4,
  "nbformat_minor": 0,
  "metadata": {
    "colab": {
      "name": "count_divisive_pairs.ipynb",
      "provenance": [],
      "authorship_tag": "ABX9TyNhpo47AJwHx48VYnJmjMC6",
      "include_colab_link": true
    },
    "kernelspec": {
      "name": "python3",
      "display_name": "Python 3"
    },
    "language_info": {
      "name": "python"
    }
  },
  "cells": [
    {
      "cell_type": "markdown",
      "metadata": {
        "id": "view-in-github",
        "colab_type": "text"
      },
      "source": [
        "<a href=\"https://colab.research.google.com/github/dikshap07/Algorithms-and-Data-Structures/blob/master/count_divisive_pairs.ipynb\" target=\"_parent\"><img src=\"https://colab.research.google.com/assets/colab-badge.svg\" alt=\"Open In Colab\"/></a>"
      ]
    },
    {
      "cell_type": "code",
      "metadata": {
        "id": "zJ8nfNpp5TGV"
      },
      "source": [
        "#O(n**2) : Time complexity n: no of elements in list\n",
        "\n",
        "def count_pairs(a,n,k):\n",
        "    \n",
        "    pair_count = 0\n",
        "    for i in range(0,n):\n",
        "        for j in range(1,n):\n",
        "            \n",
        "            if ((a[i]+a[j])% k == 0) and i<j:\n",
        "\n",
        "                pair_count +=1\n",
        "                #print(f'{i} {j} , {a[i]} + {a[j]} = {a[i]+a[j]}')\n",
        "                \n",
        "    return pair_count            "
      ],
      "execution_count": null,
      "outputs": []
    },
    {
      "cell_type": "code",
      "metadata": {
        "id": "n5uhBzWx5cyu"
      },
      "source": [
        "#O(n): Time Complexity\n",
        "def count_divisive_pairs(A,k,n):\n",
        "\n",
        "  remainders = [0]*k  #to get the count of all remainders that we can get when we divide number by k\n",
        "\n",
        "  #adding remainders for elements in the given list\n",
        "  for a in A:\n",
        "\n",
        "    remainders[a%k] += 1  #when we divide a with k the remainder count will be updated at that reminader index\n",
        "  \n",
        "  print(remainders)\n",
        "\n",
        "  #for elements with remainder == 0: all the elements can be paired with themselves\n",
        "\n",
        "  count = remainders[0]*(remainders[0]-1)//2\n",
        "\n",
        "  #elements with remainder r can be paired with elements with remainder k-r and pair count will be product of count of r and count of k-r remainders\n",
        "\n",
        "  for i in range(1,((k+1)//2)):\n",
        "    count += (remainders[i]*remainders[k-i])\n",
        "\n",
        "  #for elements with remainder = k//2 , they can be paired with themselves so count can be same as when remainder was 0\n",
        "  \n",
        "  if k%2 ==0:  #if k is even only than we can check for elements with remainder exactly equal to k//2\n",
        "    count += remainders[k//2]*((remainders[k//2]-1)//2)\n",
        "\n",
        "  return count\n",
        "\n",
        "\n",
        "\n"
      ],
      "execution_count": null,
      "outputs": []
    },
    {
      "cell_type": "code",
      "metadata": {
        "colab": {
          "base_uri": "https://localhost:8080/"
        },
        "id": "OxmGwMUC5XZl",
        "outputId": "6e18a664-f5bd-4ce3-dcd4-fba995cc9806"
      },
      "source": [
        "nk = input().split()\n",
        "\n",
        "n = int(nk[0])\n",
        "\n",
        "k = int(nk[1])\n",
        "\n",
        "A = list(map(int, input().rstrip().split()))\n",
        "    \n",
        "print(count_divisive_pairs(A[2:],k,n))"
      ],
      "execution_count": null,
      "outputs": [
        {
          "output_type": "stream",
          "text": [
            "6 3 1 3 2 6 1 2\n",
            "6 3 1 3 2 6 1 2\n",
            "[2, 2, 2]\n",
            "5\n"
          ],
          "name": "stdout"
        }
      ]
    },
    {
      "cell_type": "code",
      "metadata": {
        "colab": {
          "base_uri": "https://localhost:8080/"
        },
        "id": "Q-TSNbgzhOlH",
        "outputId": "1b3b294e-03d4-46a3-b903-7230d7db2373"
      },
      "source": [
        "K = 2%3\n",
        "K"
      ],
      "execution_count": null,
      "outputs": [
        {
          "output_type": "execute_result",
          "data": {
            "text/plain": [
              "2"
            ]
          },
          "metadata": {
            "tags": []
          },
          "execution_count": 14
        }
      ]
    },
    {
      "cell_type": "code",
      "metadata": {
        "id": "qtew26I0hvQc"
      },
      "source": [
        ""
      ],
      "execution_count": null,
      "outputs": []
    }
  ]
}