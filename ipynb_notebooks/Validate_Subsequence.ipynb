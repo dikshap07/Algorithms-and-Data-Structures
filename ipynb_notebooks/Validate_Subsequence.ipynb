{
  "nbformat": 4,
  "nbformat_minor": 0,
  "metadata": {
    "colab": {
      "name": "Validate Subsequence.ipynb",
      "provenance": [],
      "collapsed_sections": [],
      "authorship_tag": "ABX9TyMUBxYtHeDmq6WVNQ0hEmMO",
      "include_colab_link": true
    },
    "kernelspec": {
      "name": "python3",
      "display_name": "Python 3"
    },
    "language_info": {
      "name": "python"
    }
  },
  "cells": [
    {
      "cell_type": "markdown",
      "metadata": {
        "id": "view-in-github",
        "colab_type": "text"
      },
      "source": [
        "<a href=\"https://colab.research.google.com/github/dikshap07/Algorithms-and-Data-Structures/blob/master/Validate_Subsequence.ipynb\" target=\"_parent\"><img src=\"https://colab.research.google.com/assets/colab-badge.svg\" alt=\"Open In Colab\"/></a>"
      ]
    },
    {
      "cell_type": "markdown",
      "metadata": {
        "id": "476TYVI3U57A"
      },
      "source": [
        "Problem Statement: I/p: Two non empty arrays of integers .Determine if the second array is a valid subsequence of the first array. \n",
        "Valid Subsequence: Order of elements in subsequence should be same as that in the original sequence.(dont need to be adjacent but in same order)\n",
        "eg. [5,1,22,25,6,-1,8,10] valid subsequence will be : [22,6,8]  "
      ]
    },
    {
      "cell_type": "code",
      "metadata": {
        "id": "YqxjtClxWPaV"
      },
      "source": [
        "def validate_subseq(a1,a2):  #a1: original array                 a2: subsequence\n",
        "  if len(a2)<= len(a1):\n",
        "\n",
        "    nums = {}    #declaring Hash Table\n",
        "\n",
        "    for num in a2:\n",
        "      if num in a1:\n",
        "\n",
        "        hash = a1.index(num)   #getting index of matched element in a1\n",
        "\n",
        "        nums[hash] = num       #key = index of the matched element in a1 and value will be the num\n",
        "        a1.remove(a1[hash])     #removing matched element from a1 and only from its index so that if this element appears in a1 we wont miss it and it will take care of repeating values in a2\n",
        "\n",
        "      else:\n",
        "\n",
        "\n",
        "        return ('Invalid Subsequence')  #if even a single num doesnt match we can stop and declare that subseq is invalid\n",
        "        break\n",
        "    \n",
        "    print(nums)\n",
        "\n",
        "    if nums!={}:    #to check the order of the elements in a2\n",
        "\n",
        "      order = list(nums.keys())   #getting keys of seq because that is the order of elements in a1\n",
        "\n",
        "      for i in range(0,len(order)-1):\n",
        "\n",
        "        if order[i]<order[i+1]:      #if every key is smaller than the next one than order of elements in a2 will match that in a1\n",
        "\n",
        "          continue\n",
        "\n",
        "\n",
        "        else:\n",
        "\n",
        "            return ('Invalid Subsequence')\n",
        "\n",
        "      return ('Valid Subsequence')\n",
        "\n",
        "\n"
      ],
      "execution_count": null,
      "outputs": []
    },
    {
      "cell_type": "code",
      "metadata": {
        "colab": {
          "base_uri": "https://localhost:8080/",
          "height": 52
        },
        "id": "jHFN_mm6Zk1r",
        "outputId": "006e87fc-21b9-4244-afeb-e57c5523fbc9"
      },
      "source": [
        "a1 =  [5,1,5,25,6,-1,8,10]\n",
        "a2 = [1,6,-1,10]\n",
        "#a2 = [5,5]\n",
        "#a2 = [25,-1,1]\n",
        "       \n",
        "validate_subseq(a1,a2)"
      ],
      "execution_count": null,
      "outputs": [
        {
          "output_type": "stream",
          "text": [
            "{1: 1, 3: -1, 4: 10}\n"
          ],
          "name": "stdout"
        },
        {
          "output_type": "execute_result",
          "data": {
            "application/vnd.google.colaboratory.intrinsic+json": {
              "type": "string"
            },
            "text/plain": [
              "'Valid Subsequence'"
            ]
          },
          "metadata": {
            "tags": []
          },
          "execution_count": 31
        }
      ]
    },
    {
      "cell_type": "code",
      "metadata": {
        "id": "-0acIBV3bHIo"
      },
      "source": [
        ""
      ],
      "execution_count": null,
      "outputs": []
    },
    {
      "cell_type": "markdown",
      "metadata": {
        "id": "KWcm7NfwgZDM"
      },
      "source": [
        "APPROACH-02- OPTIMIZED (using while)"
      ]
    },
    {
      "cell_type": "code",
      "metadata": {
        "id": "HcUF8iuRj9PV"
      },
      "source": [
        "def valid_seq(A,a):\n",
        "\n",
        "\n",
        "  #if len(a)<= len(A):\n",
        "\n",
        "  pointerA = 0\n",
        "  pointera = 0\n",
        "\n",
        "  while pointerA < len(A) and pointera < len(a):\n",
        "\n",
        "    if a[pointera] == A[pointerA]:\n",
        "\n",
        "      pointera += 1\n",
        "      pointerA += 1\n",
        "      \n",
        "    else:\n",
        "      pointerA +=1\n",
        "\n",
        "  \n",
        "  return pointera == len(a)   #we will onlu have a valid sub seq if the if loop has run len(a) times that means the pointera would have become  equal to len(a)  \n",
        "\n"
      ],
      "execution_count": null,
      "outputs": []
    },
    {
      "cell_type": "code",
      "metadata": {
        "colab": {
          "base_uri": "https://localhost:8080/"
        },
        "id": "dipUtUm-oMw6",
        "outputId": "4fe13c32-7862-4ee6-f06a-60309fa6416d"
      },
      "source": [
        "a1 =  [5,1,22,25,6,-1,8,10]\n",
        "#a2 = [1,6,-1,10]\n",
        "a2 = [5,5]\n",
        "#a2 = [25,-1,1]\n",
        "       \n",
        "valid_seq(a1,a2)"
      ],
      "execution_count": null,
      "outputs": [
        {
          "output_type": "execute_result",
          "data": {
            "text/plain": [
              "False"
            ]
          },
          "metadata": {
            "tags": []
          },
          "execution_count": 62
        }
      ]
    },
    {
      "cell_type": "markdown",
      "metadata": {
        "id": "gzMqth1dxWxn"
      },
      "source": [
        "APPROACH-02- OPTIMIZED (using while)"
      ]
    },
    {
      "cell_type": "code",
      "metadata": {
        "id": "VgYatcp-oYei"
      },
      "source": [
        "def valid_seq_for(A,a):\n",
        "\n",
        "  #if len(a)<= len(A):\n",
        "\n",
        "  pointerA = 0\n",
        "\n",
        "  for value in A:\n",
        "\n",
        "    if pointera == len(a):\n",
        "\n",
        "      return True\n",
        "\n",
        "    if a[pointera] == value:\n",
        "\n",
        "      pointera += 1\n",
        "\n",
        "  return pointera == len(a)"
      ],
      "execution_count": null,
      "outputs": []
    },
    {
      "cell_type": "code",
      "metadata": {
        "colab": {
          "base_uri": "https://localhost:8080/"
        },
        "id": "JY6JcEuHx-ik",
        "outputId": "3a4d9ec9-2056-49f6-b035-1bdc128dd1f2"
      },
      "source": [
        "a1 =  [5,1,22,25,6,-1,8,10]\n",
        "a2 = [1,6,-1,10]\n",
        "#a2 = [5,5]\n",
        "#a2 = [25,-1,1]\n",
        "       \n",
        "valid_seq(a1,a2)"
      ],
      "execution_count": null,
      "outputs": [
        {
          "output_type": "execute_result",
          "data": {
            "text/plain": [
              "True"
            ]
          },
          "metadata": {
            "tags": []
          },
          "execution_count": 65
        }
      ]
    },
    {
      "cell_type": "code",
      "metadata": {
        "id": "4VCwno-9yAiz"
      },
      "source": [
        ""
      ],
      "execution_count": null,
      "outputs": []
    }
  ]
}