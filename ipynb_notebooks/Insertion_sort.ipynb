{
  "nbformat": 4,
  "nbformat_minor": 0,
  "metadata": {
    "colab": {
      "name": "Insertion sort.ipynb",
      "provenance": [],
      "authorship_tag": "ABX9TyOAqrwz5REoQ66XbhdMr1vF",
      "include_colab_link": true
    },
    "kernelspec": {
      "name": "python3",
      "display_name": "Python 3"
    },
    "language_info": {
      "name": "python"
    }
  },
  "cells": [
    {
      "cell_type": "markdown",
      "metadata": {
        "id": "view-in-github",
        "colab_type": "text"
      },
      "source": [
        "<a href=\"https://colab.research.google.com/github/dikshap07/Algorithms-and-Data-Structures/blob/master/Insertion_sort.ipynb\" target=\"_parent\"><img src=\"https://colab.research.google.com/assets/colab-badge.svg\" alt=\"Open In Colab\"/></a>"
      ]
    },
    {
      "cell_type": "code",
      "metadata": {
        "id": "EgNM1HBfXGG7"
      },
      "source": [
        "def insertion_sort(A):\n",
        "\n",
        "  for i in range(1,len(A)):\n",
        "\n",
        "    current_e = A[i]\n",
        "    j = i-1\n",
        "\n",
        "    while j>=0 and current_e < A[j]:\n",
        "\n",
        "      A[j+1] = A[j]\n",
        "      j = j-1\n",
        "\n",
        "    A[j+1] = current_e\n",
        "\n",
        "  return A"
      ],
      "execution_count": null,
      "outputs": []
    },
    {
      "cell_type": "code",
      "metadata": {
        "colab": {
          "base_uri": "https://localhost:8080/"
        },
        "id": "XDWjYVGVbFoc",
        "outputId": "0ccd2d89-cc84-4687-dc1e-57807b77976b"
      },
      "source": [
        "A = [10,1,6,3,5]\n",
        "k = insertion_sort_d(A)\n",
        "print(k)"
      ],
      "execution_count": 16,
      "outputs": [
        {
          "output_type": "stream",
          "name": "stdout",
          "text": [
            "[10, 6, 5, 3, 1]\n"
          ]
        }
      ]
    },
    {
      "cell_type": "code",
      "metadata": {
        "id": "fPvoW1inbMHO"
      },
      "source": [
        "def insertion_sort_d(A):\n",
        "\n",
        "  for i in range(1,len(A)):\n",
        "\n",
        "    current_e = A[i]\n",
        "    j = i-1\n",
        "\n",
        "    while j>=0 and current_e > A[j]:\n",
        "\n",
        "      A[j+1] = A[j]\n",
        "      j = j-1\n",
        "\n",
        "    A[j+1] = current_e\n",
        "\n",
        "  return A"
      ],
      "execution_count": 15,
      "outputs": []
    },
    {
      "cell_type": "code",
      "metadata": {
        "id": "kK0AbcNLOWSV"
      },
      "source": [
        ""
      ],
      "execution_count": null,
      "outputs": []
    }
  ]
}