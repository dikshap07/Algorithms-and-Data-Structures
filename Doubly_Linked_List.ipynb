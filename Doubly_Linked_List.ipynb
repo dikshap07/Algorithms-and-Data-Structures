{
  "nbformat": 4,
  "nbformat_minor": 0,
  "metadata": {
    "colab": {
      "name": "Doubly Linked List.ipynb",
      "provenance": [],
      "authorship_tag": "ABX9TyNGLIu6N5q+/mjRhjdRXYu2",
      "include_colab_link": true
    },
    "kernelspec": {
      "name": "python3",
      "display_name": "Python 3"
    },
    "language_info": {
      "name": "python"
    }
  },
  "cells": [
    {
      "cell_type": "markdown",
      "metadata": {
        "id": "view-in-github",
        "colab_type": "text"
      },
      "source": [
        "<a href=\"https://colab.research.google.com/github/dikshap07/Algorithms-and-Data-Structures/blob/master/Doubly_Linked_List.ipynb\" target=\"_parent\"><img src=\"https://colab.research.google.com/assets/colab-badge.svg\" alt=\"Open In Colab\"/></a>"
      ]
    },
    {
      "cell_type": "code",
      "metadata": {
        "id": "9JEg9yjKONZg"
      },
      "source": [
        "class Node:\n",
        "\n",
        "  def __init__(self,value,prev = None,next = None):\n",
        "    self.value = value\n",
        "    self.next = next\n",
        "    self.prev = prev\n",
        "\n",
        "\n",
        "class DoublyLinkedList:\n",
        "\n",
        "  def __init__(self):\n",
        "    self.head = None\n",
        "    self.tail = None\n",
        "\n",
        "\n",
        "  #Method  to add element to the front of the linked list\n",
        "\n",
        "  def PushFrontt(self,key):\n",
        "\n",
        "    new_head = Node(key)\n",
        "\n",
        "\n",
        "    if self.head == None:  #linkedlist is empty\n",
        "\n",
        "      self.head = new_head\n",
        "      self.tail = new_head\n",
        "      new_head.next = None\n",
        "\n",
        "    self.head.prev = new_head\n",
        "    new_head.next = self.head\n",
        "    \n",
        "    self.head = new_head\n",
        "    new_head.prev = self.head\n",
        "    \n",
        "\n",
        "\n",
        "\n",
        "  #Method  to add element to the front of the linked list WITHOUT USING TAIL\n",
        "\n",
        "\n",
        "  def PushFront(self,key):\n",
        "\n",
        "    if self.head == None:\n",
        "\n",
        "      node = Node(key,self.head,None)\n",
        "      self.head = node\n",
        "      self.tail = node\n",
        "\n",
        "    else:\n",
        "\n",
        "      node = Node(key,None,self.head)\n",
        "      self.head.prev = node\n",
        "      self.head = node\n",
        "      node.prev = None\n",
        "\n",
        "\n",
        "\n",
        "  #Method  to delete element from the front of the linked list\n",
        "\n",
        "  def PopFront(self):\n",
        "\n",
        "    if self.head == None:\n",
        "      raise Exception(\"LINKED LIST EMPTY\")\n",
        "\n",
        "    if self.head == self.tail:\n",
        "\n",
        "      self.head = self.tail = None\n",
        "\n",
        "    else:\n",
        "      self.head = self.head.next\n",
        "      self.head.prev = None\n",
        "\n",
        "\n",
        "  #Method to get the last element with TAIL pointer\n",
        "\n",
        "  def get_last_node(self):\n",
        "\n",
        "    node = self.head\n",
        "    while node.next:\n",
        "\n",
        "      node = node.next\n",
        "\n",
        "    return node\n",
        "\n",
        "\n",
        "  #Method  to add element to the back of the linked list using TAIL pointer\n",
        "\n",
        "  def PushBackt(self,key):\n",
        "\n",
        "    new_node = Node(key)\n",
        "\n",
        "    if self.tail == None:\n",
        "\n",
        "      self.head = new_node\n",
        "      self.tail = new_node\n",
        "      new_node.prev = None\n",
        "    \n",
        "    new_node.prev = self.tail\n",
        "    self.tail.next = new_node\n",
        "    self.tail = new_node\n",
        "    new_node.next = None\n",
        "\n",
        "\n",
        "  #Method  to add element to the back of the linked list WITHOUT using TAIL\n",
        "\n",
        "  def PushBack(self, value):\n",
        "    \n",
        "\n",
        "    if self.head == None:\n",
        "\n",
        "      self.head = Node(value,None,None)\n",
        "    \n",
        "\n",
        "    last_node = self.get_last_node()  \n",
        "    new_last_node = Node(value)  \n",
        "\n",
        "    last_node.next = new_last_node\n",
        "    new_last_node.prev = last_node\n",
        "    new_last_node.next = None\n",
        "\n",
        "  #Method  to delete element from the back of the linked list using TAIL pointer\n",
        "\n",
        "  def PopBackt(self):\n",
        "\n",
        "    if self.tail == None:\n",
        "      raise Exception(\"LINKED LIST EMPTY\")\n",
        "\n",
        "    if self.head == self.tail:\n",
        "\n",
        "      self.head = self.tail = None\n",
        "\n",
        "    else:\n",
        "      self.tail = self.tail.prev\n",
        "      self.tail.next = None\n",
        "\n",
        "\n",
        "\n",
        "\n",
        "\n",
        "  #Method to print the the linked list from head to tail\n",
        "  def print_forward(self):\n",
        "\n",
        "    if self.head == None:\n",
        "      print(\"LINKED LIST IS EMPTY\")\n",
        "      return\n",
        "\n",
        "    node = self.head\n",
        "    node_str = 'head -->'\n",
        "\n",
        "    while node:\n",
        "\n",
        "      node_str += str(node.value) + '-->'\n",
        "      #print(node_str)\n",
        "      #print(f\" prev of {node.value} - {node.prev.value}\")\n",
        "      #print(f\"next of {node.value} - {node.next.value}\")\n",
        "\n",
        "      node = node.next\n",
        "\n",
        "    node_str  += 'tail'\n",
        "    print(node_str)\n",
        "\n",
        "\n",
        "  #Method to print the the linked list from tail to head\n",
        "  def print_backwardt(self):\n",
        "\n",
        "\n",
        "    if self.head == None:\n",
        "      print(\"LINKED LIST IS EMPTY\")\n",
        "      return\n",
        "\n",
        "    node = self.tail\n",
        "    #print(node.value)\n",
        "    node_str = 'tail -->'\n",
        "\n",
        "    while node:\n",
        "\n",
        "      node_str += str(node.value) + '-->'\n",
        "      #print(node_str)\n",
        "      #print(f\" prev of {node.value} - {node.prev.value}\")\n",
        "      #print(f\"next of {node.value} - {node.next.value}\")\n",
        "\n",
        "      node = node.prev\n",
        "    node_str += 'head'\n",
        "    print(node_str)\n",
        "\n",
        "\n",
        "  #Method to print the linked list from tail to head without using TAIL\n",
        "\n",
        "  def print_backward(self):\n",
        "\n",
        "    if self.head == None:\n",
        "      print(\"LINKED LIST IS EMPTY\")\n",
        "      return\n",
        "\n",
        "    last_node = self.get_last_node()\n",
        "    node = last_node\n",
        "\n",
        "    node_str = 'tail -->'\n",
        "\n",
        "    while node:\n",
        "      node_str += str(node.value) + '-->'\n",
        "      #print(f\" prev of {node.value} - {node.prev.value}\")\n",
        "      #print(f\"next of {node.value} - {node.next.value}\")\n",
        "\n",
        "      node = node.prev\n",
        "\n",
        "    node_str += 'head'\n",
        "\n",
        "    print(node_str)\n",
        "\n",
        "\n",
        "\n"
      ],
      "execution_count": 54,
      "outputs": []
    },
    {
      "cell_type": "code",
      "metadata": {
        "id": "cEE325oL-TzR"
      },
      "source": [
        "dll = DoublyLinkedList()\n",
        "ll_elements = [1,2,3,4,5,6]\n",
        "for i in ll_elements:\n",
        "\n",
        "  dll.PushFront(i)"
      ],
      "execution_count": 55,
      "outputs": []
    },
    {
      "cell_type": "code",
      "metadata": {
        "colab": {
          "base_uri": "https://localhost:8080/"
        },
        "id": "3i7EE4bTjHs2",
        "outputId": "a3e6938d-cbbb-4b61-dfec-4695910fbb7d"
      },
      "source": [
        "dll.tail.prev.value"
      ],
      "execution_count": 56,
      "outputs": [
        {
          "output_type": "execute_result",
          "data": {
            "text/plain": [
              "2"
            ]
          },
          "metadata": {
            "tags": []
          },
          "execution_count": 56
        }
      ]
    },
    {
      "cell_type": "code",
      "metadata": {
        "colab": {
          "base_uri": "https://localhost:8080/"
        },
        "id": "FLkgpwDmkiWf",
        "outputId": "e56a6808-9886-4784-d5eb-54f54966db47"
      },
      "source": [
        "dll.head.next.value"
      ],
      "execution_count": 57,
      "outputs": [
        {
          "output_type": "execute_result",
          "data": {
            "text/plain": [
              "5"
            ]
          },
          "metadata": {
            "tags": []
          },
          "execution_count": 57
        }
      ]
    },
    {
      "cell_type": "code",
      "metadata": {
        "colab": {
          "base_uri": "https://localhost:8080/"
        },
        "id": "EZbcEaVcC5-U",
        "outputId": "f5a1328a-2116-4d8c-dcff-3f2a486696d9"
      },
      "source": [
        "dll.print_forward()"
      ],
      "execution_count": 58,
      "outputs": [
        {
          "output_type": "stream",
          "text": [
            "head -->6-->5-->4-->3-->2-->1-->tail\n"
          ],
          "name": "stdout"
        }
      ]
    },
    {
      "cell_type": "code",
      "metadata": {
        "id": "F78riTFyC23g"
      },
      "source": [
        "dll2 = DoublyLinkedList()\n",
        "ll_elements = [1,2,3,4,5,6]\n",
        "for i in ll_elements:\n",
        "\n",
        "  dll2.PushBackt(i)"
      ],
      "execution_count": 59,
      "outputs": []
    },
    {
      "cell_type": "code",
      "metadata": {
        "colab": {
          "base_uri": "https://localhost:8080/",
          "height": 167
        },
        "id": "kUQ3QCnqhHDP",
        "outputId": "9af05e1a-c010-465d-c32d-b0c77dd7dc4f"
      },
      "source": [
        "dll2.print_backwardt()"
      ],
      "execution_count": 1,
      "outputs": [
        {
          "output_type": "error",
          "ename": "NameError",
          "evalue": "ignored",
          "traceback": [
            "\u001b[0;31m---------------------------------------------------------------------------\u001b[0m",
            "\u001b[0;31mNameError\u001b[0m                                 Traceback (most recent call last)",
            "\u001b[0;32m<ipython-input-1-c7936f7507af>\u001b[0m in \u001b[0;36m<module>\u001b[0;34m()\u001b[0m\n\u001b[0;32m----> 1\u001b[0;31m \u001b[0mdll2\u001b[0m\u001b[0;34m.\u001b[0m\u001b[0mprint_backwardt\u001b[0m\u001b[0;34m(\u001b[0m\u001b[0;34m)\u001b[0m\u001b[0;34m\u001b[0m\u001b[0;34m\u001b[0m\u001b[0m\n\u001b[0m",
            "\u001b[0;31mNameError\u001b[0m: name 'dll2' is not defined"
          ]
        }
      ]
    },
    {
      "cell_type": "code",
      "metadata": {
        "colab": {
          "base_uri": "https://localhost:8080/"
        },
        "id": "gsu8tz78FC88",
        "outputId": "ffc23559-da7d-4810-a248-cf95a3c0c30b"
      },
      "source": [
        "# dll.PopBack()\n",
        "#dll.PopFront()'\n",
        "dll.get_last_node()"
      ],
      "execution_count": 5,
      "outputs": [
        {
          "output_type": "execute_result",
          "data": {
            "text/plain": [
              "<__main__.Node at 0x7f2e197ca390>"
            ]
          },
          "metadata": {
            "tags": []
          },
          "execution_count": 5
        }
      ]
    },
    {
      "cell_type": "code",
      "metadata": {
        "id": "tYQwTkMwHPIx"
      },
      "source": [
        ""
      ],
      "execution_count": null,
      "outputs": []
    },
    {
      "cell_type": "code",
      "metadata": {
        "colab": {
          "base_uri": "https://localhost:8080/"
        },
        "id": "HG2cAclMkvFh",
        "outputId": "c5d64ec9-5d4a-4f0d-e6b8-dedbf8344287"
      },
      "source": [
        "dll.print_forward()"
      ],
      "execution_count": 7,
      "outputs": [
        {
          "output_type": "stream",
          "text": [
            "head -->1-->1-->2-->3-->4-->5-->6-->tail\n"
          ],
          "name": "stdout"
        }
      ]
    },
    {
      "cell_type": "code",
      "metadata": {
        "colab": {
          "base_uri": "https://localhost:8080/"
        },
        "id": "1lVIqgFAGYZx",
        "outputId": "f0f55427-8579-4c0a-a1f8-73c1ac6591ff"
      },
      "source": [
        "#dll.PopBack()\n",
        "#dll.PopFront()\n",
        "dll.get_last_node().value"
      ],
      "execution_count": 102,
      "outputs": [
        {
          "output_type": "execute_result",
          "data": {
            "text/plain": [
              "6"
            ]
          },
          "metadata": {
            "tags": []
          },
          "execution_count": 102
        }
      ]
    },
    {
      "cell_type": "code",
      "metadata": {
        "id": "9uLsYmbA-SFK"
      },
      "source": [
        "#dll.PushFront(9)\n",
        "#dll.PushFront(8)\n",
        "dll.PushFront(7)"
      ],
      "execution_count": 15,
      "outputs": []
    },
    {
      "cell_type": "code",
      "metadata": {
        "colab": {
          "base_uri": "https://localhost:8080/"
        },
        "id": "3YuuUN5TfiNS",
        "outputId": "302d8fbc-8aea-4fd4-b723-56b824fe7576"
      },
      "source": [
        "six_next = dll.head.next\n",
        "k = six_next\n",
        "k.value\n",
        "#dll.head.value"
      ],
      "execution_count": 68,
      "outputs": [
        {
          "output_type": "execute_result",
          "data": {
            "text/plain": [
              "8"
            ]
          },
          "metadata": {
            "tags": []
          },
          "execution_count": 68
        }
      ]
    },
    {
      "cell_type": "code",
      "metadata": {
        "colab": {
          "base_uri": "https://localhost:8080/"
        },
        "id": "d5d620IPfloJ",
        "outputId": "377ebd6c-08ee-44a2-d2da-d8211bc920e7"
      },
      "source": [
        "dll.tail.value"
      ],
      "execution_count": 55,
      "outputs": [
        {
          "output_type": "execute_result",
          "data": {
            "text/plain": [
              "9"
            ]
          },
          "metadata": {
            "tags": []
          },
          "execution_count": 55
        }
      ]
    },
    {
      "cell_type": "code",
      "metadata": {
        "colab": {
          "base_uri": "https://localhost:8080/",
          "height": 167
        },
        "id": "FLOf0gNpkzEB",
        "outputId": "765d6ef7-1663-4f75-cf51-ce3ed960ccec"
      },
      "source": [
        ""
      ],
      "execution_count": 23,
      "outputs": [
        {
          "output_type": "error",
          "ename": "AttributeError",
          "evalue": "ignored",
          "traceback": [
            "\u001b[0;31m---------------------------------------------------------------------------\u001b[0m",
            "\u001b[0;31mAttributeError\u001b[0m                            Traceback (most recent call last)",
            "\u001b[0;32m<ipython-input-23-4a84a87237b4>\u001b[0m in \u001b[0;36m<module>\u001b[0;34m()\u001b[0m\n\u001b[0;32m----> 1\u001b[0;31m \u001b[0mdll\u001b[0m\u001b[0;34m.\u001b[0m\u001b[0mhead\u001b[0m\u001b[0;34m.\u001b[0m\u001b[0mnext\u001b[0m\u001b[0;34m.\u001b[0m\u001b[0mvalue\u001b[0m\u001b[0;34m\u001b[0m\u001b[0;34m\u001b[0m\u001b[0m\n\u001b[0m",
            "\u001b[0;31mAttributeError\u001b[0m: 'NoneType' object has no attribute 'value'"
          ]
        }
      ]
    },
    {
      "cell_type": "code",
      "metadata": {
        "id": "tjACwHp__F4p"
      },
      "source": [
        "\n",
        "    if self.tail == None:\n",
        "\n",
        "      self.head = new_node\n",
        "      self.tail = new_node\n",
        "      new_node.prev = None\n",
        "\n",
        "\n",
        "    self.tail.next = new_node\n",
        "    new_node.prev = self.tail\n",
        "\n",
        "    self.tail = new_node"
      ],
      "execution_count": null,
      "outputs": []
    }
  ]
}