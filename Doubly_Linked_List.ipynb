{
  "nbformat": 4,
  "nbformat_minor": 0,
  "metadata": {
    "colab": {
      "name": "Doubly Linked List.ipynb",
      "provenance": [],
      "authorship_tag": "ABX9TyNj/Is3/HwmQlwZVJKG2kJ/",
      "include_colab_link": true
    },
    "kernelspec": {
      "name": "python3",
      "display_name": "Python 3"
    },
    "language_info": {
      "name": "python"
    }
  },
  "cells": [
    {
      "cell_type": "markdown",
      "metadata": {
        "id": "view-in-github",
        "colab_type": "text"
      },
      "source": [
        "<a href=\"https://colab.research.google.com/github/dikshap07/Algorithms-and-Data-Structures/blob/master/Doubly_Linked_List.ipynb\" target=\"_parent\"><img src=\"https://colab.research.google.com/assets/colab-badge.svg\" alt=\"Open In Colab\"/></a>"
      ]
    },
    {
      "cell_type": "code",
      "metadata": {
        "id": "9JEg9yjKONZg"
      },
      "source": [
        "class Node:\n",
        "\n",
        "  def __init__(self,value,prev = None,next = None):\n",
        "    self.value = value\n",
        "    self.next = next\n",
        "    self.prev = prev\n",
        "\n",
        "\n",
        "class DoublyLinkedList:\n",
        "\n",
        "  def __init__(self):\n",
        "    self.head = None\n",
        "    self.tail = None\n",
        "\n",
        "\n",
        "  #Method  to add element to the front of the linked list\n",
        "\n",
        "  def PushFrontt(self,key):\n",
        "\n",
        "    new_head = Node(key)\n",
        "\n",
        "\n",
        "    if self.head == None:  #linkedlist is empty\n",
        "\n",
        "      self.head = new_head\n",
        "      self.tail = new_head\n",
        "      new_head.next = None\n",
        "\n",
        "    self.head.prev = new_head\n",
        "    new_head.next = self.head\n",
        "    \n",
        "    self.head = new_head\n",
        "    new_head.prev = self.head\n",
        "\n",
        "\n",
        "  #Method  to add element to the front of the linked list WITHOUT USING TAIL\n",
        "\n",
        "\n",
        "  def PushFront(self,key):\n",
        "\n",
        "    if self.head == None:\n",
        "\n",
        "      node = Node(key,self.head,None)\n",
        "      self.head = node\n",
        "      self.tail = node\n",
        "\n",
        "    else:\n",
        "\n",
        "      node = Node(key,None,self.head)\n",
        "      self.head.prev = node\n",
        "      self.head = node\n",
        "      node.prev = None\n",
        "\n",
        "\n",
        "\n",
        "  #Method  to delete element from the front of the linked list\n",
        "\n",
        "  def PopFront(self):\n",
        "\n",
        "    if self.head == None:\n",
        "      raise Exception(\"LINKED LIST EMPTY\")\n",
        "\n",
        "    if self.head == self.tail:\n",
        "\n",
        "      self.head = self.tail = None\n",
        "\n",
        "    else:\n",
        "      self.head = self.head.next\n",
        "      self.head.prev = None\n",
        "\n",
        "\n",
        "  #Method to get the last element with TAIL pointer\n",
        "\n",
        "  def get_last_node(self):\n",
        "\n",
        "    node = self.head\n",
        "    while node.next:\n",
        "\n",
        "      node = node.next\n",
        "\n",
        "    return node\n",
        "\n",
        "\n",
        "  #Method to get the count of the linkedlist\n",
        "\n",
        "  def length_ll(self):\n",
        "\n",
        "    if self.head == None:\n",
        "      return 'linked list  is empty'\n",
        "\n",
        "    node = self.head \n",
        "    count = 0\n",
        "    while node:\n",
        "\n",
        "      node = node.next\n",
        "      count+=1\n",
        "\n",
        "    return count\n",
        "\n",
        "\n",
        "\n",
        "  #Method  to add element to the back of the linked list using TAIL pointer\n",
        "\n",
        "  def PushBackt(self,key):\n",
        "\n",
        "    new_node = Node(key)\n",
        "\n",
        "    if self.tail == None:\n",
        "\n",
        "      self.head = new_node\n",
        "      self.head.prev = None\n",
        "      self.tail = new_node\n",
        "      self.tail.next = None\n",
        "\n",
        "\n",
        "    self.head.prev = None\n",
        "\n",
        "    #print('tail',self.tail.value)\n",
        "    self.tail.next = new_node\n",
        "    new_node.prev = self.tail\n",
        "    self.tail = new_node\n",
        "    new_node.next = None\n",
        "    #print('new_tail',self.tail.value)\n",
        "    #print('tail prev',new_node.prev.value)\n",
        "    \n",
        "\n",
        "\n",
        "  #Method  to add element to the back of the linked list WITHOUT using TAIL\n",
        "\n",
        "  def PushBack(self, value):\n",
        "     \n",
        "\n",
        "    if self.head == None:\n",
        "\n",
        "      self.head = Node(value)\n",
        "      self.tail = Node(value)\n",
        "      return \n",
        "    \n",
        "    self.head.prev = None\n",
        "    node = self.head\n",
        "    while node.next:\n",
        "\n",
        "      node = node.next\n",
        "    \n",
        "    node.next = Node(value,node,None)\n",
        "    node.next.prev = node\n",
        "    \n",
        "    \n",
        "\n",
        "  #Method  to delete element from the back of the linked list using TAIL pointer\n",
        "\n",
        "  def PopBackt(self):\n",
        "\n",
        "    if self.tail == None:\n",
        "      raise Exception(\"LINKED LIST EMPTY\")\n",
        "\n",
        "    if self.head == self.tail:\n",
        "\n",
        "      self.head = self.tail = None\n",
        "\n",
        "    else:\n",
        "      self.tail = self.tail.prev\n",
        "      self.tail.next = None\n",
        "\n",
        "\n",
        "  def insert_at_index(self,index,value):\n",
        "\n",
        "    if index == 0:\n",
        "\n",
        "      self.PushFront(value)\n",
        "      return\n",
        "\n",
        "    if index <0 or index >= self.length_ll():\n",
        "\n",
        "      raise Exception('Index out of range')\n",
        "\n",
        "    new_node = Node(value)\n",
        "    count = 0\n",
        "    node = self.head\n",
        "\n",
        "    while node:\n",
        "\n",
        "      if count == index -1:\n",
        "\n",
        "        node.next.prev = new_node\n",
        "        new_node.next = node.next\n",
        "        new_node.prev = node\n",
        "        node.next = new_node\n",
        "        break\n",
        "        \n",
        "        \n",
        "\n",
        "      node = node.next\n",
        "      count +=1\n",
        "\n",
        "\n",
        "  #Method to delete element from an index\n",
        "\n",
        "  def index_to_delete(self,index):\n",
        "    print(\"linked_list lenght\",self.length_ll())\n",
        "\n",
        "    if index == 0:\n",
        "\n",
        "      self.PopFront()\n",
        "      return\n",
        "\n",
        "    if index == self.length_ll() - 1:\n",
        "      self.PopBackt()\n",
        "      return\n",
        "\n",
        "    if index<0 or index>=self.length_ll():\n",
        "      print(\"index\",index)\n",
        "      print(\"linked_list lenght2\",self.length_ll())\n",
        "\n",
        "\n",
        "      raise Exception('Index out of range')\n",
        "\n",
        "    count = 0\n",
        "    node = self.head\n",
        "\n",
        "    while node:\n",
        "\n",
        "      if count == index - 1:\n",
        "\n",
        "        node.next = node.next.next\n",
        "        node.next.prev = node\n",
        "        break\n",
        "\n",
        "      node = node.next\n",
        "      count+= 1\n",
        "    \n",
        "\n",
        "  #Method to delete first element with given value\n",
        "  def delete_by_value(self,data):\n",
        "\n",
        "    if self.head.value == data:\n",
        "      self.PopFront()\n",
        "      return\n",
        "\n",
        "    if self.head == None:\n",
        "      \n",
        "      raise Exception('Linked list Empty')\n",
        "    \n",
        "    count = 0\n",
        "    node = self.head\n",
        "\n",
        "    while node:\n",
        "\n",
        "      if node.value == data:\n",
        "\n",
        "        self.index_to_delete(count)\n",
        "        break\n",
        "\n",
        "      node = node.next\n",
        "      count+=1   \n",
        "\n",
        "\n",
        "\n",
        "  #Method to print the the linked list from head to tail\n",
        "  def print_forward(self):\n",
        "\n",
        "    if self.head == None :\n",
        "      print(\"LINKED LIST IS EMPTY\")\n",
        "      return\n",
        "\n",
        "    node = self.head\n",
        "    node_str = 'head -->'\n",
        "\n",
        "    while node:\n",
        "\n",
        "      node_str += str(node.value) + '-->'\n",
        "      #print(node_str)\n",
        "      #print(f\" prev of {node.value} - {node.prev.value}\")\n",
        "      #print(f\"next of {node.value} - {node.next.value}\")\n",
        "\n",
        "      node = node.next\n",
        "\n",
        "    node_str  += 'tail'\n",
        "    print(node_str)\n",
        "\n",
        "\n",
        "  #Method to print the the linked list from tail to head\n",
        "  def print_backwardt(self):\n",
        "\n",
        "\n",
        "    if self.head == None:\n",
        "      print(\"LINKED LIST IS EMPTY\")\n",
        "      return\n",
        "\n",
        "    node = self.tail\n",
        "    #print(node.value)\n",
        "    node_str = 'tail -->'\n",
        "\n",
        "    while node:\n",
        "\n",
        "      node_str += str(node.value) + '-->'\n",
        "      #print(node_str)\n",
        "      #print(f\" prev of {node.value} - {node.prev.value}\")\n",
        "      #print(f\"next of {node.value} - {node.next.value}\")\n",
        "\n",
        "      node = node.prev\n",
        "    node_str += 'head'\n",
        "    print(node_str)\n",
        "\n",
        "\n",
        "  #Method to print the linked list from tail to head without using TAIL\n",
        "\n",
        "  def print_backward(self):\n",
        "\n",
        "    if self.head == None:\n",
        "      print(\"LINKED LIST IS EMPTY\")\n",
        "      return\n",
        "\n",
        "    last_node = self.get_last_node()\n",
        "    node = last_node\n",
        "\n",
        "    node_str = 'tail -->'\n",
        "\n",
        "    while node:\n",
        "      node_str += str(node.value) + '-->'\n",
        "      #print(f\" prev of {node.value} - {node.prev.value}\")\n",
        "      #print(f\"next of {node.value} - {node.next.value}\")\n",
        "\n",
        "      node = node.prev\n",
        "\n",
        "    node_str += 'head'\n",
        "\n",
        "    print(node_str)"
      ],
      "execution_count": 189,
      "outputs": []
    },
    {
      "cell_type": "code",
      "metadata": {
        "id": "cEE325oL-TzR"
      },
      "source": [
        "dll = DoublyLinkedList()\n",
        "ll_elements = [1,2,3,4,5,6]\n",
        "for i in ll_elements:\n",
        "\n",
        "  dll.PushFront(i)"
      ],
      "execution_count": 190,
      "outputs": []
    },
    {
      "cell_type": "code",
      "metadata": {
        "colab": {
          "base_uri": "https://localhost:8080/"
        },
        "id": "3i7EE4bTjHs2",
        "outputId": "faa8088f-d962-4c36-cc0b-02b74243eafe"
      },
      "source": [
        "print(dll.length_ll())"
      ],
      "execution_count": 191,
      "outputs": [
        {
          "output_type": "stream",
          "text": [
            "6\n"
          ],
          "name": "stdout"
        }
      ]
    },
    {
      "cell_type": "code",
      "metadata": {
        "colab": {
          "base_uri": "https://localhost:8080/"
        },
        "id": "FLkgpwDmkiWf",
        "outputId": "bd0d1d53-0576-4661-bbb4-bd86afe35c91"
      },
      "source": [
        "\n",
        "dll.head.next.value"
      ],
      "execution_count": 192,
      "outputs": [
        {
          "output_type": "execute_result",
          "data": {
            "text/plain": [
              "5"
            ]
          },
          "metadata": {
            "tags": []
          },
          "execution_count": 192
        }
      ]
    },
    {
      "cell_type": "code",
      "metadata": {
        "colab": {
          "base_uri": "https://localhost:8080/"
        },
        "id": "EZbcEaVcC5-U",
        "outputId": "b7989c4f-5a9e-496b-adf8-dd866dceb21f"
      },
      "source": [
        "dll.print_forward()"
      ],
      "execution_count": 201,
      "outputs": [
        {
          "output_type": "stream",
          "text": [
            "head -->6-->5-->diksha-->4-->tail\n"
          ],
          "name": "stdout"
        }
      ]
    },
    {
      "cell_type": "code",
      "metadata": {
        "colab": {
          "base_uri": "https://localhost:8080/"
        },
        "id": "hDsPvgb4WgnW",
        "outputId": "6e9db5d3-8997-4ee0-954e-33e465a9f189"
      },
      "source": [
        "dll.print_backwardt()"
      ],
      "execution_count": 194,
      "outputs": [
        {
          "output_type": "stream",
          "text": [
            "tail -->1-->2-->3-->4-->5-->6-->head\n"
          ],
          "name": "stdout"
        }
      ]
    },
    {
      "cell_type": "code",
      "metadata": {
        "id": "Og9M1ZOjbjTa"
      },
      "source": [
        "dll.insert_at_index(2,'diksha')"
      ],
      "execution_count": 195,
      "outputs": []
    },
    {
      "cell_type": "code",
      "metadata": {
        "colab": {
          "base_uri": "https://localhost:8080/"
        },
        "id": "OPhEocfQTHfA",
        "outputId": "7996a9e3-1403-43d4-da82-3a987bf4e4bc"
      },
      "source": [
        "#dll.index_to_delete(5)\n",
        "dll.delete_by_value(3)"
      ],
      "execution_count": 200,
      "outputs": [
        {
          "output_type": "stream",
          "text": [
            "linked_list lenght 5\n"
          ],
          "name": "stdout"
        }
      ]
    },
    {
      "cell_type": "code",
      "metadata": {
        "id": "F78riTFyC23g"
      },
      "source": [
        "dll2 = DoublyLinkedList()\n",
        "ll_elements = [1,2,3,4,5,6]\n",
        "for i in ll_elements:\n",
        "\n",
        "  dll2.PushBack(i)\n",
        "  "
      ],
      "execution_count": 56,
      "outputs": []
    },
    {
      "cell_type": "code",
      "metadata": {
        "colab": {
          "base_uri": "https://localhost:8080/"
        },
        "id": "kUQ3QCnqhHDP",
        "outputId": "53c7cfa9-a21e-4e22-cb15-0842d21b486c"
      },
      "source": [
        "\n",
        "dll2.print_forward()"
      ],
      "execution_count": 57,
      "outputs": [
        {
          "output_type": "stream",
          "text": [
            "head -->1-->2-->3-->4-->5-->6-->tail\n"
          ],
          "name": "stdout"
        }
      ]
    },
    {
      "cell_type": "code",
      "metadata": {
        "colab": {
          "base_uri": "https://localhost:8080/"
        },
        "id": "Mw9f7wtxW__d",
        "outputId": "4746b85c-deff-4736-f37a-526df727cda7"
      },
      "source": [
        "dll2.print_backward()"
      ],
      "execution_count": 60,
      "outputs": [
        {
          "output_type": "stream",
          "text": [
            "tail -->6-->5-->4-->3-->2-->1-->head\n"
          ],
          "name": "stdout"
        }
      ]
    },
    {
      "cell_type": "code",
      "metadata": {
        "id": "nMe8PtvAMqdz"
      },
      "source": [
        "dll2 = DoublyLinkedList()"
      ],
      "execution_count": 17,
      "outputs": []
    },
    {
      "cell_type": "code",
      "metadata": {
        "id": "R29PxdgMOmHk"
      },
      "source": [
        "dll2.PushBack(\"diksha\")"
      ],
      "execution_count": 61,
      "outputs": []
    },
    {
      "cell_type": "code",
      "metadata": {
        "id": "CqFuPf3KOpzQ"
      },
      "source": [
        "dll2.PushBack(\"niriha\")"
      ],
      "execution_count": 62,
      "outputs": []
    },
    {
      "cell_type": "code",
      "metadata": {
        "colab": {
          "base_uri": "https://localhost:8080/"
        },
        "id": "m_uxN6SgOsnE",
        "outputId": "15beaa34-d861-4e81-ed0c-3f0ea50ed428"
      },
      "source": [
        "dll2.print_forward()"
      ],
      "execution_count": 63,
      "outputs": [
        {
          "output_type": "stream",
          "text": [
            "head -->1-->2-->3-->4-->5-->6-->diksha-->niriha-->tail\n"
          ],
          "name": "stdout"
        }
      ]
    },
    {
      "cell_type": "code",
      "metadata": {
        "id": "JBHJKDQpOwgu"
      },
      "source": [
        ""
      ],
      "execution_count": null,
      "outputs": []
    }
  ]
}