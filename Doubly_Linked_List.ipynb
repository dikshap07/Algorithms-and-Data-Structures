{
  "nbformat": 4,
  "nbformat_minor": 0,
  "metadata": {
    "colab": {
      "name": "Doubly Linked List.ipynb",
      "provenance": [],
      "authorship_tag": "ABX9TyNeL3W1wKQWlOqWVMflOPtx",
      "include_colab_link": true
    },
    "kernelspec": {
      "name": "python3",
      "display_name": "Python 3"
    },
    "language_info": {
      "name": "python"
    }
  },
  "cells": [
    {
      "cell_type": "markdown",
      "metadata": {
        "id": "view-in-github",
        "colab_type": "text"
      },
      "source": [
        "<a href=\"https://colab.research.google.com/github/dikshap07/Algorithms-and-Data-Structures/blob/master/Doubly_Linked_List.ipynb\" target=\"_parent\"><img src=\"https://colab.research.google.com/assets/colab-badge.svg\" alt=\"Open In Colab\"/></a>"
      ]
    },
    {
      "cell_type": "code",
      "metadata": {
        "id": "9JEg9yjKONZg"
      },
      "source": [
        "class Node:\n",
        "\n",
        "  def __init__(self,value,prev = None,next = None):\n",
        "    self.value = value\n",
        "    self.next = next\n",
        "    self.prev = prev\n",
        "\n",
        "\n",
        "class DoublyLinkedList:\n",
        "\n",
        "  def __init__(self):\n",
        "    self.head = None\n",
        "    self.tail = None\n",
        "\n",
        "\n",
        "  #Method  to add element to the front of the linked list\n",
        "\n",
        "  def PushFront(self,key):\n",
        "\n",
        "    new_head = Node(key)\n",
        "\n",
        "\n",
        "    if self.head == None:  #linkedlist is empty\n",
        "\n",
        "      self.head = new_head\n",
        "      self.tail = new_head\n",
        "      new_head.next = None\n",
        "\n",
        "    self.head.prev = new_head\n",
        "    new_head.next = self.head\n",
        "    self.head = new_head\n",
        "    self.head.prev = None\n",
        "\n",
        "  #Method  to delete element from the front of the linked list\n",
        "\n",
        "\n",
        "\n",
        "  def PopFront(self):\n",
        "\n",
        "    if self.head == None:\n",
        "      raise Exception(\"LINKED LIST EMPTY\")\n",
        "\n",
        "    if self.head == self.tail:\n",
        "\n",
        "      self.head = self.tail = None\n",
        "\n",
        "    else:\n",
        "      self.head = self.head.next\n",
        "      self.head.prev = None\n",
        "\n",
        "\n",
        "  #Method  to add element to the back of the linked list\n",
        "\n",
        "  def PushBack(self,key):\n",
        "\n",
        "    new_node = Node(key)\n",
        "\n",
        "    if self.tail == None:\n",
        "\n",
        "      self.head = new_node\n",
        "      self.tail = new_node\n",
        "      new_node.prev = None\n",
        "    \n",
        "    new_node.prev = self.tail\n",
        "    self.tail.next = new_node\n",
        "    self.tail = new_node\n",
        "    self.tail.next = None\n",
        "\n",
        "  #Method  to delete element from the back of the linked list\n",
        "\n",
        "  def PopBack(self):\n",
        "\n",
        "    if self.tail == None:\n",
        "      raise Exception(\"LINKED LIST EMPTY\")\n",
        "\n",
        "    if self.head == self.tail:\n",
        "\n",
        "      self.head = self.tail = None\n",
        "\n",
        "    else:\n",
        "      self.tail = self.tail.prev\n",
        "      self.tail.next = None\n",
        "\n",
        "\n",
        "  #Method to print the the linked list from head to tail\n",
        "  def print_forward(self):\n",
        "\n",
        "    node = self.head\n",
        "    node_str = 'head -->'\n",
        "\n",
        "    while node:\n",
        "\n",
        "      node_str += str(node.value) + '-->'\n",
        "      #print(node_str)\n",
        "\n",
        "      node = node.next\n",
        "\n",
        "    node_str  += 'tail'\n",
        "    print(node_str)\n",
        "\n",
        "\n",
        "  #Method to print the the linked list from tail to head\n",
        "  def print_backward(self):\n",
        "\n",
        "    node = self.tail\n",
        "    node_str = 'tail <--'\n",
        "\n",
        "    while node:\n",
        "\n",
        "      node_str += str(node.value) + '<--'\n",
        "      #print(node_str)\n",
        "\n",
        "      node = node.prev\n",
        "    node_str += 'head'\n",
        "    print(node_str)"
      ],
      "execution_count": 70,
      "outputs": []
    },
    {
      "cell_type": "code",
      "metadata": {
        "id": "deYzLkbXfSQM"
      },
      "source": [
        "dll = DoublyLinkedList()\n",
        "\n"
      ],
      "execution_count": 71,
      "outputs": []
    },
    {
      "cell_type": "code",
      "metadata": {
        "id": "cEE325oL-TzR"
      },
      "source": [
        "ll_elements = [1,2,3,4,5,6]\n",
        "for i in ll_elements:\n",
        "\n",
        "  dll.PushFront(i)"
      ],
      "execution_count": 72,
      "outputs": []
    },
    {
      "cell_type": "code",
      "metadata": {
        "colab": {
          "base_uri": "https://localhost:8080/"
        },
        "id": "EZbcEaVcC5-U",
        "outputId": "d26f5b6f-081c-4c89-a9a8-8998dabdf0d0"
      },
      "source": [
        "dll.print_backward()"
      ],
      "execution_count": 75,
      "outputs": [
        {
          "output_type": "stream",
          "text": [
            "tail <--1<--2<--3<--4<--5<--head\n"
          ],
          "name": "stdout"
        }
      ]
    },
    {
      "cell_type": "code",
      "metadata": {
        "id": "gsu8tz78FC88"
      },
      "source": [
        "# dll.PopBack()\n",
        "dll.PopFront()"
      ],
      "execution_count": 74,
      "outputs": []
    },
    {
      "cell_type": "code",
      "metadata": {
        "id": "tYQwTkMwHPIx"
      },
      "source": [
        ""
      ],
      "execution_count": null,
      "outputs": []
    },
    {
      "cell_type": "code",
      "metadata": {
        "id": "F78riTFyC23g"
      },
      "source": [
        "dll = DoublyLinkedList()\n",
        "ll_elements = [1,2,3,4,5,6]\n",
        "for i in ll_elements:\n",
        "\n",
        "  dll.PushBack(i)"
      ],
      "execution_count": 76,
      "outputs": []
    },
    {
      "cell_type": "code",
      "metadata": {
        "colab": {
          "base_uri": "https://localhost:8080/"
        },
        "id": "HG2cAclMkvFh",
        "outputId": "b0f9996d-a214-4f15-8744-e86f7b803a91"
      },
      "source": [
        "dll.print_forward()"
      ],
      "execution_count": 79,
      "outputs": [
        {
          "output_type": "stream",
          "text": [
            "head -->2-->3-->4-->5-->6-->tail\n"
          ],
          "name": "stdout"
        }
      ]
    },
    {
      "cell_type": "code",
      "metadata": {
        "id": "1lVIqgFAGYZx"
      },
      "source": [
        "#dll.PopBack()\n",
        "dll.PopFront()"
      ],
      "execution_count": 78,
      "outputs": []
    },
    {
      "cell_type": "code",
      "metadata": {
        "id": "9uLsYmbA-SFK"
      },
      "source": [
        "#dll.PushFront(9)\n",
        "#dll.PushFront(8)\n",
        "dll.PushFront(7)"
      ],
      "execution_count": 15,
      "outputs": []
    },
    {
      "cell_type": "code",
      "metadata": {
        "colab": {
          "base_uri": "https://localhost:8080/"
        },
        "id": "3YuuUN5TfiNS",
        "outputId": "302d8fbc-8aea-4fd4-b723-56b824fe7576"
      },
      "source": [
        "six_next = dll.head.next\n",
        "k = six_next\n",
        "k.value\n",
        "#dll.head.value"
      ],
      "execution_count": 68,
      "outputs": [
        {
          "output_type": "execute_result",
          "data": {
            "text/plain": [
              "8"
            ]
          },
          "metadata": {
            "tags": []
          },
          "execution_count": 68
        }
      ]
    },
    {
      "cell_type": "code",
      "metadata": {
        "colab": {
          "base_uri": "https://localhost:8080/"
        },
        "id": "d5d620IPfloJ",
        "outputId": "377ebd6c-08ee-44a2-d2da-d8211bc920e7"
      },
      "source": [
        "dll.tail.value"
      ],
      "execution_count": 55,
      "outputs": [
        {
          "output_type": "execute_result",
          "data": {
            "text/plain": [
              "9"
            ]
          },
          "metadata": {
            "tags": []
          },
          "execution_count": 55
        }
      ]
    },
    {
      "cell_type": "code",
      "metadata": {
        "colab": {
          "base_uri": "https://localhost:8080/",
          "height": 167
        },
        "id": "FLOf0gNpkzEB",
        "outputId": "765d6ef7-1663-4f75-cf51-ce3ed960ccec"
      },
      "source": [
        ""
      ],
      "execution_count": 23,
      "outputs": [
        {
          "output_type": "error",
          "ename": "AttributeError",
          "evalue": "ignored",
          "traceback": [
            "\u001b[0;31m---------------------------------------------------------------------------\u001b[0m",
            "\u001b[0;31mAttributeError\u001b[0m                            Traceback (most recent call last)",
            "\u001b[0;32m<ipython-input-23-4a84a87237b4>\u001b[0m in \u001b[0;36m<module>\u001b[0;34m()\u001b[0m\n\u001b[0;32m----> 1\u001b[0;31m \u001b[0mdll\u001b[0m\u001b[0;34m.\u001b[0m\u001b[0mhead\u001b[0m\u001b[0;34m.\u001b[0m\u001b[0mnext\u001b[0m\u001b[0;34m.\u001b[0m\u001b[0mvalue\u001b[0m\u001b[0;34m\u001b[0m\u001b[0;34m\u001b[0m\u001b[0m\n\u001b[0m",
            "\u001b[0;31mAttributeError\u001b[0m: 'NoneType' object has no attribute 'value'"
          ]
        }
      ]
    },
    {
      "cell_type": "code",
      "metadata": {
        "id": "tjACwHp__F4p"
      },
      "source": [
        "\n",
        "    if self.tail == None:\n",
        "\n",
        "      self.head = new_node\n",
        "      self.tail = new_node\n",
        "      new_node.prev = None\n",
        "\n",
        "\n",
        "    self.tail.next = new_node\n",
        "    new_node.prev = self.tail\n",
        "\n",
        "    self.tail = new_node"
      ],
      "execution_count": null,
      "outputs": []
    }
  ]
}