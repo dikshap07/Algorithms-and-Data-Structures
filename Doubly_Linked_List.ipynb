{
  "nbformat": 4,
  "nbformat_minor": 0,
  "metadata": {
    "colab": {
      "name": "Doubly Linked List.ipynb",
      "provenance": [],
      "authorship_tag": "ABX9TyNDMQr1Wc0hfSwX7cl5SmRX",
      "include_colab_link": true
    },
    "kernelspec": {
      "name": "python3",
      "display_name": "Python 3"
    },
    "language_info": {
      "name": "python"
    }
  },
  "cells": [
    {
      "cell_type": "markdown",
      "metadata": {
        "id": "view-in-github",
        "colab_type": "text"
      },
      "source": [
        "<a href=\"https://colab.research.google.com/github/dikshap07/Algorithms-and-Data-Structures/blob/master/Doubly_Linked_List.ipynb\" target=\"_parent\"><img src=\"https://colab.research.google.com/assets/colab-badge.svg\" alt=\"Open In Colab\"/></a>"
      ]
    },
    {
      "cell_type": "code",
      "metadata": {
        "id": "9JEg9yjKONZg"
      },
      "source": [
        "class Node:\n",
        "\n",
        "  def __init__(self,value,prev = None,next = None):\n",
        "    self.value = value\n",
        "    self.next = next\n",
        "    self.prev = prev\n",
        "\n",
        "\n",
        "class DoublyLinkedList:\n",
        "\n",
        "  def __init__(self):\n",
        "    self.head = None\n",
        "    self.tail = None\n",
        "\n",
        "\n",
        "  #Method  to add element to the front of the linked list\n",
        "\n",
        "  def PushFrontt(self,key):\n",
        "\n",
        "    new_head = Node(key)\n",
        "\n",
        "\n",
        "    if self.head == None:  #linkedlist is empty\n",
        "\n",
        "      self.head = new_head\n",
        "      self.tail = new_head\n",
        "      new_head.next = None\n",
        "\n",
        "    self.head.prev = new_head\n",
        "    new_head.next = self.head\n",
        "    \n",
        "    self.head = new_head\n",
        "    new_head.prev = self.head\n",
        "\n",
        "\n",
        "  #Method  to add element to the front of the linked list WITHOUT USING TAIL\n",
        "\n",
        "\n",
        "  def PushFront(self,key):\n",
        "\n",
        "    if self.head == None:\n",
        "\n",
        "      node = Node(key,self.head,None)\n",
        "      self.head = node\n",
        "      self.tail = node\n",
        "\n",
        "    else:\n",
        "\n",
        "      node = Node(key,None,self.head)\n",
        "      self.head.prev = node\n",
        "      self.head = node\n",
        "      node.prev = None\n",
        "\n",
        "\n",
        "\n",
        "  #Method  to delete element from the front of the linked list\n",
        "\n",
        "  def PopFront(self):\n",
        "\n",
        "    if self.head == None:\n",
        "      raise Exception(\"LINKED LIST EMPTY\")\n",
        "\n",
        "    if self.head == self.tail:\n",
        "\n",
        "      self.head = self.tail = None\n",
        "\n",
        "    else:\n",
        "      self.head = self.head.next\n",
        "      self.head.prev = None\n",
        "\n",
        "\n",
        "  #Method to get the last element with TAIL pointer\n",
        "\n",
        "  def get_last_node(self):\n",
        "\n",
        "    node = self.head\n",
        "    while node.next:\n",
        "\n",
        "      node = node.next\n",
        "\n",
        "    return node\n",
        "\n",
        "\n",
        "  #Method  to add element to the back of the linked list using TAIL pointer\n",
        "\n",
        "  def PushBackt(self,key):\n",
        "\n",
        "    new_node = Node(key)\n",
        "\n",
        "    if self.tail == None:\n",
        "\n",
        "      self.head = new_node\n",
        "      self.head.prev = None\n",
        "      self.tail = new_node\n",
        "      self.tail.next = None\n",
        "\n",
        "\n",
        "    self.head.prev = None\n",
        "\n",
        "    #print('tail',self.tail.value)\n",
        "    self.tail.next = new_node\n",
        "    new_node.prev = self.tail\n",
        "    self.tail = new_node\n",
        "    new_node.next = None\n",
        "    #print('new_tail',self.tail.value)\n",
        "    #print('tail prev',new_node.prev.value)\n",
        "    \n",
        "\n",
        "\n",
        "  #Method  to add element to the back of the linked list WITHOUT using TAIL\n",
        "\n",
        "  def PushBack(self, value):\n",
        "     \n",
        "\n",
        "    if self.head == None:\n",
        "\n",
        "      self.head = Node(value)\n",
        "      self.tail = Node(value)\n",
        "      return \n",
        "    \n",
        "\n",
        "    node = self.head\n",
        "    while node.next:\n",
        "\n",
        "      node = node.next\n",
        "\n",
        "    node = Node(value,None,node)\n",
        "\n",
        "  #Method  to delete element from the back of the linked list using TAIL pointer\n",
        "\n",
        "  def PopBackt(self):\n",
        "\n",
        "    if self.tail == None:\n",
        "      raise Exception(\"LINKED LIST EMPTY\")\n",
        "\n",
        "    if self.head == self.tail:\n",
        "\n",
        "      self.head = self.tail = None\n",
        "\n",
        "    else:\n",
        "      self.tail = self.tail.prev\n",
        "      self.tail.next = None\n",
        "\n",
        "\n",
        "  #Method to print the the linked list from head to tail\n",
        "  def print_forward(self):\n",
        "\n",
        "    if self.head == None:\n",
        "      print(\"LINKED LIST IS EMPTY\")\n",
        "      return\n",
        "\n",
        "    node = self.head\n",
        "    node_str = 'head -->'\n",
        "\n",
        "    while node:\n",
        "\n",
        "      node_str += str(node.value) + '-->'\n",
        "      #print(node_str)\n",
        "      #print(f\" prev of {node.value} - {node.prev.value}\")\n",
        "      #print(f\"next of {node.value} - {node.next.value}\")\n",
        "\n",
        "      node = node.next\n",
        "\n",
        "    node_str  += 'tail'\n",
        "    print(node_str)\n",
        "\n",
        "\n",
        "  #Method to print the the linked list from tail to head\n",
        "  def print_backwardt(self):\n",
        "\n",
        "\n",
        "    if self.head == None:\n",
        "      print(\"LINKED LIST IS EMPTY\")\n",
        "      return\n",
        "\n",
        "    node = self.tail\n",
        "    #print(node.value)\n",
        "    node_str = 'tail -->'\n",
        "\n",
        "    while node:\n",
        "\n",
        "      node_str += str(node.value) + '-->'\n",
        "      #print(node_str)\n",
        "      #print(f\" prev of {node.value} - {node.prev.value}\")\n",
        "      #print(f\"next of {node.value} - {node.next.value}\")\n",
        "\n",
        "      node = node.prev\n",
        "    node_str += 'head'\n",
        "    print(node_str)\n",
        "\n",
        "\n",
        "  #Method to print the linked list from tail to head without using TAIL\n",
        "\n",
        "  def print_backward(self):\n",
        "\n",
        "    if self.head == None:\n",
        "      print(\"LINKED LIST IS EMPTY\")\n",
        "      return\n",
        "\n",
        "    last_node = self.get_last_node()\n",
        "    node = last_node\n",
        "\n",
        "    node_str = 'tail -->'\n",
        "\n",
        "    while node:\n",
        "      node_str += str(node.value) + '-->'\n",
        "      #print(f\" prev of {node.value} - {node.prev.value}\")\n",
        "      #print(f\"next of {node.value} - {node.next.value}\")\n",
        "\n",
        "      node = node.prev\n",
        "\n",
        "    node_str += 'head'\n",
        "\n",
        "    print(node_str)\n",
        "\n",
        "\n",
        "\n"
      ],
      "execution_count": 1,
      "outputs": []
    },
    {
      "cell_type": "code",
      "metadata": {
        "id": "cEE325oL-TzR"
      },
      "source": [
        "dll = DoublyLinkedList()\n",
        "ll_elements = [1,2,3,4,5,6]\n",
        "for i in ll_elements:\n",
        "\n",
        "  dll.PushFront(i)"
      ],
      "execution_count": 2,
      "outputs": []
    },
    {
      "cell_type": "code",
      "metadata": {
        "colab": {
          "base_uri": "https://localhost:8080/"
        },
        "id": "3i7EE4bTjHs2",
        "outputId": "2c6acee6-2f80-4b21-f1ab-f2ebab1c2ebe"
      },
      "source": [
        "dll.tail.prev.value"
      ],
      "execution_count": 3,
      "outputs": [
        {
          "output_type": "execute_result",
          "data": {
            "text/plain": [
              "2"
            ]
          },
          "metadata": {
            "tags": []
          },
          "execution_count": 3
        }
      ]
    },
    {
      "cell_type": "code",
      "metadata": {
        "colab": {
          "base_uri": "https://localhost:8080/"
        },
        "id": "FLkgpwDmkiWf",
        "outputId": "ea964341-88bc-4b07-d3e5-a862a1965bc2"
      },
      "source": [
        "dll.head.next.value"
      ],
      "execution_count": 4,
      "outputs": [
        {
          "output_type": "execute_result",
          "data": {
            "text/plain": [
              "5"
            ]
          },
          "metadata": {
            "tags": []
          },
          "execution_count": 4
        }
      ]
    },
    {
      "cell_type": "code",
      "metadata": {
        "colab": {
          "base_uri": "https://localhost:8080/"
        },
        "id": "EZbcEaVcC5-U",
        "outputId": "ccf959ce-5250-42f2-992b-e4ebe61366fd"
      },
      "source": [
        "dll.print_forward()\n"
      ],
      "execution_count": 5,
      "outputs": [
        {
          "output_type": "stream",
          "text": [
            "head -->6-->5-->4-->3-->2-->1-->tail\n"
          ],
          "name": "stdout"
        }
      ]
    },
    {
      "cell_type": "code",
      "metadata": {
        "colab": {
          "base_uri": "https://localhost:8080/"
        },
        "id": "hDsPvgb4WgnW",
        "outputId": "754aa5ce-81c1-4a81-9029-d83b772bf947"
      },
      "source": [
        "dll.print_backward()"
      ],
      "execution_count": 6,
      "outputs": [
        {
          "output_type": "stream",
          "text": [
            "tail -->1-->2-->3-->4-->5-->6-->head\n"
          ],
          "name": "stdout"
        }
      ]
    },
    {
      "cell_type": "code",
      "metadata": {
        "id": "F78riTFyC23g"
      },
      "source": [
        "dll2 = DoublyLinkedList()\n",
        "ll_elements = [1,2,3,4,5,6]\n",
        "for i in ll_elements:\n",
        "\n",
        "  dll2.PushBackt(i)\n",
        "  "
      ],
      "execution_count": 11,
      "outputs": []
    },
    {
      "cell_type": "code",
      "metadata": {
        "colab": {
          "base_uri": "https://localhost:8080/"
        },
        "id": "kUQ3QCnqhHDP",
        "outputId": "98e3ed30-0561-41d6-b147-8a1382959c12"
      },
      "source": [
        "dll2.print_forward()"
      ],
      "execution_count": 12,
      "outputs": [
        {
          "output_type": "stream",
          "text": [
            "head -->1-->tail\n"
          ],
          "name": "stdout"
        }
      ]
    },
    {
      "cell_type": "code",
      "metadata": {
        "colab": {
          "base_uri": "https://localhost:8080/"
        },
        "id": "Mw9f7wtxW__d",
        "outputId": "da0d56e8-26fd-4ab9-bdda-d4fba58cebe7"
      },
      "source": [
        "dll2.print_backwardt()"
      ],
      "execution_count": 13,
      "outputs": [
        {
          "output_type": "stream",
          "text": [
            "tail -->1-->head\n"
          ],
          "name": "stdout"
        }
      ]
    }
  ]
}