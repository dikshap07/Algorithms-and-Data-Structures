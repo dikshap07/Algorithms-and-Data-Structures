{
  "nbformat": 4,
  "nbformat_minor": 0,
  "metadata": {
    "colab": {
      "name": "Stack(Using lINKED lIST).ipynb",
      "provenance": [],
      "authorship_tag": "ABX9TyPyR26CBqoLa/w7EWWzj0ZD",
      "include_colab_link": true
    },
    "kernelspec": {
      "name": "python3",
      "display_name": "Python 3"
    },
    "language_info": {
      "name": "python"
    }
  },
  "cells": [
    {
      "cell_type": "markdown",
      "metadata": {
        "id": "view-in-github",
        "colab_type": "text"
      },
      "source": [
        "<a href=\"https://colab.research.google.com/github/dikshap07/Algorithms-and-Data-Structures/blob/master/Stack(Using_lINKED_lIST).ipynb\" target=\"_parent\"><img src=\"https://colab.research.google.com/assets/colab-badge.svg\" alt=\"Open In Colab\"/></a>"
      ]
    },
    {
      "cell_type": "code",
      "metadata": {
        "id": "AY5EfWZKhw8b"
      },
      "source": [
        "class Element(object):\n",
        "    def __init__(self, value):\n",
        "        self.value = value\n",
        "        self.next = None\n",
        "        \n",
        "class LinkedList(object):\n",
        "    def __init__(self, head=None):\n",
        "        self.head = head\n",
        "        \n",
        "    def append(self, new_element):\n",
        "        current = self.head\n",
        "        if self.head:\n",
        "            while current.next:\n",
        "                current = current.next\n",
        "            current.next = new_element\n",
        "        else:\n",
        "            self.head = new_element\n",
        "\n",
        "    def insert_first(self, new_element):\n",
        "        \"Insert new element as the head of the LinkedList\"\n",
        "        if self.head is None:\n",
        "            self.head = new_element\n",
        "            \n",
        "        new_element.next = self.head\n",
        "        self.head = new_element\n",
        "        \n",
        "\n",
        "    def delete_first(self):\n",
        "        \"Delete the first (head) element in the LinkedList as return it\"\n",
        "        if self.head is None:\n",
        "            \n",
        "            print(\"Stack is empty\")\n",
        "            return\n",
        "            \n",
        "        element_to_delete = self.head\n",
        "        self.head = self.head.next\n",
        "        return element_to_delete\n",
        "        \n",
        "        \n",
        "        \n",
        "class Stack(object):\n",
        "    def __init__(self,top=None):\n",
        "        self.ll = LinkedList(top)\n",
        "\n",
        "    def push(self, new_element):\n",
        "        \"Push (add) a new element onto the top of the stack\"\n",
        "        self.ll.insert_first(new_element)\n",
        "        \n",
        "        return self\n",
        "        \n",
        "        \n",
        "    def pop(self):\n",
        "        \"Pop (remove) the first element off the top of the stack and return it\"\n",
        "        dleted = self.ll.delete_first()\n",
        "        \n",
        "        return dleted\n",
        "    \n"
      ],
      "execution_count": null,
      "outputs": []
    },
    {
      "cell_type": "code",
      "metadata": {
        "colab": {
          "base_uri": "https://localhost:8080/"
        },
        "id": "4BdWMd0ih5T6",
        "outputId": "ca79e6a9-a7d9-4fd9-f85e-91c996ed711d"
      },
      "source": [
        "# Set up some Elements\n",
        "e1 = Element(1)\n",
        "e2 = Element(2)\n",
        "e3 = Element(3)\n",
        "e4 = Element(4)\n",
        "\n",
        "# Start setting up a Stack\n",
        "stack = Stack(e1)\n",
        "\n",
        "# Test stack functionality\n",
        "stack.push(e2)\n",
        "stack.push(e3)\n",
        "print( \"del\",stack.pop().value)\n",
        "print(\"del\",stack.pop().value)\n",
        "print(\"del\",stack.pop().value)\n",
        "print(\"del\",stack.pop())\n",
        "stack.push(e4)\n",
        "print(\"del\",stack.pop().value)"
      ],
      "execution_count": null,
      "outputs": [
        {
          "output_type": "stream",
          "text": [
            "del 3\n",
            "del 2\n",
            "del 1\n",
            "Stack is empty\n",
            "del None\n",
            "del 4\n"
          ],
          "name": "stdout"
        }
      ]
    },
    {
      "cell_type": "code",
      "metadata": {
        "id": "JB6N2DuBik33"
      },
      "source": [
        ""
      ],
      "execution_count": null,
      "outputs": []
    }
  ]
}