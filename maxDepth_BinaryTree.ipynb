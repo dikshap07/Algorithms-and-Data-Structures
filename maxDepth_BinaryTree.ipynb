{
  "nbformat": 4,
  "nbformat_minor": 0,
  "metadata": {
    "colab": {
      "name": "maxDepth_BinaryTree.ipynb",
      "provenance": [],
      "authorship_tag": "ABX9TyMcncTyoJMlSAlKkVzw2tWx",
      "include_colab_link": true
    },
    "kernelspec": {
      "name": "python3",
      "display_name": "Python 3"
    },
    "language_info": {
      "name": "python"
    }
  },
  "cells": [
    {
      "cell_type": "markdown",
      "metadata": {
        "id": "view-in-github",
        "colab_type": "text"
      },
      "source": [
        "<a href=\"https://colab.research.google.com/github/dikshap07/Algorithms-and-Data-Structures/blob/master/maxDepth_BinaryTree.ipynb\" target=\"_parent\"><img src=\"https://colab.research.google.com/assets/colab-badge.svg\" alt=\"Open In Colab\"/></a>"
      ]
    },
    {
      "cell_type": "code",
      "execution_count": null,
      "metadata": {
        "id": "WKKUM1r8frcG"
      },
      "outputs": [],
      "source": [
        "def maxDepth(root):\n",
        "\n",
        "\n",
        "  if root == None:\n",
        "    return 0\n",
        "\n",
        "\n",
        "  curr = root\n",
        "\n",
        "  while curr != None:\n",
        "\n",
        "    left_height = maxDepth(root.left)\n",
        "    right_height = maxDepth(root.right)\n",
        "\n",
        "  return max(left_height,right_height) + 1"
      ]
    },
    {
      "cell_type": "code",
      "source": [
        ""
      ],
      "metadata": {
        "id": "iKIntOtMhUZ6"
      },
      "execution_count": null,
      "outputs": []
    }
  ]
}