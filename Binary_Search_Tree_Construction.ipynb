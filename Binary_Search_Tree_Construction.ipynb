{
  "nbformat": 4,
  "nbformat_minor": 0,
  "metadata": {
    "colab": {
      "name": "Binary Search Tree Construction.ipynb",
      "provenance": [],
      "collapsed_sections": [],
      "authorship_tag": "ABX9TyPegIkjgi6sMEGP9X0YoCti",
      "include_colab_link": true
    },
    "kernelspec": {
      "name": "python3",
      "display_name": "Python 3"
    },
    "language_info": {
      "name": "python"
    }
  },
  "cells": [
    {
      "cell_type": "markdown",
      "metadata": {
        "id": "view-in-github",
        "colab_type": "text"
      },
      "source": [
        "<a href=\"https://colab.research.google.com/github/dikshap07/Algorithms-and-Data-Structures/blob/master/Binary_Search_Tree_Construction.ipynb\" target=\"_parent\"><img src=\"https://colab.research.google.com/assets/colab-badge.svg\" alt=\"Open In Colab\"/></a>"
      ]
    },
    {
      "cell_type": "markdown",
      "metadata": {
        "id": "vnIkH5h-9CA9"
      },
      "source": [
        "##METHOD-1"
      ]
    },
    {
      "cell_type": "code",
      "metadata": {
        "id": "YQAZKZEYU8tn"
      },
      "source": [
        "class BST:\n",
        "\n",
        "  def __init__(self,value):\n",
        "\n",
        "    self.value = value\n",
        "    self.left = None\n",
        "    self.right = None\n",
        "\n",
        "  \n",
        "  #using iterative method\n",
        "\n",
        "\n",
        "  #Average : O(log(n)) time | O(1) space\n",
        "  #worst : O(N) time | O(1)   space\n",
        "\n",
        "  def insert(self,value):  \n",
        "\n",
        "    #initialize a variable that keeps track of what node we are at\n",
        "    currentNode = self # because in the beginning the current node is the node where we start our insertion and that is self\n",
        "\n",
        "    while True:\n",
        "\n",
        "      if value < currentNode.value:\n",
        "\n",
        "        #check if left node from here is an actual BST or the end\n",
        "\n",
        "        if currentNode.left is None:#we create a left subtree\n",
        "\n",
        "          currentNode.left = BST(value)   #if none we are adding the value that we are trying to insert \n",
        "          break                                #at this left node\n",
        "\n",
        "        else:#make left node of current node so that we can now check for its child nodes\n",
        "\n",
        "          currentNode = currentNode.left   #assigning our currentNode to the left subtree\n",
        "\n",
        "\n",
        "      else:    #to check the right sub tree for insertion\n",
        "\n",
        "        if currentNode.right is None:\n",
        "\n",
        "          currentNode.right = BST(value)\n",
        "          break\n",
        "          \n",
        "        else:\n",
        "\n",
        "          currentNode = currentNode.right\n",
        "        \n",
        "\n",
        "\n",
        "    return self   #so that we can chain the output\n",
        "\n",
        " \n",
        " \n",
        "\n",
        "  #Average : O(log(n)) time | O(1) space\n",
        "  #worst : O(N) time | O(1)   space\n",
        " \n",
        "  def contains(self,value):\n",
        "\n",
        "    currentNode = self\n",
        "\n",
        "    while currentNode is not None:\n",
        "\n",
        "      if value < currentNode.value:\n",
        "\n",
        "\n",
        "        currentNode = currentNode.left\n",
        "\n",
        "\n",
        "      elif value > currentNode.value: \n",
        "\n",
        "        currentNode = currentNode.right\n",
        "\n",
        "      else:\n",
        "\n",
        "        return True\n",
        "\n",
        "    return False\n",
        "\n",
        "  def getMinValue(self):\n",
        "\n",
        "    currentNode = self\n",
        "\n",
        "    \n",
        "\n",
        "        \n",
        "    while currentNode.left is not None:\n",
        "\n",
        "      currentNode = currentNode.left\n",
        "\n",
        "    return currentNode.value\n",
        "    \n",
        "\n",
        "\n",
        "#Average : O(log(n)) time | O(1) space\n",
        "  #worst : O(N) time | O(1)   space\n",
        "\n",
        "\n",
        "\n",
        "  def remove(self,value,parentNode = None):\n",
        "\n",
        "    currentNode = self\n",
        "\n",
        "    print(currentNode.value)\n",
        "    print(value)\n",
        "    \n",
        "    while currentNode is not None:\n",
        "\n",
        "\n",
        "      if value < currentNode.value:\n",
        "\n",
        "        parentNode = currentNode\n",
        "\n",
        "        currentNode = currentNode.left\n",
        "\n",
        "      elif value > currentNode.value:\n",
        "\n",
        "        parentNode = currentNode\n",
        "\n",
        "        currentNode = currentNode.right\n",
        "\n",
        "      else:  #when we have found the value that we need to delete\n",
        "\n",
        "\n",
        "      #case1 : if the node has both left and right child nodes\n",
        "\n",
        "        if currentNode.left is not None and currentNode.right is not None:\n",
        "\n",
        "          currentNode.value = currentNode.right.getMinValue()\n",
        "\n",
        "          #currentNode.value = smallest value of the right sub tree\n",
        "\n",
        "          #when we find the left most value in the right sub tree we remove it\n",
        "\n",
        "          currentNode.right.remove(currentNode.value,currentNode)   #because here our BST is the right \n",
        "                                                                    #tree as in currentNode.right thatys\n",
        "                                                                    #we are using currentNode.right.remove()\n",
        "\n",
        "      #case2 : when doesnt have 2 child nodes present\n",
        "\n",
        "      #case2.1 : when node is the root node or doesnt have a parent\n",
        "      \n",
        "      ''' elif parentNode is None:\n",
        "          if currentNode.left is  not None:\n",
        "\n",
        "            currentNode.value = currentNode.left.value\n",
        "            currentNode.right = currentNode.left.right\n",
        "            currentNode.left = currentNode.left.left\n",
        "\n",
        "          elif currentNode.right is not None:\n",
        "\n",
        "\n",
        "            currentNode.value = currentNode.right.value            \n",
        "            currentNode.left = currentNode.right.left\n",
        "            currentNode.right = currentNode.right.right  #at last so that we dnt replace og without using it first\n",
        "\n",
        "          else:\n",
        "\n",
        "           currentNode.value = None''' #discuss with interviewer as this means we are deleting the BST'''\n",
        "\n",
        "      #case2.2 : when node had a parent\n",
        "        elif parentNode.left == currentNode:  #if current node is the left child of its parent node\n",
        "\n",
        "          parentNode.left = currentNode.left if currentNode.left is not None else currentNode.right\n",
        "          #above line means the left child of parent will be assigned currentNode.left is the current\n",
        "          #node has a left child otherwise it will be assigned the right child of the currentNode\n",
        "\n",
        "        elif parentNode.right == currentNode:\n",
        "\n",
        "          parentNode.right = currentNode.left if currentNode.left is not None else currentNode.right\n",
        "\n",
        "        break\n",
        "\n",
        "    \n",
        "    return self\n",
        "\n"
      ],
      "execution_count": 61,
      "outputs": []
    },
    {
      "cell_type": "code",
      "metadata": {
        "colab": {
          "base_uri": "https://localhost:8080/"
        },
        "id": "5io4W0SHC276",
        "outputId": "21ee3308-56cf-481d-b965-673cb9c2ff9e"
      },
      "source": [
        "root_node = 10\n",
        "my_tree = BST(root_node) \n",
        "tree_nodes = [5,15,2,13,22,14,12]\n",
        "\n",
        "for node in tree_nodes:\n",
        "  my_tree.insert(node)\n",
        "\n",
        "\n",
        "#checking if a particular value exists in our BST: my_tree\n",
        "\n",
        "my_tree.contains(10)"
      ],
      "execution_count": 64,
      "outputs": [
        {
          "output_type": "execute_result",
          "data": {
            "text/plain": [
              "True"
            ]
          },
          "metadata": {
            "tags": []
          },
          "execution_count": 64
        }
      ]
    },
    {
      "cell_type": "code",
      "metadata": {
        "colab": {
          "base_uri": "https://localhost:8080/"
        },
        "id": "uxtPuPMERvxW",
        "outputId": "2d58f588-c168-40ef-f6a5-6da6ee71e3e1"
      },
      "source": [
        ""
      ],
      "execution_count": 68,
      "outputs": [
        {
          "output_type": "execute_result",
          "data": {
            "text/plain": [
              "5"
            ]
          },
          "metadata": {
            "tags": []
          },
          "execution_count": 68
        }
      ]
    },
    {
      "cell_type": "code",
      "metadata": {
        "colab": {
          "base_uri": "https://localhost:8080/"
        },
        "id": "ADyhwWFhRine",
        "outputId": "ca806d01-d2b9-47e2-cbae-a94d39083811"
      },
      "source": [
        "my_tree.remove(10)"
      ],
      "execution_count": 65,
      "outputs": [
        {
          "output_type": "stream",
          "text": [
            "10\n",
            "10\n",
            "15\n",
            "12\n"
          ],
          "name": "stdout"
        },
        {
          "output_type": "execute_result",
          "data": {
            "text/plain": [
              "<__main__.BST at 0x7f3bde311890>"
            ]
          },
          "metadata": {
            "tags": []
          },
          "execution_count": 65
        }
      ]
    },
    {
      "cell_type": "markdown",
      "metadata": {
        "id": "A9vWJZ_Q9Lj4"
      },
      "source": [
        "####For Test Cases"
      ]
    },
    {
      "cell_type": "code",
      "metadata": {
        "colab": {
          "base_uri": "https://localhost:8080/"
        },
        "id": "q_7dGMTB6Na-",
        "outputId": "bdf95e05-bd88-4a0f-a7ad-f0d3bb6626f9"
      },
      "source": [
        "root_node = 12\n",
        "test_tree_o = BST(root_node) \n",
        "tree_nodes = [19,7,9,5,10]\n",
        "\n",
        "for node in tree_nodes:\n",
        "  test_tree_o.insert(node)\n",
        "\n",
        "#checking if a particular value exists in our BST: my_tree\n",
        "\n",
        "test_tree_o.contains(22)"
      ],
      "execution_count": 105,
      "outputs": [
        {
          "output_type": "execute_result",
          "data": {
            "text/plain": [
              "False"
            ]
          },
          "metadata": {
            "tags": []
          },
          "execution_count": 105
        }
      ]
    },
    {
      "cell_type": "code",
      "metadata": {
        "id": "jWg-cxnxEE6R",
        "colab": {
          "base_uri": "https://localhost:8080/"
        },
        "outputId": "3008cfee-25a8-4282-a5bc-4f99918fdfd1"
      },
      "source": [
        "#lets remove the parent \n",
        "\n",
        "test_tree_o = test_tree_o.remove(12)"
      ],
      "execution_count": 106,
      "outputs": [
        {
          "output_type": "stream",
          "text": [
            "12\n",
            "12\n",
            "19\n",
            "19\n"
          ],
          "name": "stdout"
        }
      ]
    },
    {
      "cell_type": "code",
      "metadata": {
        "colab": {
          "base_uri": "https://localhost:8080/"
        },
        "id": "G2rZCDm2EQUh",
        "outputId": "bef456e5-b7c2-4e62-a3b6-5dfc6a526fa1"
      },
      "source": [
        "test_tree_o.left.value"
      ],
      "execution_count": 109,
      "outputs": [
        {
          "output_type": "execute_result",
          "data": {
            "text/plain": [
              "7"
            ]
          },
          "metadata": {
            "tags": []
          },
          "execution_count": 109
        }
      ]
    },
    {
      "cell_type": "code",
      "metadata": {
        "id": "CmfKCFeBOTwA"
      },
      "source": [
        "class BST_d:\n",
        "\n",
        "  def __init__(self,value):\n",
        "\n",
        "    self.value = value\n",
        "    self.left = None\n",
        "    self.right = None\n",
        "\n",
        "  \n",
        "  #using iterative method\n",
        "\n",
        "\n",
        "  #Average : O(log(n)) time | O(1) space\n",
        "  #worst : O(N) time | O(1)   space\n",
        "\n",
        "  def insert(self,value):  \n",
        "\n",
        "    #initialize a variable that keeps track of what node we are at\n",
        "    currentNode = self # because in the beginning the current node is the node where we start our insertion and that is self\n",
        "\n",
        "    while True:\n",
        "\n",
        "      if value < currentNode.value:\n",
        "\n",
        "        #check if left node from here is an actual BST or the end\n",
        "\n",
        "        if currentNode.left is None:#we create a left subtree\n",
        "\n",
        "          currentNode.left = BST_d(value)   #if none we are adding the value that we are trying to insert \n",
        "          break                                #at this left node\n",
        "\n",
        "        else:#make left node of current node so that we can now check for its child nodes\n",
        "\n",
        "          currentNode = currentNode.left   #assigning our currentNode to the left subtree\n",
        "\n",
        "\n",
        "      else:    #to check the right sub tree for insertion\n",
        "\n",
        "        if currentNode.right is None:\n",
        "\n",
        "          currentNode.right = BST_d(value)\n",
        "          break\n",
        "          \n",
        "        else:\n",
        "\n",
        "          currentNode = currentNode.right\n",
        "        \n",
        "\n",
        "\n",
        "    return self   #so that we can chain the output\n",
        "\n",
        " \n",
        " \n",
        "\n",
        "  #Average : O(log(n)) time | O(1) space\n",
        "  #worst : O(N) time | O(1)   space\n",
        " \n",
        "  def contains(self,value):\n",
        "\n",
        "    currentNode = self\n",
        "\n",
        "    while currentNode is not None:\n",
        "\n",
        "      if value < currentNode.value:\n",
        "\n",
        "\n",
        "        currentNode = currentNode.left\n",
        "\n",
        "\n",
        "      elif value > currentNode.value: \n",
        "\n",
        "        currentNode = currentNode.right\n",
        "\n",
        "      else:\n",
        "\n",
        "        return True\n",
        "\n",
        "    return False\n",
        "\n",
        "\n",
        "\n",
        "  def getminValue(self): #left most node value in the right subtree   #we are not taking directly node or directly the right subtree because if subtree is empty it will be a none object rather than a interger\n",
        "                                      #so it wont be able to compare\n",
        "    currentNode = self\n",
        "    \n",
        "    while currentNode.left is not None:\n",
        "\n",
        "      currentNode = currentNode.left\n",
        "\n",
        "    return currentNode.value\n",
        "\n",
        "\n",
        "\n",
        "\n",
        "  def remove(self,value,parentNode = None):\n",
        "\n",
        "    currentNode = self\n",
        "\n",
        "    print(currentNode.value)\n",
        "    print(value)\n",
        "\n",
        "    while currentNode is not None:\n",
        "\n",
        "      if value < currentNode.value:\n",
        "\n",
        "        parentNode = currentNode\n",
        "        currentNode = currentNode.left\n",
        "\n",
        "      elif value > currentNode.value:\n",
        "\n",
        "        parentNode = currentNode\n",
        "        currentNode  = currentNode.right\n",
        "\n",
        "      elif value == currentNode.value:\n",
        "\n",
        "        print('left',currentNode.left.value)\n",
        "        #print('right',currentNode.right.value)\n",
        "\n",
        "\n",
        "\n",
        "        #case1: No child of currentNode\n",
        "\n",
        "        if currentNode.left is None and currentNode.right is None and parentNode is not None:\n",
        "\n",
        "          if parentNode.left == currentNode:\n",
        "\n",
        "            parentNode.left = None\n",
        "            break\n",
        "\n",
        "          elif parentNode.right == currentNode:\n",
        "\n",
        "\n",
        "            parentNode.right = None\n",
        "            break\n",
        "\n",
        "          \n",
        "          \n",
        "\n",
        "        #only left child\n",
        "        \n",
        "        elif parentNode.left == currentNode:  #if current node is the left child of its parent node\n",
        "\n",
        "          parentNode.left = currentNode.left if currentNode.left is not None else currentNode.right\n",
        "          #above line means the left child of parent will be assigned currentNode.left is the current\n",
        "          #node has a left child otherwise it will be assigned the right child of the currentNode\n",
        "\n",
        "        elif parentNode.right == currentNode:\n",
        "\n",
        "          parentNode.right = currentNode.left if currentNode.left is not None else currentNode.right\n",
        "\n",
        "    \n",
        "\n",
        "        #both child\n",
        "\n",
        "        else:\n",
        "\n",
        "          if value < currentNode.value:\n",
        "\n",
        "            currentNode = currentNode.left\n",
        "\n",
        "          elif value > currentNode.value:\n",
        "\n",
        "            currentNode = currentNode.right\n",
        "\n",
        "\n",
        "          else:\n",
        "            print(currentNode.value)\n",
        "\n",
        "            currentNode.value = currentNode.right.getminValue()\n",
        "            print('current Nde value', currentNode.value)\n",
        "            \n",
        "\n",
        "            currentNode.right.remove(currentNode.value,currentNode)\n",
        "            \n",
        "      else:\n",
        "\n",
        "        print('Node does not exist')        \n",
        "\n",
        "          \n",
        "    \n",
        "    return self"
      ],
      "execution_count": 69,
      "outputs": []
    },
    {
      "cell_type": "code",
      "metadata": {
        "id": "wY_RVeInJ2ef"
      },
      "source": [
        "root_node = 10\n",
        "my_tree = BST_d(root_node) "
      ],
      "execution_count": 70,
      "outputs": []
    },
    {
      "cell_type": "code",
      "metadata": {
        "colab": {
          "base_uri": "https://localhost:8080/"
        },
        "id": "fwep5wLAJ8yy",
        "outputId": "737a3288-3b69-4fd1-f0bc-47206af016a5"
      },
      "source": [
        "tree_nodes = [5,15,2,13,22,14,12,1]\n",
        "\n",
        "for node in tree_nodes:\n",
        "  my_tree.insert(node)\n",
        "\n",
        "#checking if a particular value exists in our BST: my_tree\n",
        "\n",
        "my_tree.contains(22)"
      ],
      "execution_count": 71,
      "outputs": [
        {
          "output_type": "execute_result",
          "data": {
            "text/plain": [
              "True"
            ]
          },
          "metadata": {
            "tags": []
          },
          "execution_count": 71
        }
      ]
    },
    {
      "cell_type": "code",
      "metadata": {
        "colab": {
          "base_uri": "https://localhost:8080/",
          "height": 400
        },
        "id": "4nZkhBSjJ-XF",
        "outputId": "0a9eb7c3-6363-4591-c0fa-74dcd83e5383"
      },
      "source": [
        "\n",
        "my_tree = my_tree.remove(2)"
      ],
      "execution_count": 72,
      "outputs": [
        {
          "output_type": "stream",
          "text": [
            "10\n",
            "2\n",
            "left 1\n",
            "left 1\n",
            "2\n"
          ],
          "name": "stdout"
        },
        {
          "output_type": "error",
          "ename": "AttributeError",
          "evalue": "ignored",
          "traceback": [
            "\u001b[0;31m---------------------------------------------------------------------------\u001b[0m",
            "\u001b[0;31mAttributeError\u001b[0m                            Traceback (most recent call last)",
            "\u001b[0;32m<ipython-input-72-6e2e8d96bd00>\u001b[0m in \u001b[0;36m<module>\u001b[0;34m()\u001b[0m\n\u001b[1;32m      1\u001b[0m \u001b[0;34m\u001b[0m\u001b[0m\n\u001b[0;32m----> 2\u001b[0;31m \u001b[0mmy_tree\u001b[0m \u001b[0;34m=\u001b[0m \u001b[0mmy_tree\u001b[0m\u001b[0;34m.\u001b[0m\u001b[0mremove\u001b[0m\u001b[0;34m(\u001b[0m\u001b[0;36m2\u001b[0m\u001b[0;34m)\u001b[0m\u001b[0;34m\u001b[0m\u001b[0;34m\u001b[0m\u001b[0m\n\u001b[0m",
            "\u001b[0;32m<ipython-input-69-a999cf61ff91>\u001b[0m in \u001b[0;36mremove\u001b[0;34m(self, value, parentNode)\u001b[0m\n\u001b[1;32m    167\u001b[0m             \u001b[0mprint\u001b[0m\u001b[0;34m(\u001b[0m\u001b[0mcurrentNode\u001b[0m\u001b[0;34m.\u001b[0m\u001b[0mvalue\u001b[0m\u001b[0;34m)\u001b[0m\u001b[0;34m\u001b[0m\u001b[0;34m\u001b[0m\u001b[0m\n\u001b[1;32m    168\u001b[0m \u001b[0;34m\u001b[0m\u001b[0m\n\u001b[0;32m--> 169\u001b[0;31m             \u001b[0mcurrentNode\u001b[0m\u001b[0;34m.\u001b[0m\u001b[0mvalue\u001b[0m \u001b[0;34m=\u001b[0m \u001b[0mcurrentNode\u001b[0m\u001b[0;34m.\u001b[0m\u001b[0mright\u001b[0m\u001b[0;34m.\u001b[0m\u001b[0mgetminValue\u001b[0m\u001b[0;34m(\u001b[0m\u001b[0;34m)\u001b[0m\u001b[0;34m\u001b[0m\u001b[0;34m\u001b[0m\u001b[0m\n\u001b[0m\u001b[1;32m    170\u001b[0m             \u001b[0mprint\u001b[0m\u001b[0;34m(\u001b[0m\u001b[0;34m'current Nde value'\u001b[0m\u001b[0;34m,\u001b[0m \u001b[0mcurrentNode\u001b[0m\u001b[0;34m.\u001b[0m\u001b[0mvalue\u001b[0m\u001b[0;34m)\u001b[0m\u001b[0;34m\u001b[0m\u001b[0;34m\u001b[0m\u001b[0m\n\u001b[1;32m    171\u001b[0m \u001b[0;34m\u001b[0m\u001b[0m\n",
            "\u001b[0;31mAttributeError\u001b[0m: 'NoneType' object has no attribute 'getminValue'"
          ]
        }
      ]
    },
    {
      "cell_type": "code",
      "metadata": {
        "colab": {
          "base_uri": "https://localhost:8080/"
        },
        "id": "O0XLmm3Z_Mur",
        "outputId": "893fd46b-0ead-4c56-cbaf-ed6052657dd1"
      },
      "source": [
        "my_tree.contains(22)"
      ],
      "execution_count": 23,
      "outputs": [
        {
          "output_type": "execute_result",
          "data": {
            "text/plain": [
              "False"
            ]
          },
          "metadata": {
            "tags": []
          },
          "execution_count": 23
        }
      ]
    },
    {
      "cell_type": "code",
      "metadata": {
        "colab": {
          "base_uri": "https://localhost:8080/"
        },
        "id": "klrz1BjdKD5h",
        "outputId": "84553389-2963-4a2a-978d-b254139482ec"
      },
      "source": [
        "root_node = 12\n",
        "test_tree = BST_d(root_node) \n",
        "tree_nodes = [19,7,9,5,10]\n",
        "\n",
        "for node in tree_nodes:\n",
        "  test_tree.insert(node)\n",
        "\n",
        "#checking if a particular value exists in our BST: my_tree\n",
        "\n",
        "test_tree.contains(22)"
      ],
      "execution_count": 110,
      "outputs": [
        {
          "output_type": "execute_result",
          "data": {
            "text/plain": [
              "False"
            ]
          },
          "metadata": {
            "tags": []
          },
          "execution_count": 110
        }
      ]
    },
    {
      "cell_type": "code",
      "metadata": {
        "colab": {
          "base_uri": "https://localhost:8080/"
        },
        "id": "KHCjA6dV7XvZ",
        "outputId": "e6324810-12a3-4fe1-df0e-4fbd5ae64835"
      },
      "source": [
        "test_tree = test_tree.remove(12)"
      ],
      "execution_count": 111,
      "outputs": [
        {
          "output_type": "stream",
          "text": [
            "12\n",
            "12\n",
            "yay\n",
            "12\n",
            "current Nde value 19\n",
            "19\n",
            "19\n",
            "yay\n"
          ],
          "name": "stdout"
        }
      ]
    },
    {
      "cell_type": "code",
      "metadata": {
        "colab": {
          "base_uri": "https://localhost:8080/",
          "height": 187
        },
        "id": "TimdHebG-Rzq",
        "outputId": "c35c1838-366e-4226-82ae-86f3451f3d63"
      },
      "source": [
        "k = test_tree.left.right.value\n",
        "k.right.value"
      ],
      "execution_count": 99,
      "outputs": [
        {
          "output_type": "error",
          "ename": "AttributeError",
          "evalue": "ignored",
          "traceback": [
            "\u001b[0;31m---------------------------------------------------------------------------\u001b[0m",
            "\u001b[0;31mAttributeError\u001b[0m                            Traceback (most recent call last)",
            "\u001b[0;32m<ipython-input-99-6f27e1853181>\u001b[0m in \u001b[0;36m<module>\u001b[0;34m()\u001b[0m\n\u001b[1;32m      1\u001b[0m \u001b[0mk\u001b[0m \u001b[0;34m=\u001b[0m \u001b[0mtest_tree\u001b[0m\u001b[0;34m.\u001b[0m\u001b[0mleft\u001b[0m\u001b[0;34m.\u001b[0m\u001b[0mright\u001b[0m\u001b[0;34m.\u001b[0m\u001b[0mvalue\u001b[0m\u001b[0;34m\u001b[0m\u001b[0;34m\u001b[0m\u001b[0m\n\u001b[0;32m----> 2\u001b[0;31m \u001b[0mk\u001b[0m\u001b[0;34m.\u001b[0m\u001b[0mright\u001b[0m\u001b[0;34m.\u001b[0m\u001b[0mvalue\u001b[0m\u001b[0;34m\u001b[0m\u001b[0;34m\u001b[0m\u001b[0m\n\u001b[0m",
            "\u001b[0;31mAttributeError\u001b[0m: 'int' object has no attribute 'right'"
          ]
        }
      ]
    },
    {
      "cell_type": "code",
      "metadata": {
        "colab": {
          "base_uri": "https://localhost:8080/"
        },
        "id": "wsVoaQ8ZKMmo",
        "outputId": "98f51f65-ac88-4b10-b950-fb2168a8d7c1"
      },
      "source": [
        "test_tree.left.value"
      ],
      "execution_count": 113,
      "outputs": [
        {
          "output_type": "execute_result",
          "data": {
            "text/plain": [
              "7"
            ]
          },
          "metadata": {
            "tags": []
          },
          "execution_count": 113
        }
      ]
    },
    {
      "cell_type": "code",
      "metadata": {
        "id": "DAzlqD2RKXtp"
      },
      "source": [
        "k = my_tree.getminValue()"
      ],
      "execution_count": 24,
      "outputs": []
    },
    {
      "cell_type": "code",
      "metadata": {
        "colab": {
          "base_uri": "https://localhost:8080/"
        },
        "id": "e_dxA3EsKf1L",
        "outputId": "9134e3fd-0f67-419c-b50e-76471e61f7a1"
      },
      "source": [
        "k.value"
      ],
      "execution_count": 25,
      "outputs": [
        {
          "output_type": "execute_result",
          "data": {
            "text/plain": [
              "22"
            ]
          },
          "metadata": {
            "tags": []
          },
          "execution_count": 25
        }
      ]
    },
    {
      "cell_type": "code",
      "metadata": {
        "colab": {
          "base_uri": "https://localhost:8080/"
        },
        "id": "zx0AoLISKhOp",
        "outputId": "9eb49bb8-ecf3-4a7b-f232-aaf0f7aded97"
      },
      "source": [
        "my_tree.contains(15)"
      ],
      "execution_count": 57,
      "outputs": [
        {
          "output_type": "execute_result",
          "data": {
            "text/plain": [
              "False"
            ]
          },
          "metadata": {
            "tags": []
          },
          "execution_count": 57
        }
      ]
    },
    {
      "cell_type": "code",
      "metadata": {
        "id": "j1mA4LctOdoI"
      },
      "source": [
        ""
      ],
      "execution_count": null,
      "outputs": []
    }
  ]
}