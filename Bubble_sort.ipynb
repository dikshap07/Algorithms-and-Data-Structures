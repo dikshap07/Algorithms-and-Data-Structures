{
  "nbformat": 4,
  "nbformat_minor": 0,
  "metadata": {
    "colab": {
      "name": "Bubble_sort.ipynb",
      "provenance": [],
      "authorship_tag": "ABX9TyNBmCW8g2RzjzMonxABi26h",
      "include_colab_link": true
    },
    "kernelspec": {
      "name": "python3",
      "display_name": "Python 3"
    },
    "language_info": {
      "name": "python"
    }
  },
  "cells": [
    {
      "cell_type": "markdown",
      "metadata": {
        "id": "view-in-github",
        "colab_type": "text"
      },
      "source": [
        "<a href=\"https://colab.research.google.com/github/dikshap07/Algorithms-and-Data-Structures/blob/master/Bubble_sort.ipynb\" target=\"_parent\"><img src=\"https://colab.research.google.com/assets/colab-badge.svg\" alt=\"Open In Colab\"/></a>"
      ]
    },
    {
      "cell_type": "code",
      "metadata": {
        "id": "KPlb14Qcmpf8"
      },
      "source": [
        "def bubble_sort(A):\n",
        "\n",
        "  for k in range(0,len(A)):\n",
        "\n",
        "    for i in range(0,len(A)-1):\n",
        "\n",
        "      if A[i]>A[i+1]:\n",
        "\n",
        "        A[i],A[i+1] = A[i+1],A[i]\n",
        "\n",
        "    print(\"A\",A)\n",
        "\n",
        "  return A\n",
        "        "
      ],
      "execution_count": 5,
      "outputs": []
    },
    {
      "cell_type": "code",
      "metadata": {
        "colab": {
          "base_uri": "https://localhost:8080/"
        },
        "id": "bJ-e8ezZnkvf",
        "outputId": "45957290-33c6-46b6-e71f-4c8209e808cc"
      },
      "source": [
        "A = [2,7,4,1,5,3]\n",
        "print(bubble_sort(A))"
      ],
      "execution_count": 6,
      "outputs": [
        {
          "output_type": "stream",
          "text": [
            "A [2, 4, 1, 5, 3, 7]\n",
            "A [2, 1, 4, 3, 5, 7]\n",
            "A [1, 2, 3, 4, 5, 7]\n",
            "A [1, 2, 3, 4, 5, 7]\n",
            "A [1, 2, 3, 4, 5, 7]\n",
            "A [1, 2, 3, 4, 5, 7]\n",
            "[1, 2, 3, 4, 5, 7]\n"
          ],
          "name": "stdout"
        }
      ]
    },
    {
      "cell_type": "code",
      "metadata": {
        "id": "UpWWOhw0ntrI"
      },
      "source": [
        ""
      ],
      "execution_count": null,
      "outputs": []
    }
  ]
}