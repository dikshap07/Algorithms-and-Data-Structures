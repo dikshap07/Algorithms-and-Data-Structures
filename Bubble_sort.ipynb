{
  "nbformat": 4,
  "nbformat_minor": 0,
  "metadata": {
    "colab": {
      "name": "Bubble_sort.ipynb",
      "provenance": [],
      "authorship_tag": "ABX9TyOeiVt4/c6q64PUAc6rTUqT",
      "include_colab_link": true
    },
    "kernelspec": {
      "name": "python3",
      "display_name": "Python 3"
    },
    "language_info": {
      "name": "python"
    }
  },
  "cells": [
    {
      "cell_type": "markdown",
      "metadata": {
        "id": "view-in-github",
        "colab_type": "text"
      },
      "source": [
        "<a href=\"https://colab.research.google.com/github/dikshap07/Algorithms-and-Data-Structures/blob/master/Bubble_sort.ipynb\" target=\"_parent\"><img src=\"https://colab.research.google.com/assets/colab-badge.svg\" alt=\"Open In Colab\"/></a>"
      ]
    },
    {
      "cell_type": "code",
      "metadata": {
        "id": "ALfhGbp3T3Tp"
      },
      "source": [
        "def bubble_sort(A):\n",
        "\n",
        "  sorted = False\n",
        "\n",
        "  while not sorted:\n",
        "\n",
        "    sorted = True\n",
        "\n",
        "    for i in range(0,len(A)-1):\n",
        "\n",
        "      if A[i] > A[i+1]:\n",
        "\n",
        "        sorted = False\n",
        "\n",
        "        A[i], A[i+1] = A[i+1] , A[i]\n",
        "\n",
        "  return A\n",
        "\n"
      ],
      "execution_count": 1,
      "outputs": []
    },
    {
      "cell_type": "code",
      "metadata": {
        "colab": {
          "base_uri": "https://localhost:8080/"
        },
        "id": "lD-OlRyvUL-U",
        "outputId": "3abf4b3d-c127-4eae-e762-deb8c7e57c68"
      },
      "source": [
        "A = [10,1,6,3,5]\n",
        "print(bubble_sort(A))"
      ],
      "execution_count": 2,
      "outputs": [
        {
          "output_type": "stream",
          "name": "stdout",
          "text": [
            "[1, 3, 5, 6, 10]\n"
          ]
        }
      ]
    },
    {
      "cell_type": "code",
      "metadata": {
        "id": "ytoA1hCNUTmz"
      },
      "source": [
        "def bubble_sort_k(A):\n",
        "\n",
        "  for i in range(0,len(A)-1):\n",
        "\n",
        "    for j in range(len(A)-1,i,-1):\n",
        "\n",
        "      if A[j] < A[j-1]:\n",
        "\n",
        "        A[j],A[j-1] = A[j-1],A[j]\n",
        "\n",
        "\n",
        "  return A"
      ],
      "execution_count": 13,
      "outputs": []
    },
    {
      "cell_type": "code",
      "metadata": {
        "colab": {
          "base_uri": "https://localhost:8080/"
        },
        "id": "LDQeHsDOa43X",
        "outputId": "8e63e18a-1586-47a5-c91b-8fb1fc3f0e68"
      },
      "source": [
        "A = [10,1,6,3,5]\n",
        "print(bubble_sort_k(A))"
      ],
      "execution_count": 14,
      "outputs": [
        {
          "output_type": "stream",
          "name": "stdout",
          "text": [
            "[1, 3, 5, 6, 10]\n"
          ]
        }
      ]
    },
    {
      "cell_type": "code",
      "metadata": {
        "id": "CGE3rRI_bUkL"
      },
      "source": [
        ""
      ],
      "execution_count": null,
      "outputs": []
    }
  ]
}