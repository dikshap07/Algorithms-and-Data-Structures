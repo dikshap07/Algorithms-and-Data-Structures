{
  "nbformat": 4,
  "nbformat_minor": 0,
  "metadata": {
    "colab": {
      "name": "ClimibingStairs Problem.ipynb",
      "provenance": [],
      "collapsed_sections": [],
      "authorship_tag": "ABX9TyN0X6fimlGTl84fcreVC4SI",
      "include_colab_link": true
    },
    "kernelspec": {
      "name": "python3",
      "display_name": "Python 3"
    },
    "language_info": {
      "name": "python"
    }
  },
  "cells": [
    {
      "cell_type": "markdown",
      "metadata": {
        "id": "view-in-github",
        "colab_type": "text"
      },
      "source": [
        "<a href=\"https://colab.research.google.com/github/dikshap07/Algorithms-and-Data-Structures/blob/master/ClimibingStairs_Problem.ipynb\" target=\"_parent\"><img src=\"https://colab.research.google.com/assets/colab-badge.svg\" alt=\"Open In Colab\"/></a>"
      ]
    },
    {
      "cell_type": "code",
      "execution_count": null,
      "metadata": {
        "id": "Ixwx8tIbCiAk"
      },
      "outputs": [],
      "source": [
        "#recursive Brute Force\n",
        "\n",
        "\n",
        "def climibingStairs(n):\n",
        "\n",
        "  return climbing_stairs(0,n)\n",
        "\n",
        "def climbing_stairs(i,n):   #i : current step n = total steps\n",
        "\n",
        "  if i > n :\n",
        "    return 0\n",
        "\n",
        "  if i == n:\n",
        "\n",
        "    return 1 #implies we complted all stairs i.e. we found 1 path so return 1\n",
        "\n",
        "  return climbing_stairs(i+1,n) + climbing_stairs(i+2,n)  #since we have 2 choices ar each step this is helping us count diff paths from each stair \n",
        "                                                           #by choosing to take either 1 step or 2 steps. \n",
        "  "
      ]
    }
  ]
}