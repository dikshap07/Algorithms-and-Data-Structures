{
  "nbformat": 4,
  "nbformat_minor": 0,
  "metadata": {
    "colab": {
      "name": "ClimibingStairs Problem.ipynb",
      "provenance": [],
      "collapsed_sections": [],
      "authorship_tag": "ABX9TyMrfr8BkMUvwpO0a1LchUJC",
      "include_colab_link": true
    },
    "kernelspec": {
      "name": "python3",
      "display_name": "Python 3"
    },
    "language_info": {
      "name": "python"
    }
  },
  "cells": [
    {
      "cell_type": "markdown",
      "metadata": {
        "id": "view-in-github",
        "colab_type": "text"
      },
      "source": [
        "<a href=\"https://colab.research.google.com/github/dikshap07/Algorithms-and-Data-Structures/blob/master/ClimibingStairs_Problem.ipynb\" target=\"_parent\"><img src=\"https://colab.research.google.com/assets/colab-badge.svg\" alt=\"Open In Colab\"/></a>"
      ]
    },
    {
      "cell_type": "code",
      "source": [
        "#dynamic programming solution\n",
        "\n",
        "def climbStairs(self, n: int) -> int:\n",
        "        \n",
        "        \n",
        "        #DYNAMIC PROGRAMMING SOLUTION\n",
        "        \n",
        "        num_ways = [0]*(n+1)\n",
        "        \n",
        "        num_ways[0] = 1  \n",
        "        # so that when we do n-1 + n-2 for n ==2 we get 2 which is the number of ways to reach the step 2\n",
        "        num_ways[1] = 1 \n",
        "        \n",
        "        for i in range(2,n+1):\n",
        "            \n",
        "            num_ways[i] = num_ways[i-1] + num_ways[i-2]\n",
        "            \n",
        "        return num_ways[n]"
      ],
      "metadata": {
        "id": "fhj5EkF5mG2X"
      },
      "execution_count": null,
      "outputs": []
    },
    {
      "cell_type": "code",
      "source": [
        "#recursion + memoisation solution\n",
        "\n",
        "\n",
        "def climbingstairs(n):\n",
        "\n",
        "  memo = [0]*(n)\n",
        "\n",
        "  return climbing_stair(i,n,memo)\n",
        "\n",
        "\n",
        "def climbing_stair(i,n,memo):\n",
        "\n",
        "  if i > n:\n",
        "\n",
        "    return 0\n",
        "\n",
        "  if i == n:\n",
        "\n",
        "    return 1\n",
        "\n",
        "  if memo[i] > 0:\n",
        "\n",
        "    return memo[i]\n",
        "\n",
        "  \n",
        "  memo[i] = climbing_stair[i+1] + climbing_stair[i+2]\n",
        "\n",
        "\n",
        "  return memo[i]"
      ],
      "metadata": {
        "id": "DmX28utDmKHI"
      },
      "execution_count": null,
      "outputs": []
    },
    {
      "cell_type": "code",
      "execution_count": null,
      "metadata": {
        "id": "Ixwx8tIbCiAk"
      },
      "outputs": [],
      "source": [
        "#recursive Brute Force\n",
        "\n",
        "\n",
        "def climibingStairs(n):\n",
        "\n",
        "  return climbing_stairs(0,n)\n",
        "\n",
        "def climbing_stairs(i,n):   #i : current step n = total steps\n",
        "\n",
        "  if i > n :\n",
        "    return 0\n",
        "\n",
        "  if i == n:\n",
        "\n",
        "    return 1 #implies we complted all stairs i.e. we found 1 path so return 1\n",
        "\n",
        "  return climbing_stairs(i+1,n) + climbing_stairs(i+2,n)  #since we have 2 choices ar each step this is helping us count diff paths from each stair \n",
        "                                                           #by choosing to take either 1 step or 2 steps. \n",
        "  "
      ]
    }
  ]
}