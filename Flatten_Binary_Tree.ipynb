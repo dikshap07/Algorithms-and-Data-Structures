{
  "nbformat": 4,
  "nbformat_minor": 0,
  "metadata": {
    "colab": {
      "name": "Flatten Binary Tree.ipynb",
      "provenance": [],
      "authorship_tag": "ABX9TyOsP3ghjaA2QacGCH8x+HRl",
      "include_colab_link": true
    },
    "kernelspec": {
      "name": "python3",
      "display_name": "Python 3"
    },
    "language_info": {
      "name": "python"
    }
  },
  "cells": [
    {
      "cell_type": "markdown",
      "metadata": {
        "id": "view-in-github",
        "colab_type": "text"
      },
      "source": [
        "<a href=\"https://colab.research.google.com/github/dikshap07/Algorithms-and-Data-Structures/blob/master/Flatten_Binary_Tree.ipynb\" target=\"_parent\"><img src=\"https://colab.research.google.com/assets/colab-badge.svg\" alt=\"Open In Colab\"/></a>"
      ]
    },
    {
      "cell_type": "markdown",
      "metadata": {
        "id": "rRXXpJHqLgYx"
      },
      "source": [
        "###Problem: For a given Binary tree return the Flatten Binary Tree. and return the left most node of the flattened tree.\n",
        "\n",
        "Simple Solution: Return the InOrder Traversal for the Binary Tree and then link them together.(If the output is a sorted array the Binary Tree is a valid Binary Search Tree.) --> O(N)- Time , O(N) - Space\n",
        "\n",
        "Optimised Solution: Return a flat tree(no list or array) where for each node its left node is the right most node in the BT's left subtree and the right node is the left most node in the BT's right subtree."
      ]
    },
    {
      "cell_type": "code",
      "metadata": {
        "id": "pMNIdmdGM9a_"
      },
      "source": [
        "class BinaryTree:\n",
        "\n",
        "  def __init__(self,value):\n",
        "\n",
        "    self.value = value\n",
        "    self.left = None\n",
        "    self.right = None\n",
        "    self.parent = None"
      ],
      "execution_count": 1,
      "outputs": []
    },
    {
      "cell_type": "code",
      "metadata": {
        "id": "Tcyru7Esbr-O"
      },
      "source": [
        "\n",
        "bt = BinaryTree(1)\n",
        "bt.parent = None\n",
        "bt.left = BinaryTree(2)\n",
        "bt.right = BinaryTree(3)\n",
        "bt.left.parent = bt\n",
        "bt.right.parent = bt\n",
        "bt.left.left = BinaryTree(4)\n",
        "\n",
        "bt.left.left.parent = bt.left\n",
        "k = bt.left.left\n",
        "k.right = BinaryTree(8)\n",
        "k.right.parent = k\n",
        "bt.right.left = BinaryTree(6)\n",
        "bt.right.right = BinaryTree(7)\n",
        "\n",
        "\n",
        "l = bt.right \n",
        "l.right.parent = l\n",
        "l.left.parent = l"
      ],
      "execution_count": 25,
      "outputs": []
    },
    {
      "cell_type": "markdown",
      "metadata": {
        "id": "uM_AWFFwW-57"
      },
      "source": [
        "###Simple Solution \n",
        "O(N) time | N : number of nodes\n",
        "O(N) space | N :  nodes"
      ]
    },
    {
      "cell_type": "code",
      "metadata": {
        "id": "df-sm83LXGx7"
      },
      "source": [
        "def in_order_traversal(tree,tree_array = list()):\n",
        "  \n",
        "  if tree is  not None:\n",
        "\n",
        "    \n",
        "    in_order_traversal(tree.left,tree_array)\n",
        "\n",
        "    tree_array.append(tree)\n",
        "    \n",
        "    \n",
        "    in_order_traversal(tree.right,tree_array)\n",
        "\n",
        "  return tree_array \n",
        "\n",
        "  #return tree_array\n",
        "\n",
        "\n",
        "def flattenBinaryTree(tree):\n",
        "\n",
        "  inOrderNodes = in_order_traversal(tree,[])   #get the nodes in order for the flatten tree\n",
        "  print(inOrderNodes)\n",
        "\n",
        "  for i in range(len(inOrderNodes)-1):   #making the flatten tree structure (kind of like a linked list)\n",
        "\n",
        "    leftNode = inOrderNodes[i]\n",
        "    rightNode = inOrderNodes[i+1]\n",
        "    leftNode.right = rightNode\n",
        "    rightNode.left = leftNode\n",
        "\n",
        "\n",
        "  return inOrderNodes[0].value  #returning left most value of the flattened tree\n"
      ],
      "execution_count": 8,
      "outputs": []
    },
    {
      "cell_type": "code",
      "metadata": {
        "colab": {
          "base_uri": "https://localhost:8080/"
        },
        "id": "L86R4OvuavBx",
        "outputId": "77b225fa-8827-403b-c0b7-87212fd28eea"
      },
      "source": [
        "Z#in_order_traversal(bt,[])\n",
        "flattenBinaryTree(bt)"
      ],
      "execution_count": 9,
      "outputs": [
        {
          "output_type": "execute_result",
          "data": {
            "text/plain": [
              "[<__main__.BinaryTree at 0x7f6585dafc10>,\n",
              " <__main__.BinaryTree at 0x7f6585dafcd0>,\n",
              " <__main__.BinaryTree at 0x7f6585dafbd0>,\n",
              " <__main__.BinaryTree at 0x7f6585e6e3d0>,\n",
              " <__main__.BinaryTree at 0x7f6585dafc90>,\n",
              " <__main__.BinaryTree at 0x7f6585dafb90>,\n",
              " <__main__.BinaryTree at 0x7f6585dafd10>]"
            ]
          },
          "metadata": {
            "tags": []
          },
          "execution_count": 9
        }
      ]
    },
    {
      "cell_type": "markdown",
      "metadata": {
        "id": "HpQD8xkhkQ87"
      },
      "source": [
        "##Optimised Method  -->\n",
        "O(N) - Time : no of nodes of tree\n",
        "O(d) - Depth : depth of tree"
      ]
    },
    {
      "cell_type": "code",
      "metadata": {
        "id": "aBh0vsOjNB7V"
      },
      "source": [
        "def flatten_bt(tree):\n",
        "\n",
        "  left_most,right_most = flatten_tree(tree)\n",
        "  return left_most.value\n",
        "\n",
        "\n",
        "\n",
        "\n",
        "def flatten_tree(node):\n",
        "\n",
        "\n",
        "  #getting the left most node\n",
        "\n",
        "  #if no left child this node is left most node\n",
        "\n",
        "  if node.left is None:\n",
        "    \n",
        "    left_most = node\n",
        "\n",
        "  #otherwise we get left most node\n",
        "\n",
        "  else:\n",
        "\n",
        "    left_most_leftsubtree,right_most_leftsubtree = flatten_tree(node.left)   #getting left most and right most nodes for the left sub tree\n",
        "    connect_nodes(right_most_leftsubtree,node)   #changing pointers\n",
        "    left_most = left_most_leftsubtree\n",
        "\n",
        "\n",
        "\n",
        "  #if no right child this node is right most node\n",
        "\n",
        "  if node.right is None:\n",
        "\n",
        "    right_most = node\n",
        "\n",
        "  else:\n",
        "\n",
        "    left_most_rightsubtree,right_most_rightsubtree = flatten_tree(node.right)   #getting left most and right most nodes for the right sub tree\n",
        "    connect_nodes(node,left_most_rightsubtree)\n",
        "    right_most = right_most_rightsubtree\n",
        "\n",
        "  return left_most,right_most\n",
        "\n",
        "\n",
        "def connect_nodes(left,right):\n",
        "\n",
        "  left.right = right\n",
        "  right.left = left\n"
      ],
      "execution_count": 26,
      "outputs": []
    },
    {
      "cell_type": "code",
      "metadata": {
        "colab": {
          "base_uri": "https://localhost:8080/"
        },
        "id": "rI3Pf-UvNbld",
        "outputId": "a580d888-e651-4579-e85e-b488c2ea3e44"
      },
      "source": [
        "flatten_bt(bt)"
      ],
      "execution_count": 27,
      "outputs": [
        {
          "output_type": "execute_result",
          "data": {
            "text/plain": [
              "4"
            ]
          },
          "metadata": {
            "tags": []
          },
          "execution_count": 27
        }
      ]
    },
    {
      "cell_type": "code",
      "metadata": {
        "id": "Gx4r3J0KkVu7"
      },
      "source": [
        ""
      ],
      "execution_count": null,
      "outputs": []
    },
    {
      "cell_type": "code",
      "metadata": {
        "id": "UGPKwYmxkVtn"
      },
      "source": [
        ""
      ],
      "execution_count": null,
      "outputs": []
    },
    {
      "cell_type": "code",
      "metadata": {
        "id": "eHmu8chvkVp-"
      },
      "source": [
        ""
      ],
      "execution_count": null,
      "outputs": []
    },
    {
      "cell_type": "code",
      "metadata": {
        "id": "ThmcWmPckVoM"
      },
      "source": [
        ""
      ],
      "execution_count": null,
      "outputs": []
    },
    {
      "cell_type": "code",
      "metadata": {
        "id": "A2geRtZh_ijl"
      },
      "source": [
        "def left_most_node(tree):\n",
        "  currentNode = tree\n",
        "  \n",
        "  while currentNode.left is not None:\n",
        "\n",
        "    currentNode = currentNode.left\n",
        "\n",
        "  return currentNode\n",
        "\n",
        "\n",
        "def right_most_node(tree):\n",
        "  currentNode = tree\n",
        "  while currentNode.right is not None:\n",
        "\n",
        "    currentNode = currentNode.right\n",
        "\n",
        "  return currentNode\n",
        "\n",
        "\n",
        "\n",
        "def make_flatten_bt(binary_tree):\n",
        "\n",
        "  currentNode = binary_tree\n",
        "\n",
        "  if currentNode is None:\n",
        "    return \n",
        "\n",
        "  if currentNode.left is None and currentNode.right is None:\n",
        "    return currentNode\n",
        "\n",
        "\n",
        "  currentNode.left_node = right_most_node(currentNode.left)\n",
        "  currentNode.right_node = left_most_node(currentNode.right)\n",
        "\n",
        "  return currentNode\n",
        "\n",
        "\n",
        "\n",
        "def flat_tree(binary_tree):\n",
        "  currentNode = binary_tree\n",
        "\n",
        "  while currentNode is not None:\n",
        "    currentNode.left_node = make_flatten_bt(currentNode.left)\n",
        "    currentNode.right_node = make_flatten_bt(currentNode.right)\n",
        "  \n",
        "  return currentNode\n",
        "    \n"
      ],
      "execution_count": 17,
      "outputs": []
    }
  ]
}