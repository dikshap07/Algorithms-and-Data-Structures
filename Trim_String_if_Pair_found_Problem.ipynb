{
  "nbformat": 4,
  "nbformat_minor": 0,
  "metadata": {
    "colab": {
      "name": "Trim String if Pair found Problem.ipynb",
      "provenance": [],
      "authorship_tag": "ABX9TyN6XKpBCDoHmnkGaxvU5A30",
      "include_colab_link": true
    },
    "kernelspec": {
      "name": "python3",
      "display_name": "Python 3"
    },
    "language_info": {
      "name": "python"
    }
  },
  "cells": [
    {
      "cell_type": "markdown",
      "metadata": {
        "id": "view-in-github",
        "colab_type": "text"
      },
      "source": [
        "<a href=\"https://colab.research.google.com/github/dikshap07/Algorithms-and-Data-Structures/blob/master/Trim_String_if_Pair_found_Problem.ipynb\" target=\"_parent\"><img src=\"https://colab.research.google.com/assets/colab-badge.svg\" alt=\"Open In Colab\"/></a>"
      ]
    },
    {
      "cell_type": "code",
      "execution_count": null,
      "metadata": {
        "id": "zBGUZxAHtLob"
      },
      "outputs": [],
      "source": [
        "def trimString(s,c,index):\n",
        "\n",
        "  if s[index -1] == c:\n",
        "\n",
        "    s = s[:index-1] + s[index+1:]\n",
        "\n",
        "    return 1,s\n",
        "\n",
        "  elif index < len(s)-1 and s[index+1]:\n",
        "\n",
        "    s = s[:index] + s[index+2:]\n",
        "\n",
        "    return 1,s\n",
        "\n",
        "  return 0,s\n",
        "\n",
        "\n",
        "def new_string(s):\n",
        "\n",
        "  i = 1\n",
        "\n",
        "  while i < len(s):\n",
        "\n",
        "    if s[i] == 'A':\n",
        "\n",
        "      pair_found,s = trimString(s,'B',i)\n",
        "\n",
        "\n",
        "    elif s[i] == 'B':\n",
        "\n",
        "      pair_found,s = trimString(s,'A',i)\n",
        "\n",
        "    elif s[i] == 'C':\n",
        "\n",
        "      pair_found,s = trimString(s,'D',i)\n",
        "\n",
        "\n",
        "    elif s[i] == 'D':\n",
        "      pair_found,s = trimString(s,'C',i)\n",
        "\n",
        "\n",
        "    if pair_found:\n",
        "\n",
        "      i = 1\n",
        "\n",
        "    else:\n",
        "\n",
        "      i +=1\n",
        "\n",
        "  return s\n"
      ]
    },
    {
      "cell_type": "code",
      "source": [
        "print(string_transformation(\"CABABD\"))\n",
        "print(string_transformation(\"ACBDACBD\"))\n",
        "print(string_transformation(\"CBACD\"))\n",
        "print(string_transformation(\"CABDA\"))\n",
        "print(string_transformation(\"CABBA\"))\n",
        "print(string_transformation(\"D\"))\n",
        "print(string_transformation(\"\"))\n",
        "print(string_transformation(\"DDDDDDDDABDDDDDDDCCCCCCCC\"))\n",
        "print(string_transformation(\"ABABABABCDBBDCBDBCBDBBDABACADBACADAABABABABCDBBDCBDBCBDBBDABACADBACADACABACADABCADADACABACADAAAAAAABABABABCDBBDCBDBCBDBBDABACADBACADACABACADABCADADACABACADAAAAAAABABABABCDBBDCBDBCBDBBDABACADBACADACABACADABCADADACABACADAAAAAAABABABABCDBBDCBDBCBDBBDABACADBACADACABACADABCADADACABACADAAAAAAABABABABCDBBDCBDBCBDBBDABACADBACADACABACADABCADADACABACADAAAAAAABABABABCDBBDCBDBCBDBBDABACADBACADACABACADABCADADACABACADAAAAAAABABABABCDBBDCBDBCBDBBDABACADBACADACABACADABCADADACABACADAAAAAAABABABABCDBBDCBDBCBDBBDABACADBACADACABACADABCADADACABACADAAAAAAABABABABCDBBDCBDBCBDBBDABACADBACADACABACADABCADADACABACADAAAAAAABABABABCDBBDCBDBCBDBBDABACADBACADACABACADABCADADACABACADAAAAAAABABABABCDBBDCBDBCBDBBDABACADBACADACABACADABCADADACABACADAAAAAAABABABABCDBBDCBDBCBDBBDABACADBACADACABACADABCADADACABACADAAAAAAABABABABCDBBDCBDBCBDBBDABACADBACADACABACADABCADADACABACADAAAAAACABACADABCADADACABACADAAAAAA\"))"
      ],
      "metadata": {
        "colab": {
          "base_uri": "https://localhost:8080/"
        },
        "id": "RXStm6oqueE7",
        "outputId": "3435d1c5-015a-4588-d64d-8759ed43a717"
      },
      "execution_count": null,
      "outputs": [
        {
          "output_type": "stream",
          "name": "stdout",
          "text": [
            "\n",
            "ACBDACBD\n",
            "C\n",
            "A\n",
            "C\n",
            "D\n",
            "\n",
            "DDDDDDD\n",
            "BBBDBCBDBBDACAADBBDBCBDBBDACAADACACAADADACACADAAADBCBDBBDACAADACACAADADACACADAAADBCBDBBDACAADACACAADADACACADAAADBCBDBBDACAADACACAADADACACADAAADBCBDBBDACAADACACAADADACACADAAADBCBDBBDACAADACACAADADACACADAAADBCBDBBDACAADACACAADADACACADAAADBCBDBBDACAADACACAADADACACADAAADBCBDBBDACAADACACAADADACACADAAADBCBDBBDACAADACACAADADACACADAAADBCBDBBDACAADACACAADADACACADAAADBCBDBBDACAADACACAADADACACADAAADBCBDBBDACAADACACAADADACACADAAAAAACACAADADACACADAAAAAA\n"
          ]
        }
      ]
    },
    {
      "cell_type": "code",
      "source": [
        ""
      ],
      "metadata": {
        "id": "j8NYCwpmvBA9"
      },
      "execution_count": null,
      "outputs": []
    }
  ]
}