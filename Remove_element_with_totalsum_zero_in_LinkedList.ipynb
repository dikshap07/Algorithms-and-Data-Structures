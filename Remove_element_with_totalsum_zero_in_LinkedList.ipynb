{
  "nbformat": 4,
  "nbformat_minor": 0,
  "metadata": {
    "colab": {
      "name": "Remove element with totalsum zero in LinkedList.ipynb",
      "provenance": [],
      "authorship_tag": "ABX9TyNasx/eN9T2BZtRMShM4yV3",
      "include_colab_link": true
    },
    "kernelspec": {
      "name": "python3",
      "display_name": "Python 3"
    },
    "language_info": {
      "name": "python"
    }
  },
  "cells": [
    {
      "cell_type": "markdown",
      "metadata": {
        "id": "view-in-github",
        "colab_type": "text"
      },
      "source": [
        "<a href=\"https://colab.research.google.com/github/dikshap07/Algorithms-and-Data-Structures/blob/master/Remove_element_with_totalsum_zero_in_LinkedList.ipynb\" target=\"_parent\"><img src=\"https://colab.research.google.com/assets/colab-badge.svg\" alt=\"Open In Colab\"/></a>"
      ]
    },
    {
      "cell_type": "markdown",
      "metadata": {
        "id": "3FFD_9FAfSiC"
      },
      "source": [
        "Given some resources in the form of linked list you have to canceled out all the resources whose sum up to 0(Zero) and return the remaining list.\n",
        "\n",
        "E.g-->> 6 -6 8 4 -12 9 8 -8\n",
        "\n",
        "the above example lists which gets canceled :\n",
        "6 -6\n",
        "\n",
        "\n",
        "8 4 -12\n",
        "\n",
        "\n",
        "8 -8\n",
        "\n",
        "\n",
        "o/p : 9\n",
        "\n",
        "\n",
        "\n",
        "case 3 : 4 6 -10 8 9 10 -19 10 -18 20 25\n",
        "\n",
        "\n",
        "O/P : 20 25"
      ]
    },
    {
      "cell_type": "code",
      "metadata": {
        "id": "pqbGfFNGfT13"
      },
      "source": [
        "#DOUBLY LINKED LIST\n",
        "\n",
        "class Node():\n",
        "\n",
        "  def __init__(self,value,prev = None,next= None):\n",
        "    self.value = value\n",
        "    self.prev = prev\n",
        "    self.next = next\n",
        "\n",
        "class LinkedList():\n",
        "\n",
        "  def __init__(self,head = None):\n",
        "\n",
        "    self.head = head\n",
        "\n",
        "  def Pushbackt(self,node_value):\n",
        "\n",
        "    new_node = Node(node_value)\n",
        "\n",
        "    if self.head == None:\n",
        "      self.head = new_node\n",
        "      self.tail = new_node\n",
        "\n",
        "    new_node.prev = self.tail\n",
        "    self.tail.next = new_node\n",
        "    self.tail = new_node\n",
        "    new_node.next = None\n",
        "\n",
        "  def insert_list_elements(self,input_l):\n",
        "\n",
        "    for element in input_l:\n",
        "\n",
        "      self.Pushbackt(element)\n",
        "\n",
        "\n",
        "  def remove_by_value(self,delete_value):\n",
        "\n",
        "    start = self.head\n",
        "\n",
        "    while self.head.next:\n",
        "\n",
        "      print(\"node_value_out\",start.value)\n",
        "\n",
        "      if start.value == delete_value:\n",
        "        print(\"node_value\",start.value)\n",
        "\n",
        "\n",
        "        if start == self.tail:\n",
        "\n",
        "          last = self.tail\n",
        "\n",
        "          last.prev.next = None\n",
        "          self.tail = last.prev\n",
        "          return self\n",
        "\n",
        "        elif start == self.head:\n",
        "\n",
        "          self.head = self.head.next\n",
        "          return self\n",
        "\n",
        "\n",
        "\n",
        "        else:\n",
        "\n",
        "          start.prev.next = start.next\n",
        "          start.next.prev = start.prev\n",
        "        \n",
        "        return self\n",
        "\n",
        "\n",
        "\n",
        "      start = start.next\n",
        "\n",
        "    \n",
        "\n",
        "\n",
        "  def print_ll(self):\n",
        "\n",
        "    if self.head == None:\n",
        "\n",
        "      print(\"empty list\")\n",
        "\n",
        "    node = self.head\n",
        "\n",
        "    ll = \"\"\n",
        "\n",
        "    while node:\n",
        "\n",
        "      ll += str(node.value) + \"-->\"\n",
        "\n",
        "      node = node.next\n",
        "\n",
        "    \n",
        "    print(ll)\n",
        "\n",
        "\n"
      ],
      "execution_count": 63,
      "outputs": []
    },
    {
      "cell_type": "code",
      "metadata": {
        "id": "p1WokortmN-Y"
      },
      "source": [
        "input_ll = [6, -6, 8, 4, -12, 9, 8, -8]\n",
        "\n",
        "my_dll = LinkedList()\n",
        "\n",
        "my_dll.insert_list_elements(input_l = input_ll)\n"
      ],
      "execution_count": 70,
      "outputs": []
    },
    {
      "cell_type": "code",
      "metadata": {
        "colab": {
          "base_uri": "https://localhost:8080/"
        },
        "id": "JCRDtEb8mP8C",
        "outputId": "e68b1d8b-ba66-47cb-b4fd-31b863bf5ca3"
      },
      "source": [
        "my_dll.print_ll()"
      ],
      "execution_count": 65,
      "outputs": [
        {
          "output_type": "stream",
          "text": [
            "6-->-6-->8-->4-->-12-->9-->8-->-8-->\n"
          ],
          "name": "stdout"
        }
      ]
    },
    {
      "cell_type": "code",
      "metadata": {
        "id": "EoXNGlX8nduf"
      },
      "source": [
        "def remove_node(input_linked_list):\n",
        "\n",
        "  sum = 0\n",
        "\n",
        "  nod = []\n",
        "\n",
        "  start = input_linked_list.head\n",
        "\n",
        "  while start:\n",
        "\n",
        "    sum += start.value\n",
        "    print(\"sum\",sum)\n",
        "    nod.append(start.value)\n",
        "    print(\"nod\",nod)\n",
        "    \n",
        "    if sum == 0: \n",
        "\n",
        "      for num in nod:\n",
        "\n",
        "        input_linked_list.remove_by_value(num)\n",
        "\n",
        "        nod = []\n",
        "\n",
        "    start = start.next\n",
        "\n",
        "  return input_linked_list\n",
        "\n"
      ],
      "execution_count": 80,
      "outputs": []
    },
    {
      "cell_type": "code",
      "metadata": {
        "colab": {
          "base_uri": "https://localhost:8080/"
        },
        "id": "XkTFyUcx4ixa",
        "outputId": "664cb1df-9c6a-44e1-d9e8-a24c4c08a564"
      },
      "source": [
        "k = remove_node(my_dll)\n",
        "k.print_ll()"
      ],
      "execution_count": 81,
      "outputs": [
        {
          "output_type": "stream",
          "text": [
            "sum 9\n",
            "nod [9]\n",
            "sum 17\n",
            "nod [9, 8]\n",
            "sum 9\n",
            "nod [9, 8, -8]\n",
            "9-->8-->-8-->\n"
          ],
          "name": "stdout"
        }
      ]
    },
    {
      "cell_type": "code",
      "metadata": {
        "id": "LW8E3rxG4yuK"
      },
      "source": [
        ""
      ],
      "execution_count": null,
      "outputs": []
    }
  ]
}