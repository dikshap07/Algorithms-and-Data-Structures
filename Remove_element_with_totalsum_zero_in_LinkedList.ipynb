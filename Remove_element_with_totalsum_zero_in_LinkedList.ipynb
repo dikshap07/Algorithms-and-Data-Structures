{
  "nbformat": 4,
  "nbformat_minor": 0,
  "metadata": {
    "colab": {
      "name": "Remove element with totalsum zero in LinkedList.ipynb",
      "provenance": [],
      "authorship_tag": "ABX9TyMTTijNu7Z6CD+wWme7AwUO",
      "include_colab_link": true
    },
    "kernelspec": {
      "name": "python3",
      "display_name": "Python 3"
    },
    "language_info": {
      "name": "python"
    }
  },
  "cells": [
    {
      "cell_type": "markdown",
      "metadata": {
        "id": "view-in-github",
        "colab_type": "text"
      },
      "source": [
        "<a href=\"https://colab.research.google.com/github/dikshap07/Algorithms-and-Data-Structures/blob/master/Remove_element_with_totalsum_zero_in_LinkedList.ipynb\" target=\"_parent\"><img src=\"https://colab.research.google.com/assets/colab-badge.svg\" alt=\"Open In Colab\"/></a>"
      ]
    },
    {
      "cell_type": "markdown",
      "metadata": {
        "id": "3FFD_9FAfSiC"
      },
      "source": [
        "Given some resources in the form of linked list you have to canceled out all the resources whose sum up to 0(Zero) and return the remaining list.\n",
        "\n",
        "E.g-->> 6 -6 8 4 -12 9 8 -8\n",
        "\n",
        "the above example lists which gets canceled :\n",
        "6 -6\n",
        "\n",
        "\n",
        "8 4 -12\n",
        "\n",
        "\n",
        "8 -8\n",
        "\n",
        "\n",
        "o/p : 9\n",
        "\n",
        "\n",
        "\n",
        "case 3 : 4 6 -10 8 9 10 -19 10 -18 20 25\n",
        "\n",
        "\n",
        "O/P : 20 25"
      ]
    },
    {
      "cell_type": "code",
      "metadata": {
        "id": "pqbGfFNGfT13"
      },
      "source": [
        "#DOUBLY LINKED LIST\n",
        "\n",
        "class Node():\n",
        "\n",
        "  def __init__(self,value,prev = None,next= None):\n",
        "    self.value = value\n",
        "    self.prev = prev\n",
        "    self.next = next\n",
        "\n",
        "class LinkedList():\n",
        "\n",
        "  def __init__(self,head = None):\n",
        "\n",
        "    self.head = head\n",
        "\n",
        "  def Pushbackt(self,node_value):\n",
        "\n",
        "    new_node = Node(node_value)\n",
        "\n",
        "    if self.head == None:\n",
        "      self.head = new_node\n",
        "      self.tail = new_node\n",
        "\n",
        "    new_node.prev = self.tail\n",
        "    self.tail.next = new_node\n",
        "    self.tail = new_node\n",
        "    new_node.next = None\n",
        "\n",
        "  def insert_list_elements(self,input_l):\n",
        "\n",
        "    for element in input_l:\n",
        "\n",
        "      self.Pushbackt(element)\n",
        "\n",
        "\n",
        "  def remove_by_value(self,delete_value):\n",
        "\n",
        "    start = self.head\n",
        "\n",
        "    while self.head.next:\n",
        "\n",
        "      print(\"node_value_out\",start.value)\n",
        "\n",
        "      if start.value == delete_value:\n",
        "        print(\"node_value\",start.value)\n",
        "\n",
        "\n",
        "        if start == self.tail:\n",
        "\n",
        "          last = self.tail\n",
        "\n",
        "          last.prev.next = None\n",
        "          self.tail = last.prev\n",
        "          return self\n",
        "\n",
        "        elif start == self.head:\n",
        "\n",
        "          self.head = self.head.next\n",
        "          return self\n",
        "\n",
        "\n",
        "\n",
        "        else:\n",
        "\n",
        "          start.prev.next = start.next\n",
        "          start.next.prev = start.prev\n",
        "        \n",
        "        return self\n",
        "\n",
        "\n",
        "\n",
        "      start = start.next\n",
        "\n",
        "    \n",
        "\n",
        "\n",
        "  def print_ll(self):\n",
        "\n",
        "    if self.head == None:\n",
        "\n",
        "      print(\"empty list\")\n",
        "\n",
        "    node = self.head\n",
        "\n",
        "    ll = \"\"\n",
        "\n",
        "    while node:\n",
        "\n",
        "      ll += str(node.value) + \"-->\"\n",
        "\n",
        "      node = node.next\n",
        "\n",
        "    \n",
        "    print(ll)\n",
        "\n",
        "\n"
      ],
      "execution_count": 15,
      "outputs": []
    },
    {
      "cell_type": "code",
      "metadata": {
        "id": "p1WokortmN-Y"
      },
      "source": [
        "input_ll = [6, -6, 8, 4, -12, 9, 8, -8]\n",
        "\n",
        "my_dll = LinkedList()\n",
        "\n",
        "my_dll.insert_list_elements(input_l = input_ll)\n"
      ],
      "execution_count": 16,
      "outputs": []
    },
    {
      "cell_type": "code",
      "metadata": {
        "colab": {
          "base_uri": "https://localhost:8080/"
        },
        "id": "JCRDtEb8mP8C",
        "outputId": "ab4f661e-8aef-4794-928f-38a492d88d8c"
      },
      "source": [
        "my_dll.print_ll()"
      ],
      "execution_count": 17,
      "outputs": [
        {
          "output_type": "stream",
          "text": [
            "6-->-6-->8-->4-->-12-->9-->8-->-8-->\n"
          ],
          "name": "stdout"
        }
      ]
    },
    {
      "cell_type": "markdown",
      "metadata": {
        "id": "AwF54ypJPKUh"
      },
      "source": [
        "###USING HASH TABLE"
      ]
    },
    {
      "cell_type": "code",
      "metadata": {
        "id": "EoXNGlX8nduf"
      },
      "source": [
        "def remove_node(input_linked_list):\n",
        "\n",
        "  sum = 0\n",
        "\n",
        "  nod = []\n",
        "\n",
        "  start = input_linked_list.head\n",
        "\n",
        "  while start:\n",
        "\n",
        "    sum += start.value\n",
        "    print(\"sum\",sum)\n",
        "    nod.append(start.value)\n",
        "    print(\"nod\",nod)\n",
        "    \n",
        "    if sum == 0: \n",
        "\n",
        "      for num in nod:\n",
        "\n",
        "        input_linked_list.remove_by_value(num)\n",
        "\n",
        "        nod = []\n",
        "\n",
        "    start = start.next\n",
        "\n",
        "  return input_linked_list\n",
        "\n"
      ],
      "execution_count": 18,
      "outputs": []
    },
    {
      "cell_type": "code",
      "metadata": {
        "colab": {
          "base_uri": "https://localhost:8080/"
        },
        "id": "XkTFyUcx4ixa",
        "outputId": "7ab51cb7-7000-4bd5-c0f2-4591292a96a4"
      },
      "source": [
        "k = remove_node(my_dll)\n",
        "k.print_ll()"
      ],
      "execution_count": 19,
      "outputs": [
        {
          "output_type": "stream",
          "text": [
            "sum 6\n",
            "nod [6]\n",
            "sum 0\n",
            "nod [6, -6]\n",
            "node_value_out 6\n",
            "node_value 6\n",
            "node_value_out -6\n",
            "node_value -6\n",
            "sum 8\n",
            "nod [8]\n",
            "sum 12\n",
            "nod [8, 4]\n",
            "sum 0\n",
            "nod [8, 4, -12]\n",
            "node_value_out 8\n",
            "node_value 8\n",
            "node_value_out 4\n",
            "node_value 4\n",
            "node_value_out -12\n",
            "node_value -12\n",
            "sum 9\n",
            "nod [9]\n",
            "sum 17\n",
            "nod [9, 8]\n",
            "sum 9\n",
            "nod [9, 8, -8]\n",
            "9-->8-->-8-->\n"
          ],
          "name": "stdout"
        }
      ]
    },
    {
      "cell_type": "markdown",
      "metadata": {
        "id": "NghkGlCDPNxG"
      },
      "source": [
        "##USING STACK"
      ]
    },
    {
      "cell_type": "code",
      "metadata": {
        "id": "VWrnrYbnN8Ca"
      },
      "source": [
        "def modified_ll(ll):   #ll : input doubly linked list\n",
        "\n",
        "  node_stack = []\n",
        "\n",
        "  running_sum = 0\n",
        "\n",
        "  node = ll.head\n",
        "  while node:\n",
        "\n",
        "    if node.value >0:   #node only added to stack if its value is positive\n",
        "\n",
        "      node_stack.append(node)\n",
        "      print(f\"{node.value} node added to the stack\")\n",
        "\n",
        "      running_sum += node.value\n",
        "\n",
        "      node = node.next\n",
        "\n",
        "    else:   #if node value is neg we dont add it to stack, instead we investigate which nodes that were added to the node_stack resulted in a sum = 0\n",
        "\n",
        "      final_value = running_sum + node.value\n",
        "\n",
        "      while node_stack:\n",
        "\n",
        "        popped_node = node_stack.pop()    #we remove nodes from stack until we get the running_sum = final_value\n",
        "\n",
        "        running_sum -= popped_node.value\n",
        "\n",
        "        if running_sum == final_value:\n",
        "\n",
        "          break\n",
        "\n",
        "      node = node.next  \n",
        "\n",
        "  \n",
        "  #now we got the nodes in the stack which are left we need to create new linkedlist from them\n",
        "  new_l = []\n",
        "  for x in node_stack:\n",
        "    new_l.append(x.value)   #adding the values of the nodes added to a list\n",
        "\n",
        "  new_ll = LinkedList()\n",
        "  new_ll.insert_list_elements(new_l)  #inserted values from the above list to our new linkedlist\n",
        "\n",
        "  return new_ll\n",
        "\n",
        "\n",
        "\n"
      ],
      "execution_count": 39,
      "outputs": []
    },
    {
      "cell_type": "code",
      "metadata": {
        "colab": {
          "base_uri": "https://localhost:8080/"
        },
        "id": "UmPe_HDMTt-i",
        "outputId": "40fcc5ed-5f67-4ae4-b62e-1bff4a863e8b"
      },
      "source": [
        "input_ll = [6, -6, 8, 4, -12, 9, 8, -8]\n",
        "\n",
        "my_dll = LinkedList()\n",
        "\n",
        "my_dll.insert_list_elements(input_l = input_ll)\n",
        "my_dll.print_ll()"
      ],
      "execution_count": 40,
      "outputs": [
        {
          "output_type": "stream",
          "text": [
            "6-->-6-->8-->4-->-12-->9-->8-->-8-->\n"
          ],
          "name": "stdout"
        }
      ]
    },
    {
      "cell_type": "code",
      "metadata": {
        "colab": {
          "base_uri": "https://localhost:8080/"
        },
        "id": "mEhIj6O_TGjv",
        "outputId": "187ce36e-b20c-4ceb-e34c-29a5fdafa52b"
      },
      "source": [
        "output = modified_ll(my_dll)"
      ],
      "execution_count": 41,
      "outputs": [
        {
          "output_type": "stream",
          "text": [
            "6 node added to the stack\n",
            "8 node added to the stack\n",
            "4 node added to the stack\n",
            "9 node added to the stack\n",
            "8 node added to the stack\n"
          ],
          "name": "stdout"
        }
      ]
    },
    {
      "cell_type": "code",
      "metadata": {
        "colab": {
          "base_uri": "https://localhost:8080/"
        },
        "id": "E_HQMg3bTYfX",
        "outputId": "faaf3972-3edc-42b7-85ae-af5ca9a2148f"
      },
      "source": [
        "output.print_ll()"
      ],
      "execution_count": 42,
      "outputs": [
        {
          "output_type": "stream",
          "text": [
            "9-->\n"
          ],
          "name": "stdout"
        }
      ]
    },
    {
      "cell_type": "markdown",
      "metadata": {
        "id": "RvGg6GOHUcLj"
      },
      "source": [
        "##USING STACK - and not using insert_list_values"
      ]
    },
    {
      "cell_type": "code",
      "metadata": {
        "id": "zqJLT4PDUZh-"
      },
      "source": [
        "def modified_ll2(ll):   #ll : input doubly linked list\n",
        "\n",
        "  node_stack = []\n",
        "\n",
        "  running_sum = 0\n",
        "\n",
        "  node = ll.head\n",
        "  while node:\n",
        "\n",
        "    if node.value >0:   #node only added to stack if its value is positive\n",
        "\n",
        "      node_stack.append(node)\n",
        "      print(f\"{node.value} node added to the stack\")\n",
        "\n",
        "      running_sum += node.value\n",
        "\n",
        "      node = node.next\n",
        "\n",
        "    else:   #if node value is neg we dont add it to stack, instead we investigate which nodes that were added to the node_stack resulted in a sum = 0\n",
        "\n",
        "      final_value = running_sum + node.value\n",
        "\n",
        "      while node_stack:\n",
        "\n",
        "        popped_node = node_stack.pop()    #we remove nodes from stack until we get the running_sum = final_value\n",
        "\n",
        "        running_sum -= popped_node.value\n",
        "\n",
        "        if running_sum == final_value:\n",
        "\n",
        "          break\n",
        "\n",
        "      node = node.next  \n",
        "\n",
        "  #Now we have the nodes in the stack that should create the new linked list\n",
        "\n",
        "  head_node = None\n",
        "  curr = None\n",
        "  print(node_stack)\n",
        "  for node in node_stack:\n",
        "\n",
        "    if head_node is None:\n",
        "      node.next = None\n",
        "      node.prev = None\n",
        "\n",
        "      head_node = node\n",
        "      curr = node\n",
        "\n",
        "\n",
        "    else:\n",
        "\n",
        "      curr.next = node\n",
        "      node.prev = curr\n",
        "\n",
        "\n",
        "  new_dll = LinkedList(head_node)\n",
        "\n",
        "  return new_dll"
      ],
      "execution_count": 55,
      "outputs": []
    },
    {
      "cell_type": "code",
      "metadata": {
        "colab": {
          "base_uri": "https://localhost:8080/"
        },
        "id": "Z4kQjnJtaR2M",
        "outputId": "aacc3492-9214-498c-b0d3-e3fbbe05a80e"
      },
      "source": [
        "input_ll = [6, -6, 8, 4, -12, 9, 8, -8]\n",
        "\n",
        "my_dll = LinkedList()\n",
        "\n",
        "my_dll.insert_list_elements(input_l = input_ll)\n",
        "my_dll.print_ll()"
      ],
      "execution_count": 63,
      "outputs": [
        {
          "output_type": "stream",
          "text": [
            "6-->-6-->8-->4-->-12-->9-->8-->-8-->\n"
          ],
          "name": "stdout"
        }
      ]
    },
    {
      "cell_type": "code",
      "metadata": {
        "colab": {
          "base_uri": "https://localhost:8080/"
        },
        "id": "E9HTceN-afPI",
        "outputId": "4d6f52a9-e869-407e-9d42-a886a5ba3dfe"
      },
      "source": [
        "output = modified_ll2(my_dll)\n",
        "output.print_ll()"
      ],
      "execution_count": 64,
      "outputs": [
        {
          "output_type": "stream",
          "text": [
            "6 node added to the stack\n",
            "8 node added to the stack\n",
            "4 node added to the stack\n",
            "9 node added to the stack\n",
            "8 node added to the stack\n",
            "[<__main__.Node object at 0x7f43fc69a510>]\n",
            "9-->\n"
          ],
          "name": "stdout"
        }
      ]
    },
    {
      "cell_type": "code",
      "metadata": {
        "id": "LW8E3rxG4yuK"
      },
      "source": [
        "def answer(node):\n",
        "    head = None\n",
        "    stack = []\n",
        "    curSum = 0\n",
        "    while node:\n",
        "        if node.data > 0:\n",
        "            curSum += node.data\n",
        "            stack.append(node)\n",
        "            node = node.next\n",
        "        else:\n",
        "            finalValue = curSum + node.data\n",
        "            while stack:\n",
        "                value = stack.pop()\n",
        "                curSum -= value.data\n",
        "                if curSum == finalValue:\n",
        "                    break\n",
        "            node = node.next\n",
        "    previous = None\n",
        "    for x in stack:\n",
        "        if not head:\n",
        "            head = x\n",
        "            previous = x\n",
        "        else:\n",
        "            previous.next = x\n",
        "            previous = x\n",
        "    return head\n",
        "\n",
        "def traverse(node):\n",
        "\n",
        "    while node:\n",
        "        print(node.data)\n",
        "        node = node.next"
      ],
      "execution_count": 60,
      "outputs": []
    },
    {
      "cell_type": "code",
      "metadata": {
        "colab": {
          "base_uri": "https://localhost:8080/",
          "height": 290
        },
        "id": "J29mR00ubYNJ",
        "outputId": "b53400d1-7bb6-4282-b29c-990d7ce84bb1"
      },
      "source": [
        "answer(my_dll.head)"
      ],
      "execution_count": 62,
      "outputs": [
        {
          "output_type": "error",
          "ename": "AttributeError",
          "evalue": "ignored",
          "traceback": [
            "\u001b[0;31m---------------------------------------------------------------------------\u001b[0m",
            "\u001b[0;31mAttributeError\u001b[0m                            Traceback (most recent call last)",
            "\u001b[0;32m<ipython-input-62-f9c798e142d4>\u001b[0m in \u001b[0;36m<module>\u001b[0;34m()\u001b[0m\n\u001b[0;32m----> 1\u001b[0;31m \u001b[0manswer\u001b[0m\u001b[0;34m(\u001b[0m\u001b[0mmy_dll\u001b[0m\u001b[0;34m.\u001b[0m\u001b[0mhead\u001b[0m\u001b[0;34m)\u001b[0m\u001b[0;34m\u001b[0m\u001b[0;34m\u001b[0m\u001b[0m\n\u001b[0m",
            "\u001b[0;32m<ipython-input-60-31ff449984cd>\u001b[0m in \u001b[0;36manswer\u001b[0;34m(node)\u001b[0m\n\u001b[1;32m      4\u001b[0m     \u001b[0mcurSum\u001b[0m \u001b[0;34m=\u001b[0m \u001b[0;36m0\u001b[0m\u001b[0;34m\u001b[0m\u001b[0;34m\u001b[0m\u001b[0m\n\u001b[1;32m      5\u001b[0m     \u001b[0;32mwhile\u001b[0m \u001b[0mnode\u001b[0m\u001b[0;34m:\u001b[0m\u001b[0;34m\u001b[0m\u001b[0;34m\u001b[0m\u001b[0m\n\u001b[0;32m----> 6\u001b[0;31m         \u001b[0;32mif\u001b[0m \u001b[0mnode\u001b[0m\u001b[0;34m.\u001b[0m\u001b[0mdata\u001b[0m \u001b[0;34m>\u001b[0m \u001b[0;36m0\u001b[0m\u001b[0;34m:\u001b[0m\u001b[0;34m\u001b[0m\u001b[0;34m\u001b[0m\u001b[0m\n\u001b[0m\u001b[1;32m      7\u001b[0m             \u001b[0mcurSum\u001b[0m \u001b[0;34m+=\u001b[0m \u001b[0mnode\u001b[0m\u001b[0;34m.\u001b[0m\u001b[0mdata\u001b[0m\u001b[0;34m\u001b[0m\u001b[0;34m\u001b[0m\u001b[0m\n\u001b[1;32m      8\u001b[0m             \u001b[0mstack\u001b[0m\u001b[0;34m.\u001b[0m\u001b[0mappend\u001b[0m\u001b[0;34m(\u001b[0m\u001b[0mnode\u001b[0m\u001b[0;34m)\u001b[0m\u001b[0;34m\u001b[0m\u001b[0;34m\u001b[0m\u001b[0m\n",
            "\u001b[0;31mAttributeError\u001b[0m: 'Node' object has no attribute 'data'"
          ]
        }
      ]
    },
    {
      "cell_type": "code",
      "metadata": {
        "id": "023ERo5Mbbal"
      },
      "source": [
        ""
      ],
      "execution_count": null,
      "outputs": []
    }
  ]
}