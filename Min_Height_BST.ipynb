{
  "nbformat": 4,
  "nbformat_minor": 0,
  "metadata": {
    "colab": {
      "name": "Min Height BST.ipynb",
      "provenance": [],
      "authorship_tag": "ABX9TyPcSW1O7yjIfSbukyo68Ek8",
      "include_colab_link": true
    },
    "kernelspec": {
      "name": "python3",
      "display_name": "Python 3"
    },
    "language_info": {
      "name": "python"
    }
  },
  "cells": [
    {
      "cell_type": "markdown",
      "metadata": {
        "id": "view-in-github",
        "colab_type": "text"
      },
      "source": [
        "<a href=\"https://colab.research.google.com/github/dikshap07/Algorithms-and-Data-Structures/blob/master/Min_Height_BST.ipynb\" target=\"_parent\"><img src=\"https://colab.research.google.com/assets/colab-badge.svg\" alt=\"Open In Colab\"/></a>"
      ]
    },
    {
      "cell_type": "markdown",
      "metadata": {
        "id": "msipJKMULYOU"
      },
      "source": [
        "Given: A sorted array of distinct integers.\n",
        "    : The class to use for BST with insert methos is also given.\n",
        "\n",
        "Question : Create a function that constructs a BST using the given array and returns the root of this BST, the height of the BST should be min."
      ]
    },
    {
      "cell_type": "code",
      "metadata": {
        "id": "zZfXs3T6LSWV"
      },
      "source": [
        "class BST:\n",
        "\n",
        "  def __init__(self,value):\n",
        "\n",
        "    self.value = value\n",
        "    self.left = None\n",
        "    self.right = None\n",
        "\n",
        "  \n",
        "  #using iterative method\n",
        "\n",
        "\n",
        "  #Average : O(log(n)) time | O(1) space\n",
        "  #worst : O(N) time | O(1)   space\n",
        "\n",
        "  def insert(self,value):  \n",
        "\n",
        "    #initialize a variable that keeps track of what node we are at\n",
        "    currentNode = self # because in the beginning the current node is the node where we start our insertion and that is self\n",
        "\n",
        "    while True:\n",
        "\n",
        "      if value < currentNode.value:\n",
        "\n",
        "        #check if left node from here is an actual BST or the end\n",
        "\n",
        "        if currentNode.left is None:#we create a left subtree\n",
        "\n",
        "          currentNode.left = BST(value)   #if none we are adding the value that we are trying to insert \n",
        "          break                                #at this left node\n",
        "\n",
        "        else:#make left node of current node so that we can now check for its child nodes\n",
        "\n",
        "          currentNode = currentNode.left   #assigning our currentNode to the left subtree\n",
        "\n",
        "\n",
        "      else:    #to check the right sub tree for insertion\n",
        "\n",
        "        if currentNode.right is None:\n",
        "\n",
        "          currentNode.right = BST(value)\n",
        "          break\n",
        "          \n",
        "        else:\n",
        "\n",
        "          currentNode = currentNode.right\n",
        "        \n",
        "\n",
        "\n",
        "    return self   #so that we can chain the output\n"
      ],
      "execution_count": 8,
      "outputs": []
    },
    {
      "cell_type": "code",
      "metadata": {
        "id": "AptxmVhwUz0C"
      },
      "source": [
        "input_array1 = [1,2,5,7,10,13,14,15,22]\n",
        "\n"
      ],
      "execution_count": 9,
      "outputs": []
    },
    {
      "cell_type": "code",
      "metadata": {
        "id": "M1tOxglRU9zz"
      },
      "source": [
        "#O(N): Time complexity N : no of elements in array\n",
        "def minheight_tree(input_array):\n",
        "\n",
        "  return construct_min_height_tree(input_array,None,0,len(input_array)-1)\n",
        "\n",
        "def construct_min_height_tree(input_array,bst,startIdx,endIdx):\n",
        "\n",
        "  if endIdx < startIdx:\n",
        "    return\n",
        "  \n",
        "  else:\n",
        "\n",
        "    midIdx = (startIdx+endIdx)//2\n",
        "\n",
        "    node = input_array[midIdx]    #since input array is sorted best choice for root node will be the middle elemeny\n",
        "\n",
        "    print('root_node', node)\n",
        "\n",
        "    tree = BST(node)\n",
        "\n",
        "    if bst is None:\n",
        "      bst = tree\n",
        "\n",
        "    else:\n",
        "\n",
        "      if node < bst.value:  #if current middle value is less than root node  added to left sub tree\n",
        "\n",
        "        bst.left = tree\n",
        "        bst = bst.left\n",
        "      \n",
        "      elif node >= bst.value: #if current middle value is greater than root node  added to right sub tree\n",
        "\n",
        "        bst.right = tree\n",
        "        bst = bst.right\n",
        "    \n",
        "\n",
        "    construct_min_height_tree(input_array,bst,startIdx,midIdx-1)  #to work on left side from the current middle element\n",
        "    construct_min_height_tree(input_array,bst,midIdx+1,endIdx)   #to work on the right side from the current middle element\n",
        "\n",
        "    return bst"
      ],
      "execution_count": 87,
      "outputs": []
    },
    {
      "cell_type": "code",
      "metadata": {
        "id": "DtXRGujvPN7C"
      },
      "source": [
        "input_array2 = [1,10,13,14,15,22]"
      ],
      "execution_count": 100,
      "outputs": []
    },
    {
      "cell_type": "code",
      "metadata": {
        "colab": {
          "base_uri": "https://localhost:8080/"
        },
        "id": "84BeBDLGao6s",
        "outputId": "b479c19f-e355-4873-86d7-41ca630e86b9"
      },
      "source": [
        "j = minheight_tree(input_array2)"
      ],
      "execution_count": 101,
      "outputs": [
        {
          "output_type": "stream",
          "text": [
            "root_node 13\n",
            "root_node 1\n",
            "root_node 10\n",
            "root_node 15\n",
            "root_node 14\n",
            "root_node 22\n"
          ],
          "name": "stdout"
        }
      ]
    },
    {
      "cell_type": "code",
      "metadata": {
        "colab": {
          "base_uri": "https://localhost:8080/"
        },
        "id": "4YrixXNtW7rA",
        "outputId": "265d85fd-1391-464c-8bf5-62c3ba834343"
      },
      "source": [
        "l = j.left\n",
        "l.value"
      ],
      "execution_count": 115,
      "outputs": [
        {
          "output_type": "execute_result",
          "data": {
            "text/plain": [
              "1"
            ]
          },
          "metadata": {
            "tags": []
          },
          "execution_count": 115
        }
      ]
    },
    {
      "cell_type": "code",
      "metadata": {
        "colab": {
          "base_uri": "https://localhost:8080/"
        },
        "id": "0G0eGkgdW8ZU",
        "outputId": "a76db473-d3ba-402c-d8f8-b726c1307558"
      },
      "source": [
        "k = 1\n",
        "y = [2]\n",
        "y[0:(k//2)]"
      ],
      "execution_count": 5,
      "outputs": [
        {
          "output_type": "execute_result",
          "data": {
            "text/plain": [
              "[]"
            ]
          },
          "metadata": {
            "tags": []
          },
          "execution_count": 5
        }
      ]
    },
    {
      "cell_type": "code",
      "metadata": {
        "id": "FKyZfqDlaXxk"
      },
      "source": [
        "def minHeightTree(array):\n",
        "  return constructMinHeightTree(array,None,0,len(array)-1)\n",
        "\n",
        "\n",
        "#Naive method: using insert method of BST class  --> O(Nlog(N)) : time complexity\n",
        "\n",
        "#BST.insert takes log(N) time and since we are adding N nodes in total : O(Nlog(N)) N : no of elements in the array\n",
        "\n",
        "\n",
        "\n",
        "def constructMinHeightTree(array,bst,startIdx,endIdx):\n",
        "\n",
        "  if endIdx < startIdx:\n",
        "\n",
        "    return \n",
        "\n",
        "  midIdx = (startIdx + endIdx)//2\n",
        "  value_to_add = array[midIdx]\n",
        "\n",
        "  if bst is None:\n",
        "\n",
        "    bst = BST(value_to_add)\n",
        "\n",
        "  else:\n",
        "    bst.insert(value_to_add)\n",
        "\n",
        "  constructMinHeightTree(array,bst,startIdx,midIdx-1)\n",
        "  constructMinHeightTree(array,bst,midIdx+1,endIdx)\n",
        "  \n",
        "  return bst\n",
        "\n"
      ],
      "execution_count": 20,
      "outputs": []
    },
    {
      "cell_type": "code",
      "metadata": {
        "id": "1Jn61qS0g_wA"
      },
      "source": [
        "tree = minHeightTree(input_array)"
      ],
      "execution_count": 22,
      "outputs": []
    },
    {
      "cell_type": "code",
      "metadata": {
        "colab": {
          "base_uri": "https://localhost:8080/"
        },
        "id": "7Vj5EX1bhDv_",
        "outputId": "4a99c6af-eca1-49c2-a26d-4289096dd107"
      },
      "source": [
        "tree.right.value"
      ],
      "execution_count": 25,
      "outputs": [
        {
          "output_type": "execute_result",
          "data": {
            "text/plain": [
              "14"
            ]
          },
          "metadata": {
            "tags": []
          },
          "execution_count": 25
        }
      ]
    },
    {
      "cell_type": "markdown",
      "metadata": {
        "id": "6KsmkzjL1Ehz"
      },
      "source": [
        "###My attempt 1"
      ]
    },
    {
      "cell_type": "code",
      "metadata": {
        "id": "kA9d_ZS-hKP5"
      },
      "source": [
        "def min_height_tree(input_array):\n",
        "\n",
        "  return cmht(input_array,None)\n",
        "\n",
        "def cmht(input_array,bst):\n",
        "\n",
        "  k = len(input_array)\n",
        "\n",
        "  if k == 0:\n",
        "    return \n",
        "\n",
        "  else:\n",
        "    root_node = input_array[k//2]\n",
        "\n",
        "    tree = BST(root_node)\n",
        "\n",
        "    if bst is None:\n",
        "      bst = tree\n",
        "\n",
        "    else:\n",
        "\n",
        "      if tree.value < bst.value:\n",
        "\n",
        "        bst.left = tree\n",
        "        bst = bst.left\n",
        "\n",
        "      else:\n",
        "\n",
        "        bst.right = tree\n",
        "        bst = bst.right\n",
        "\n",
        "    cmht(input_array[0:(k//2)],bst)\n",
        "    cmht(input_array[(k//2)+1:],bst)\n",
        "\n",
        "    return bst\n"
      ],
      "execution_count": 47,
      "outputs": []
    },
    {
      "cell_type": "code",
      "metadata": {
        "id": "w3HBaFy0xMXg"
      },
      "source": [
        "tree = min_height_tree(input_array1)"
      ],
      "execution_count": 49,
      "outputs": []
    },
    {
      "cell_type": "code",
      "metadata": {
        "colab": {
          "base_uri": "https://localhost:8080/"
        },
        "id": "kW6dbty6xVRs",
        "outputId": "551e3379-7675-49db-f955-92c182008212"
      },
      "source": [
        "k =tree.left\n",
        "k.left.value"
      ],
      "execution_count": 57,
      "outputs": [
        {
          "output_type": "execute_result",
          "data": {
            "text/plain": [
              "2"
            ]
          },
          "metadata": {
            "tags": []
          },
          "execution_count": 57
        }
      ]
    },
    {
      "cell_type": "markdown",
      "metadata": {
        "id": "xrkmAPqF1Bjo"
      },
      "source": [
        "####My attempt\n"
      ]
    },
    {
      "cell_type": "code",
      "metadata": {
        "id": "XSHQCjd_xZW1"
      },
      "source": [
        "def min_height_tree2(input_array):\n",
        "\n",
        "  return cmht2(input_array)\n",
        "\n",
        "def cmht2(input_array):\n",
        "\n",
        "  k = len(input_array)\n",
        "\n",
        "  if k == 0:\n",
        "    return \n",
        "\n",
        "  else:\n",
        "    root_node = input_array[k//2]\n",
        "\n",
        "    tree = BST(root_node)\n",
        "    print('tree.value',tree.value)\n",
        "\n",
        "    tree.left = cmht2(input_array[0:(k//2)])\n",
        "    \n",
        "    tree.right = cmht2(input_array[(k//2)+1:])\n",
        "    \n",
        "\n",
        "    return tree\n"
      ],
      "execution_count": 124,
      "outputs": []
    },
    {
      "cell_type": "code",
      "metadata": {
        "id": "4R9fRTVNOFIN"
      },
      "source": [
        "input_array2 = [1,10,13,14,15,22]"
      ],
      "execution_count": 85,
      "outputs": []
    },
    {
      "cell_type": "code",
      "metadata": {
        "colab": {
          "base_uri": "https://localhost:8080/"
        },
        "id": "wC1Vzai7ycv3",
        "outputId": "cc6c82c7-aeee-48eb-fd88-024dc5cb6aba"
      },
      "source": [
        "tree = min_height_tree2([1,2])"
      ],
      "execution_count": 127,
      "outputs": [
        {
          "output_type": "stream",
          "text": [
            "tree.value 2\n",
            "tree.value 1\n"
          ],
          "name": "stdout"
        }
      ]
    },
    {
      "cell_type": "code",
      "metadata": {
        "colab": {
          "base_uri": "https://localhost:8080/",
          "height": 167
        },
        "id": "P7gAJGozyjuM",
        "outputId": "2ad35e82-49d3-4589-9722-3af9c7c453da"
      },
      "source": [
        "k = tree.right\n",
        "k.left.value"
      ],
      "execution_count": 126,
      "outputs": [
        {
          "output_type": "error",
          "ename": "AttributeError",
          "evalue": "ignored",
          "traceback": [
            "\u001b[0;31m---------------------------------------------------------------------------\u001b[0m",
            "\u001b[0;31mAttributeError\u001b[0m                            Traceback (most recent call last)",
            "\u001b[0;32m<ipython-input-126-727d98c70647>\u001b[0m in \u001b[0;36m<module>\u001b[0;34m()\u001b[0m\n\u001b[0;32m----> 1\u001b[0;31m \u001b[0mtree\u001b[0m\u001b[0;34m.\u001b[0m\u001b[0mvalue\u001b[0m\u001b[0;34m\u001b[0m\u001b[0;34m\u001b[0m\u001b[0m\n\u001b[0m",
            "\u001b[0;31mAttributeError\u001b[0m: 'NoneType' object has no attribute 'value'"
          ]
        }
      ]
    },
    {
      "cell_type": "code",
      "metadata": {
        "colab": {
          "base_uri": "https://localhost:8080/"
        },
        "id": "Fw5eijyz0W2E",
        "outputId": "23c81aff-9a9b-4e83-c8de-46458729e279"
      },
      "source": [
        "tree.left.value"
      ],
      "execution_count": 129,
      "outputs": [
        {
          "output_type": "execute_result",
          "data": {
            "text/plain": [
              "1"
            ]
          },
          "metadata": {
            "tags": []
          },
          "execution_count": 129
        }
      ]
    },
    {
      "cell_type": "code",
      "metadata": {
        "id": "7LO5z6OpRp5i"
      },
      "source": [
        ""
      ],
      "execution_count": null,
      "outputs": []
    }
  ]
}