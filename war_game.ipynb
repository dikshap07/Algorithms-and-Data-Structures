{
  "nbformat": 4,
  "nbformat_minor": 0,
  "metadata": {
    "colab": {
      "name": "war_game.ipynb",
      "provenance": [],
      "authorship_tag": "ABX9TyNQ8Ye+2822+/wJZiNriiHB",
      "include_colab_link": true
    },
    "kernelspec": {
      "name": "python3",
      "display_name": "Python 3"
    },
    "language_info": {
      "name": "python"
    }
  },
  "cells": [
    {
      "cell_type": "markdown",
      "metadata": {
        "id": "view-in-github",
        "colab_type": "text"
      },
      "source": [
        "<a href=\"https://colab.research.google.com/github/dikshap07/Algorithms-and-Data-Structures/blob/master/war_game.ipynb\" target=\"_parent\"><img src=\"https://colab.research.google.com/assets/colab-badge.svg\" alt=\"Open In Colab\"/></a>"
      ]
    },
    {
      "cell_type": "code",
      "metadata": {
        "id": "ykTA5L1WhBAR"
      },
      "source": [
        "import random\n",
        "\n",
        "suits = ['Hearts','Clubs','Spades','Diamonds']\n",
        "\n",
        "ranks = ['Two','Three','Four','Five','Six','Seven','Eight','Nine','Ten','Jack','Queen','King','Ace']\n",
        "\n",
        "values = {'Two': 2, 'Three': 3, 'Four': 4, 'Five': 5, 'Six' : 6 , 'Seven' :7, 'Eight': 8,'Nine':9,\n",
        "          'Ten':10,'Jack':11, 'Queen': 12,'King': 13,'Ace':14 }\n",
        "          \n"
      ],
      "execution_count": 52,
      "outputs": []
    },
    {
      "cell_type": "code",
      "metadata": {
        "id": "SkXtq8bhhs7h"
      },
      "source": [
        "class Card():  \n",
        "    \n",
        "    \n",
        "    def __init__(self,suit,rank):\n",
        "        \n",
        "        self.suit = suit\n",
        "        self.rank = rank\n",
        "        self.value = values[rank]\n",
        "    \n",
        "    #string method\n",
        "    def __str__(self):\n",
        "        \n",
        "        return self.rank + ' of ' + self.suit \n",
        "    \n",
        "    \n",
        "    "
      ],
      "execution_count": 53,
      "outputs": []
    },
    {
      "cell_type": "code",
      "metadata": {
        "id": "Z5bs2P1Sh4j2"
      },
      "source": [
        "\n",
        "class Deck():\n",
        "\n",
        "  def __init__(self):\n",
        "\n",
        "    self.all_cards = []  #list of objects\n",
        "\n",
        "    for suit in suits:\n",
        "\n",
        "      for rank in ranks:\n",
        "        #create card object\n",
        "\n",
        "        created_card = Card(suit,rank)\n",
        "\n",
        "        self.all_cards.append(created_card)\n",
        "\n",
        "\n",
        "  def shuffle(self):   #method to shuffle the card\n",
        "\n",
        "    random.shuffle(self.all_cards)\n",
        "\n",
        "\n",
        "\n",
        "  def deal_one(self):\n",
        "\n",
        "    return self.all_cards.pop()  #we want the last card from deck\n",
        "\n",
        "\n"
      ],
      "execution_count": 54,
      "outputs": []
    },
    {
      "cell_type": "code",
      "metadata": {
        "id": "5qg7hYmxJM8A"
      },
      "source": [
        "new_deck = Deck()"
      ],
      "execution_count": 55,
      "outputs": []
    },
    {
      "cell_type": "code",
      "metadata": {
        "id": "eBXbKAcLJPNP"
      },
      "source": [
        "first_card = new_deck.all_cards[0]"
      ],
      "execution_count": 36,
      "outputs": []
    },
    {
      "cell_type": "code",
      "metadata": {
        "colab": {
          "base_uri": "https://localhost:8080/"
        },
        "id": "GcVrhUSsLSq5",
        "outputId": "fc249f79-a454-4266-e41b-1517258d3389"
      },
      "source": [
        "#deck is in order\n",
        "for card_object in new_deck.all_cards:\n",
        "\n",
        "  print(card_object)"
      ],
      "execution_count": 37,
      "outputs": [
        {
          "output_type": "stream",
          "text": [
            "Two of Hearts\n",
            "Three of Hearts\n",
            "Four of Hearts\n",
            "Five of Hearts\n",
            "Six of Hearts\n",
            "Seven of Hearts\n",
            "Eight of Hearts\n",
            "Nine of Hearts\n",
            "Ten of Hearts\n",
            "Jack of Hearts\n",
            "Queen of Hearts\n",
            "King of Hearts\n",
            "Ace of Hearts\n",
            "Two of Clubs\n",
            "Three of Clubs\n",
            "Four of Clubs\n",
            "Five of Clubs\n",
            "Six of Clubs\n",
            "Seven of Clubs\n",
            "Eight of Clubs\n",
            "Nine of Clubs\n",
            "Ten of Clubs\n",
            "Jack of Clubs\n",
            "Queen of Clubs\n",
            "King of Clubs\n",
            "Ace of Clubs\n",
            "Two of Spades\n",
            "Three of Spades\n",
            "Four of Spades\n",
            "Five of Spades\n",
            "Six of Spades\n",
            "Seven of Spades\n",
            "Eight of Spades\n",
            "Nine of Spades\n",
            "Ten of Spades\n",
            "Jack of Spades\n",
            "Queen of Spades\n",
            "King of Spades\n",
            "Ace of Spades\n",
            "Two of Diamonds\n",
            "Three of Diamonds\n",
            "Four of Diamonds\n",
            "Five of Diamonds\n",
            "Six of Diamonds\n",
            "Seven of Diamonds\n",
            "Eight of Diamonds\n",
            "Nine of Diamonds\n",
            "Ten of Diamonds\n",
            "Jack of Diamonds\n",
            "Queen of Diamonds\n",
            "King of Diamonds\n",
            "Ace of Diamonds\n"
          ],
          "name": "stdout"
        }
      ]
    },
    {
      "cell_type": "code",
      "metadata": {
        "id": "9c2ODNPiLHhj"
      },
      "source": [
        "#shuffle the deck\n",
        "\n",
        "new_deck.shuffle()"
      ],
      "execution_count": 56,
      "outputs": []
    },
    {
      "cell_type": "code",
      "metadata": {
        "colab": {
          "base_uri": "https://localhost:8080/"
        },
        "id": "s2tJUFvbJkoA",
        "outputId": "d3cbb048-6cc5-4e57-9902-aa31ad31d091"
      },
      "source": [
        "#now the deck is not in order\n",
        "for card_object in new_deck.all_cards:\n",
        "\n",
        "  print(card_object)"
      ],
      "execution_count": 33,
      "outputs": [
        {
          "output_type": "stream",
          "text": [
            "Ace of Hearts\n",
            "Six of Spades\n",
            "King of Clubs\n",
            "King of Spades\n",
            "Nine of Clubs\n",
            "Ten of Spades\n",
            "Eight of Clubs\n",
            "Ten of Diamonds\n",
            "Seven of Spades\n",
            "Three of Diamonds\n",
            "Queen of Hearts\n",
            "Seven of Diamonds\n",
            "Ace of Clubs\n",
            "Six of Clubs\n",
            "Four of Diamonds\n",
            "Four of Clubs\n",
            "Four of Spades\n",
            "Eight of Spades\n",
            "Nine of Hearts\n",
            "Jack of Clubs\n",
            "Two of Clubs\n",
            "Six of Diamonds\n",
            "Queen of Clubs\n",
            "Six of Hearts\n",
            "Nine of Spades\n",
            "Two of Hearts\n",
            "Seven of Hearts\n",
            "Three of Hearts\n",
            "Seven of Clubs\n",
            "Eight of Hearts\n",
            "Three of Spades\n",
            "Jack of Spades\n",
            "Queen of Diamonds\n",
            "Five of Hearts\n",
            "Jack of Hearts\n",
            "Three of Clubs\n",
            "Two of Spades\n",
            "Ace of Spades\n",
            "King of Diamonds\n",
            "Two of Diamonds\n",
            "Jack of Diamonds\n",
            "King of Hearts\n",
            "Five of Clubs\n",
            "Nine of Diamonds\n",
            "Ace of Diamonds\n",
            "Five of Diamonds\n",
            "Five of Spades\n",
            "Queen of Spades\n",
            "Eight of Diamonds\n",
            "Four of Hearts\n",
            "Ten of Hearts\n",
            "Ten of Clubs\n"
          ],
          "name": "stdout"
        }
      ]
    },
    {
      "cell_type": "code",
      "metadata": {
        "colab": {
          "base_uri": "https://localhost:8080/"
        },
        "id": "cJ6iYZY7O_Jv",
        "outputId": "7c8ee4e1-6ba9-4d7d-a35f-2bf43242aa13"
      },
      "source": [
        "#to get the last card from the deck and then remove it from the list\n",
        "mycard = new_deck.deal_one()\n",
        "print(mycard)"
      ],
      "execution_count": 60,
      "outputs": [
        {
          "output_type": "stream",
          "text": [
            "Queen of Clubs\n"
          ],
          "name": "stdout"
        }
      ]
    },
    {
      "cell_type": "code",
      "metadata": {
        "colab": {
          "base_uri": "https://localhost:8080/"
        },
        "id": "k_-b3Qnv4QB9",
        "outputId": "d3069dff-e4e5-47e9-d73f-491b4ce1a6b0"
      },
      "source": [
        "len(new_deck.all_cards)"
      ],
      "execution_count": 61,
      "outputs": [
        {
          "output_type": "execute_result",
          "data": {
            "text/plain": [
              "50"
            ]
          },
          "metadata": {
            "tags": []
          },
          "execution_count": 61
        }
      ]
    },
    {
      "cell_type": "code",
      "metadata": {
        "id": "emJzI-jv4UeW"
      },
      "source": [
        "#player class\n",
        "\n",
        "#used to hold a player's current list of cards\n",
        "#player should be able to add or remove cards from their hands\n",
        "#player shoyld be able to add single or mulitple cards to their list of card objects\n",
        "class Player():\n",
        "\n",
        "  def __init__(self,name):\n",
        "\n",
        "    self.name  = name\n",
        "    self.all_cards = []\n",
        "\n",
        "  def remove_one(self):\n",
        "\n",
        "    return self.all_cards.pop(0)    #to remove card from beginning of the list\n",
        "\n",
        "    \n",
        "\n",
        "  def add_cards(self,new_cards):\n",
        "\n",
        "\n",
        "    if type(new_cards) == type([]):\n",
        "\n",
        "      self.all_cards.extend(new_cards)\n",
        "\n",
        "    else:\n",
        "\n",
        "      self.all_cards.append(new_cards)\n",
        "\n",
        "  def __str__(self):\n",
        "    return f'Player {self.name} has {len(self.all_cards)} cards.'"
      ],
      "execution_count": 71,
      "outputs": []
    },
    {
      "cell_type": "code",
      "metadata": {
        "id": "6mrzxeZoNs1y"
      },
      "source": [
        "new_player = Player('Jose')"
      ],
      "execution_count": 72,
      "outputs": []
    },
    {
      "cell_type": "code",
      "metadata": {
        "colab": {
          "base_uri": "https://localhost:8080/"
        },
        "id": "mC9iBmyTNvpB",
        "outputId": "cb8ac0f9-f2de-4bcb-8a57-b9c12e0b29a4"
      },
      "source": [
        "print(new_player)"
      ],
      "execution_count": 73,
      "outputs": [
        {
          "output_type": "stream",
          "text": [
            "Player Jose has 0 cards.\n"
          ],
          "name": "stdout"
        }
      ]
    },
    {
      "cell_type": "code",
      "metadata": {
        "id": "Iji5GwTnNzEy"
      },
      "source": [
        "new_player.add_cards(new_deck.all_cards)"
      ],
      "execution_count": 74,
      "outputs": []
    },
    {
      "cell_type": "code",
      "metadata": {
        "id": "7mY3oo8UPeLX"
      },
      "source": [
        ""
      ],
      "execution_count": null,
      "outputs": []
    }
  ]
}