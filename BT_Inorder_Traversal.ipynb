{
  "nbformat": 4,
  "nbformat_minor": 0,
  "metadata": {
    "colab": {
      "name": "BT - Inorder Traversal.ipynb",
      "provenance": [],
      "authorship_tag": "ABX9TyPujcqyZImQ3g7KfwRCYhM/",
      "include_colab_link": true
    },
    "kernelspec": {
      "name": "python3",
      "display_name": "Python 3"
    },
    "language_info": {
      "name": "python"
    }
  },
  "cells": [
    {
      "cell_type": "markdown",
      "metadata": {
        "id": "view-in-github",
        "colab_type": "text"
      },
      "source": [
        "<a href=\"https://colab.research.google.com/github/dikshap07/Algorithms-and-Data-Structures/blob/master/BT_Inorder_Traversal.ipynb\" target=\"_parent\"><img src=\"https://colab.research.google.com/assets/colab-badge.svg\" alt=\"Open In Colab\"/></a>"
      ]
    },
    {
      "cell_type": "markdown",
      "metadata": {
        "id": "mZjXOCC89v4q"
      },
      "source": [
        "Problem: Traverse binary tree - InOrder traversal using Iteration or constant space(No recursion)"
      ]
    },
    {
      "cell_type": "markdown",
      "metadata": {
        "id": "6M7FuvaWdSUA"
      },
      "source": [
        "Making Binary Tree"
      ]
    },
    {
      "cell_type": "code",
      "metadata": {
        "id": "OTeWs6p2Z5pe"
      },
      "source": [
        "class BinaryTree:\n",
        "\n",
        "  def __init__(self,value):\n",
        "\n",
        "    self.value = value\n",
        "    self.left = None\n",
        "    self.right = None\n",
        "    self.parent = None"
      ],
      "execution_count": 2,
      "outputs": []
    },
    {
      "cell_type": "code",
      "metadata": {
        "id": "xw-bevWjbjIi"
      },
      "source": [
        "bt = BinaryTree(1)"
      ],
      "execution_count": 7,
      "outputs": []
    },
    {
      "cell_type": "code",
      "metadata": {
        "id": "Tcyru7Esbr-O"
      },
      "source": [
        "bt.parent = None\n",
        "bt.left = BinaryTree(2)\n",
        "bt.right = BinaryTree(3)\n",
        "bt.left.parent = bt\n",
        "bt.right.parent = bt\n",
        "bt.left.left = BinaryTree(4)\n",
        "\n",
        "bt.left.left.parent = bt.left\n",
        "k = bt.left.left\n",
        "k.right = BinaryTree(8)\n",
        "k.right.parent = k\n",
        "bt.right.left = BinaryTree(6)\n",
        "bt.right.right = BinaryTree(7)\n",
        "\n",
        "\n",
        "l = bt.right \n",
        "l.right.parent = l\n",
        "l.left.parent = l"
      ],
      "execution_count": 8,
      "outputs": []
    },
    {
      "cell_type": "markdown",
      "metadata": {
        "id": "yV79MM73dslu"
      },
      "source": [
        "INORDER TRAVERSAL USING ITERATION"
      ]
    },
    {
      "cell_type": "code",
      "metadata": {
        "id": "ybyp2WOx9prD"
      },
      "source": [
        "def inorder_traversal(tree):\n",
        "\n",
        "  previousNode = None\n",
        "  currentNode = tree\n",
        "\n",
        "\n",
        "  while currentNode is not None:\n",
        "\n",
        "    #if it is the root node  or node with left child\n",
        "    if previousNode is None or previousNode == currentNode.parent:\n",
        "      if currentNode.left is not None:  #cant just add this we need to traverse the left subtree\n",
        "\n",
        "        nextNode = currentNode.left\n",
        "        \n",
        "      else: #currentNode's left child is None so we can add the currentNode and then go to its right child if right child present or we go up\n",
        "\n",
        "        print(currentNode.value)\n",
        "\n",
        "        nextNode = currentNode.right if currentNode.right is not None else currentNode.parent\n",
        "\n",
        "\n",
        "    elif previousNode == currentNode.left:  #we have check the left subtree of the left child so we add the left child\n",
        "\n",
        "      print(currentNode.value)\n",
        "\n",
        "      nextNode = currentNode.right if currentNode.right is not None else currentNode.parent\n",
        "\n",
        "    else:\n",
        "      nextNode = currentNode.parent\n",
        "\n",
        "\n",
        "    previousNode = currentNode\n",
        "    currentNode = nextNode \n",
        "\n",
        "\n",
        "  #return callback\n",
        "\n"
      ],
      "execution_count": 26,
      "outputs": []
    },
    {
      "cell_type": "code",
      "metadata": {
        "colab": {
          "base_uri": "https://localhost:8080/"
        },
        "id": "k88lgxdlcCv4",
        "outputId": "1d356852-efe3-42c3-8d50-27666b48227b"
      },
      "source": [
        "print(inorder_traversal(bt))\n",
        " "
      ],
      "execution_count": 27,
      "outputs": [
        {
          "output_type": "stream",
          "text": [
            "4\n",
            "8\n",
            "2\n",
            "1\n",
            "6\n",
            "3\n",
            "7\n",
            "None\n"
          ],
          "name": "stdout"
        }
      ]
    },
    {
      "cell_type": "markdown",
      "metadata": {
        "id": "AxayDBf9kwuH"
      },
      "source": [
        "INORDER TRAVERSAL - USING STACK"
      ]
    },
    {
      "cell_type": "code",
      "metadata": {
        "id": "95c7Nyu6f0p6"
      },
      "source": [
        "def s_inorder(tree):\n",
        "\n",
        "  stack = []  #empty stack\n",
        "\n",
        "  currentNode = tree\n",
        "  \n",
        "  branch = True\n",
        "\n",
        "  while branch == True:\n",
        "\n",
        "\n",
        "    if currentNode is not None:\n",
        "      stack.append(currentNode)\n",
        "      #print(stack)\n",
        "      currentNode = currentNode.left\n",
        "    \n",
        "\n",
        "    elif currentNode is None and len(stack) > 0:\n",
        "\n",
        "      popped_element = stack.pop()\n",
        "      #print('currentNone ')\n",
        "      print(popped_element.value)\n",
        "      currentNode = popped_element.right\n",
        "\n",
        "\n",
        "    elif currentNode is None and len(stack) == 0:\n",
        "\n",
        "      branch = False\n",
        "      break\n",
        "\n",
        "    \n",
        "\n",
        "\n",
        "\n"
      ],
      "execution_count": 38,
      "outputs": []
    },
    {
      "cell_type": "code",
      "metadata": {
        "colab": {
          "base_uri": "https://localhost:8080/"
        },
        "id": "J4Sjo5VRsd32",
        "outputId": "890d5e7c-5849-41bd-e4e5-3dca0ef99339"
      },
      "source": [
        "s_inorder(bt)"
      ],
      "execution_count": 39,
      "outputs": [
        {
          "output_type": "stream",
          "text": [
            "4\n",
            "8\n",
            "2\n",
            "1\n",
            "6\n",
            "3\n",
            "7\n"
          ],
          "name": "stdout"
        }
      ]
    },
    {
      "cell_type": "code",
      "metadata": {
        "id": "PhGAymKCsfcs"
      },
      "source": [
        ""
      ],
      "execution_count": null,
      "outputs": []
    }
  ]
}