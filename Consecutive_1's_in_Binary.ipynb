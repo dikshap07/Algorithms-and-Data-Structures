{
  "nbformat": 4,
  "nbformat_minor": 0,
  "metadata": {
    "colab": {
      "name": "Consecutive 1's in Binary.ipynb",
      "provenance": [],
      "authorship_tag": "ABX9TyNXAxB7inaHQWaqixa3/6xG",
      "include_colab_link": true
    },
    "kernelspec": {
      "name": "python3",
      "display_name": "Python 3"
    },
    "language_info": {
      "name": "python"
    }
  },
  "cells": [
    {
      "cell_type": "markdown",
      "metadata": {
        "id": "view-in-github",
        "colab_type": "text"
      },
      "source": [
        "<a href=\"https://colab.research.google.com/github/dikshap07/Algorithms-and-Data-Structures/blob/master/Consecutive_1's_in_Binary.ipynb\" target=\"_parent\"><img src=\"https://colab.research.google.com/assets/colab-badge.svg\" alt=\"Open In Colab\"/></a>"
      ]
    },
    {
      "cell_type": "markdown",
      "metadata": {
        "id": "eOiPdppI6dJq"
      },
      "source": [
        "### Problem: Given a decimal integer n, give the maximum number of consecutive 1's in the binary representation of the number"
      ]
    },
    {
      "cell_type": "code",
      "metadata": {
        "id": "5YKrhb7h39_N"
      },
      "source": [
        "#Time Complexity : O(n) n = length of the binary \n",
        "\n",
        "def consq_ones(n):\n",
        "  n_dec = str(bin(n))\n",
        "  n = n_dec[2:]\n",
        "  count = 0\n",
        "  result = 0\n",
        "  for i in range(0,len(n)):\n",
        "    if n[i] == '0':\n",
        "      print('n[i]',n[i])\n",
        "      count = 0\n",
        "\n",
        "    else:\n",
        "      print('n[i]',n[i])\n",
        "      count +=1\n",
        "      print(count)\n",
        "      result = max(result,count)\n",
        "      print(\"result\",result)\n",
        "\n",
        "  return result\n",
        "\n",
        "    "
      ],
      "execution_count": 16,
      "outputs": []
    },
    {
      "cell_type": "code",
      "metadata": {
        "colab": {
          "base_uri": "https://localhost:8080/"
        },
        "id": "o0lddhtT4XZe",
        "outputId": "c5d31bc1-2573-47c0-99e7-6badbe01595c"
      },
      "source": [
        "n = 5\n",
        "n_dec = str(bin(n))\n",
        "dec = n_dec[2:]\n",
        "print(dec)\n",
        "\n",
        "print(consq_ones(dec))"
      ],
      "execution_count": 18,
      "outputs": [
        {
          "output_type": "stream",
          "text": [
            "101\n",
            "n[i] 1\n",
            "1\n",
            "result 1\n",
            "n[i] 0\n",
            "n[i] 1\n",
            "1\n",
            "result 1\n",
            "1\n"
          ],
          "name": "stdout"
        }
      ]
    },
    {
      "cell_type": "code",
      "metadata": {
        "id": "_EE033Th60Ns"
      },
      "source": [
        ""
      ],
      "execution_count": null,
      "outputs": []
    },
    {
      "cell_type": "code",
      "metadata": {
        "id": "qUd6aSrD60ML"
      },
      "source": [
        ""
      ],
      "execution_count": null,
      "outputs": []
    },
    {
      "cell_type": "code",
      "metadata": {
        "id": "ZMNzsN3Z60Ip"
      },
      "source": [
        ""
      ],
      "execution_count": null,
      "outputs": []
    },
    {
      "cell_type": "code",
      "metadata": {
        "id": "Gc4gSa9R60HI"
      },
      "source": [
        ""
      ],
      "execution_count": null,
      "outputs": []
    },
    {
      "cell_type": "markdown",
      "metadata": {
        "id": "sxmX9CIy61Bw"
      },
      "source": [
        "#FAILED "
      ]
    },
    {
      "cell_type": "code",
      "metadata": {
        "id": "I73xFBm40pob"
      },
      "source": [
        "# n = 453\n",
        "# n_dec = str(bin(n))\n",
        "# dec = n_dec[2:]\n",
        "# print(dec)\n",
        "\n",
        "\n",
        "\n",
        "def consq_ones(n):\n",
        "\n",
        "  for i in range(0,len(n)):\n",
        "    print('i',i)\n",
        "    if dec[i] == '1':\n",
        "      if i == 0:\n",
        "        count1 = 0\n",
        "        count2 = 1\n",
        "        for j in range(0,len(dec)):\n",
        "          print('j',dec[j])\n",
        "          if dec[j]=='1':\n",
        "            print('count1',count1)\n",
        "\n",
        "            count1+=1\n",
        "      \n",
        "          else:\n",
        "            break\n",
        "\n",
        "      else:\n",
        "        print('i>0')\n",
        "        count2 = 1\n",
        "        print('count2',count2)\n",
        "        for k in range(i+1,len(dec)+1):\n",
        "          print(\"k\",k)\n",
        "          print('dec[k]:',dec[k])\n",
        "          if dec[k]=='1':\n",
        "            count2+=1\n",
        "            print('count2',count2)\n",
        "\n",
        "          if k == len(dec)-1:\n",
        "            #count2+=1\n",
        "            if count2>count1:\n",
        "              print('count2')\n",
        "              return count2\n",
        "            \n",
        "            else:\n",
        "              print('count1')\n",
        "              return count1\n",
        "      \n",
        "          else:\n",
        "            \n",
        "            break\n",
        "    else:\n",
        "    \n",
        "      continue\n",
        "\n",
        "\n",
        "\n",
        "\n",
        "  if count1>count2:\n",
        "    print('count1')\n",
        "    return count1\n",
        "\n",
        "  else:\n",
        "    print('count2')\n",
        "    return count2\n",
        "    \n",
        "\n",
        "\n"
      ],
      "execution_count": 5,
      "outputs": []
    },
    {
      "cell_type": "code",
      "metadata": {
        "colab": {
          "base_uri": "https://localhost:8080/"
        },
        "id": "zxuCmoNL0wLk",
        "outputId": "07ed76ae-bcea-4297-b10f-362bbc1a8586"
      },
      "source": [
        "\n",
        "\n",
        "n = 439\n",
        "n_dec = str(bin(n))\n",
        "dec = n_dec[2:]\n",
        "print(dec)\n",
        "print(consq_ones(dec))"
      ],
      "execution_count": 6,
      "outputs": [
        {
          "output_type": "stream",
          "text": [
            "110110111\n",
            "i 0\n",
            "j 1\n",
            "count1 0\n",
            "j 1\n",
            "count1 1\n",
            "j 0\n",
            "i 1\n",
            "i>0\n",
            "count2 1\n",
            "k 2\n",
            "dec[k]: 0\n",
            "i 2\n",
            "i 3\n",
            "i>0\n",
            "count2 1\n",
            "k 4\n",
            "dec[k]: 1\n",
            "count2 2\n",
            "i 4\n",
            "i>0\n",
            "count2 1\n",
            "k 5\n",
            "dec[k]: 0\n",
            "i 5\n",
            "i 6\n",
            "i>0\n",
            "count2 1\n",
            "k 7\n",
            "dec[k]: 1\n",
            "count2 2\n",
            "i 7\n",
            "i>0\n",
            "count2 1\n",
            "k 8\n",
            "dec[k]: 1\n",
            "count2 2\n",
            "count1\n",
            "2\n"
          ],
          "name": "stdout"
        }
      ]
    },
    {
      "cell_type": "code",
      "metadata": {
        "id": "Hm0IGtq72GeG"
      },
      "source": [
        "index = {1:[]}\n",
        "dec = '11010111'\n",
        "for i in range(0,len(dec)):\n",
        "  if dec[i] == '1':\n",
        "    index[1].append(i)"
      ],
      "execution_count": 104,
      "outputs": []
    },
    {
      "cell_type": "code",
      "metadata": {
        "colab": {
          "base_uri": "https://localhost:8080/"
        },
        "id": "ZvD_Tpk5paJH",
        "outputId": "d65e8a60-80a6-4dfd-d605-1a0d206dcf59"
      },
      "source": [
        "index"
      ],
      "execution_count": 105,
      "outputs": [
        {
          "output_type": "execute_result",
          "data": {
            "text/plain": [
              "{1: [0, 1, 3, 5, 6, 7]}"
            ]
          },
          "metadata": {
            "tags": []
          },
          "execution_count": 105
        }
      ]
    },
    {
      "cell_type": "code",
      "metadata": {
        "colab": {
          "base_uri": "https://localhost:8080/",
          "height": 237
        },
        "id": "SpMBLc6jpbay",
        "outputId": "9c889ddd-3925-4b22-b132-1d22c6ab5ba0"
      },
      "source": [
        "i = 0\n",
        "one = True\n",
        "count = 0\n",
        "while one == True:\n",
        "  \n",
        "  if i < len(dec)-1:\n",
        "    if dec[i] == '1':\n",
        "      count += 1\n",
        "      i +=1\n",
        "\n",
        "  elif i > len(dec):\n",
        "    one = False\n",
        "\n",
        "  else:\n",
        "    i +=1\n",
        "\n",
        "\n"
      ],
      "execution_count": 107,
      "outputs": [
        {
          "output_type": "error",
          "ename": "KeyboardInterrupt",
          "evalue": "ignored",
          "traceback": [
            "\u001b[0;31m---------------------------------------------------------------------------\u001b[0m",
            "\u001b[0;31mKeyboardInterrupt\u001b[0m                         Traceback (most recent call last)",
            "\u001b[0;32m<ipython-input-107-bbe0ae74c93a>\u001b[0m in \u001b[0;36m<module>\u001b[0;34m()\u001b[0m\n\u001b[1;32m      5\u001b[0m \u001b[0;34m\u001b[0m\u001b[0m\n\u001b[1;32m      6\u001b[0m   \u001b[0;32mif\u001b[0m \u001b[0mi\u001b[0m \u001b[0;34m<\u001b[0m \u001b[0mlen\u001b[0m\u001b[0;34m(\u001b[0m\u001b[0mdec\u001b[0m\u001b[0;34m)\u001b[0m\u001b[0;34m-\u001b[0m\u001b[0;36m1\u001b[0m\u001b[0;34m:\u001b[0m\u001b[0;34m\u001b[0m\u001b[0;34m\u001b[0m\u001b[0m\n\u001b[0;32m----> 7\u001b[0;31m     \u001b[0;32mif\u001b[0m \u001b[0mdec\u001b[0m\u001b[0;34m[\u001b[0m\u001b[0mi\u001b[0m\u001b[0;34m]\u001b[0m \u001b[0;34m==\u001b[0m \u001b[0;34m'1'\u001b[0m\u001b[0;34m:\u001b[0m\u001b[0;34m\u001b[0m\u001b[0;34m\u001b[0m\u001b[0m\n\u001b[0m\u001b[1;32m      8\u001b[0m       \u001b[0mcount\u001b[0m \u001b[0;34m+=\u001b[0m \u001b[0;36m1\u001b[0m\u001b[0;34m\u001b[0m\u001b[0;34m\u001b[0m\u001b[0m\n\u001b[1;32m      9\u001b[0m       \u001b[0mi\u001b[0m \u001b[0;34m+=\u001b[0m\u001b[0;36m1\u001b[0m\u001b[0;34m\u001b[0m\u001b[0;34m\u001b[0m\u001b[0m\n",
            "\u001b[0;31mKeyboardInterrupt\u001b[0m: "
          ]
        }
      ]
    },
    {
      "cell_type": "code",
      "metadata": {
        "id": "CLtCn6t5rKm6"
      },
      "source": [
        "def consq_ones(n):\n",
        "  #number to binary\n",
        "  decimal = ''\n",
        "  while n>0:\n",
        "    remainder = "
      ],
      "execution_count": null,
      "outputs": []
    }
  ]
}