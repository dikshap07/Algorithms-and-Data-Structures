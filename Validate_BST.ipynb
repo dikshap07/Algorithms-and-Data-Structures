{
  "nbformat": 4,
  "nbformat_minor": 0,
  "metadata": {
    "colab": {
      "name": "Validate BST.ipynb",
      "provenance": [],
      "authorship_tag": "ABX9TyMYN/RqPWW8VDwF9g7WDrsZ",
      "include_colab_link": true
    },
    "kernelspec": {
      "name": "python3",
      "display_name": "Python 3"
    },
    "language_info": {
      "name": "python"
    }
  },
  "cells": [
    {
      "cell_type": "markdown",
      "metadata": {
        "id": "view-in-github",
        "colab_type": "text"
      },
      "source": [
        "<a href=\"https://colab.research.google.com/github/dikshap07/Algorithms-and-Data-Structures/blob/master/Validate_BST.ipynb\" target=\"_parent\"><img src=\"https://colab.research.google.com/assets/colab-badge.svg\" alt=\"Open In Colab\"/></a>"
      ]
    },
    {
      "cell_type": "markdown",
      "metadata": {
        "id": "bK0caHQUSOg7"
      },
      "source": [
        "###Problem :  You are given a data structure that looks like a binary tree, the DS has nodes and each node has a value and optionally a left or right nodes can be null or not null.\n",
        "###You want to determine if the DS is a BST or not?\n",
        "\n",
        "(BST Definition: Every node should be strictly greater than all the values in the left node and should be less than or equal to all nodes in its right node and all its left and right nodes must be BSTs as well )\n",
        "\n"
      ]
    },
    {
      "cell_type": "code",
      "metadata": {
        "id": "KUcEoXfASL5z"
      },
      "source": [
        ""
      ],
      "execution_count": null,
      "outputs": []
    }
  ]
}