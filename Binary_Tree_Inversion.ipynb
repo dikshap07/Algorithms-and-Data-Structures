{
  "nbformat": 4,
  "nbformat_minor": 0,
  "metadata": {
    "colab": {
      "name": "Binary Tree Inversion.ipynb",
      "provenance": [],
      "authorship_tag": "ABX9TyMYOBvuvcftPixcoazq1tkj",
      "include_colab_link": true
    },
    "kernelspec": {
      "name": "python3",
      "display_name": "Python 3"
    },
    "language_info": {
      "name": "python"
    }
  },
  "cells": [
    {
      "cell_type": "markdown",
      "metadata": {
        "id": "view-in-github",
        "colab_type": "text"
      },
      "source": [
        "<a href=\"https://colab.research.google.com/github/dikshap07/Algorithms-and-Data-Structures/blob/master/Binary_Tree_Inversion.ipynb\" target=\"_parent\"><img src=\"https://colab.research.google.com/assets/colab-badge.svg\" alt=\"Open In Colab\"/></a>"
      ]
    },
    {
      "cell_type": "code",
      "metadata": {
        "id": "dokKdFVMYCT1"
      },
      "source": [
        "class BST:\n",
        "\n",
        "  def __init__(self,value):\n",
        "\n",
        "    self.value = value\n",
        "    self.left = None\n",
        "    self.right = None\n",
        "\n",
        "  \n",
        "  #using iterative method\n",
        "\n",
        "\n",
        "  #Average : O(log(n)) time | O(1) space\n",
        "  #worst : O(N) time | O(1)   space\n",
        "\n",
        "  def insert(self,value):  \n",
        "\n",
        "    #initialize a variable that keeps track of what node we are at\n",
        "    currentNode = self # because in the beginning the current node is the node where we start our insertion and that is self\n",
        "\n",
        "    while True:\n",
        "\n",
        "      if value < currentNode.value:\n",
        "\n",
        "        #check if left node from here is an actual BST or the end\n",
        "\n",
        "        if currentNode.left is None:#we create a left subtree\n",
        "\n",
        "          currentNode.left = BST(value)   #if none we are adding the value that we are trying to insert \n",
        "          break                                #at this left node\n",
        "\n",
        "        else:#make left node of current node so that we can now check for its child nodes\n",
        "\n",
        "          currentNode = currentNode.left   #assigning our currentNode to the left subtree\n",
        "\n",
        "\n",
        "      else:    #to check the right sub tree for insertion\n",
        "\n",
        "        if currentNode.right is None:\n",
        "\n",
        "          currentNode.right = BST(value)\n",
        "          break\n",
        "          \n",
        "        else:\n",
        "\n",
        "          currentNode = currentNode.right\n",
        "        \n",
        "\n",
        "\n",
        "    return self   #so that we can chain the output\n",
        "\n",
        " \n",
        " \n",
        "\n",
        "  #Average : O(log(n)) time | O(1) space\n",
        "  #worst : O(N) time | O(1)   space\n",
        " \n",
        "  def contains(self,value):\n",
        "\n",
        "    currentNode = self\n",
        "\n",
        "    while currentNode is not None:\n",
        "\n",
        "      if value < currentNode.value:\n",
        "\n",
        "\n",
        "        currentNode = currentNode.left\n",
        "\n",
        "\n",
        "      elif value > currentNode.value: \n",
        "\n",
        "        currentNode = currentNode.right\n",
        "\n",
        "      else:\n",
        "\n",
        "        return True\n",
        "\n",
        "    return False\n",
        "\n",
        "  def getMinValue(self):\n",
        "\n",
        "    currentNode = self\n",
        "\n",
        "    \n",
        "\n",
        "        \n",
        "    while currentNode.left is not None:\n",
        "\n",
        "      currentNode = currentNode.left\n",
        "\n",
        "    return currentNode.value\n",
        "    \n",
        "\n",
        "\n",
        "#Average : O(log(n)) time | O(1) space\n",
        "  #worst : O(N) time | O(1)   space\n",
        "\n",
        "\n",
        "\n",
        "  def remove(self,value,parentNode = None):\n",
        "\n",
        "    currentNode = self\n",
        "\n",
        "    print(currentNode.value)\n",
        "    print(value)\n",
        "    \n",
        "    while currentNode is not None:\n",
        "\n",
        "\n",
        "      if value < currentNode.value:\n",
        "\n",
        "        parentNode = currentNode\n",
        "\n",
        "        currentNode = currentNode.left\n",
        "\n",
        "      elif value > currentNode.value:\n",
        "\n",
        "        parentNode = currentNode\n",
        "\n",
        "        currentNode = currentNode.right\n",
        "\n",
        "      else:  #when we have found the value that we need to delete\n",
        "\n",
        "\n",
        "      #case1 : if the node has both left and right child nodes\n",
        "\n",
        "        if currentNode.left is not None and currentNode.right is not None:\n",
        "\n",
        "          print('both child found for ', currentNode.value)\n",
        "\n",
        "          currentNode.value = currentNode.right.getMinValue()\n",
        "\n",
        "          #currentNode.value = smallest value of the right sub tree\n",
        "\n",
        "          #when we find the left most value in the right sub tree we remove it\n",
        "\n",
        "          currentNode.right.remove(currentNode.value,currentNode)   #because here our BST is the right \n",
        "                                                                    #tree as in currentNode.right thatys\n",
        "                                                                    #we are using currentNode.right.remove()\n",
        "\n",
        "      #case2 : when doesnt have 2 child nodes present\n",
        "\n",
        "      #case2.1 : when node is the root node or doesnt have a parent and only has one child (the above will only work when root node has both child nodes that is why we need it)\n",
        "      \n",
        "        elif parentNode is None:   \n",
        "          if currentNode.left is  not None:\n",
        "\n",
        "            print('Root node only has left child')\n",
        "\n",
        "            currentNode.value = currentNode.left.value\n",
        "            currentNode.right = currentNode.left.right\n",
        "            currentNode.left = currentNode.left.left\n",
        "\n",
        "          elif currentNode.right is not None:\n",
        "\n",
        "            print('Root node only has right child')\n",
        "\n",
        "\n",
        "            currentNode.value = currentNode.right.value            \n",
        "            currentNode.left = currentNode.right.left\n",
        "            currentNode.right = currentNode.right.right  #at last so that we dnt replace og without using it first\n",
        "\n",
        "          else:\n",
        "\n",
        "           currentNode.value = None #discuss with interviewer as this means we are deleting the BST'''\n",
        "\n",
        "      #case2.2 : when node had a parent\n",
        "        elif parentNode.left == currentNode:  #if current node is the left child of its parent node\n",
        "\n",
        "          print('if node is left')\n",
        "\n",
        "          parentNode.left = currentNode.left if currentNode.left is not None else currentNode.right   #doesnt just rpelace value efficiently rpelaces the whole sub tree\n",
        "          #above line means the left child of parent will be assigned currentNode.left is the current\n",
        "          #node has a left child otherwise it will be assigned the right child of the currentNode\n",
        "\n",
        "        elif parentNode.right == currentNode:\n",
        "\n",
        "          print('if node is right')\n",
        "\n",
        "          parentNode.right = currentNode.left if currentNode.left is not None else currentNode.right\n",
        "\n",
        "        break\n",
        "\n",
        "    \n",
        "    return self\n",
        "\n"
      ],
      "execution_count": 3,
      "outputs": []
    },
    {
      "cell_type": "code",
      "metadata": {
        "id": "BivoiPU2ryFW"
      },
      "source": [
        "root_node = 10\n",
        "my_tree = BST(root_node) \n",
        "tree_nodes = [5,2,1,5,15,13,14,22]\n",
        "\n",
        "for node in tree_nodes:\n",
        "  my_tree.insert(node)\n"
      ],
      "execution_count": 21,
      "outputs": []
    },
    {
      "cell_type": "code",
      "metadata": {
        "colab": {
          "base_uri": "https://localhost:8080/"
        },
        "id": "EMzE7Jfquo8Q",
        "outputId": "38c90409-deff-4379-ae7f-fbff0f6bbbbe"
      },
      "source": [
        "my_tree.value"
      ],
      "execution_count": 22,
      "outputs": [
        {
          "output_type": "execute_result",
          "data": {
            "text/plain": [
              "10"
            ]
          },
          "metadata": {
            "tags": []
          },
          "execution_count": 22
        }
      ]
    },
    {
      "cell_type": "code",
      "metadata": {
        "colab": {
          "base_uri": "https://localhost:8080/"
        },
        "id": "Zh1S07u1sRgw",
        "outputId": "9ca9c1d0-9c66-4a3e-8648-a74b4eb7f664"
      },
      "source": [
        "k = my_tree2.right\n",
        "k.left.value"
      ],
      "execution_count": 19,
      "outputs": [
        {
          "output_type": "execute_result",
          "data": {
            "text/plain": [
              "6"
            ]
          },
          "metadata": {
            "tags": []
          },
          "execution_count": 19
        }
      ]
    },
    {
      "cell_type": "markdown",
      "metadata": {
        "id": "I9x44BnPr1gf"
      },
      "source": [
        "#INVERT TREE - USING RECURSION"
      ]
    },
    {
      "cell_type": "code",
      "metadata": {
        "id": "rT8jKHItxMDH"
      },
      "source": [
        "def invert_tree(tree):\n",
        "\n",
        "  if tree is None:\n",
        "    return\n",
        "  \n",
        "  \n",
        "  tree.left,tree.right = tree.right, tree.left\n",
        "\n",
        "  invert_tree(tree.left)\n",
        "  invert_tree(tree.right)\n",
        "\n",
        "  return tree"
      ],
      "execution_count": 79,
      "outputs": []
    },
    {
      "cell_type": "code",
      "metadata": {
        "id": "OrsDUCHur04K"
      },
      "source": [
        "def swap(tree):\n",
        "\n",
        "  if tree is None:\n",
        "    return\n",
        "\n",
        "  \n",
        "\n",
        "    print('swapping tree',tree.value)\n",
        "    if tree.left is None:\n",
        "      print('left child NOne')\n",
        "\n",
        "    else:\n",
        "      print('left child',tree.left.value)\n",
        "\n",
        "    if tree.right is None:\n",
        "      print('right child None')\n",
        "    else:\n",
        "      print('right child',tree.right.value)\n",
        "\n",
        "    tree.left,tree.right = tree.right, tree.left\n",
        "\n",
        "    if tree.left is None:\n",
        "      print('left child NOne')\n",
        "\n",
        "    else:\n",
        "      print('left child',tree.left.value)\n",
        "\n",
        "\n",
        "    if tree.right is None:\n",
        "      print('right child None')\n",
        "    else:\n",
        "      print('right child',tree.right.value)\n",
        "\n",
        "\n",
        "    # print('left child',tree.left.value)\n",
        "    # print('right child',tree.right.value)\n",
        "\n",
        "    tree.left = invert_binary_tree(tree.left)\n",
        "\n",
        "    if tree.left is None:\n",
        "      print('left_child NOne')\n",
        "\n",
        "    else:\n",
        "      print('left_tree_root_node',tree.left.value)\n",
        "\n",
        "    # print('tree_left',treee.left.value)\n",
        "    tree.right = invert_binary_tree(tree.right)\n",
        "\n",
        "    if tree.right is None:\n",
        "      print('right_child None')\n",
        "    else:\n",
        "      print('right_tree_root_node',tree.right.value)\n",
        "\n",
        "\n",
        "    return tree"
      ],
      "execution_count": 55,
      "outputs": []
    },
    {
      "cell_type": "code",
      "metadata": {
        "colab": {
          "base_uri": "https://localhost:8080/"
        },
        "id": "5ZpG59ZusM3K",
        "outputId": "5ca2ced7-a46b-41d5-fdbd-b6c38fcd4fdc"
      },
      "source": [
        "inverted_tree = invert_binary_tree(my_tree)"
      ],
      "execution_count": 56,
      "outputs": [
        {
          "output_type": "stream",
          "text": [
            "swapping tree 10\n",
            "left child 5\n",
            "right child 15\n",
            "left child 15\n",
            "right child 5\n",
            "swapping tree 15\n",
            "left child 13\n",
            "right child 22\n",
            "left child 22\n",
            "right child 13\n",
            "swapping tree 22\n",
            "left child NOne\n",
            "right child None\n",
            "left child NOne\n",
            "right child None\n",
            "left_child NOne\n",
            "right_child None\n",
            "left_tree_root_node 22\n",
            "swapping tree 13\n",
            "left child 14\n",
            "right child None\n",
            "left child NOne\n",
            "right child 14\n",
            "left_child NOne\n",
            "swapping tree 14\n",
            "left child NOne\n",
            "right child None\n",
            "left child NOne\n",
            "right child None\n",
            "left_child NOne\n",
            "right_child None\n",
            "right_tree_root_node 14\n",
            "right_tree_root_node 13\n",
            "left_tree_root_node 15\n",
            "swapping tree 5\n",
            "left child 5\n",
            "right child 2\n",
            "left child 2\n",
            "right child 5\n",
            "swapping tree 2\n",
            "left child NOne\n",
            "right child 1\n",
            "left child 1\n",
            "right child None\n",
            "swapping tree 1\n",
            "left child NOne\n",
            "right child None\n",
            "left child NOne\n",
            "right child None\n",
            "left_child NOne\n",
            "right_child None\n",
            "left_tree_root_node 1\n",
            "right_child None\n",
            "left_tree_root_node 2\n",
            "swapping tree 5\n",
            "left child NOne\n",
            "right child None\n",
            "left child NOne\n",
            "right child None\n",
            "left_child NOne\n",
            "right_child None\n",
            "right_tree_root_node 5\n",
            "right_tree_root_node 5\n"
          ],
          "name": "stdout"
        }
      ]
    },
    {
      "cell_type": "code",
      "metadata": {
        "colab": {
          "base_uri": "https://localhost:8080/",
          "height": 202
        },
        "id": "Vi7fJLrHtH10",
        "outputId": "8a88e131-57f1-4c17-ca66-08f6812a040d"
      },
      "source": [
        "k= inverted_tree.right\n",
        "i = k.left\n",
        "i.right.value\n"
      ],
      "execution_count": 51,
      "outputs": [
        {
          "output_type": "error",
          "ename": "AttributeError",
          "evalue": "ignored",
          "traceback": [
            "\u001b[0;31m---------------------------------------------------------------------------\u001b[0m",
            "\u001b[0;31mAttributeError\u001b[0m                            Traceback (most recent call last)",
            "\u001b[0;32m<ipython-input-51-254cb1e8637f>\u001b[0m in \u001b[0;36m<module>\u001b[0;34m()\u001b[0m\n\u001b[1;32m      1\u001b[0m \u001b[0mk\u001b[0m\u001b[0;34m=\u001b[0m \u001b[0minverted_tree\u001b[0m\u001b[0;34m.\u001b[0m\u001b[0mright\u001b[0m\u001b[0;34m\u001b[0m\u001b[0;34m\u001b[0m\u001b[0m\n\u001b[1;32m      2\u001b[0m \u001b[0mi\u001b[0m \u001b[0;34m=\u001b[0m \u001b[0mk\u001b[0m\u001b[0;34m.\u001b[0m\u001b[0mleft\u001b[0m\u001b[0;34m\u001b[0m\u001b[0;34m\u001b[0m\u001b[0m\n\u001b[0;32m----> 3\u001b[0;31m \u001b[0mi\u001b[0m\u001b[0;34m.\u001b[0m\u001b[0mright\u001b[0m\u001b[0;34m.\u001b[0m\u001b[0mvalue\u001b[0m\u001b[0;34m\u001b[0m\u001b[0;34m\u001b[0m\u001b[0m\n\u001b[0m",
            "\u001b[0;31mAttributeError\u001b[0m: 'NoneType' object has no attribute 'value'"
          ]
        }
      ]
    },
    {
      "cell_type": "code",
      "metadata": {
        "colab": {
          "base_uri": "https://localhost:8080/"
        },
        "id": "TOqFLqnotZAs",
        "outputId": "7f3522c7-40ae-4e06-d58a-334dcd134b87"
      },
      "source": [
        "inverted_tree.left.value"
      ],
      "execution_count": 48,
      "outputs": [
        {
          "output_type": "execute_result",
          "data": {
            "text/plain": [
              "15"
            ]
          },
          "metadata": {
            "tags": []
          },
          "execution_count": 48
        }
      ]
    },
    {
      "cell_type": "code",
      "metadata": {
        "id": "OXp53AM4yJ4U"
      },
      "source": [
        "op_tree = invert_tree(my_tree)"
      ],
      "execution_count": 80,
      "outputs": []
    },
    {
      "cell_type": "code",
      "metadata": {
        "colab": {
          "base_uri": "https://localhost:8080/"
        },
        "id": "nxh1htoAyO6y",
        "outputId": "85215f53-6e6d-4d5e-c5ab-726d43bd7b21"
      },
      "source": [
        "k = op_tree.left\n",
        "j = k.left\n",
        "j.left.value"
      ],
      "execution_count": 81,
      "outputs": [
        {
          "output_type": "execute_result",
          "data": {
            "text/plain": [
              "1"
            ]
          },
          "metadata": {
            "tags": []
          },
          "execution_count": 81
        }
      ]
    },
    {
      "cell_type": "code",
      "metadata": {
        "id": "KeAjptguyS4B"
      },
      "source": [
        ""
      ],
      "execution_count": null,
      "outputs": []
    }
  ]
}