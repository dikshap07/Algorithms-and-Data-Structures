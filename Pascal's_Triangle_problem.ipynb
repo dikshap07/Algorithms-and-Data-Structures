{
  "nbformat": 4,
  "nbformat_minor": 0,
  "metadata": {
    "colab": {
      "name": "Pascal's Triangle problem.ipynb",
      "provenance": [],
      "authorship_tag": "ABX9TyN6yXBS/8cLdjHZ88kKWoRc",
      "include_colab_link": true
    },
    "kernelspec": {
      "name": "python3",
      "display_name": "Python 3"
    },
    "language_info": {
      "name": "python"
    }
  },
  "cells": [
    {
      "cell_type": "markdown",
      "metadata": {
        "id": "view-in-github",
        "colab_type": "text"
      },
      "source": [
        "<a href=\"https://colab.research.google.com/github/dikshap07/Algorithms-and-Data-Structures/blob/master/Pascal's_Triangle_problem.ipynb\" target=\"_parent\"><img src=\"https://colab.research.google.com/assets/colab-badge.svg\" alt=\"Open In Colab\"/></a>"
      ]
    },
    {
      "cell_type": "code",
      "execution_count": 28,
      "metadata": {
        "id": "Yz_M95FL-mjR"
      },
      "outputs": [],
      "source": [
        "#using Recursion and Brute Force , complexity O(2**k)\n",
        "def get_element(i,j):\n",
        "  \n",
        "  if j == 0 or j == i:\n",
        "    \n",
        "    return 1\n",
        "\n",
        "  \n",
        "  elif j < i:\n",
        "    \n",
        "    return get_element(i-1,j-1) +get_element(i-1,j)\n",
        "\n",
        "  # else:\n",
        "\n",
        "  #   return 0\n",
        "    \n",
        "    \n",
        "def getRow(rowIndex):\n",
        "  \n",
        "  row = []\n",
        "  \n",
        "  for j in range(rowIndex+1):\n",
        "    print(j)\n",
        "    \n",
        "    row.append(get_element(rowIndex,j))\n",
        "            \n",
        "  return row"
      ]
    },
    {
      "cell_type": "code",
      "source": [
        "getRow(3)"
      ],
      "metadata": {
        "colab": {
          "base_uri": "https://localhost:8080/"
        },
        "id": "CA35nCMB-xd9",
        "outputId": "8229211c-c6d7-4db5-f7fb-09e109951d95"
      },
      "execution_count": 29,
      "outputs": [
        {
          "output_type": "stream",
          "name": "stdout",
          "text": [
            "0\n",
            "1\n",
            "2\n",
            "3\n"
          ]
        },
        {
          "output_type": "execute_result",
          "data": {
            "text/plain": [
              "[1, 3, 3, 1]"
            ]
          },
          "metadata": {},
          "execution_count": 29
        }
      ]
    },
    {
      "cell_type": "markdown",
      "source": [
        "###DP SOLUTION"
      ],
      "metadata": {
        "id": "UCNF87hZfKFo"
      }
    },
    {
      "cell_type": "code",
      "source": [
        "#DP solution.  O(n*2)\n",
        "\n",
        "def getRow(rowidx):\n",
        "\n",
        "  pascal_triangle = []\n",
        "\n",
        "  for i in range(rowidx +1):\n",
        "\n",
        "    pascal_triangle.append([1]*(i+1))\n",
        "\n",
        "\n",
        "  for i in range(2,rowidx+1):\n",
        "    for j in range(1,i): #we only need to go till i-1 because ith is 1 and there are only i columns in the ith row\n",
        "\n",
        "      pascal_triangle[i][j] = pascal_triangle[i-1][j]+ pascal_triangle[i-1][j-1]\n",
        "\n",
        "  return pascal_triangle[rowidx]"
      ],
      "metadata": {
        "id": "SPm6FpgU-4uM"
      },
      "execution_count": 34,
      "outputs": []
    },
    {
      "cell_type": "code",
      "source": [
        "getRow(5)"
      ],
      "metadata": {
        "colab": {
          "base_uri": "https://localhost:8080/"
        },
        "id": "5EWGzE66esl0",
        "outputId": "7843b883-1618-41b2-cb12-7c855185a638"
      },
      "execution_count": 35,
      "outputs": [
        {
          "output_type": "execute_result",
          "data": {
            "text/plain": [
              "[1, 5, 10, 10, 5, 1]"
            ]
          },
          "metadata": {},
          "execution_count": 35
        }
      ]
    },
    {
      "cell_type": "code",
      "source": [
        ""
      ],
      "metadata": {
        "id": "mizRYkFGeuXK"
      },
      "execution_count": null,
      "outputs": []
    }
  ]
}