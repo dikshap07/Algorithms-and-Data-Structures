{
  "nbformat": 4,
  "nbformat_minor": 0,
  "metadata": {
    "colab": {
      "name": "CountOfContSubarrayWithSum.ipynb",
      "provenance": [],
      "authorship_tag": "ABX9TyPuH2mQ5ASPsph7EtRmpfiN",
      "include_colab_link": true
    },
    "kernelspec": {
      "name": "python3",
      "display_name": "Python 3"
    },
    "language_info": {
      "name": "python"
    }
  },
  "cells": [
    {
      "cell_type": "markdown",
      "metadata": {
        "id": "view-in-github",
        "colab_type": "text"
      },
      "source": [
        "<a href=\"https://colab.research.google.com/github/dikshap07/Algorithms-and-Data-Structures/blob/master/CountOfContSubarrayWithSum.ipynb\" target=\"_parent\"><img src=\"https://colab.research.google.com/assets/colab-badge.svg\" alt=\"Open In Colab\"/></a>"
      ]
    },
    {
      "cell_type": "code",
      "execution_count": 1,
      "metadata": {
        "id": "5LqBKnN1eDOB"
      },
      "outputs": [],
      "source": [
        "#Brute Force : O(n**3)\n",
        "\n",
        "\n",
        "def subarray_sum(nums,k):\n",
        "\n",
        "  count = 0\n",
        "\n",
        "  for i in range(0,len(nums)):\n",
        "\n",
        "\n",
        "    for j in range(i+1,len(nums)+1):\n",
        "\n",
        "      sum = 0 #sum for subarrays nums[i:j]\n",
        "\n",
        "      for q in range(i,j):\n",
        "\n",
        "        sum+= 1\n",
        "\n",
        "      if sum == k:\n",
        "\n",
        "        count+=1\n",
        "        \n",
        "  return count"
      ]
    },
    {
      "cell_type": "code",
      "source": [
        ""
      ],
      "metadata": {
        "id": "XCIwin7JewVz"
      },
      "execution_count": null,
      "outputs": []
    }
  ]
}