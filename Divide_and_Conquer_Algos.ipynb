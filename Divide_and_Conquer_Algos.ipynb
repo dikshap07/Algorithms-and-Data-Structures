{
  "nbformat": 4,
  "nbformat_minor": 0,
  "metadata": {
    "colab": {
      "name": "Divide and Conquer Algos.ipynb",
      "provenance": [],
      "collapsed_sections": [],
      "authorship_tag": "ABX9TyNfyKRoDlpZInyIztJzpINM",
      "include_colab_link": true
    },
    "kernelspec": {
      "name": "python3",
      "display_name": "Python 3"
    }
  },
  "cells": [
    {
      "cell_type": "markdown",
      "metadata": {
        "id": "view-in-github",
        "colab_type": "text"
      },
      "source": [
        "<a href=\"https://colab.research.google.com/github/dikshap07/Algorithms-and-Data-Structures/blob/master/Divide_and_Conquer_Algos.ipynb\" target=\"_parent\"><img src=\"https://colab.research.google.com/assets/colab-badge.svg\" alt=\"Open In Colab\"/></a>"
      ]
    },
    {
      "cell_type": "markdown",
      "metadata": {
        "id": "3PMdv3CIo1Bf"
      },
      "source": [
        "BINARY SEARCH"
      ]
    },
    {
      "cell_type": "code",
      "metadata": {
        "id": "n1ckja0Zo3Xs"
      },
      "source": [
        "#USING RECURSION\r\n",
        "import math\r\n",
        "def binary_search(A, low, high, key):   #A is a monotonous non-decreasing array || low = starting index of A || high = max index of A || key = element to search\r\n",
        "\r\n",
        "  if high<low: # if empty array\r\n",
        "\r\n",
        "    return low -1 \r\n",
        "\r\n",
        "  mid = math.floor(low + ((high - low)/2))  #to get mid index of the array\r\n",
        "\r\n",
        "  if key == A[mid]: #if value at mid indec = key then return the mid index\r\n",
        "\r\n",
        "    return mid\r\n",
        "\r\n",
        "  elif key > A[mid]: #check for array after mid index value only and ignore elements before that since they will be less than key so no point in chekcinh\r\n",
        "\r\n",
        "    return binary_search(A,mid+1, high, key)\r\n",
        "\r\n",
        "  elif key < A[mid]:#check for array before mid index value only and ignore elements after that since they will be more than key so no point in chekcinh\r\n",
        "\r\n",
        "\r\n",
        "    return binary_search(A,low, mid -1,key)\r\n"
      ],
      "execution_count": null,
      "outputs": []
    },
    {
      "cell_type": "code",
      "metadata": {
        "id": "e2aU_Gk6pvCF"
      },
      "source": [
        "A= [3,5,8,10,12,15,18,20,20,50,60]\r\n",
        "\r\n",
        "low = 0\r\n",
        "high = len(A)\r\n"
      ],
      "execution_count": null,
      "outputs": []
    },
    {
      "cell_type": "code",
      "metadata": {
        "colab": {
          "base_uri": "https://localhost:8080/"
        },
        "id": "8zPDWbPpqCJb",
        "outputId": "6d976591-a088-4c3c-f841-61d3394e7905"
      },
      "source": [
        "binary_search(A,low,high,20)"
      ],
      "execution_count": null,
      "outputs": [
        {
          "output_type": "execute_result",
          "data": {
            "text/plain": [
              "8"
            ]
          },
          "metadata": {
            "tags": []
          },
          "execution_count": 9
        }
      ]
    },
    {
      "cell_type": "code",
      "metadata": {
        "colab": {
          "base_uri": "https://localhost:8080/"
        },
        "id": "rhndjCwUw11F",
        "outputId": "aeb62a88-bca7-4f5b-e151-d076e5583443"
      },
      "source": [
        "ibinary_search(A,low,high,20)"
      ],
      "execution_count": null,
      "outputs": [
        {
          "output_type": "execute_result",
          "data": {
            "text/plain": [
              "8"
            ]
          },
          "metadata": {
            "tags": []
          },
          "execution_count": 13
        }
      ]
    },
    {
      "cell_type": "code",
      "metadata": {
        "id": "6Eyms6uoqGpJ"
      },
      "source": [
        "#USING ITERATION\r\n",
        "def ibinary_search(A,low,high,key):\r\n",
        "\r\n",
        "  while low<= high:\r\n",
        "\r\n",
        "    mid = math.floor(low + ((high - low)/2))  #to get mid index of the array\r\n",
        "    \r\n",
        "    if key == A[mid]:\r\n",
        "\r\n",
        "      return mid\r\n",
        "\r\n",
        "    elif key < A[mid]:\r\n",
        "\r\n",
        "      high = mid-1\r\n",
        "\r\n",
        "    else:\r\n",
        "\r\n",
        "      low = mid +1\r\n",
        "\r\n",
        "  return low-1\r\n",
        "\r\n",
        "    "
      ],
      "execution_count": null,
      "outputs": []
    },
    {
      "cell_type": "markdown",
      "metadata": {
        "id": "TycfbQ5yrNUG"
      },
      "source": [
        "PROBLEM= 01 WEEK 04 - BINARY SEARCH\r\n"
      ]
    },
    {
      "cell_type": "code",
      "metadata": {
        "colab": {
          "base_uri": "https://localhost:8080/"
        },
        "id": "F_XqHIUxrQkd",
        "outputId": "0dfaff0e-a15e-4bb0-e657-8cdd15cf5825"
      },
      "source": [
        "input_= input()\r\n",
        "input_list = list(map(int,input_.split(' ')))\r\n",
        "low = 0\r\n",
        "high = input_list[0]\r\n",
        "A =input_list[1:high+1]\r\n",
        "key_size = input_list[high+1]\r\n",
        "key_list = input_list[high+2:]\r\n",
        "\r\n",
        "\r\n"
      ],
      "execution_count": null,
      "outputs": [
        {
          "output_type": "stream",
          "text": [
            "1 2 3\n"
          ],
          "name": "stdout"
        }
      ]
    },
    {
      "cell_type": "code",
      "metadata": {
        "id": "DNGoyl1M0z4z"
      },
      "source": [
        "input_= input()\r\n",
        "input_list = list(map(int,input_.split(' ')))\r\n",
        "low = 0\r\n",
        "high = input_list[0]\r\n",
        "A =input_list[1:high+1]\r\n",
        "key_list = input_list[high+2:]\r\n",
        "\r\n",
        "\r\n",
        "\r\n",
        "\r\n",
        "import math\r\n",
        "def binary_search(A, low, high, key):   #A is a monotonous non-decreasing array || low = starting index of A || high = max index of A || key = element to search\r\n",
        "\r\n",
        "  if high<low: # if empty array\r\n",
        "\r\n",
        "    return -1 \r\n",
        "\r\n",
        "  mid = math.floor(low + ((high - low)/2))  #to get mid index of the array\r\n",
        "  print(\"mid=\",mid)\r\n",
        "  if key == A[mid]: #if value at mid indec = key then return the mid index\r\n",
        "\r\n",
        "    return mid\r\n",
        "\r\n",
        "  elif key > A[mid]: #check for array after mid index value only and ignore elements before that since they will be less than key so no point in chekcinh\r\n",
        "\r\n",
        "    return binary_search(A,mid+1, high, key)\r\n",
        "\r\n",
        "  elif key < A[mid]:#check for array before mid index value only and ignore elements after that since they will be more than key so no point in chekcinh\r\n",
        "\r\n",
        "\r\n",
        "    return binary_search(A,low, mid -1,key)\r\n",
        "\r\n",
        "for key in key_list:\r\n",
        "  \r\n",
        "  #answer = binary_search(A,low,high-1,key)\r\n",
        "  print(binary_search(A, low, high-1, key),end = ' ')\r\n",
        "  \r\n",
        "\r\n"
      ],
      "execution_count": null,
      "outputs": []
    },
    {
      "cell_type": "code",
      "metadata": {
        "id": "5whWVq2y0PRy"
      },
      "source": [
        ""
      ],
      "execution_count": null,
      "outputs": []
    },
    {
      "cell_type": "markdown",
      "metadata": {
        "id": "ehRPLAzAYVGI"
      },
      "source": [
        "POLYNOMIAL MULTIPLICATION\r\n"
      ]
    },
    {
      "cell_type": "markdown",
      "metadata": {
        "id": "eF2QAR_YYY7f"
      },
      "source": [
        "Naive Algorithm/Solution\r\n"
      ]
    },
    {
      "cell_type": "code",
      "metadata": {
        "colab": {
          "base_uri": "https://localhost:8080/"
        },
        "id": "YF8AX5crYXv5",
        "outputId": "ee4b35c0-5fe0-4c41-fdb4-62473800a1e4"
      },
      "source": [
        "\r\n",
        "\r\n",
        "import numpy as np\r\n",
        "def poly_mul(A,B,n):   #A: Polynomial 1 with degree n-1 , B:polynomial 2 with degree n-1 , degree n-1 means polynomial has n terms\r\n",
        "\r\n",
        "    #declaring product array: 2n-2 degree and 2n-1 terms/size\r\n",
        "\r\n",
        "    product = np.zeros(2*n-1)  #array of size 2n-1 filled initially with zeros\r\n",
        "   \r\n",
        "    for i in range(0,n):\r\n",
        "\r\n",
        "      for j in range(0,n):\r\n",
        "\r\n",
        "        \r\n",
        "\r\n",
        "        product[i+j] = product[i+j] + A[i]*B[j]\r\n",
        "        \r\n",
        "    return product\r\n",
        "\r\n",
        "\r\n",
        "A_ = input()\r\n",
        "A = list(map(int,A_.split(' ')))\r\n",
        "B_ = input()\r\n",
        "B = list(map(int,B_.split(' ')))\r\n",
        "poly_mul(A,B,3)"
      ],
      "execution_count": null,
      "outputs": [
        {
          "output_type": "stream",
          "text": [
            "3 2 5\n",
            "5 1 2\n"
          ],
          "name": "stdout"
        }
      ]
    },
    {
      "cell_type": "markdown",
      "metadata": {
        "id": "CA7dMXlZjEXi"
      },
      "source": [
        ""
      ]
    },
    {
      "cell_type": "code",
      "metadata": {
        "colab": {
          "base_uri": "https://localhost:8080/"
        },
        "id": "flzVJZYmd6XO",
        "outputId": "ee5d12d0-5e34-4646-a63c-34af6470f61a"
      },
      "source": [
        "\r\n",
        "\r\n"
      ],
      "execution_count": null,
      "outputs": [
        {
          "output_type": "stream",
          "text": [
            "prod [0. 0. 0. 0. 0.]\n",
            "i 0\n",
            "j 0\n",
            "prodcut[ 0 + 0 15.0\n",
            "i 0\n",
            "j 1\n",
            "prodcut[ 0 + 1 3.0\n",
            "i 0\n",
            "j 2\n",
            "prodcut[ 0 + 2 6.0\n",
            "i 1\n",
            "j 0\n",
            "prodcut[ 1 + 0 13.0\n",
            "i 1\n",
            "j 1\n",
            "prodcut[ 1 + 1 8.0\n",
            "i 1\n",
            "j 2\n",
            "prodcut[ 1 + 2 4.0\n",
            "i 2\n",
            "j 0\n",
            "prodcut[ 2 + 0 33.0\n",
            "i 2\n",
            "j 1\n",
            "prodcut[ 2 + 1 9.0\n",
            "i 2\n",
            "j 2\n",
            "prodcut[ 2 + 2 10.0\n",
            "P [15. 13. 33.  9. 10.]\n"
          ],
          "name": "stdout"
        },
        {
          "output_type": "execute_result",
          "data": {
            "text/plain": [
              "array([15., 13., 33.,  9., 10.])"
            ]
          },
          "metadata": {
            "tags": []
          },
          "execution_count": 29
        }
      ]
    },
    {
      "cell_type": "code",
      "metadata": {
        "colab": {
          "base_uri": "https://localhost:8080/"
        },
        "id": "xsEP3M77d933",
        "outputId": "90fc2dae-c6c6-4040-bb14-bab5bef7bc3d"
      },
      "source": [
        "a"
      ],
      "execution_count": null,
      "outputs": [
        {
          "output_type": "execute_result",
          "data": {
            "text/plain": [
              "array([0., 0., 0.])"
            ]
          },
          "metadata": {
            "tags": []
          },
          "execution_count": 5
        }
      ]
    },
    {
      "cell_type": "code",
      "metadata": {
        "id": "xUenQP32eBc7"
      },
      "source": [
        ""
      ],
      "execution_count": null,
      "outputs": []
    },
    {
      "cell_type": "markdown",
      "metadata": {
        "id": "vCE2HC8pSH8-"
      },
      "source": [
        "PROBLEM 2 : Majority Element"
      ]
    },
    {
      "cell_type": "markdown",
      "metadata": {
        "id": "6V593GPl4sIe"
      },
      "source": [
        "Task. The goal in this code problem is to check whether an input sequence contains a majority element.\r\n"
      ]
    },
    {
      "cell_type": "markdown",
      "metadata": {
        "id": "5WfGW2kqTrRr"
      },
      "source": [
        "Naive Solution"
      ]
    },
    {
      "cell_type": "code",
      "metadata": {
        "id": "1K7x6-6zSQGV"
      },
      "source": [
        "def majority_element(n,S):\r\n",
        "  \r\n",
        "\r\n",
        "  for i in range(0,n):\r\n",
        "    current_element = S[i]\r\n",
        "    count = 0\r\n",
        "    for j in range(0,n):\r\n",
        "\r\n",
        "      if S[j] == current_element:\r\n",
        "\r\n",
        "        count = count+1\r\n",
        "\r\n",
        "    if count > n/2:\r\n",
        "\r\n",
        "      return S[i]\r\n",
        "\r\n",
        "  return 'no majority element'\r\n",
        "\r\n",
        "\r\n",
        "\r\n"
      ],
      "execution_count": null,
      "outputs": []
    },
    {
      "cell_type": "code",
      "metadata": {
        "colab": {
          "base_uri": "https://localhost:8080/",
          "height": 35
        },
        "id": "U-1s7nQ7TMuw",
        "outputId": "e21253f3-c773-444f-ef5b-772048c0e97b"
      },
      "source": [
        "n = \r\n",
        "S= [1,2,2,2,1,1]\r\n",
        "\r\n",
        "majority_element(n,S)"
      ],
      "execution_count": null,
      "outputs": [
        {
          "output_type": "execute_result",
          "data": {
            "application/vnd.google.colaboratory.intrinsic+json": {
              "type": "string"
            },
            "text/plain": [
              "'no majority element'"
            ]
          },
          "metadata": {
            "tags": []
          },
          "execution_count": 4
        }
      ]
    },
    {
      "cell_type": "markdown",
      "metadata": {
        "id": "PctOYHAnTt_5"
      },
      "source": [
        "DIVIDE AND CONQUER USING RECURSION"
      ]
    },
    {
      "cell_type": "markdown",
      "metadata": {
        "id": "wS03Q7QO5Z1N"
      },
      "source": [
        "Failed attempt"
      ]
    },
    {
      "cell_type": "code",
      "metadata": {
        "id": "4w_-hz-Jd0qT"
      },
      "source": [
        "def maj_e(n,S):\r\n",
        "  print(\"S_OUTER\",S)\r\n",
        "\r\n",
        "  if n<=2:    #wrong because I considered the base case as n=2 not n=1 or n=0\r\n",
        "    left = S[0]\r\n",
        "    right = S[-1]\r\n",
        "\r\n",
        "    if left == right:\r\n",
        "      return left\r\n",
        "    else:\r\n",
        "      return 0\r\n",
        "\r\n",
        "  else:\r\n",
        "    \r\n",
        "    k = n//2\r\n",
        "    part1 = maj_e(k + 1, S[:k+1])\r\n",
        "    print(\"S_INNER\",S)\r\n",
        "    part2 = maj_e(k+1, S[k:])\r\n",
        "\r\n",
        "    if part1 != 0: \r\n",
        "\r\n",
        "      return part1\r\n",
        "\r\n",
        "    elif part2 != 0:\r\n",
        "\r\n",
        "      return part2\r\n",
        "\r\n",
        "    elif part1 == 0 and part2 == 0:\r\n",
        "\r\n",
        "      return 0\r\n",
        "\r\n",
        "\r\n",
        "\r\n",
        "\r\n",
        "\r\n"
      ],
      "execution_count": null,
      "outputs": []
    },
    {
      "cell_type": "markdown",
      "metadata": {
        "id": "b93XlUxP41LI"
      },
      "source": [
        "USING RECURSION - CORRECT SOLUTION\r\n"
      ]
    },
    {
      "cell_type": "code",
      "metadata": {
        "id": "vOgdVZ00nHMu"
      },
      "source": [
        "def majority(a):\r\n",
        "    if len(a) == 0:\r\n",
        "        return None\r\n",
        "    if len(a) == 1:\r\n",
        "        return a[0]\r\n",
        "        \r\n",
        "    half = len(a) // 2\r\n",
        "    #print(\"half\",half)\r\n",
        "    \r\n",
        "\r\n",
        "    left = majority(a[0:half])  #to get majority element in left part of the array\r\n",
        "    #print('outer_left',left)\r\n",
        "    \r\n",
        "    right = majority(a[half:]) # to get majority element in the right part of the array\r\n",
        "\r\n",
        "    #print(\"outer_right\",right)\r\n",
        "\r\n",
        "    if left == right:  # if majority element of both right and left part is equal\r\n",
        "      #print(\"inner_right\",right)\r\n",
        "\r\n",
        "      return left\r\n",
        "    if a.count(left) > half: #to check count of majority element of left part in the original array and if its greater than half\r\n",
        "      \r\n",
        "      return left\r\n",
        "    if a.count(right) > half: #to check count of majority element of right part in the original array and if its greater than half\r\n",
        "\r\n",
        "      return right\r\n",
        "    return 0"
      ],
      "execution_count": null,
      "outputs": []
    },
    {
      "cell_type": "code",
      "metadata": {
        "colab": {
          "base_uri": "https://localhost:8080/"
        },
        "id": "Gud-IQADnPK6",
        "outputId": "a3411672-e63b-4ef4-8c38-5aa49790f659"
      },
      "source": [
        "S= [1,2,8,1,8,2,1]\r\n",
        "majority(S)"
      ],
      "execution_count": null,
      "outputs": [
        {
          "output_type": "execute_result",
          "data": {
            "text/plain": [
              "0"
            ]
          },
          "metadata": {
            "tags": []
          },
          "execution_count": 3
        }
      ]
    },
    {
      "cell_type": "code",
      "metadata": {
        "colab": {
          "base_uri": "https://localhost:8080/"
        },
        "id": "z5EDNJ4HrsrC",
        "outputId": "32cd6573-a7f0-4f03-93ae-581ef49561ad"
      },
      "source": [
        "S= [1,2,8,1,8,2,1]\r\n",
        "S[:3]"
      ],
      "execution_count": null,
      "outputs": [
        {
          "output_type": "execute_result",
          "data": {
            "text/plain": [
              "[1, 2, 8]"
            ]
          },
          "metadata": {
            "tags": []
          },
          "execution_count": 1
        }
      ]
    },
    {
      "cell_type": "code",
      "metadata": {
        "id": "dUW8OJbNrzIB",
        "colab": {
          "base_uri": "https://localhost:8080/"
        },
        "outputId": "5994258a-1999-47cd-d229-74d00d8acd9b"
      },
      "source": [
        "S.count(1)"
      ],
      "execution_count": null,
      "outputs": [
        {
          "output_type": "execute_result",
          "data": {
            "text/plain": [
              "3"
            ]
          },
          "metadata": {
            "tags": []
          },
          "execution_count": 2
        }
      ]
    },
    {
      "cell_type": "markdown",
      "metadata": {
        "id": "eUTA2XGtzYHK"
      },
      "source": [
        "SELECTION SORT USING LOOP"
      ]
    },
    {
      "cell_type": "code",
      "metadata": {
        "id": "dckAQR0g234p"
      },
      "source": [
        "def selecttion_sort(A):\r\n",
        "\r\n",
        "  for i in range(len(A)):\r\n",
        "    min_A = min(A[i:])  #to find the min value in A \r\n",
        "    i_r = A.index(min_A) #getting index Of min_A\r\n",
        "    A[i_r] = A[i]  #replacing the element at index of min_A with initial first element of the seq\r\n",
        "    A[i] = min_A    #replacing first element with min_A\r\n",
        "  return A"
      ],
      "execution_count": null,
      "outputs": []
    },
    {
      "cell_type": "code",
      "metadata": {
        "id": "-vzfl8YTyspA"
      },
      "source": [
        "A= A = [3, 5, 8, 4, 1, 9, -2]\r\n"
      ],
      "execution_count": null,
      "outputs": []
    },
    {
      "cell_type": "code",
      "metadata": {
        "colab": {
          "base_uri": "https://localhost:8080/"
        },
        "id": "zCLnbu_vywLY",
        "outputId": "c65c668f-d377-44a5-ffcd-cb6e0991f441"
      },
      "source": [
        "selecttion_sort(A)"
      ],
      "execution_count": null,
      "outputs": [
        {
          "output_type": "execute_result",
          "data": {
            "text/plain": [
              "[-2, 1, 3, 4, 5, 8, 9]"
            ]
          },
          "metadata": {
            "tags": []
          },
          "execution_count": 79
        }
      ]
    },
    {
      "cell_type": "markdown",
      "metadata": {
        "id": "4-jkHguMz1zL"
      },
      "source": [
        "SELECTION SORT USING RECURSION"
      ]
    },
    {
      "cell_type": "code",
      "metadata": {
        "id": "HkAIQxHyzNZD"
      },
      "source": [
        "def sel_sortR(A):\r\n",
        "  \r\n",
        "\r\n",
        "  if len(A) <= 1:\r\n",
        "    return A[0]\r\n",
        "\r\n",
        "  else:\r\n",
        "    min_A = min(A)\r\n",
        "    min_i = A.index(min_A)\r\n",
        "    A[min_i] = A[0]\r\n",
        "    A[0] =  min_A\r\n",
        "\r\n",
        "  return  str(A[0]) + '_' + str(sel_sortR(A[1:]))\r\n"
      ],
      "execution_count": null,
      "outputs": []
    },
    {
      "cell_type": "code",
      "metadata": {
        "colab": {
          "base_uri": "https://localhost:8080/"
        },
        "id": "TlWcVhympS3K",
        "outputId": "5f9346f4-1ae1-4ca7-c011-b7b1e62ac97e"
      },
      "source": [
        "A= [10,21,45,22,7,2,67,19,13,45,12,11,18,16,17,100,201,20,101]\r\n",
        "print(sel_sortR(A))"
      ],
      "execution_count": null,
      "outputs": [
        {
          "output_type": "stream",
          "text": [
            "2_7_10_11_12_13_16_17_18_19_20_21_22_45_45_67_100_101_201\n"
          ],
          "name": "stdout"
        }
      ]
    },
    {
      "cell_type": "code",
      "metadata": {
        "colab": {
          "base_uri": "https://localhost:8080/"
        },
        "id": "WlXhSzXO3Th6",
        "outputId": "13cced06-b6be-4b3c-cbb8-bc7ee8f8522b"
      },
      "source": [
        "\r\n",
        "sorted_A= list(map(int,sel_sortR(A).split('_')))\r\n",
        "sorted_A"
      ],
      "execution_count": null,
      "outputs": [
        {
          "output_type": "execute_result",
          "data": {
            "text/plain": [
              "[2, 7, 10, 11, 12, 13, 16, 17, 18, 19, 20, 21, 22, 45, 45, 67, 100, 101, 201]"
            ]
          },
          "metadata": {
            "tags": []
          },
          "execution_count": 30
        }
      ]
    },
    {
      "cell_type": "markdown",
      "metadata": {
        "id": "HNp2xDAHTzAR"
      },
      "source": [
        "SELECTION SORT USING RECURSION (BETTER)"
      ]
    },
    {
      "cell_type": "code",
      "metadata": {
        "id": "RrR0_oF-Txb5"
      },
      "source": [
        "def select_sort(a):\r\n",
        "    if len(a) == 1:\r\n",
        "        return a\r\n",
        "    m = min(a)    \r\n",
        "    \r\n",
        "    return [m] + select_sort(a[:a.index(m)] + a[a.index(m) + 1:])   #takes out the min element from array and then repeats again for new array created by concatenating\r\n",
        "                                                                    #elements of array before the min element and elements after the min element"
      ],
      "execution_count": null,
      "outputs": []
    },
    {
      "cell_type": "code",
      "metadata": {
        "colab": {
          "base_uri": "https://localhost:8080/"
        },
        "id": "ZnSbtH2q3pmE",
        "outputId": "9febad0c-7b9a-4242-d6ba-a8f2a14b00d2"
      },
      "source": [
        "A = [30, 5, 8, 4, 11, 9, 10]   #eg here as min element is 4 therefore we take out 4 and then create new array by concatenating [30,5,8]+[11,9,10]\r\n",
        "print(select_sort(A))\r\n"
      ],
      "execution_count": null,
      "outputs": [
        {
          "output_type": "execute_result",
          "data": {
            "text/plain": [
              "[]"
            ]
          },
          "metadata": {
            "tags": []
          },
          "execution_count": 12
        }
      ]
    },
    {
      "cell_type": "code",
      "metadata": {
        "colab": {
          "base_uri": "https://localhost:8080/"
        },
        "id": "GZ0iLYSp3Pt4",
        "outputId": "2eee1269-c4c9-4097-8a7c-e6913679b4b0"
      },
      "source": [
        "\r\n",
        "A= [10,21,45,22,7,2,67,19,13,45,12,11,18,16,17,100,201,20,101]\r\n",
        "select_sort(A)"
      ],
      "execution_count": null,
      "outputs": [
        {
          "output_type": "execute_result",
          "data": {
            "text/plain": [
              "[2, 7, 10, 11, 12, 13, 16, 17, 18, 19, 20, 21, 22, 45, 45, 67, 100, 101, 201]"
            ]
          },
          "metadata": {
            "tags": []
          },
          "execution_count": 2
        }
      ]
    },
    {
      "cell_type": "markdown",
      "metadata": {
        "id": "QNRpNJfX2wbB"
      },
      "source": [
        "  MERGE SORT"
      ]
    },
    {
      "cell_type": "code",
      "metadata": {
        "id": "I3KppBpeQ8vN"
      },
      "source": [
        "import numpy as np"
      ],
      "execution_count": null,
      "outputs": []
    },
    {
      "cell_type": "code",
      "metadata": {
        "id": "VDPvB-WlGeP3"
      },
      "source": [
        "\r\n",
        "def merge(B,C):                                     #B,C are sorted\r\n",
        "\r\n",
        "  D = list()                                        #empty list to get the merged list\r\n",
        "  #print(B)\r\n",
        "  #print(C)\r\n",
        "  while (B != []) and (C != []):                    #breaks if any one of B or C becomes empty\r\n",
        "\r\n",
        "    b = B[0]                                        #to get first element of B\r\n",
        "    #print(\"b\",b)\r\n",
        "    c = C[0]                                        #to get first element of C\r\n",
        "    #print(\"c\",c)\r\n",
        "    \r\n",
        "    if b<c:\r\n",
        "\r\n",
        "      B.remove(b)                                   #if b<c remove b from B and add to D\r\n",
        "      D.append(b)\r\n",
        "      #print(\"D_after_b\",D)\r\n",
        "      #print(\"B_updated\",B)\r\n",
        "\r\n",
        "    else:\r\n",
        "\r\n",
        "      C.remove(c)                                   #if c<b remove c from C and add to D\r\n",
        "      D.append(c)\r\n",
        "      #print(\"D_after_c\",D)\r\n",
        "      #print(\"C_updated\",C)\r\n",
        "\r\n",
        "\r\n",
        "\r\n",
        "  #now if either one of B or C has become empty so while loop is exited so we can add remaining elements of B and C as it is to D as they are already sorted\r\n",
        "  if B != []:                                       \r\n",
        "\r\n",
        "    for i in B:\r\n",
        "      D.append(i)\r\n",
        "  \r\n",
        "  if C != []:\r\n",
        "\r\n",
        "     for i in C:\r\n",
        "      D.append(i)\r\n",
        "\r\n",
        "    \r\n",
        "\r\n",
        "\r\n",
        "  return D\r\n",
        "\r\n",
        "def merge_sort(A):\r\n",
        "\r\n",
        "  if len(A)==1 :\r\n",
        "    return A\r\n",
        "\r\n",
        "  m = len(A)//2\r\n",
        "\r\n",
        "  B = merge_sort(A[0:m])\r\n",
        "  C = merge_sort(A[m:])\r\n",
        "\r\n",
        "  A_ = merge(B,C)\r\n",
        "\r\n",
        "  return A_\r\n",
        "\r\n"
      ],
      "execution_count": null,
      "outputs": []
    },
    {
      "cell_type": "code",
      "metadata": {
        "id": "sVUk5WQvSmcm",
        "colab": {
          "base_uri": "https://localhost:8080/"
        },
        "outputId": "d37a1261-ff38-4464-d87c-767c9cef9525"
      },
      "source": [
        "#to check merge function\r\n",
        "B = [5,9,10]\r\n",
        "C =[1,7,11]\r\n",
        "print(merge(B,C))"
      ],
      "execution_count": null,
      "outputs": [
        {
          "output_type": "stream",
          "text": [
            "[1, 5, 7, 9, 10, 11]\n"
          ],
          "name": "stdout"
        }
      ]
    },
    {
      "cell_type": "code",
      "metadata": {
        "colab": {
          "base_uri": "https://localhost:8080/"
        },
        "id": "mgbRF-0DQ4Wk",
        "outputId": "4be30632-d116-4016-bffe-ac00a88fb738"
      },
      "source": [
        "#final merge_sort run\r\n",
        "A= [10,21,45,22,7,2,67,19,13,45,12,11,18,16,17,100,201,20,101]\r\n",
        "A_ = merge_sort(A)\r\n",
        "print(A_)"
      ],
      "execution_count": null,
      "outputs": [
        {
          "output_type": "stream",
          "text": [
            "[2, 7, 10, 11, 12, 13, 16, 17, 18, 19, 20, 21, 22, 45, 45, 67, 100, 101, 201]\n"
          ],
          "name": "stdout"
        }
      ]
    },
    {
      "cell_type": "code",
      "metadata": {
        "id": "cneoihdmU437"
      },
      "source": [
        ""
      ],
      "execution_count": null,
      "outputs": []
    },
    {
      "cell_type": "markdown",
      "metadata": {
        "id": "v2-3Z-Rzres8"
      },
      "source": [
        "QUICK SORT"
      ]
    },
    {
      "cell_type": "code",
      "metadata": {
        "id": "Tcu3r4PirgD9"
      },
      "source": [
        "def partition(A,l,r):\r\n",
        "\r\n",
        "  pivot = A[l]\r\n",
        "  j = l\r\n",
        "\r\n",
        "  for i in range(l+1,r):\r\n",
        "\r\n",
        "    if A[i]<= pivot:\r\n",
        "\r\n",
        "      j = j+1\r\n",
        "      \r\n",
        "      A[i],A[j] = A[j],A[i]\r\n",
        "      \r\n",
        "\r\n",
        "      #swap(A[i],A[j])\r\n",
        "\r\n",
        "  A[l],A[k] = A[k],A[l]\r\n",
        "  #print(\"Aout\",A)\r\n",
        "  #swap(A[j],A[l])\r\n",
        "  #print(\"pivot\",pivot)\r\n",
        "  \r\n",
        "  return j\r\n",
        "\r\n",
        "\r\n",
        "def quick_sort(A,l,r):\r\n",
        "  if l>=r:\r\n",
        "    return\r\n",
        "\r\n",
        "  m = partition(A,l,r)\r\n",
        "    \r\n",
        "  quick_sort(A,l,m)\r\n",
        "  quick_sort(A,m+1,r)\r\n",
        "\r\n",
        "  return A\r\n"
      ],
      "execution_count": null,
      "outputs": []
    },
    {
      "cell_type": "code",
      "metadata": {
        "id": "pcFpCnp2vEiw"
      },
      "source": [
        "A= [10,21,45,22,7,2,67,19,13,45,12,11,18,16,17,100,201,20,101]"
      ],
      "execution_count": null,
      "outputs": []
    },
    {
      "cell_type": "code",
      "metadata": {
        "colab": {
          "base_uri": "https://localhost:8080/"
        },
        "id": "LsdCtpi6t614",
        "outputId": "e0a3ad35-1cca-4e46-83bd-11d838ac861a"
      },
      "source": [
        "print(quick_sort(A,0,len(A)))"
      ],
      "execution_count": null,
      "outputs": [
        {
          "output_type": "stream",
          "text": [
            "[2, 7, 10, 11, 12, 13, 16, 17, 18, 19, 20, 21, 22, 45, 45, 67, 100, 101, 201]\n"
          ],
          "name": "stdout"
        }
      ]
    },
    {
      "cell_type": "markdown",
      "metadata": {
        "id": "-AsADtdl8kLK"
      },
      "source": [
        "RANDOMIZED QUICK SORT"
      ]
    },
    {
      "cell_type": "code",
      "metadata": {
        "id": "mGnoN57RvD1K"
      },
      "source": [
        "import random\r\n",
        "def partition(A,l,r):\r\n",
        "\r\n",
        "  pivot = A[l]\r\n",
        "  j = l\r\n",
        "\r\n",
        "  for i in range(l+1,r):\r\n",
        "\r\n",
        "    if A[i]<= pivot:\r\n",
        "\r\n",
        "      j = j+1\r\n",
        "      \r\n",
        "      A[i],A[j] = A[j],A[i]\r\n",
        "      \r\n",
        "\r\n",
        "      #swap(A[i],A[j])\r\n",
        "\r\n",
        "  A[l],A[j] = A[j],A[l]\r\n",
        "  #print(\"Aout\",A)\r\n",
        "  #swap(A[j],A[l])\r\n",
        "  #print(\"pivot\",pivot)\r\n",
        "  \r\n",
        "  return j\r\n",
        "\r\n",
        "\r\n",
        "def r_quick_sort(A,l,r):\r\n",
        "  if l>=r:\r\n",
        "    return\r\n",
        "\r\n",
        "  k = random.randrange(l,r)\r\n",
        "  \r\n",
        "  A[l],A[k] = A[k],A[l]\r\n",
        "\r\n",
        "  m = partition(A,l,r)\r\n",
        "    \r\n",
        "  r_quick_sort(A,l,m)\r\n",
        "  r_quick_sort(A,m+1,r)\r\n",
        "\r\n",
        "  return A\r\n"
      ],
      "execution_count": null,
      "outputs": []
    },
    {
      "cell_type": "code",
      "metadata": {
        "colab": {
          "base_uri": "https://localhost:8080/"
        },
        "id": "OC_cZ6bd-JO0",
        "outputId": "d0179da0-7f24-4bb3-cbfb-2d6515051851"
      },
      "source": [
        "A= [10,21,45,22,7,2,67,19,13,45,12,11,18,16,17,100,201,20,101]\r\n",
        "print(r_quick_sort(A,0,len(A)))"
      ],
      "execution_count": null,
      "outputs": [
        {
          "output_type": "stream",
          "text": [
            "[2, 7, 10, 11, 12, 13, 16, 17, 18, 19, 20, 21, 22, 45, 45, 67, 100, 101, 201]\n"
          ],
          "name": "stdout"
        }
      ]
    },
    {
      "cell_type": "code",
      "metadata": {
        "id": "wWNnBhyo-ViE"
      },
      "source": [
        ""
      ],
      "execution_count": null,
      "outputs": []
    },
    {
      "cell_type": "code",
      "metadata": {
        "id": "K5Q92d-PmqXM"
      },
      "source": [
        "import random\r\n",
        "\r\n",
        "def partition3(A,l,r):\r\n",
        "\r\n",
        "  pivot = A[l]                              #selecting pivot for the array\r\n",
        "\r\n",
        "  lt = l                                    #to scan from left to right\r\n",
        "  i = l                                     #to start from beginning of the array\r\n",
        "  pivot = A[l]                              #to scan from right to left\r\n",
        "  gt = r-1                                \r\n",
        "\r\n",
        "  while i <= gt:                            #start while loop\r\n",
        "\r\n",
        "    if A[i]<pivot:\r\n",
        "\r\n",
        "      A[i],A[lt] = A[lt],A[i]\r\n",
        "      i += 1                                #for elements smaller than the pivot\r\n",
        "      lt += 1\r\n",
        "\r\n",
        "\r\n",
        "\r\n",
        "    elif A[i] > pivot:\r\n",
        "\r\n",
        "      A[i],A[gt] = A[gt],A[i]               #for elements greater than the pivot\r\n",
        "      gt -= 1\r\n",
        "\r\n",
        "    else:\r\n",
        "\r\n",
        "      i +=1                                 #if element equal to pivot increase i\r\n",
        "\r\n",
        "\r\n",
        "  return lt,gt\r\n",
        "\r\n",
        "def r_quick_sort(A,l,r):\r\n",
        "  if l>=r:\r\n",
        "    return\r\n",
        "\r\n",
        "  k = random.randrange(l,r)\r\n",
        "  A[l],A[k] = A[k],A[l]\r\n",
        "\r\n",
        "\r\n",
        "  m1,m2 = partition3(A,l,r)\r\n",
        "    \r\n",
        "  r_quick_sort(A,l,m1)\r\n",
        "  r_quick_sort(A,m2+1,r)\r\n",
        "\r\n",
        "  \r\n"
      ],
      "execution_count": null,
      "outputs": []
    },
    {
      "cell_type": "code",
      "metadata": {
        "colab": {
          "base_uri": "https://localhost:8080/"
        },
        "id": "--5GOBg2mwnt",
        "outputId": "74346a5d-4dd3-4e96-d4d6-4cf08551e680"
      },
      "source": [
        "A = [2,3, 9, 2, 2]\r\n",
        "\r\n",
        "r_quick_sort(A,0,len(A))\r\n",
        "for x in A:\r\n",
        "  print( x)"
      ],
      "execution_count": null,
      "outputs": [
        {
          "output_type": "stream",
          "text": [
            "2\n",
            "2\n",
            "2\n",
            "3\n",
            "9\n"
          ],
          "name": "stdout"
        }
      ]
    },
    {
      "cell_type": "markdown",
      "metadata": {
        "id": "b-8RzVgau--h"
      },
      "source": [
        "PROBLEM - Find the number of inversions required to sort a given array in ascending order"
      ]
    },
    {
      "cell_type": "markdown",
      "metadata": {
        "id": "fGD49I7LmZ6G"
      },
      "source": [
        "My Approach  "
      ]
    },
    {
      "cell_type": "code",
      "metadata": {
        "id": "PEUMV6Xwyyg9",
        "colab": {
          "base_uri": "https://localhost:8080/"
        },
        "outputId": "a2c44fc3-ddba-45a0-c922-f20505821215"
      },
      "source": [
        "def merge(B,C):                                     #B,C are sorted\r\n",
        "\r\n",
        "  D = list()\r\n",
        "  count = 0\r\n",
        "                                   #empty list to get the merged list\r\n",
        "  while (B != []) and (C != []):                    #breaks if any one of B or C becomes empty\r\n",
        "\r\n",
        "    b = B[0]                                        #to get first element of B\r\n",
        "  \r\n",
        "    c = C[0]                                        #to get first element of C\r\n",
        "     \r\n",
        "    if b<=c:\r\n",
        "\r\n",
        "      B.remove(b)                                  #if b<c remove b from B and add to D\r\n",
        "      D.append(b)\r\n",
        "    else:\r\n",
        "\r\n",
        "      C.remove(c)                                   #if b>c remove c from C and add to D\r\n",
        "      D.append(c)\r\n",
        "      count += len(B)\r\n",
        "      #print(\"count_in_merge\",count)\r\n",
        "    \r\n",
        "\r\n",
        "  #now if either one of B or C has become empty so while loop is exited so we can add remaining elements of B and C as it is to D as they are already sorted\r\n",
        "  if B != []:                                       \r\n",
        "\r\n",
        "    for i in B:\r\n",
        "      D.append(i)\r\n",
        "  \r\n",
        "  if C != []:\r\n",
        "\r\n",
        "     for i in C:\r\n",
        "      D.append(i)\r\n",
        "\r\n",
        "    \r\n",
        " \r\n",
        "  return D, count \r\n",
        "\r\n",
        "def merge_sort(A):\r\n",
        "  \r\n",
        "  if len(A)<=1 :\r\n",
        "    return A,0\r\n",
        "\r\n",
        "  m = len(A)//2\r\n",
        "    \r\n",
        "  B,count_b= merge_sort(A[0:m])\r\n",
        "  C,count_c = merge_sort(A[m:])\r\n",
        "    \r\n",
        "  A_,count = merge(B,C)\r\n",
        "  count += (count_b + count_c)\r\n",
        "  \r\n",
        "  return A_, count\r\n",
        "\r\n",
        "#A = [7,2,5,3,7,13,1,6]\r\n",
        "#A = [5,3,9,2,8]\r\n",
        "#A =[ 9, 8 ,7, 3, 2, 1]\r\n",
        "A =[3,1,4,2]\r\n",
        "#A = [2 ,3 ,9 ,2 ,9]\r\n",
        "\r\n",
        "A_,c = merge_sort(A)\r\n",
        "print(A_,c)"
      ],
      "execution_count": 9,
      "outputs": [
        {
          "output_type": "stream",
          "text": [
            "[1, 2, 3, 4] 3\n"
          ],
          "name": "stdout"
        }
      ]
    },
    {
      "cell_type": "markdown",
      "metadata": {
        "id": "fnzhaXimiSjc"
      },
      "source": [
        "Different Approach"
      ]
    },
    {
      "cell_type": "code",
      "metadata": {
        "id": "Xh6vaImWxbFI"
      },
      "source": [
        "\r\n",
        "def merge(B,C):                                     #B,C are sorted\r\n",
        "\r\n",
        "  D = list()\r\n",
        "  count = 0\r\n",
        "  i = 0\r\n",
        "  j = 0\r\n",
        "                                   #empty list to get the merged list\r\n",
        "  #print(B)\r\n",
        "  #print(C)\r\n",
        "  while i < len(B) and j < len(C):     \r\n",
        "    if B[i] <= C[j]:\r\n",
        "\r\n",
        "                                         #if b<c remove b from B and add to D\r\n",
        "      D.append(B[i])\r\n",
        "      i = i+1 \r\n",
        "\r\n",
        "    else:\r\n",
        "\r\n",
        "      #if b>c remove c from C and add to D\r\n",
        "      D.append(C[j])\r\n",
        "      j = j+1\r\n",
        "      #print(\"D_after_c\",D)\r\n",
        "      #print(\"C_updated\",C)\r\n",
        "      count += (len(B) - i)\r\n",
        "      #print(\"count_in_merge\",count)\r\n",
        "    \r\n",
        "\r\n",
        "  D += B[i:]\r\n",
        "  D += C[j:]    \r\n",
        " \r\n",
        "  return D, count \r\n",
        "\r\n",
        "def sort_and_num(A):\r\n",
        "  \r\n",
        "  if len(A)<=1 :\r\n",
        "    return A,0\r\n",
        "\r\n",
        "  m = len(A)//2\r\n",
        "    \r\n",
        "  B, countb = sort_and_num(A[0:m])\r\n",
        "  C, countc = sort_and_num(A[m:])\r\n",
        "    \r\n",
        "  A_,count = merge(B,C )\r\n",
        "  count += ((countb) + (countc)) \r\n",
        "  \r\n",
        "  return A_, count\r\n",
        "\r\n"
      ],
      "execution_count": 43,
      "outputs": []
    },
    {
      "cell_type": "code",
      "metadata": {
        "colab": {
          "base_uri": "https://localhost:8080/"
        },
        "id": "9WamFfDdW3yG",
        "outputId": "95bbb925-78fc-4805-d9cc-b62a5ab2b92e"
      },
      "source": [
        "#A = [7,2,5,3,7,13,1,6]\r\n",
        "#A = [5,3,9,2,8]\r\n",
        "A =[ 9, 8 ,7, 3, 2, 1]\r\n",
        "#A =[3,1,4,2]\r\n",
        "#A = [2 ,3 ,9 ,2 ,9]\r\n",
        "count = 0\r\n",
        "A_,c = sort_and_num(A)\r\n",
        "print(A_,c)"
      ],
      "execution_count": 46,
      "outputs": [
        {
          "output_type": "stream",
          "text": [
            "[1, 2, 3, 7, 8, 9] 15\n"
          ],
          "name": "stdout"
        }
      ]
    },
    {
      "cell_type": "code",
      "metadata": {
        "id": "OKOXNDORA_fG"
      },
      "source": [
        ""
      ],
      "execution_count": null,
      "outputs": []
    }
  ]
}