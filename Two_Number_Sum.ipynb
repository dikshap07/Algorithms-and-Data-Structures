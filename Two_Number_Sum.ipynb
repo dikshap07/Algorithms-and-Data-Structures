{
  "nbformat": 4,
  "nbformat_minor": 0,
  "metadata": {
    "colab": {
      "name": "Two Number Sum.ipynb",
      "provenance": [],
      "authorship_tag": "ABX9TyNfwxA8Kk/7QLPKSRBPvOTW",
      "include_colab_link": true
    },
    "kernelspec": {
      "name": "python3",
      "display_name": "Python 3"
    },
    "language_info": {
      "name": "python"
    }
  },
  "cells": [
    {
      "cell_type": "markdown",
      "metadata": {
        "id": "view-in-github",
        "colab_type": "text"
      },
      "source": [
        "<a href=\"https://colab.research.google.com/github/dikshap07/Algorithms-and-Data-Structures/blob/master/Two_Number_Sum.ipynb\" target=\"_parent\"><img src=\"https://colab.research.google.com/assets/colab-badge.svg\" alt=\"Open In Colab\"/></a>"
      ]
    },
    {
      "cell_type": "markdown",
      "metadata": {
        "id": "AYeqsq4NLw-f"
      },
      "source": [
        "Problem Statement: When given an array of distinct integers and a separate integer. You need to find out pairs of numbers in the array whose sum will be equal to the separate integer.\n",
        "\n",
        "i/p : [a,b,c,d], k find pairs in array where sum  = k"
      ]
    },
    {
      "cell_type": "markdown",
      "metadata": {
        "id": "E3pRadVcQ0gw"
      },
      "source": [
        "APPROACH-01- For loop"
      ]
    },
    {
      "cell_type": "code",
      "metadata": {
        "id": "NnQSYF5HMEwJ"
      },
      "source": [
        "def two_num_sumI(A,k):\n",
        "  for i in range(0,len(A)):\n",
        "    for j in range(i+1,len(A)):\n",
        "      \n",
        "      if A[i]+A[j] == k:\n",
        "        \n",
        "        return (A[i],A[j])\n"
      ],
      "execution_count": 17,
      "outputs": []
    },
    {
      "cell_type": "code",
      "metadata": {
        "colab": {
          "base_uri": "https://localhost:8080/"
        },
        "id": "phbHSvGjREhy",
        "outputId": "a3cb5cbc-1cfb-4299-cd0d-5bd6ee9fc8e3"
      },
      "source": [
        "A= [3,5,-4,8,11,1,-1,6]\n",
        "k = 10\n",
        "#two_num_sumI(A,k)\n",
        "A.sort()\n",
        "print(A)"
      ],
      "execution_count": 25,
      "outputs": [
        {
          "output_type": "stream",
          "text": [
            "[-4, -1, 1, 3, 5, 6, 8, 11]\n"
          ],
          "name": "stdout"
        }
      ]
    },
    {
      "cell_type": "markdown",
      "metadata": {
        "id": "yCyPzRDBSU9U"
      },
      "source": [
        "APPROACH-02- Using Sort"
      ]
    },
    {
      "cell_type": "code",
      "metadata": {
        "id": "45FrcNyuRQIx"
      },
      "source": [
        "#using sort function + recursion\n",
        "\n",
        "def two_num_sumII2(A,k):\n",
        "\n",
        "  A.sort()\n",
        "  L = 0\n",
        "  R = len(A)-1\n",
        "\n",
        "  def check_sum(L,R,A):\n",
        "\n",
        "    if A[L] + A[R] == k:\n",
        "      return (A[L],A[R])\n",
        "\n",
        "    elif A[L] + A[R] < 10:\n",
        "      L = L+1\n",
        "      return check_sum(L,R,A)\n",
        "\n",
        "    else:\n",
        "      R= R-1\n",
        "      return check_sum(L,R,A)\n",
        "\n",
        "  \n",
        "  return check_sum(L,R,A)\n",
        "\n"
      ],
      "execution_count": 36,
      "outputs": []
    },
    {
      "cell_type": "code",
      "metadata": {
        "colab": {
          "base_uri": "https://localhost:8080/"
        },
        "id": "aqz1GtoxU90a",
        "outputId": "4953bd78-bd01-47c4-ca7c-d7ab45ab8df3"
      },
      "source": [
        "two_num_sumII2(A,k)"
      ],
      "execution_count": 37,
      "outputs": [
        {
          "output_type": "execute_result",
          "data": {
            "text/plain": [
              "(-1, 11)"
            ]
          },
          "metadata": {
            "tags": []
          },
          "execution_count": 37
        }
      ]
    },
    {
      "cell_type": "code",
      "metadata": {
        "id": "wvhOqc8EVQU1"
      },
      "source": [
        "#using sort function + while loop\n",
        "\n",
        "def two_num_sumII(A,k):\n",
        "\n",
        "  A.sort()\n",
        "  L = 0\n",
        "  R = len(A)-1\n",
        "\n",
        "  while L != R:\n",
        "    if A[L] + A[R] == k:\n",
        "      return (A[L],A[R])\n",
        "\n",
        "    elif A[L] + A[R] < 10:\n",
        "      L = L+1\n",
        "\n",
        "    else:\n",
        "      R= R-1\n",
        "\n",
        "\n"
      ],
      "execution_count": 32,
      "outputs": []
    },
    {
      "cell_type": "code",
      "metadata": {
        "colab": {
          "base_uri": "https://localhost:8080/"
        },
        "id": "m7XbqrERVAi3",
        "outputId": "55d313cc-ed57-488e-c9fe-4c88cc9ac086"
      },
      "source": [
        "two_num_sumII(A,k)"
      ],
      "execution_count": 38,
      "outputs": [
        {
          "output_type": "execute_result",
          "data": {
            "text/plain": [
              "(-1, 11)"
            ]
          },
          "metadata": {
            "tags": []
          },
          "execution_count": 38
        }
      ]
    },
    {
      "cell_type": "code",
      "metadata": {
        "id": "9z1kFTW1XNWq"
      },
      "source": [
        "#using quick sort \n",
        "\n",
        "def partition(A,l,r):\n",
        "  pivot = A[l]  #FIirst Element of array\n",
        "  j=l\n",
        "\n",
        "  for i in range(l+1,r):\n",
        "\n",
        "    if A[i]<=pivot:\n",
        "\n",
        "      j = j+1\n",
        "      A[i],A[j] = A[j],A[i]\n",
        "\n",
        "  A[l],A[j] = A[j],A[l]\n",
        "\n",
        "  return j\n",
        "\n",
        "def quick_sort(A,l,r):\n",
        "  if l>=r:\n",
        "\n",
        "    return\n",
        "\n",
        "  m = partition(A,l,r)\n",
        "\n",
        "  quick_sort(A,l,m)\n",
        "  quick_sort(A,m+1,r)\n",
        "\n",
        "\n",
        "  return A \n",
        "\n",
        "def two_num_sumII3(A,k):\n",
        "\n",
        "  A = quick_sort(A,0,len(A))\n",
        "\n",
        "  L = 0\n",
        "  R = len(A)-1\n",
        "\n",
        "  while L != R:\n",
        "    if A[L] + A[R] == k:\n",
        "      return (A[L],A[R])\n",
        "\n",
        "    elif A[L] + A[R] < 10:\n",
        "      L = L+1\n",
        "\n",
        "    else:\n",
        "      R= R-1"
      ],
      "execution_count": 41,
      "outputs": []
    },
    {
      "cell_type": "code",
      "metadata": {
        "colab": {
          "base_uri": "https://localhost:8080/"
        },
        "id": "_GmkytYTeZQD",
        "outputId": "06867e49-6dfd-4856-c558-dacf0167eabf"
      },
      "source": [
        "two_num_sumII3(A,k)"
      ],
      "execution_count": 42,
      "outputs": [
        {
          "output_type": "execute_result",
          "data": {
            "text/plain": [
              "(-1, 11)"
            ]
          },
          "metadata": {
            "tags": []
          },
          "execution_count": 42
        }
      ]
    },
    {
      "cell_type": "code",
      "metadata": {
        "id": "yzZCF4zSedS5"
      },
      "source": [
        ""
      ],
      "execution_count": null,
      "outputs": []
    }
  ]
}