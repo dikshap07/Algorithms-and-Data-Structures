{
  "nbformat": 4,
  "nbformat_minor": 0,
  "metadata": {
    "colab": {
      "name": "Two Number Sum.ipynb",
      "provenance": [],
      "authorship_tag": "ABX9TyOU3Q6rsgCXgCjc02RtQDMr",
      "include_colab_link": true
    },
    "kernelspec": {
      "name": "python3",
      "display_name": "Python 3"
    },
    "language_info": {
      "name": "python"
    }
  },
  "cells": [
    {
      "cell_type": "markdown",
      "metadata": {
        "id": "view-in-github",
        "colab_type": "text"
      },
      "source": [
        "<a href=\"https://colab.research.google.com/github/dikshap07/Algorithms-and-Data-Structures/blob/master/Two_Number_Sum.ipynb\" target=\"_parent\"><img src=\"https://colab.research.google.com/assets/colab-badge.svg\" alt=\"Open In Colab\"/></a>"
      ]
    },
    {
      "cell_type": "markdown",
      "metadata": {
        "id": "AYeqsq4NLw-f"
      },
      "source": [
        "Problem Statement: When given an array of distinct integers and a separate integer. You need to find out pairs of numbers in the array whose sum will be equal to the separate integer.\n",
        "\n",
        "i/p : [a,b,c,d], k find pairs in array where sum  = k"
      ]
    },
    {
      "cell_type": "markdown",
      "metadata": {
        "id": "E3pRadVcQ0gw"
      },
      "source": [
        "APPROACH-01- For loop"
      ]
    },
    {
      "cell_type": "code",
      "metadata": {
        "id": "NnQSYF5HMEwJ"
      },
      "source": [
        "def two_num_sumI(A,k):\n",
        "  for i in range(0,len(A)):\n",
        "    for j in range(i+1,len(A)):\n",
        "      \n",
        "      if A[i]+A[j] == k:\n",
        "        \n",
        "        return (A[i],A[j])\n"
      ],
      "execution_count": 17,
      "outputs": []
    },
    {
      "cell_type": "code",
      "metadata": {
        "colab": {
          "base_uri": "https://localhost:8080/"
        },
        "id": "phbHSvGjREhy",
        "outputId": "7387219f-8014-4286-c2ef-a5f73d8e8961"
      },
      "source": [
        "A= [3,5,-4,8,11,1,-1,6]\n",
        "k = 10\n",
        "two_num_sumI(A,k)\n"
      ],
      "execution_count": 54,
      "outputs": [
        {
          "output_type": "execute_result",
          "data": {
            "text/plain": [
              "(11, -1)"
            ]
          },
          "metadata": {
            "tags": []
          },
          "execution_count": 54
        }
      ]
    },
    {
      "cell_type": "markdown",
      "metadata": {
        "id": "yCyPzRDBSU9U"
      },
      "source": [
        "APPROACH-02- Using Sort"
      ]
    },
    {
      "cell_type": "code",
      "metadata": {
        "id": "45FrcNyuRQIx"
      },
      "source": [
        "#using sort function + recursion\n",
        "\n",
        "def two_num_sumII2(A,k):\n",
        "\n",
        "  A.sort()\n",
        "  L = 0\n",
        "  R = len(A)-1\n",
        "\n",
        "  def check_sum(L,R,A):\n",
        "\n",
        "    if A[L] + A[R] == k:\n",
        "      return (A[L],A[R])\n",
        "\n",
        "    elif A[L] + A[R] < 10:\n",
        "      L = L+1\n",
        "      return check_sum(L,R,A)\n",
        "\n",
        "    else:\n",
        "      R= R-1\n",
        "      return check_sum(L,R,A)\n",
        "\n",
        "  \n",
        "  return check_sum(L,R,A)\n",
        "\n"
      ],
      "execution_count": 45,
      "outputs": []
    },
    {
      "cell_type": "code",
      "metadata": {
        "colab": {
          "base_uri": "https://localhost:8080/"
        },
        "id": "aqz1GtoxU90a",
        "outputId": "706e18b2-8296-41e7-e4c3-cc7178dba44c"
      },
      "source": [
        "two_num_sumII2(A,k)"
      ],
      "execution_count": 46,
      "outputs": [
        {
          "output_type": "execute_result",
          "data": {
            "text/plain": [
              "(-1, 11)"
            ]
          },
          "metadata": {
            "tags": []
          },
          "execution_count": 46
        }
      ]
    },
    {
      "cell_type": "code",
      "metadata": {
        "id": "wvhOqc8EVQU1"
      },
      "source": [
        "#using sort function + while loop\n",
        "\n",
        "def two_num_sumII(A,k):\n",
        "\n",
        "  A.sort()\n",
        "  L = 0\n",
        "  R = len(A)-1\n",
        "\n",
        "  while L != R:\n",
        "    if A[L] + A[R] == k:\n",
        "      return (A[L],A[R])\n",
        "\n",
        "    elif A[L] + A[R] < 10:\n",
        "      L = L+1\n",
        "\n",
        "    else:\n",
        "      R= R-1\n",
        "\n",
        "\n"
      ],
      "execution_count": 32,
      "outputs": []
    },
    {
      "cell_type": "code",
      "metadata": {
        "colab": {
          "base_uri": "https://localhost:8080/"
        },
        "id": "m7XbqrERVAi3",
        "outputId": "ab859d42-6baf-42f0-92e4-feaf69ef8e58"
      },
      "source": [
        "two_num_sumII(A,k)"
      ],
      "execution_count": 52,
      "outputs": [
        {
          "output_type": "execute_result",
          "data": {
            "text/plain": [
              "(-1, 11)"
            ]
          },
          "metadata": {
            "tags": []
          },
          "execution_count": 52
        }
      ]
    },
    {
      "cell_type": "code",
      "metadata": {
        "id": "9z1kFTW1XNWq"
      },
      "source": [
        "#using quick sort \n",
        "\n",
        "def partition(A,l,r):\n",
        "  pivot = A[l]  #FIirst Element of array\n",
        "  j=l\n",
        "\n",
        "  for i in range(l+1,r):\n",
        "\n",
        "    if A[i]<=pivot:\n",
        "\n",
        "      j = j+1\n",
        "      A[i],A[j] = A[j],A[i]\n",
        "\n",
        "  A[l],A[j] = A[j],A[l]\n",
        "\n",
        "  return j\n",
        "\n",
        "def quick_sort(A,l,r):\n",
        "  if l>=r:\n",
        "\n",
        "    return\n",
        "\n",
        "  m = partition(A,l,r)\n",
        "\n",
        "  quick_sort(A,l,m)\n",
        "  quick_sort(A,m+1,r)\n",
        "\n",
        "\n",
        "  return A \n",
        "\n",
        "def two_num_sumII3(A,k):\n",
        "\n",
        "  A = quick_sort(A,0,len(A))\n",
        "\n",
        "  L = 0\n",
        "  R = len(A)-1\n",
        "\n",
        "  while L != R:\n",
        "    if A[L] + A[R] == k:\n",
        "      return (A[L],A[R])\n",
        "\n",
        "    elif A[L] + A[R] < 10:\n",
        "      L = L+1\n",
        "\n",
        "    else:\n",
        "      R= R-1"
      ],
      "execution_count": 41,
      "outputs": []
    },
    {
      "cell_type": "code",
      "metadata": {
        "colab": {
          "base_uri": "https://localhost:8080/"
        },
        "id": "_GmkytYTeZQD",
        "outputId": "4bf90015-7d22-47d5-b3cb-1dff10cb581b"
      },
      "source": [
        "two_num_sumII3(A,k)"
      ],
      "execution_count": 51,
      "outputs": [
        {
          "output_type": "execute_result",
          "data": {
            "text/plain": [
              "(-1, 11)"
            ]
          },
          "metadata": {
            "tags": []
          },
          "execution_count": 51
        }
      ]
    },
    {
      "cell_type": "markdown",
      "metadata": {
        "id": "b8h0FX86jyge"
      },
      "source": [
        "APPROACH-03-USING HASH TABLE(best)"
      ]
    },
    {
      "cell_type": "markdown",
      "metadata": {
        "id": "_CVVUOSpj5wm"
      },
      "source": [
        "Hash Table: Type of data structure in which the index of the element to be inserted in the hash table is determined by a function(user-defined) called Hash Function"
      ]
    },
    {
      "cell_type": "code",
      "metadata": {
        "colab": {
          "base_uri": "https://localhost:8080/"
        },
        "id": "yzZCF4zSedS5",
        "outputId": "82a9d4e5-fe03-48ee-9b84-beabcc8b6db0"
      },
      "source": [
        "A"
      ],
      "execution_count": 50,
      "outputs": [
        {
          "output_type": "execute_result",
          "data": {
            "text/plain": [
              "[3, 5, -4, 8, 11, 1, -1, 6]"
            ]
          },
          "metadata": {
            "tags": []
          },
          "execution_count": 50
        }
      ]
    },
    {
      "cell_type": "code",
      "metadata": {
        "id": "dAoNKp6hfhiQ"
      },
      "source": [
        ""
      ],
      "execution_count": null,
      "outputs": []
    }
  ]
}