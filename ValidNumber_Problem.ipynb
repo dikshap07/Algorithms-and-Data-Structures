{
  "nbformat": 4,
  "nbformat_minor": 0,
  "metadata": {
    "colab": {
      "name": "ValidNumber_Problem.ipynb",
      "provenance": [],
      "authorship_tag": "ABX9TyNnJjhlf6uS3OhpCZWT4kkl",
      "include_colab_link": true
    },
    "kernelspec": {
      "name": "python3",
      "display_name": "Python 3"
    },
    "language_info": {
      "name": "python"
    }
  },
  "cells": [
    {
      "cell_type": "markdown",
      "metadata": {
        "id": "view-in-github",
        "colab_type": "text"
      },
      "source": [
        "<a href=\"https://colab.research.google.com/github/dikshap07/Algorithms-and-Data-Structures/blob/master/ValidNumber_Problem.ipynb\" target=\"_parent\"><img src=\"https://colab.research.google.com/assets/colab-badge.svg\" alt=\"Open In Colab\"/></a>"
      ]
    },
    {
      "cell_type": "code",
      "execution_count": 1,
      "metadata": {
        "id": "GibyoSrILnFH"
      },
      "outputs": [],
      "source": [
        "def valid_num(s):\n",
        "\n",
        "  seenDigit = False\n",
        "  seenExponent = False\n",
        "  seenDot = False\n",
        "\n",
        "  for i in range(0,len(s)):\n",
        "\n",
        "    if s[i].isdigit() == True:\n",
        "\n",
        "      seenDigit = True\n",
        "\n",
        "    elif s[i] in ['+','-']:\n",
        "\n",
        "      if i == 0 or s[i-1] in ['e','E']:\n",
        "\n",
        "        continue \n",
        "\n",
        "      else:\n",
        "\n",
        "        return False\n",
        "\n",
        "    elif s[i] in ['e','E']:\n",
        "\n",
        "      if seenExponent == True or seenDigit = False:  #meaning e,E appearing more than once\n",
        "\n",
        "        return False\n",
        "\n",
        "      else:\n",
        "\n",
        "        seenExponent = True\n",
        "        seenDigit = False #because now we will consider a new integer after exponent\n",
        "\n",
        "    elif s[i] == '.':\n",
        "\n",
        "      if seenExponent == True or seenDot == True:\n",
        "\n",
        "        return False\n",
        "\n",
        "      else:\n",
        "\n",
        "        seenDot = True\n",
        "\n",
        "    else:\n",
        "\n",
        "      return False\n",
        "\n",
        "  return seenDigit"
      ]
    },
    {
      "cell_type": "code",
      "source": [
        "s  = \"0\"\n",
        "s1 = \"1e1\"\n",
        "s3 = \"..\"\n",
        "\n",
        "valid_num(s1)"
      ],
      "metadata": {
        "colab": {
          "base_uri": "https://localhost:8080/"
        },
        "id": "L5vUL7ZFNVQi",
        "outputId": "f8de691e-6ce9-4c6b-b4a3-df4bc0838002"
      },
      "execution_count": 6,
      "outputs": [
        {
          "output_type": "execute_result",
          "data": {
            "text/plain": [
              "True"
            ]
          },
          "metadata": {},
          "execution_count": 6
        }
      ]
    },
    {
      "cell_type": "code",
      "source": [
        ""
      ],
      "metadata": {
        "id": "uTkrskm7N9In"
      },
      "execution_count": null,
      "outputs": []
    }
  ]
}