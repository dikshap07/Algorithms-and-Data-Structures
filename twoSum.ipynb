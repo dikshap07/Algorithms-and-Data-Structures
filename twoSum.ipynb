{
  "nbformat": 4,
  "nbformat_minor": 0,
  "metadata": {
    "colab": {
      "name": "twoSum.ipynb",
      "provenance": [],
      "collapsed_sections": [],
      "authorship_tag": "ABX9TyMNZ9wwRFeAAo9gG1aB2z0M",
      "include_colab_link": true
    },
    "kernelspec": {
      "name": "python3",
      "display_name": "Python 3"
    },
    "language_info": {
      "name": "python"
    }
  },
  "cells": [
    {
      "cell_type": "markdown",
      "metadata": {
        "id": "view-in-github",
        "colab_type": "text"
      },
      "source": [
        "<a href=\"https://colab.research.google.com/github/dikshap07/Algorithms-and-Data-Structures/blob/master/twoSum.ipynb\" target=\"_parent\"><img src=\"https://colab.research.google.com/assets/colab-badge.svg\" alt=\"Open In Colab\"/></a>"
      ]
    },
    {
      "cell_type": "code",
      "execution_count": 45,
      "metadata": {
        "id": "VuVXxt3h4PBa"
      },
      "outputs": [],
      "source": [
        "\n",
        "def search(nums,target):\n",
        "  left = 0\n",
        "  right = len(nums) - 1\n",
        "\n",
        "  while left <= right:\n",
        "    \n",
        "    pivot = left + (right - left)//2\n",
        "    print(\"pivot\",pivot)\n",
        "\n",
        "    if target == nums[pivot]:\n",
        "      \n",
        "      print(\"pivot index\", pivot)\n",
        "      return pivot\n",
        "\n",
        "    elif target < nums[pivot]:\n",
        "\n",
        "      right = pivot - 1\n",
        "      \n",
        "    elif target > nums[pivot]:\n",
        "\n",
        "      left = pivot + 1\n",
        "\n",
        "  \n",
        "\n",
        "  return -1\n",
        "\n",
        "        \n",
        "        \n",
        "def two_Sum(nums, target):\n",
        "  \n",
        "  for i in range(len(nums)):\n",
        "    # print(\"i\",i)\n",
        "    # print(\"i+1\",i+1)\n",
        "    \n",
        "    value = target - nums[i]\n",
        "    # print(\"value\",value)\n",
        "    # print(\"ums[one_element:]\",nums[i+1:])\n",
        "            \n",
        "    sorted_nums = nums[i+1:].sort()\n",
        "\n",
        "    value_idx = search(sorted_nums[i+1:],value)\n",
        "\n",
        "    idx =  value_idx + (i+1)\n",
        "    # print(\"idx\",idx) \n",
        "    # print(\"i,idx\",[i,idx])\n",
        "    if value_idx != -1:\n",
        "      \n",
        "      return [i,idx]\n",
        "            \n",
        "    else:\n",
        "                \n",
        "      continue\n",
        "\n",
        "  \n",
        "        \n",
        "        "
      ]
    },
    {
      "cell_type": "code",
      "source": [
        "search([7,11,0],0)"
      ],
      "metadata": {
        "colab": {
          "base_uri": "https://localhost:8080/"
        },
        "id": "sgQKiqddNdHP",
        "outputId": "95fe204d-5a5a-49cc-df8b-248462af6845"
      },
      "execution_count": 46,
      "outputs": [
        {
          "output_type": "stream",
          "name": "stdout",
          "text": [
            "pivot 1\n",
            "pivot 0\n"
          ]
        },
        {
          "output_type": "execute_result",
          "data": {
            "text/plain": [
              "-1"
            ]
          },
          "metadata": {},
          "execution_count": 46
        }
      ]
    },
    {
      "cell_type": "code",
      "source": [
        "\n",
        "print(two_Sum([0,7,11,0],0))\n"
      ],
      "metadata": {
        "colab": {
          "base_uri": "https://localhost:8080/"
        },
        "id": "LVHhtb_34R3o",
        "outputId": "a691757f-7727-4d5d-c1af-5e0f6b7e3939"
      },
      "execution_count": 42,
      "outputs": [
        {
          "output_type": "stream",
          "name": "stdout",
          "text": [
            "None\n"
          ]
        }
      ]
    },
    {
      "cell_type": "code",
      "source": [
        "def twoSum(nums, target):\n",
        "  \n",
        "  for i in range(len(nums)):\n",
        "    \n",
        "    print(i)\n",
        "\n",
        "    \n",
        "    value = target - nums[i]\n",
        "            \n",
        "    for j in range(i+1,len(nums)):\n",
        "      \n",
        "      print(j)\n",
        "                \n",
        "      if value == nums[j]:\n",
        "          return [i,j]\n",
        "                \n",
        "      else: \n",
        "          continue\n",
        "  return "
      ],
      "metadata": {
        "id": "yQbDYyMu4WDn"
      },
      "execution_count": 2,
      "outputs": []
    },
    {
      "cell_type": "code",
      "source": [
        "twoSum([0,3,2,0],0)"
      ],
      "metadata": {
        "colab": {
          "base_uri": "https://localhost:8080/"
        },
        "id": "7fIL4sNNOcwS",
        "outputId": "a6a8f4c3-e776-457a-a27f-4295c55a48cf"
      },
      "execution_count": 4,
      "outputs": [
        {
          "output_type": "stream",
          "name": "stdout",
          "text": [
            "0\n",
            "1\n",
            "2\n",
            "3\n"
          ]
        },
        {
          "output_type": "execute_result",
          "data": {
            "text/plain": [
              "[0, 3]"
            ]
          },
          "metadata": {},
          "execution_count": 4
        }
      ]
    },
    {
      "cell_type": "code",
      "source": [
        "def twoSum(nums, target):\n",
        "  \n",
        "  hashmap = {}\n",
        "            \n",
        "  for i in range(len(nums)):\n",
        "    \n",
        "    hashmap[nums[i]] = i\n",
        "                \n",
        "  for j in range(len(nums)):\n",
        "                \n",
        "    value = target - nums[j]\n",
        "                \n",
        "    if value in hashmap and hashmap[value] != j:\n",
        "                    \n",
        "      return [j, hashmap[value]]\n",
        " \n",
        "\n",
        "\n",
        "\n",
        "\n",
        "\n",
        "                \n",
        "    \n"
      ],
      "metadata": {
        "id": "sW55OJHYOm-7"
      },
      "execution_count": 20,
      "outputs": []
    },
    {
      "cell_type": "code",
      "source": [
        "twoSum([3,2,8,15],10)"
      ],
      "metadata": {
        "colab": {
          "base_uri": "https://localhost:8080/"
        },
        "id": "mDOTaEZnR2SL",
        "outputId": "50eebf1f-188d-4684-bce0-a1f5da5cec67"
      },
      "execution_count": 21,
      "outputs": [
        {
          "output_type": "execute_result",
          "data": {
            "text/plain": [
              "[1, 2]"
            ]
          },
          "metadata": {},
          "execution_count": 21
        }
      ]
    },
    {
      "cell_type": "code",
      "source": [
        ""
      ],
      "metadata": {
        "id": "LZ7pPbJdR6J4"
      },
      "execution_count": null,
      "outputs": []
    }
  ]
}